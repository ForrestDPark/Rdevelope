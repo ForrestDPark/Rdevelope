{
 "cells": [
  {
   "cell_type": "code",
   "execution_count": 2,
   "metadata": {
    "vscode": {
     "languageId": "r"
    }
   },
   "outputs": [
    {
     "data": {
      "text/html": [
       "'ko_KR.UTF-8/ko_KR.UTF-8/ko_KR.UTF-8/C/ko_KR.UTF-8/C'"
      ],
      "text/latex": [
       "'ko\\_KR.UTF-8/ko\\_KR.UTF-8/ko\\_KR.UTF-8/C/ko\\_KR.UTF-8/C'"
      ],
      "text/markdown": [
       "'ko_KR.UTF-8/ko_KR.UTF-8/ko_KR.UTF-8/C/ko_KR.UTF-8/C'"
      ],
      "text/plain": [
       "[1] \"ko_KR.UTF-8/ko_KR.UTF-8/ko_KR.UTF-8/C/ko_KR.UTF-8/C\""
      ]
     },
     "metadata": {},
     "output_type": "display_data"
    }
   ],
   "source": [
    "options(warn = -1)\n",
    "options(repr.plot.width=15, repr.plot.height=9) \n",
    "Sys.setlocale(category = \"LC_ALL\", locale = \"ko_KR.UTF-8\")\n",
    "library(stringr)"
   ]
  },
  {
   "cell_type": "markdown",
   "metadata": {},
   "source": [
    "# 몬테카를로 시뮬레이션\n",
    "### 동전의 앞면 뒷면 시뮬레이션\n"
   ]
  },
  {
   "cell_type": "code",
   "execution_count": 33,
   "metadata": {
    "vscode": {
     "languageId": "r"
    }
   },
   "outputs": [
    {
     "name": "stdout",
     "output_type": "stream",
     "text": [
      "[1] 0\n"
     ]
    }
   ],
   "source": [
    "\n",
    "x<- runif(1)\n",
    "if(x <=0.3){\n",
    "    result =0 # 앞면\n",
    "}else{\n",
    "    result =1 # 뒷면\n",
    "}\n",
    "print(result)\n",
    "\n"
   ]
  },
  {
   "cell_type": "code",
   "execution_count": 52,
   "metadata": {
    "vscode": {
     "languageId": "r"
    }
   },
   "outputs": [
    {
     "name": "stdout",
     "output_type": "stream",
     "text": [
      "앞면 : 295 \n",
      "뒷면 : 705 \n",
      "NULL\n"
     ]
    }
   ],
   "source": [
    "coin<-function(n){\n",
    "    countF <- 0 # 앞면\n",
    "    countB <- 0 # 뒷면\n",
    "    for(i in 1:n){\n",
    "        if(runif(1) <=0.3){\n",
    "            countF= countF+1\n",
    "        }else{\n",
    "            countB=countB+1\n",
    "        }\n",
    "    }\n",
    "    cat(\"앞면 :\", countF,\"\\n\")\n",
    "    cat(\"뒷면 :\", countB,\"\\n\")\n",
    "}\n",
    "print(coin(1000))\n"
   ]
  },
  {
   "cell_type": "code",
   "execution_count": 57,
   "metadata": {
    "vscode": {
     "languageId": "r"
    }
   },
   "outputs": [
    {
     "name": "stdout",
     "output_type": "stream",
     "text": [
      "가위 :  3 \n",
      "바위 :  3 \n",
      "보 :  4 \n",
      "----------------------\n",
      "가위 :  37 \n",
      "바위 :  26 \n",
      "보 :  37 \n",
      "----------------------\n",
      "가위 :  354 \n",
      "바위 :  322 \n",
      "보 :  324 \n",
      "----------------------\n"
     ]
    }
   ],
   "source": [
    "#가위 바위 보 시뮬레이션\n",
    "rock <- function(n){\n",
    "    scissor=0\n",
    "    rock =0\n",
    "    paper =0\n",
    "\n",
    "    for(i in 1:n){\n",
    "        x <- trunc(runif(1)*3) +1\n",
    "        if(x==1)scissor = scissor +1\n",
    "        if(x==2)rock = rock +1\n",
    "        if(x==3)paper = paper +1\n",
    "    }\n",
    "    cat(\"가위 : \", scissor, \"\\n\")\n",
    "    cat(\"바위 : \", rock, \"\\n\")\n",
    "    cat(\"보 : \", paper, \"\\n\")\n",
    "    cat(\"----------------------\\n\")\n",
    "}\n",
    "rock(10)\n",
    "rock(100)\n",
    "rock(1000)"
   ]
  },
  {
   "cell_type": "code",
   "execution_count": 68,
   "metadata": {
    "vscode": {
     "languageId": "r"
    }
   },
   "outputs": [
    {
     "name": "stdout",
     "output_type": "stream",
     "text": [
      "5 1 2 0 2 0 \n",
      "21 18 16 9 22 14 \n",
      "161 156 187 169 159 168 \n"
     ]
    },
    {
     "name": "stdout",
     "output_type": "stream",
     "text": [
      "1653 1608 1610 1741 1705 1683 \n",
      "16601 16615 16670 16805 16617 16692 \n",
      "166306 166755 166805 166747 166269 167118 \n"
     ]
    }
   ],
   "source": [
    "# 주사위 시뮬레이션\n",
    "\n",
    "dice <-function(n){\n",
    "    dice_result <- c(0,0,0,0,0,0)\n",
    "\n",
    "    for(i in 1:n){\n",
    "        dice<-runif(1)\n",
    "        if(dice<1/6 ) {\n",
    "            dice_result[1]<- dice_result[1]+1\n",
    "        }\n",
    "        if(dice>1/6 & dice<2/6){\n",
    "            dice_result[2]<- dice_result[2]+1\n",
    "        }\n",
    "        if(dice>2/6 & dice<3/6){\n",
    "            dice_result[3]<- dice_result[3]+1\n",
    "        }\n",
    "        if(dice>3/6 & dice<4/6){\n",
    "            dice_result[4]<- dice_result[4]+1\n",
    "        }\n",
    "        if(dice>4/6 & dice<5/6){\n",
    "            dice_result[5]<- dice_result[5]+1\n",
    "        }\n",
    "        if(dice>5/6 & dice<6/6){\n",
    "            dice_result[6]<- dice_result[6]+1\n",
    "        }\n",
    "    }\n",
    "    cat(dice_result, \"\\n\")\n",
    "}\n",
    "\n",
    "\n",
    "dice(10)\n",
    "dice(100)\n",
    "dice(1000)\n",
    "dice(10000)\n",
    "dice(100000)\n",
    "dice(1000000)"
   ]
  },
  {
   "cell_type": "code",
   "execution_count": 73,
   "metadata": {
    "vscode": {
     "languageId": "r"
    }
   },
   "outputs": [
    {
     "name": "stdout",
     "output_type": "stream",
     "text": [
      "Throw :  1000 \n",
      "No 1 => 159 \n",
      "No 2 => 178 \n",
      "No 3 => 169 \n",
      "No 4 => 174 \n",
      "No 5 => 153 \n",
      "No 6 => 167 \n",
      "-----------------------------\n",
      "Throw :  10000 \n",
      "No 1 => 1710 \n",
      "No 2 => 1689 \n",
      "No 3 => 1609 \n",
      "No 4 => 1706 \n",
      "No 5 => 1646 \n",
      "No 6 => 1640 \n",
      "-----------------------------\n"
     ]
    },
    {
     "name": "stdout",
     "output_type": "stream",
     "text": [
      "Throw :  100000 \n",
      "No 1 => 16634 \n",
      "No 2 => 16892 \n",
      "No 3 => 16719 \n",
      "No 4 => 16672 \n",
      "No 5 => 16590 \n",
      "No 6 => 16493 \n",
      "-----------------------------\n",
      "Throw :  1000000 \n",
      "No 1 => 166420 \n",
      "No 2 => 166749 \n",
      "No 3 => 166810 \n",
      "No 4 => 166500 \n",
      "No 5 => 167149 \n",
      "No 6 => 166372 \n",
      "-----------------------------\n"
     ]
    }
   ],
   "source": [
    "dice <- function(n){\n",
    "    diceFace =rep(0,6)\n",
    "    cat(\"Throw : \", n,\"\\n\")\n",
    "    for(i in 1:n){\n",
    "        x<- trunc(runif(1)*6)+1\n",
    "        diceFace[x] =diceFace[x] +1\n",
    "    }\n",
    "    for(i in 1:length(diceFace)){\n",
    "        cat(\"No\",i,\"=>\", diceFace[i], \"\\n\")\n",
    "    }\n",
    "    cat(\"-----------------------------\\n\")\n",
    "}.\n",
    "options(scipen =100)\n",
    "\n",
    "\n",
    "dice(1000)\n",
    "dice(10000)\n",
    "dice(100000)\n",
    "dice(1000000)"
   ]
  },
  {
   "cell_type": "code",
   "execution_count": 70,
   "metadata": {
    "vscode": {
     "languageId": "r"
    }
   },
   "outputs": [],
   "source": []
  }
 ],
 "metadata": {
  "kernelspec": {
   "display_name": "R",
   "language": "R",
   "name": "r"
  },
  "language_info": {
   "codemirror_mode": "r",
   "file_extension": ".r",
   "mimetype": "text/x-r-source",
   "name": "R",
   "pygments_lexer": "r",
   "version": "4.3.3"
  }
 },
 "nbformat": 4,
 "nbformat_minor": 2
}

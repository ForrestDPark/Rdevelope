{
 "cells": [
  {
   "cell_type": "code",
   "execution_count": 1,
   "metadata": {
    "vscode": {
     "languageId": "r"
    }
   },
   "outputs": [
    {
     "name": "stderr",
     "output_type": "stream",
     "text": [
      "Loading required package: ggplot2\n",
      "\n",
      "Loading required package: lattice\n",
      "\n"
     ]
    }
   ],
   "source": [
    "library(caret)"
   ]
  },
  {
   "cell_type": "code",
   "execution_count": 3,
   "metadata": {
    "vscode": {
     "languageId": "r"
    }
   },
   "outputs": [],
   "source": [
    "set.seed(1234)\n",
    "samp <- createDataPartition(iris$Species , p=0.7, list =F)\n"
   ]
  },
  {
   "cell_type": "code",
   "execution_count": 4,
   "metadata": {
    "vscode": {
     "languageId": "r"
    }
   },
   "outputs": [],
   "source": [
    "# 학습용 검증용\n",
    "data.tr <- iris[samp,]\n",
    "data.test <- iris[-samp,]\n"
   ]
  },
  {
   "cell_type": "code",
   "execution_count": 5,
   "metadata": {
    "vscode": {
     "languageId": "r"
    }
   },
   "outputs": [],
   "source": [
    "# 인공신경망 Library\n",
    "library(nnet)"
   ]
  },
  {
   "cell_type": "code",
   "execution_count": 7,
   "metadata": {
    "vscode": {
     "languageId": "r"
    }
   },
   "outputs": [
    {
     "name": "stdout",
     "output_type": "stream",
     "text": [
      "# weights:  27\n",
      "initial  value 119.748136 \n",
      "iter  10 value 15.115015\n",
      "iter  20 value 0.040750\n",
      "final  value 0.000071 \n",
      "converged\n"
     ]
    }
   ],
   "source": [
    "# 모델 만들기 \n",
    "model.nnet <- nnet(Species ~ ., data =data.tr, size = 3) # size : hidden layer number"
   ]
  },
  {
   "cell_type": "code",
   "execution_count": 9,
   "metadata": {
    "vscode": {
     "languageId": "r"
    }
   },
   "outputs": [],
   "source": [
    "# 문제 및 정답 \n",
    "x <- subset(data.test, select =-Species)\n",
    "y <- data.test$Species"
   ]
  },
  {
   "cell_type": "code",
   "execution_count": 11,
   "metadata": {
    "vscode": {
     "languageId": "r"
    }
   },
   "outputs": [
    {
     "data": {
      "text/html": [
       "<style>\n",
       ".list-inline {list-style: none; margin:0; padding: 0}\n",
       ".list-inline>li {display: inline-block}\n",
       ".list-inline>li:not(:last-child)::after {content: \"\\00b7\"; padding: 0 .5ex}\n",
       "</style>\n",
       "<ol class=list-inline><li>'setosa'</li><li>'setosa'</li><li>'setosa'</li><li>'setosa'</li><li>'setosa'</li><li>'setosa'</li></ol>\n"
      ],
      "text/latex": [
       "\\begin{enumerate*}\n",
       "\\item 'setosa'\n",
       "\\item 'setosa'\n",
       "\\item 'setosa'\n",
       "\\item 'setosa'\n",
       "\\item 'setosa'\n",
       "\\item 'setosa'\n",
       "\\end{enumerate*}\n"
      ],
      "text/markdown": [
       "1. 'setosa'\n",
       "2. 'setosa'\n",
       "3. 'setosa'\n",
       "4. 'setosa'\n",
       "5. 'setosa'\n",
       "6. 'setosa'\n",
       "\n",
       "\n"
      ],
      "text/plain": [
       "[1] \"setosa\" \"setosa\" \"setosa\" \"setosa\" \"setosa\" \"setosa\""
      ]
     },
     "metadata": {},
     "output_type": "display_data"
    }
   ],
   "source": [
    "pred <- predict(model.nnet, x, type = \"class\" ) # 니가 알고자 하는게 객관식인지 주관식인 지 type을 정해주어야함.  raw : 주관식\n",
    "head(pred)"
   ]
  },
  {
   "cell_type": "code",
   "execution_count": 13,
   "metadata": {
    "vscode": {
     "languageId": "r"
    }
   },
   "outputs": [
    {
     "data": {
      "text/html": [
       "0.933333333333333"
      ],
      "text/latex": [
       "0.933333333333333"
      ],
      "text/markdown": [
       "0.933333333333333"
      ],
      "text/plain": [
       "[1] 0.9333333"
      ]
     },
     "metadata": {},
     "output_type": "display_data"
    }
   ],
   "source": [
    "# 예측력\n",
    "mean(pred ==y )"
   ]
  },
  {
   "cell_type": "code",
   "execution_count": 14,
   "metadata": {
    "vscode": {
     "languageId": "r"
    }
   },
   "outputs": [
    {
     "data": {
      "text/plain": [
       "            y\n",
       "pred         setosa versicolor virginica\n",
       "  setosa         15          0         0\n",
       "  versicolor      0         13         1\n",
       "  virginica       0          2        14"
      ]
     },
     "metadata": {},
     "output_type": "display_data"
    }
   ],
   "source": [
    "# 정오표 \n",
    "table(pred, y)"
   ]
  },
  {
   "cell_type": "code",
   "execution_count": 17,
   "metadata": {
    "vscode": {
     "languageId": "r"
    }
   },
   "outputs": [
    {
     "data": {
      "text/html": [
       "<table class=\"dataframe\">\n",
       "<caption>A matrix: 6 x 3 of type dbl</caption>\n",
       "<thead>\n",
       "\t<tr><th></th><th scope=col>setosa</th><th scope=col>versicolor</th><th scope=col>virginica</th></tr>\n",
       "</thead>\n",
       "<tbody>\n",
       "\t<tr><th scope=row>142</th><td>6.583389e-22</td><td>3.679431e-10</td><td>1</td></tr>\n",
       "\t<tr><th scope=row>143</th><td>6.540226e-22</td><td>3.658494e-10</td><td>1</td></tr>\n",
       "\t<tr><th scope=row>145</th><td>6.540226e-22</td><td>3.658494e-10</td><td>1</td></tr>\n",
       "\t<tr><th scope=row>148</th><td>6.559460e-22</td><td>3.667826e-10</td><td>1</td></tr>\n",
       "\t<tr><th scope=row>149</th><td>6.540226e-22</td><td>3.658494e-10</td><td>1</td></tr>\n",
       "\t<tr><th scope=row>150</th><td>6.549350e-22</td><td>3.662922e-10</td><td>1</td></tr>\n",
       "</tbody>\n",
       "</table>\n"
      ],
      "text/latex": [
       "A matrix: 6 x 3 of type dbl\n",
       "\\begin{tabular}{r|lll}\n",
       "  & setosa & versicolor & virginica\\\\\n",
       "\\hline\n",
       "\t142 & 6.583389e-22 & 3.679431e-10 & 1\\\\\n",
       "\t143 & 6.540226e-22 & 3.658494e-10 & 1\\\\\n",
       "\t145 & 6.540226e-22 & 3.658494e-10 & 1\\\\\n",
       "\t148 & 6.559460e-22 & 3.667826e-10 & 1\\\\\n",
       "\t149 & 6.540226e-22 & 3.658494e-10 & 1\\\\\n",
       "\t150 & 6.549350e-22 & 3.662922e-10 & 1\\\\\n",
       "\\end{tabular}\n"
      ],
      "text/markdown": [
       "\n",
       "A matrix: 6 x 3 of type dbl\n",
       "\n",
       "| <!--/--> | setosa | versicolor | virginica |\n",
       "|---|---|---|---|\n",
       "| 142 | 6.583389e-22 | 3.679431e-10 | 1 |\n",
       "| 143 | 6.540226e-22 | 3.658494e-10 | 1 |\n",
       "| 145 | 6.540226e-22 | 3.658494e-10 | 1 |\n",
       "| 148 | 6.559460e-22 | 3.667826e-10 | 1 |\n",
       "| 149 | 6.540226e-22 | 3.658494e-10 | 1 |\n",
       "| 150 | 6.549350e-22 | 3.662922e-10 | 1 |\n",
       "\n"
      ],
      "text/plain": [
       "    setosa       versicolor   virginica\n",
       "142 6.583389e-22 3.679431e-10 1        \n",
       "143 6.540226e-22 3.658494e-10 1        \n",
       "145 6.540226e-22 3.658494e-10 1        \n",
       "148 6.559460e-22 3.667826e-10 1        \n",
       "149 6.540226e-22 3.658494e-10 1        \n",
       "150 6.549350e-22 3.662922e-10 1        "
      ]
     },
     "metadata": {},
     "output_type": "display_data"
    }
   ],
   "source": [
    "# 검증 \n",
    "pred <- predict(model.nnet, x, type = \"raw\" ) # 니가 알고자 하는게 객관식인지 주관식인 지 type을 정해주어야함.  raw : 주관식\n",
    "tail(pred) # classification 이 factor 로 되어잇어서 가능한 이야기 \n",
    "\n"
   ]
  },
  {
   "cell_type": "markdown",
   "metadata": {},
   "source": [
    "### 학습시킨 머신러닝 사용하기"
   ]
  },
  {
   "cell_type": "code",
   "execution_count": 60,
   "metadata": {
    "vscode": {
     "languageId": "r"
    }
   },
   "outputs": [
    {
     "name": "stdout",
     "output_type": "stream",
     "text": [
      "# weights:  27\n",
      "initial  value 178.723502 \n",
      "iter  10 value 49.684854\n",
      "iter  20 value 6.684134\n",
      "iter  30 value 6.065964\n",
      "iter  40 value 6.007307\n",
      "iter  50 value 5.961490\n",
      "iter  60 value 5.954159\n",
      "final  value 5.953618 \n",
      "converged\n"
     ]
    },
    {
     "data": {
      "text/html": [
       "'setosa'"
      ],
      "text/latex": [
       "'setosa'"
      ],
      "text/markdown": [
       "'setosa'"
      ],
      "text/plain": [
       "[1] \"setosa\""
      ]
     },
     "metadata": {},
     "output_type": "display_data"
    }
   ],
   "source": [
    "# Sepal.Length = 5.3\n",
    "# Sepal.Width = 3.3\n",
    "# Petal.Length = 1.6\n",
    "# Petal.Width = 0.3\n",
    "# 쓸만 한지 확인은 이미 되었으니 전체 데이터로 학습한 model2 를 만들어야한다. \n",
    "model.nnet2 <- nnet(Species ~ ., data =iris, size = 3) # size : hidden layer number\n",
    "\n",
    "IrisPrediction<-function(sl,sw,pl,pw){\n",
    "        Sys.setlocale(category = \"LC_ALL\", locale = \"ko_KR.UTF-8\") # 한글 설정\n",
    "\n",
    "    if(sl>max(iris$Sepal.Length)){\n",
    "        cat(\"특이치 데이터입니다\")\n",
    "    }\n",
    "\n",
    "    return( predict( model.nnet2, \n",
    "                    list(Sepal.Length   = sl, \n",
    "                        Sepal.Width     = sw, \n",
    "                        Petal.Length    = pl,\n",
    "                        Petal.Width     = pw )\n",
    "                    , type =\"class\"\n",
    "                    )\n",
    "            )\n",
    "}\n",
    "IrisPrediction(5.3,3.3,1.6,0.3)\n",
    "\n"
   ]
  },
  {
   "cell_type": "code",
   "execution_count": 58,
   "metadata": {
    "vscode": {
     "languageId": "r"
    }
   },
   "outputs": [
    {
     "data": {
      "text/html": [
       "'ko_KR.UTF-8/ko_KR.UTF-8/ko_KR.UTF-8/C/ko_KR.UTF-8/C'"
      ],
      "text/latex": [
       "'ko\\_KR.UTF-8/ko\\_KR.UTF-8/ko\\_KR.UTF-8/C/ko\\_KR.UTF-8/C'"
      ],
      "text/markdown": [
       "'ko_KR.UTF-8/ko_KR.UTF-8/ko_KR.UTF-8/C/ko_KR.UTF-8/C'"
      ],
      "text/plain": [
       "[1] \"ko_KR.UTF-8/ko_KR.UTF-8/ko_KR.UTF-8/C/ko_KR.UTF-8/C\""
      ]
     },
     "metadata": {},
     "output_type": "display_data"
    },
    {
     "data": {
      "text/plain": [
       "  Sepal.Length    Sepal.Width     Petal.Length    Petal.Width   \n",
       " Min.   :4.300   Min.   :2.000   Min.   :1.000   Min.   :0.100  \n",
       " 1st Qu.:5.100   1st Qu.:2.800   1st Qu.:1.600   1st Qu.:0.300  \n",
       " Median :5.800   Median :3.000   Median :4.350   Median :1.300  \n",
       " Mean   :5.843   Mean   :3.057   Mean   :3.758   Mean   :1.199  \n",
       " 3rd Qu.:6.400   3rd Qu.:3.300   3rd Qu.:5.100   3rd Qu.:1.800  \n",
       " Max.   :7.900   Max.   :4.400   Max.   :6.900   Max.   :2.500  \n",
       "       Species  \n",
       " setosa    :50  \n",
       " versicolor:50  \n",
       " virginica :50  \n",
       "                \n",
       "                \n",
       "                "
      ]
     },
     "metadata": {},
     "output_type": "display_data"
    }
   ],
   "source": [
    "Sys.setlocale(category = \"LC_ALL\", locale = \"ko_KR.UTF-8\") # 한글 설정\n",
    "\n",
    "\n",
    "\n",
    "\n",
    "summary(iris) # 공부한 범위내에 있는 데이터인지 확인을 해야한다. "
   ]
  },
  {
   "cell_type": "code",
   "execution_count": 61,
   "metadata": {
    "vscode": {
     "languageId": "r"
    }
   },
   "outputs": [
    {
     "name": "stdout",
     "output_type": "stream",
     "text": [
      "특이치 데이터입니다"
     ]
    },
    {
     "data": {
      "text/html": [
       "'virginica'"
      ],
      "text/latex": [
       "'virginica'"
      ],
      "text/markdown": [
       "'virginica'"
      ],
      "text/plain": [
       "[1] \"virginica\""
      ]
     },
     "metadata": {},
     "output_type": "display_data"
    }
   ],
   "source": [
    "IrisPrediction(9.3,2.2,7.5,3.5)"
   ]
  },
  {
   "cell_type": "code",
   "execution_count": null,
   "metadata": {
    "vscode": {
     "languageId": "r"
    }
   },
   "outputs": [],
   "source": []
  }
 ],
 "metadata": {
  "kernelspec": {
   "display_name": "R",
   "language": "R",
   "name": "r"
  },
  "language_info": {
   "codemirror_mode": "r",
   "file_extension": ".r",
   "mimetype": "text/x-r-source",
   "name": "R",
   "pygments_lexer": "r",
   "version": "4.3.3"
  }
 },
 "nbformat": 4,
 "nbformat_minor": 2
}

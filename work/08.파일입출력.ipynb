{
 "cells": [
  {
   "cell_type": "code",
   "execution_count": 1,
   "metadata": {
    "vscode": {
     "languageId": "r"
    }
   },
   "outputs": [
    {
     "data": {
      "text/html": [
       "'ko_KR.UTF-8/ko_KR.UTF-8/ko_KR.UTF-8/C/ko_KR.UTF-8/C'"
      ],
      "text/latex": [
       "'ko\\_KR.UTF-8/ko\\_KR.UTF-8/ko\\_KR.UTF-8/C/ko\\_KR.UTF-8/C'"
      ],
      "text/markdown": [
       "'ko_KR.UTF-8/ko_KR.UTF-8/ko_KR.UTF-8/C/ko_KR.UTF-8/C'"
      ],
      "text/plain": [
       "[1] \"ko_KR.UTF-8/ko_KR.UTF-8/ko_KR.UTF-8/C/ko_KR.UTF-8/C\""
      ]
     },
     "metadata": {},
     "output_type": "display_data"
    }
   ],
   "source": [
    "options(warn = -1)\n",
    "options(repr.plot.width=15, repr.plot.height=9) \n",
    "Sys.setlocale(category = \"LC_ALL\", locale = \"ko_KR.UTF-8\")\n",
    "library(stringr)"
   ]
  },
  {
   "cell_type": "code",
   "execution_count": 2,
   "metadata": {
    "vscode": {
     "languageId": "r"
    }
   },
   "outputs": [
    {
     "data": {
      "text/html": [
       "<table class=\"dataframe\">\n",
       "<caption>A data.frame: 4 x 4</caption>\n",
       "<thead>\n",
       "\t<tr><th scope=col>번호</th><th scope=col>제품</th><th scope=col>금액</th><th scope=col>수량</th></tr>\n",
       "\t<tr><th scope=col>&lt;int&gt;</th><th scope=col>&lt;chr&gt;</th><th scope=col>&lt;dbl&gt;</th><th scope=col>&lt;dbl&gt;</th></tr>\n",
       "</thead>\n",
       "<tbody>\n",
       "\t<tr><td>1</td><td>Apple </td><td>500</td><td>5</td></tr>\n",
       "\t<tr><td>2</td><td>Banana</td><td>200</td><td>4</td></tr>\n",
       "\t<tr><td>3</td><td>Peach </td><td>200</td><td>3</td></tr>\n",
       "\t<tr><td>4</td><td>Berry </td><td> 50</td><td>2</td></tr>\n",
       "</tbody>\n",
       "</table>\n"
      ],
      "text/latex": [
       "A data.frame: 4 x 4\n",
       "\\begin{tabular}{llll}\n",
       " 번호 & 제품 & 금액 & 수량\\\\\n",
       " <int> & <chr> & <dbl> & <dbl>\\\\\n",
       "\\hline\n",
       "\t 1 & Apple  & 500 & 5\\\\\n",
       "\t 2 & Banana & 200 & 4\\\\\n",
       "\t 3 & Peach  & 200 & 3\\\\\n",
       "\t 4 & Berry  &  50 & 2\\\\\n",
       "\\end{tabular}\n"
      ],
      "text/markdown": [
       "\n",
       "A data.frame: 4 x 4\n",
       "\n",
       "| 번호 &lt;int&gt; | 제품 &lt;chr&gt; | 금액 &lt;dbl&gt; | 수량 &lt;dbl&gt; |\n",
       "|---|---|---|---|\n",
       "| 1 | Apple  | 500 | 5 |\n",
       "| 2 | Banana | 200 | 4 |\n",
       "| 3 | Peach  | 200 | 3 |\n",
       "| 4 | Berry  |  50 | 2 |\n",
       "\n"
      ],
      "text/plain": [
       "  번호 제품   금액 수량\n",
       "1 1    Apple  500  5   \n",
       "2 2    Banana 200  4   \n",
       "3 3    Peach  200  3   \n",
       "4 4    Berry   50  2   "
      ]
     },
     "metadata": {},
     "output_type": "display_data"
    },
    {
     "data": {
      "text/html": [
       "<style>\n",
       ".list-inline {list-style: none; margin:0; padding: 0}\n",
       ".list-inline>li {display: inline-block}\n",
       ".list-inline>li:not(:last-child)::after {content: \"\\00b7\"; padding: 0 .5ex}\n",
       "</style>\n",
       "<ol class=list-inline><li>'fruit'</li><li>'name'</li><li>'no'</li><li>'price'</li><li>'qty'</li></ol>\n"
      ],
      "text/latex": [
       "\\begin{enumerate*}\n",
       "\\item 'fruit'\n",
       "\\item 'name'\n",
       "\\item 'no'\n",
       "\\item 'price'\n",
       "\\item 'qty'\n",
       "\\end{enumerate*}\n"
      ],
      "text/markdown": [
       "1. 'fruit'\n",
       "2. 'name'\n",
       "3. 'no'\n",
       "4. 'price'\n",
       "5. 'qty'\n",
       "\n",
       "\n"
      ],
      "text/plain": [
       "[1] \"fruit\" \"name\"  \"no\"    \"price\" \"qty\"  "
      ]
     },
     "metadata": {},
     "output_type": "display_data"
    }
   ],
   "source": [
    "no <-1:4\n",
    "name <- c(\"Apple\",\"Banana\",\"Peach\",\"Berry\")\n",
    "price <- c(500,200,200,50)\n",
    "qty <- c(5,4,3,2)\n",
    "\n",
    "fruit<-data.frame(번호=no,제품=name,금액=price,수량=qty)\n",
    "fruit\n",
    "ls()\n"
   ]
  },
  {
   "cell_type": "code",
   "execution_count": 3,
   "metadata": {
    "vscode": {
     "languageId": "r"
    }
   },
   "outputs": [
    {
     "data": {
      "text/html": [
       "<style>\n",
       ".list-inline {list-style: none; margin:0; padding: 0}\n",
       ".list-inline>li {display: inline-block}\n",
       ".list-inline>li:not(:last-child)::after {content: \"\\00b7\"; padding: 0 .5ex}\n",
       "</style>\n",
       "<ol class=list-inline><li>'price'</li><li>'qty'</li></ol>\n"
      ],
      "text/latex": [
       "\\begin{enumerate*}\n",
       "\\item 'price'\n",
       "\\item 'qty'\n",
       "\\end{enumerate*}\n"
      ],
      "text/markdown": [
       "1. 'price'\n",
       "2. 'qty'\n",
       "\n",
       "\n"
      ],
      "text/plain": [
       "[1] \"price\" \"qty\"  "
      ]
     },
     "metadata": {},
     "output_type": "display_data"
    }
   ],
   "source": [
    "# 메모리 형태로 파일 보관\n",
    "#save(no,fruit,name,file=\"../Data/testFruit.hwp\")\n",
    "\n",
    "rm(no,fruit,name) #메모리 삭제\n",
    "ls()\n",
    "load(\"../Data/testFruit.hwp\")"
   ]
  },
  {
   "cell_type": "code",
   "execution_count": 4,
   "metadata": {
    "vscode": {
     "languageId": "r"
    }
   },
   "outputs": [
    {
     "data": {
      "text/html": [
       "<style>\n",
       ".list-inline {list-style: none; margin:0; padding: 0}\n",
       ".list-inline>li {display: inline-block}\n",
       ".list-inline>li:not(:last-child)::after {content: \"\\00b7\"; padding: 0 .5ex}\n",
       "</style>\n",
       "<ol class=list-inline><li>1</li><li>2</li><li>3</li><li>4</li></ol>\n"
      ],
      "text/latex": [
       "\\begin{enumerate*}\n",
       "\\item 1\n",
       "\\item 2\n",
       "\\item 3\n",
       "\\item 4\n",
       "\\end{enumerate*}\n"
      ],
      "text/markdown": [
       "1. 1\n",
       "2. 2\n",
       "3. 3\n",
       "4. 4\n",
       "\n",
       "\n"
      ],
      "text/plain": [
       "[1] 1 2 3 4"
      ]
     },
     "metadata": {},
     "output_type": "display_data"
    }
   ],
   "source": [
    "no"
   ]
  },
  {
   "cell_type": "code",
   "execution_count": 5,
   "metadata": {
    "vscode": {
     "languageId": "r"
    }
   },
   "outputs": [
    {
     "data": {
      "text/html": [
       "<table class=\"dataframe\">\n",
       "<caption>A data.frame: 4 x 4</caption>\n",
       "<thead>\n",
       "\t<tr><th scope=col>번호</th><th scope=col>제품</th><th scope=col>금액</th><th scope=col>수량</th></tr>\n",
       "\t<tr><th scope=col>&lt;int&gt;</th><th scope=col>&lt;chr&gt;</th><th scope=col>&lt;dbl&gt;</th><th scope=col>&lt;dbl&gt;</th></tr>\n",
       "</thead>\n",
       "<tbody>\n",
       "\t<tr><td>1</td><td>Apple </td><td>500</td><td>5</td></tr>\n",
       "\t<tr><td>2</td><td>Banana</td><td>200</td><td>4</td></tr>\n",
       "\t<tr><td>3</td><td>Peach </td><td>200</td><td>3</td></tr>\n",
       "\t<tr><td>4</td><td>Berry </td><td> 50</td><td>2</td></tr>\n",
       "</tbody>\n",
       "</table>\n"
      ],
      "text/latex": [
       "A data.frame: 4 x 4\n",
       "\\begin{tabular}{llll}\n",
       " 번호 & 제품 & 금액 & 수량\\\\\n",
       " <int> & <chr> & <dbl> & <dbl>\\\\\n",
       "\\hline\n",
       "\t 1 & Apple  & 500 & 5\\\\\n",
       "\t 2 & Banana & 200 & 4\\\\\n",
       "\t 3 & Peach  & 200 & 3\\\\\n",
       "\t 4 & Berry  &  50 & 2\\\\\n",
       "\\end{tabular}\n"
      ],
      "text/markdown": [
       "\n",
       "A data.frame: 4 x 4\n",
       "\n",
       "| 번호 &lt;int&gt; | 제품 &lt;chr&gt; | 금액 &lt;dbl&gt; | 수량 &lt;dbl&gt; |\n",
       "|---|---|---|---|\n",
       "| 1 | Apple  | 500 | 5 |\n",
       "| 2 | Banana | 200 | 4 |\n",
       "| 3 | Peach  | 200 | 3 |\n",
       "| 4 | Berry  |  50 | 2 |\n",
       "\n"
      ],
      "text/plain": [
       "  번호 제품   금액 수량\n",
       "1 1    Apple  500  5   \n",
       "2 2    Banana 200  4   \n",
       "3 3    Peach  200  3   \n",
       "4 4    Berry   50  2   "
      ]
     },
     "metadata": {},
     "output_type": "display_data"
    }
   ],
   "source": [
    "fruit"
   ]
  },
  {
   "cell_type": "code",
   "execution_count": 6,
   "metadata": {
    "vscode": {
     "languageId": "r"
    }
   },
   "outputs": [
    {
     "data": {
      "text/html": [
       "<style>\n",
       ".list-inline {list-style: none; margin:0; padding: 0}\n",
       ".list-inline>li {display: inline-block}\n",
       ".list-inline>li:not(:last-child)::after {content: \"\\00b7\"; padding: 0 .5ex}\n",
       "</style>\n",
       "<ol class=list-inline><li>'fruit'</li><li>'name'</li><li>'no'</li><li>'price'</li><li>'qty'</li></ol>\n"
      ],
      "text/latex": [
       "\\begin{enumerate*}\n",
       "\\item 'fruit'\n",
       "\\item 'name'\n",
       "\\item 'no'\n",
       "\\item 'price'\n",
       "\\item 'qty'\n",
       "\\end{enumerate*}\n"
      ],
      "text/markdown": [
       "1. 'fruit'\n",
       "2. 'name'\n",
       "3. 'no'\n",
       "4. 'price'\n",
       "5. 'qty'\n",
       "\n",
       "\n"
      ],
      "text/plain": [
       "[1] \"fruit\" \"name\"  \"no\"    \"price\" \"qty\"  "
      ]
     },
     "metadata": {},
     "output_type": "display_data"
    }
   ],
   "source": [
    "ls()\n"
   ]
  },
  {
   "cell_type": "code",
   "execution_count": 7,
   "metadata": {
    "vscode": {
     "languageId": "r"
    }
   },
   "outputs": [],
   "source": [
    "#fruit 를 csv 로 저장하기\n",
    "write.csv(fruit,\"../Data/fruit.csv\",row.names =F)"
   ]
  },
  {
   "cell_type": "code",
   "execution_count": 8,
   "metadata": {
    "vscode": {
     "languageId": "r"
    }
   },
   "outputs": [
    {
     "data": {
      "text/html": [
       "<table class=\"dataframe\">\n",
       "<caption>A data.frame: 4 x 4</caption>\n",
       "<thead>\n",
       "\t<tr><th scope=col>번호</th><th scope=col>제품</th><th scope=col>금액</th><th scope=col>수량</th></tr>\n",
       "\t<tr><th scope=col>&lt;int&gt;</th><th scope=col>&lt;chr&gt;</th><th scope=col>&lt;int&gt;</th><th scope=col>&lt;int&gt;</th></tr>\n",
       "</thead>\n",
       "<tbody>\n",
       "\t<tr><td>1</td><td>Apple </td><td>500</td><td>5</td></tr>\n",
       "\t<tr><td>2</td><td>Banana</td><td>200</td><td>4</td></tr>\n",
       "\t<tr><td>3</td><td>Peach </td><td>200</td><td>3</td></tr>\n",
       "\t<tr><td>4</td><td>Berry </td><td> 50</td><td>2</td></tr>\n",
       "</tbody>\n",
       "</table>\n"
      ],
      "text/latex": [
       "A data.frame: 4 x 4\n",
       "\\begin{tabular}{llll}\n",
       " 번호 & 제품 & 금액 & 수량\\\\\n",
       " <int> & <chr> & <int> & <int>\\\\\n",
       "\\hline\n",
       "\t 1 & Apple  & 500 & 5\\\\\n",
       "\t 2 & Banana & 200 & 4\\\\\n",
       "\t 3 & Peach  & 200 & 3\\\\\n",
       "\t 4 & Berry  &  50 & 2\\\\\n",
       "\\end{tabular}\n"
      ],
      "text/markdown": [
       "\n",
       "A data.frame: 4 x 4\n",
       "\n",
       "| 번호 &lt;int&gt; | 제품 &lt;chr&gt; | 금액 &lt;int&gt; | 수량 &lt;int&gt; |\n",
       "|---|---|---|---|\n",
       "| 1 | Apple  | 500 | 5 |\n",
       "| 2 | Banana | 200 | 4 |\n",
       "| 3 | Peach  | 200 | 3 |\n",
       "| 4 | Berry  |  50 | 2 |\n",
       "\n"
      ],
      "text/plain": [
       "  번호 제품   금액 수량\n",
       "1 1    Apple  500  5   \n",
       "2 2    Banana 200  4   \n",
       "3 3    Peach  200  3   \n",
       "4 4    Berry   50  2   "
      ]
     },
     "metadata": {},
     "output_type": "display_data"
    }
   ],
   "source": [
    "read.csv(\"../Data/fruit.csv\")"
   ]
  },
  {
   "cell_type": "markdown",
   "metadata": {},
   "source": [
    "### 세계 GDP 순위 데이터 정제 및 차트 만들기\n"
   ]
  },
  {
   "cell_type": "code",
   "execution_count": null,
   "metadata": {
    "vscode": {
     "languageId": "r"
    }
   },
   "outputs": [],
   "source": []
  },
  {
   "cell_type": "code",
   "execution_count": 9,
   "metadata": {
    "vscode": {
     "languageId": "r"
    }
   },
   "outputs": [
    {
     "data": {
      "text/html": [
       "<table class=\"dataframe\">\n",
       "<caption>A data.frame: 6 x 6</caption>\n",
       "<thead>\n",
       "\t<tr><th></th><th scope=col>X</th><th scope=col>Gross.domestic.product.2018</th><th scope=col>X.1</th><th scope=col>X.2</th><th scope=col>X.3</th><th scope=col>X.4</th></tr>\n",
       "\t<tr><th></th><th scope=col>&lt;chr&gt;</th><th scope=col>&lt;chr&gt;</th><th scope=col>&lt;lgl&gt;</th><th scope=col>&lt;chr&gt;</th><th scope=col>&lt;chr&gt;</th><th scope=col>&lt;chr&gt;</th></tr>\n",
       "</thead>\n",
       "<tbody>\n",
       "\t<tr><th scope=row>1</th><td>   </td><td>       </td><td>NA</td><td>             </td><td>            </td><td></td></tr>\n",
       "\t<tr><th scope=row>2</th><td>   </td><td>       </td><td>NA</td><td>             </td><td>(millions of</td><td></td></tr>\n",
       "\t<tr><th scope=row>3</th><td>   </td><td>Ranking</td><td>NA</td><td>Economy      </td><td>US dollars) </td><td></td></tr>\n",
       "\t<tr><th scope=row>4</th><td>   </td><td>       </td><td>NA</td><td>             </td><td>            </td><td></td></tr>\n",
       "\t<tr><th scope=row>5</th><td>USA</td><td>1      </td><td>NA</td><td>United States</td><td> 20,494,100 </td><td></td></tr>\n",
       "\t<tr><th scope=row>6</th><td>CHN</td><td>2      </td><td>NA</td><td>China        </td><td> 13,608,152 </td><td></td></tr>\n",
       "</tbody>\n",
       "</table>\n"
      ],
      "text/latex": [
       "A data.frame: 6 x 6\n",
       "\\begin{tabular}{r|llllll}\n",
       "  & X & Gross.domestic.product.2018 & X.1 & X.2 & X.3 & X.4\\\\\n",
       "  & <chr> & <chr> & <lgl> & <chr> & <chr> & <chr>\\\\\n",
       "\\hline\n",
       "\t1 &     &         & NA &               &              & \\\\\n",
       "\t2 &     &         & NA &               & (millions of & \\\\\n",
       "\t3 &     & Ranking & NA & Economy       & US dollars)  & \\\\\n",
       "\t4 &     &         & NA &               &              & \\\\\n",
       "\t5 & USA & 1       & NA & United States &  20,494,100  & \\\\\n",
       "\t6 & CHN & 2       & NA & China         &  13,608,152  & \\\\\n",
       "\\end{tabular}\n"
      ],
      "text/markdown": [
       "\n",
       "A data.frame: 6 x 6\n",
       "\n",
       "| <!--/--> | X &lt;chr&gt; | Gross.domestic.product.2018 &lt;chr&gt; | X.1 &lt;lgl&gt; | X.2 &lt;chr&gt; | X.3 &lt;chr&gt; | X.4 &lt;chr&gt; |\n",
       "|---|---|---|---|---|---|---|\n",
       "| 1 | <!----> | <!----> | NA | <!----> | <!----> | <!----> |\n",
       "| 2 | <!----> | <!----> | NA | <!----> | (millions of | <!----> |\n",
       "| 3 | <!----> | Ranking | NA | Economy       | US dollars)  | <!----> |\n",
       "| 4 | <!----> | <!----> | NA | <!----> | <!----> | <!----> |\n",
       "| 5 | USA | 1       | NA | United States |  20,494,100  | <!----> |\n",
       "| 6 | CHN | 2       | NA | China         |  13,608,152  | <!----> |\n",
       "\n"
      ],
      "text/plain": [
       "  X   Gross.domestic.product.2018 X.1 X.2           X.3          X.4\n",
       "1                                 NA                                \n",
       "2                                 NA                (millions of    \n",
       "3     Ranking                     NA  Economy       US dollars)     \n",
       "4                                 NA                                \n",
       "5 USA 1                           NA  United States  20,494,100     \n",
       "6 CHN 2                           NA  China          13,608,152     "
      ]
     },
     "metadata": {},
     "output_type": "display_data"
    },
    {
     "data": {
      "text/html": [
       "<table class=\"dataframe\">\n",
       "<caption>A data.frame: 6 x 4</caption>\n",
       "<thead>\n",
       "\t<tr><th></th><th scope=col>X</th><th scope=col>Gross.domestic.product.2018</th><th scope=col>X.2</th><th scope=col>X.3</th></tr>\n",
       "\t<tr><th></th><th scope=col>&lt;chr&gt;</th><th scope=col>&lt;chr&gt;</th><th scope=col>&lt;chr&gt;</th><th scope=col>&lt;chr&gt;</th></tr>\n",
       "</thead>\n",
       "<tbody>\n",
       "\t<tr><th scope=row>5</th><td>USA</td><td>1</td><td>United States </td><td> 20,494,100 </td></tr>\n",
       "\t<tr><th scope=row>6</th><td>CHN</td><td>2</td><td>China         </td><td> 13,608,152 </td></tr>\n",
       "\t<tr><th scope=row>7</th><td>JPN</td><td>3</td><td>Japan         </td><td> 4,970,916  </td></tr>\n",
       "\t<tr><th scope=row>8</th><td>DEU</td><td>4</td><td>Germany       </td><td> 3,996,759  </td></tr>\n",
       "\t<tr><th scope=row>9</th><td>GBR</td><td>5</td><td>United Kingdom</td><td> 2,825,208  </td></tr>\n",
       "\t<tr><th scope=row>10</th><td>FRA</td><td>6</td><td>France        </td><td> 2,777,535  </td></tr>\n",
       "</tbody>\n",
       "</table>\n"
      ],
      "text/latex": [
       "A data.frame: 6 x 4\n",
       "\\begin{tabular}{r|llll}\n",
       "  & X & Gross.domestic.product.2018 & X.2 & X.3\\\\\n",
       "  & <chr> & <chr> & <chr> & <chr>\\\\\n",
       "\\hline\n",
       "\t5 & USA & 1 & United States  &  20,494,100 \\\\\n",
       "\t6 & CHN & 2 & China          &  13,608,152 \\\\\n",
       "\t7 & JPN & 3 & Japan          &  4,970,916  \\\\\n",
       "\t8 & DEU & 4 & Germany        &  3,996,759  \\\\\n",
       "\t9 & GBR & 5 & United Kingdom &  2,825,208  \\\\\n",
       "\t10 & FRA & 6 & France         &  2,777,535  \\\\\n",
       "\\end{tabular}\n"
      ],
      "text/markdown": [
       "\n",
       "A data.frame: 6 x 4\n",
       "\n",
       "| <!--/--> | X &lt;chr&gt; | Gross.domestic.product.2018 &lt;chr&gt; | X.2 &lt;chr&gt; | X.3 &lt;chr&gt; |\n",
       "|---|---|---|---|---|\n",
       "| 5 | USA | 1 | United States  |  20,494,100  |\n",
       "| 6 | CHN | 2 | China          |  13,608,152  |\n",
       "| 7 | JPN | 3 | Japan          |  4,970,916   |\n",
       "| 8 | DEU | 4 | Germany        |  3,996,759   |\n",
       "| 9 | GBR | 5 | United Kingdom |  2,825,208   |\n",
       "| 10 | FRA | 6 | France         |  2,777,535   |\n",
       "\n"
      ],
      "text/plain": [
       "   X   Gross.domestic.product.2018 X.2            X.3         \n",
       "5  USA 1                           United States   20,494,100 \n",
       "6  CHN 2                           China           13,608,152 \n",
       "7  JPN 3                           Japan           4,970,916  \n",
       "8  DEU 4                           Germany         3,996,759  \n",
       "9  GBR 5                           United Kingdom  2,825,208  \n",
       "10 FRA 6                           France          2,777,535  "
      ]
     },
     "metadata": {},
     "output_type": "display_data"
    }
   ],
   "source": [
    "GDP_ranking <- read.csv(\"../Data/GDP.csv\")\n",
    "head(GDP_ranking)\n",
    "# row 1:4 는 필요없는 데이터\n",
    "# col 3 은 알수없는 데이터 \n",
    "# 맨 끝에 칼럼은 필요없음 \n",
    "#-> data 정제 \n",
    "GDP2<- GDP_ranking[-c(1:4),-c(3,ncol(GDP_ranking))]\n",
    "head(GDP2)\n",
    "\n"
   ]
  },
  {
   "cell_type": "code",
   "execution_count": 10,
   "metadata": {
    "vscode": {
     "languageId": "r"
    }
   },
   "outputs": [
    {
     "data": {
      "text/html": [
       "<table class=\"dataframe\">\n",
       "<caption>A data.frame: 6 x 4</caption>\n",
       "<thead>\n",
       "\t<tr><th></th><th scope=col>X</th><th scope=col>Gross.domestic.product.2018</th><th scope=col>X.2</th><th scope=col>X.3</th></tr>\n",
       "\t<tr><th></th><th scope=col>&lt;chr&gt;</th><th scope=col>&lt;chr&gt;</th><th scope=col>&lt;chr&gt;</th><th scope=col>&lt;chr&gt;</th></tr>\n",
       "</thead>\n",
       "<tbody>\n",
       "\t<tr><th scope=row>1</th><td>USA</td><td>1</td><td>United States </td><td> 20,494,100 </td></tr>\n",
       "\t<tr><th scope=row>2</th><td>CHN</td><td>2</td><td>China         </td><td> 13,608,152 </td></tr>\n",
       "\t<tr><th scope=row>3</th><td>JPN</td><td>3</td><td>Japan         </td><td> 4,970,916  </td></tr>\n",
       "\t<tr><th scope=row>4</th><td>DEU</td><td>4</td><td>Germany       </td><td> 3,996,759  </td></tr>\n",
       "\t<tr><th scope=row>5</th><td>GBR</td><td>5</td><td>United Kingdom</td><td> 2,825,208  </td></tr>\n",
       "\t<tr><th scope=row>6</th><td>FRA</td><td>6</td><td>France        </td><td> 2,777,535  </td></tr>\n",
       "</tbody>\n",
       "</table>\n"
      ],
      "text/latex": [
       "A data.frame: 6 x 4\n",
       "\\begin{tabular}{r|llll}\n",
       "  & X & Gross.domestic.product.2018 & X.2 & X.3\\\\\n",
       "  & <chr> & <chr> & <chr> & <chr>\\\\\n",
       "\\hline\n",
       "\t1 & USA & 1 & United States  &  20,494,100 \\\\\n",
       "\t2 & CHN & 2 & China          &  13,608,152 \\\\\n",
       "\t3 & JPN & 3 & Japan          &  4,970,916  \\\\\n",
       "\t4 & DEU & 4 & Germany        &  3,996,759  \\\\\n",
       "\t5 & GBR & 5 & United Kingdom &  2,825,208  \\\\\n",
       "\t6 & FRA & 6 & France         &  2,777,535  \\\\\n",
       "\\end{tabular}\n"
      ],
      "text/markdown": [
       "\n",
       "A data.frame: 6 x 4\n",
       "\n",
       "| <!--/--> | X &lt;chr&gt; | Gross.domestic.product.2018 &lt;chr&gt; | X.2 &lt;chr&gt; | X.3 &lt;chr&gt; |\n",
       "|---|---|---|---|---|\n",
       "| 1 | USA | 1 | United States  |  20,494,100  |\n",
       "| 2 | CHN | 2 | China          |  13,608,152  |\n",
       "| 3 | JPN | 3 | Japan          |  4,970,916   |\n",
       "| 4 | DEU | 4 | Germany        |  3,996,759   |\n",
       "| 5 | GBR | 5 | United Kingdom |  2,825,208   |\n",
       "| 6 | FRA | 6 | France         |  2,777,535   |\n",
       "\n"
      ],
      "text/plain": [
       "  X   Gross.domestic.product.2018 X.2            X.3         \n",
       "1 USA 1                           United States   20,494,100 \n",
       "2 CHN 2                           China           13,608,152 \n",
       "3 JPN 3                           Japan           4,970,916  \n",
       "4 DEU 4                           Germany         3,996,759  \n",
       "5 GBR 5                           United Kingdom  2,825,208  \n",
       "6 FRA 6                           France          2,777,535  "
      ]
     },
     "metadata": {},
     "output_type": "display_data"
    }
   ],
   "source": [
    "#GDP2\n",
    "g15<-GDP2[1:15,] # 상위 15개국만 선별\n",
    "rownames(g15)<-1:15 # rowname 이 1부터 시작하게 만듦\n",
    "head(g15)"
   ]
  },
  {
   "cell_type": "code",
   "execution_count": 11,
   "metadata": {
    "vscode": {
     "languageId": "r"
    }
   },
   "outputs": [
    {
     "data": {
      "text/html": [
       "<table class=\"dataframe\">\n",
       "<caption>A data.frame: 15 x 4</caption>\n",
       "<thead>\n",
       "\t<tr><th></th><th scope=col>Code</th><th scope=col>Ranking</th><th scope=col>Nation</th><th scope=col>GDP</th></tr>\n",
       "\t<tr><th></th><th scope=col>&lt;chr&gt;</th><th scope=col>&lt;chr&gt;</th><th scope=col>&lt;chr&gt;</th><th scope=col>&lt;chr&gt;</th></tr>\n",
       "</thead>\n",
       "<tbody>\n",
       "\t<tr><th scope=row>1</th><td>USA</td><td>1 </td><td>United States     </td><td> 20,494,100 </td></tr>\n",
       "\t<tr><th scope=row>2</th><td>CHN</td><td>2 </td><td>China             </td><td> 13,608,152 </td></tr>\n",
       "\t<tr><th scope=row>3</th><td>JPN</td><td>3 </td><td>Japan             </td><td> 4,970,916  </td></tr>\n",
       "\t<tr><th scope=row>4</th><td>DEU</td><td>4 </td><td>Germany           </td><td> 3,996,759  </td></tr>\n",
       "\t<tr><th scope=row>5</th><td>GBR</td><td>5 </td><td>United Kingdom    </td><td> 2,825,208  </td></tr>\n",
       "\t<tr><th scope=row>6</th><td>FRA</td><td>6 </td><td>France            </td><td> 2,777,535  </td></tr>\n",
       "\t<tr><th scope=row>7</th><td>IND</td><td>7 </td><td>India             </td><td> 2,726,323  </td></tr>\n",
       "\t<tr><th scope=row>8</th><td>ITA</td><td>8 </td><td>Italy             </td><td> 2,073,902  </td></tr>\n",
       "\t<tr><th scope=row>9</th><td>BRA</td><td>9 </td><td>Brazil            </td><td> 1,868,626  </td></tr>\n",
       "\t<tr><th scope=row>10</th><td>CAN</td><td>10</td><td>Canada            </td><td> 1,712,510  </td></tr>\n",
       "\t<tr><th scope=row>11</th><td>RUS</td><td>11</td><td>Russian Federation</td><td> 1,657,554  </td></tr>\n",
       "\t<tr><th scope=row>12</th><td>KOR</td><td>12</td><td>Korea, Rep.       </td><td> 1,619,424  </td></tr>\n",
       "\t<tr><th scope=row>13</th><td>AUS</td><td>13</td><td>Australia         </td><td> 1,432,195  </td></tr>\n",
       "\t<tr><th scope=row>14</th><td>ESP</td><td>14</td><td>Spain             </td><td> 1,426,189  </td></tr>\n",
       "\t<tr><th scope=row>15</th><td>MEX</td><td>15</td><td>Mexico            </td><td> 1,223,809  </td></tr>\n",
       "</tbody>\n",
       "</table>\n"
      ],
      "text/latex": [
       "A data.frame: 15 x 4\n",
       "\\begin{tabular}{r|llll}\n",
       "  & Code & Ranking & Nation & GDP\\\\\n",
       "  & <chr> & <chr> & <chr> & <chr>\\\\\n",
       "\\hline\n",
       "\t1 & USA & 1  & United States      &  20,494,100 \\\\\n",
       "\t2 & CHN & 2  & China              &  13,608,152 \\\\\n",
       "\t3 & JPN & 3  & Japan              &  4,970,916  \\\\\n",
       "\t4 & DEU & 4  & Germany            &  3,996,759  \\\\\n",
       "\t5 & GBR & 5  & United Kingdom     &  2,825,208  \\\\\n",
       "\t6 & FRA & 6  & France             &  2,777,535  \\\\\n",
       "\t7 & IND & 7  & India              &  2,726,323  \\\\\n",
       "\t8 & ITA & 8  & Italy              &  2,073,902  \\\\\n",
       "\t9 & BRA & 9  & Brazil             &  1,868,626  \\\\\n",
       "\t10 & CAN & 10 & Canada             &  1,712,510  \\\\\n",
       "\t11 & RUS & 11 & Russian Federation &  1,657,554  \\\\\n",
       "\t12 & KOR & 12 & Korea, Rep.        &  1,619,424  \\\\\n",
       "\t13 & AUS & 13 & Australia          &  1,432,195  \\\\\n",
       "\t14 & ESP & 14 & Spain              &  1,426,189  \\\\\n",
       "\t15 & MEX & 15 & Mexico             &  1,223,809  \\\\\n",
       "\\end{tabular}\n"
      ],
      "text/markdown": [
       "\n",
       "A data.frame: 15 x 4\n",
       "\n",
       "| <!--/--> | Code &lt;chr&gt; | Ranking &lt;chr&gt; | Nation &lt;chr&gt; | GDP &lt;chr&gt; |\n",
       "|---|---|---|---|---|\n",
       "| 1 | USA | 1  | United States      |  20,494,100  |\n",
       "| 2 | CHN | 2  | China              |  13,608,152  |\n",
       "| 3 | JPN | 3  | Japan              |  4,970,916   |\n",
       "| 4 | DEU | 4  | Germany            |  3,996,759   |\n",
       "| 5 | GBR | 5  | United Kingdom     |  2,825,208   |\n",
       "| 6 | FRA | 6  | France             |  2,777,535   |\n",
       "| 7 | IND | 7  | India              |  2,726,323   |\n",
       "| 8 | ITA | 8  | Italy              |  2,073,902   |\n",
       "| 9 | BRA | 9  | Brazil             |  1,868,626   |\n",
       "| 10 | CAN | 10 | Canada             |  1,712,510   |\n",
       "| 11 | RUS | 11 | Russian Federation |  1,657,554   |\n",
       "| 12 | KOR | 12 | Korea, Rep.        |  1,619,424   |\n",
       "| 13 | AUS | 13 | Australia          |  1,432,195   |\n",
       "| 14 | ESP | 14 | Spain              |  1,426,189   |\n",
       "| 15 | MEX | 15 | Mexico             |  1,223,809   |\n",
       "\n"
      ],
      "text/plain": [
       "   Code Ranking Nation             GDP         \n",
       "1  USA  1       United States       20,494,100 \n",
       "2  CHN  2       China               13,608,152 \n",
       "3  JPN  3       Japan               4,970,916  \n",
       "4  DEU  4       Germany             3,996,759  \n",
       "5  GBR  5       United Kingdom      2,825,208  \n",
       "6  FRA  6       France              2,777,535  \n",
       "7  IND  7       India               2,726,323  \n",
       "8  ITA  8       Italy               2,073,902  \n",
       "9  BRA  9       Brazil              1,868,626  \n",
       "10 CAN  10      Canada              1,712,510  \n",
       "11 RUS  11      Russian Federation  1,657,554  \n",
       "12 KOR  12      Korea, Rep.         1,619,424  \n",
       "13 AUS  13      Australia           1,432,195  \n",
       "14 ESP  14      Spain               1,426,189  \n",
       "15 MEX  15      Mexico              1,223,809  "
      ]
     },
     "metadata": {},
     "output_type": "display_data"
    }
   ],
   "source": [
    "# 컬럼 이름 정의 : Code, Ranking, Nation, GDP\n",
    "colnames(g15)<-c(\"Code\",\"Ranking\",\"Nation\",\"GDP\")\n",
    "# rownames 새로 구성하기 \n",
    "rownames(g15) <-c(1:15) # c() 로 하면 초기화 됨. \n",
    "g15"
   ]
  },
  {
   "cell_type": "code",
   "execution_count": 12,
   "metadata": {
    "vscode": {
     "languageId": "r"
    }
   },
   "outputs": [
    {
     "data": {
      "text/html": [
       "<table class=\"dataframe\">\n",
       "<caption>A data.frame: 6 x 4</caption>\n",
       "<thead>\n",
       "\t<tr><th></th><th scope=col>Code</th><th scope=col>Ranking</th><th scope=col>Nation</th><th scope=col>GDP</th></tr>\n",
       "\t<tr><th></th><th scope=col>&lt;chr&gt;</th><th scope=col>&lt;chr&gt;</th><th scope=col>&lt;chr&gt;</th><th scope=col>&lt;dbl&gt;</th></tr>\n",
       "</thead>\n",
       "<tbody>\n",
       "\t<tr><th scope=row>1</th><td>USA</td><td>1</td><td>United States </td><td>20494100</td></tr>\n",
       "\t<tr><th scope=row>2</th><td>CHN</td><td>2</td><td>China         </td><td>13608152</td></tr>\n",
       "\t<tr><th scope=row>3</th><td>JPN</td><td>3</td><td>Japan         </td><td> 4970916</td></tr>\n",
       "\t<tr><th scope=row>4</th><td>DEU</td><td>4</td><td>Germany       </td><td> 3996759</td></tr>\n",
       "\t<tr><th scope=row>5</th><td>GBR</td><td>5</td><td>United Kingdom</td><td> 2825208</td></tr>\n",
       "\t<tr><th scope=row>6</th><td>FRA</td><td>6</td><td>France        </td><td> 2777535</td></tr>\n",
       "</tbody>\n",
       "</table>\n"
      ],
      "text/latex": [
       "A data.frame: 6 x 4\n",
       "\\begin{tabular}{r|llll}\n",
       "  & Code & Ranking & Nation & GDP\\\\\n",
       "  & <chr> & <chr> & <chr> & <dbl>\\\\\n",
       "\\hline\n",
       "\t1 & USA & 1 & United States  & 20494100\\\\\n",
       "\t2 & CHN & 2 & China          & 13608152\\\\\n",
       "\t3 & JPN & 3 & Japan          &  4970916\\\\\n",
       "\t4 & DEU & 4 & Germany        &  3996759\\\\\n",
       "\t5 & GBR & 5 & United Kingdom &  2825208\\\\\n",
       "\t6 & FRA & 6 & France         &  2777535\\\\\n",
       "\\end{tabular}\n"
      ],
      "text/markdown": [
       "\n",
       "A data.frame: 6 x 4\n",
       "\n",
       "| <!--/--> | Code &lt;chr&gt; | Ranking &lt;chr&gt; | Nation &lt;chr&gt; | GDP &lt;dbl&gt; |\n",
       "|---|---|---|---|---|\n",
       "| 1 | USA | 1 | United States  | 20494100 |\n",
       "| 2 | CHN | 2 | China          | 13608152 |\n",
       "| 3 | JPN | 3 | Japan          |  4970916 |\n",
       "| 4 | DEU | 4 | Germany        |  3996759 |\n",
       "| 5 | GBR | 5 | United Kingdom |  2825208 |\n",
       "| 6 | FRA | 6 | France         |  2777535 |\n",
       "\n"
      ],
      "text/plain": [
       "  Code Ranking Nation         GDP     \n",
       "1 USA  1       United States  20494100\n",
       "2 CHN  2       China          13608152\n",
       "3 JPN  3       Japan           4970916\n",
       "4 DEU  4       Germany         3996759\n",
       "5 GBR  5       United Kingdom  2825208\n",
       "6 FRA  6       France          2777535"
      ]
     },
     "metadata": {},
     "output_type": "display_data"
    }
   ],
   "source": [
    "# 숫자에 ',' 가 찍혀있고 character type 임\n",
    "# double type 으로 변환\n",
    "g15$GDP<-as.double(str_remove_all(g15$GDP,\",\")); head(g15,6);"
   ]
  },
  {
   "cell_type": "code",
   "execution_count": 13,
   "metadata": {
    "vscode": {
     "languageId": "r"
    }
   },
   "outputs": [
    {
     "data": {
      "image/png": "[encoded data removed]",
      "text/plain": [
       "Plot with title “2018년 GDP 세계 15위 국가”"
      ]
     },
     "metadata": {
      "image/png": {
       "height": 240,
       "width": 360
      }
     },
     "output_type": "display_data"
    }
   ],
   "source": [
    "options(scipen=100) # 지수 없애기\n",
    "par(family =\"AppleGothic\",bg ='white')\n",
    "options(repr.plot.width  =6, repr.plot.height =4)\n",
    "barplot(\n",
    "    g15$GDP, # data\n",
    "    main = \"2018년 GDP 세계 15위 국가\",  # main title\n",
    "    #sub = \"부제목\",\n",
    "    xlab = \"국가(nation)\",             # x axis 이름\n",
    "    ylab = \"단위(달러)\",                # y axis 이름\n",
    "    col = rainbow(nrow(g15)),         # 15개의 무지개 색상값 벡터\n",
    "    names = g15$Code,                 # 범례\n",
    "    cex.names =0.5,                   # 범례 크기 \n",
    "    cex.axis =0.4,                    # y 축 수치 값 크기\n",
    "    space =0.1,                       # 막대 사이간격\n",
    "    axis.lty =1\n",
    ")"
   ]
  },
  {
   "cell_type": "code",
   "execution_count": 14,
   "metadata": {
    "vscode": {
     "languageId": "r"
    }
   },
   "outputs": [
    {
     "data": {
      "image/png": "[encoded data removed]",
      "text/plain": [
       "Plot with title “2018년 GDP 세계 15위 국가”"
      ]
     },
     "metadata": {
      "image/png": {
       "height": 360,
       "width": 600
      }
     },
     "output_type": "display_data"
    }
   ],
   "source": [
    "# 한국에 실정을 차트로 보여주겠다! 1등2등 빼면 만만함. \n",
    "# 미중한 은 빨간색으로 나머지 국가는 파란색으로 표현\n",
    "options(scipen=100) # 지수 없애기\n",
    "options(repr.plot.width = 10, repr.plot.height =6)\n",
    "\n",
    "par(family =\"AppleGothic\",bg ='light yellow')\n",
    "barplot(\n",
    "    g15$GDP/100000, # data\n",
    "    main = \"2018년 GDP 세계 15위 국가\",  #main title\n",
    "    xlab = \"국가(nation)\", # x axis 이름\n",
    "    ylab = \"단위( 십만 달러)\",\n",
    "    col = ifelse(g15$Code==c(\"USA\",\"CHN\",\"KOR\"),\"pink\",\"sky blue\"),\n",
    "    names = g15$Code,\n",
    "    cex.axis =0.7,\n",
    "    cex.main =2,\n",
    "    #cex.names =0.5\n",
    "    ylim = c(0,max(g15$GDP/100000)*1.25)\n",
    ")\n",
    "# GDP 수치 Bar top 에 표기\n",
    "xpos_GdpVal =0.7                                # 첫 x position\n",
    "for (nation_i in seq(1,length(g15$GDP),1)){     # 15개 국가 개수만큼 \n",
    "    text(   xpos_GdpVal,                        # x position\n",
    "            g15$GDP[nation_i]/100000+ 6,        # y position = gdp value + 5\n",
    "            trunc(g15$GDP[nation_i]/100000))    # value\n",
    "    xpos_GdpVal= xpos_GdpVal+1.2                # x position 이동 ->1.2\n",
    "}\n"
   ]
  },
  {
   "cell_type": "code",
   "execution_count": null,
   "metadata": {
    "vscode": {
     "languageId": "r"
    }
   },
   "outputs": [],
   "source": []
  },
  {
   "cell_type": "code",
   "execution_count": null,
   "metadata": {
    "vscode": {
     "languageId": "r"
    }
   },
   "outputs": [],
   "source": []
  },
  {
   "cell_type": "code",
   "execution_count": 15,
   "metadata": {
    "vscode": {
     "languageId": "r"
    }
   },
   "outputs": [
    {
     "data": {
      "image/png": "[encoded data removed]",
      "text/plain": [
       "Plot with title “2018년 GDP 세계 15위 국가”"
      ]
     },
     "metadata": {
      "image/png": {
       "height": 360,
       "width": 600
      }
     },
     "output_type": "display_data"
    }
   ],
   "source": [
    "#단위를 천단위로 표시하기\n",
    "options(scipen=100) # 지수 없애기\n",
    "par(family =\"AppleGothic\",bg ='white')\n",
    "barplot(\n",
    "    g15$GDP/1000, # data\n",
    "    main = \"2018년 GDP 세계 15위 국가\",  #main title\n",
    "    xlab = \"국가(nation)\", # x axis 이름\n",
    "    ylab = \"단위(천 달러)\",\n",
    "    col = ifelse(g15$Code==c(\"USA\",\"CHN\",\"KOR\"),\"red\",\"blue\"),\n",
    "    names = g15$Code,\n",
    "    #cex.names =0.5\n",
    "    ylim =c(0,25000)\n",
    ")"
   ]
  },
  {
   "cell_type": "code",
   "execution_count": 16,
   "metadata": {
    "vscode": {
     "languageId": "r"
    }
   },
   "outputs": [
    {
     "data": {
      "image/png": "[encoded data removed]",
      "text/plain": [
       "Plot with title “2018년 GDP 세계 15위 국가”"
      ]
     },
     "metadata": {
      "image/png": {
       "height": 360,
       "width": 600
      }
     },
     "output_type": "display_data"
    }
   ],
   "source": [
    "# GDP 가 3000000 이상인 국가만 빨간색으로 표시하기\n",
    "#단위를 천단위로 표시하기\n",
    "options(scipen=100) # 지수 없애기\n",
    "par(family =\"AppleGothic\",bg ='white')\n",
    "barplot(\n",
    "    g15$GDP/1000, # data\n",
    "    main = \"2018년 GDP 세계 15위 국가\",  #main title\n",
    "    xlab = \"국가(nation)\", # x axis 이름\n",
    "    ylab = \"단위(천 달러)\",\n",
    "    col = ifelse(g15$GDP >= 3000000,\"red\",\"blue\"),\n",
    "    names = g15$Code,\n",
    "    #cex.names =0.5\n",
    "    ylim =c(0,25000)\n",
    ")"
   ]
  },
  {
   "cell_type": "markdown",
   "metadata": {},
   "source": [
    "---\n",
    "# 데이터처리\n"
   ]
  },
  {
   "cell_type": "code",
   "execution_count": 17,
   "metadata": {
    "vscode": {
     "languageId": "r"
    }
   },
   "outputs": [
    {
     "name": "stderr",
     "output_type": "stream",
     "text": [
      "\n",
      "다음의 패키지를 부착합니다: ‘dplyr’\n",
      "\n",
      "\n",
      "The following objects are masked from ‘package:stats’:\n",
      "\n",
      "    filter, lag\n",
      "\n",
      "\n",
      "The following objects are masked from ‘package:base’:\n",
      "\n",
      "    intersect, setdiff, setequal, union\n",
      "\n",
      "\n"
     ]
    }
   ],
   "source": [
    "# 데이터 정렬\n",
    "# R 로도 머신러닝 할수있다 훨씬 빠르고 이쁘다 파이썬보다. \n",
    "library(dplyr)"
   ]
  },
  {
   "cell_type": "markdown",
   "metadata": {},
   "source": []
  },
  {
   "cell_type": "markdown",
   "metadata": {},
   "source": []
  },
  {
   "cell_type": "code",
   "execution_count": 18,
   "metadata": {
    "vscode": {
     "languageId": "r"
    }
   },
   "outputs": [],
   "source": [
    "#install.packages(\"dplyr\")"
   ]
  },
  {
   "cell_type": "code",
   "execution_count": 19,
   "metadata": {
    "vscode": {
     "languageId": "r"
    }
   },
   "outputs": [],
   "source": [
    "library(dplyr)"
   ]
  },
  {
   "cell_type": "code",
   "execution_count": 20,
   "metadata": {
    "vscode": {
     "languageId": "r"
    }
   },
   "outputs": [
    {
     "data": {
      "text/html": [
       "<table class=\"dataframe\">\n",
       "<caption>A data.frame: 6 x 5</caption>\n",
       "<thead>\n",
       "\t<tr><th></th><th scope=col>Sepal.Length</th><th scope=col>Sepal.Width</th><th scope=col>Petal.Length</th><th scope=col>Petal.Width</th><th scope=col>Species</th></tr>\n",
       "\t<tr><th></th><th scope=col>&lt;dbl&gt;</th><th scope=col>&lt;dbl&gt;</th><th scope=col>&lt;dbl&gt;</th><th scope=col>&lt;dbl&gt;</th><th scope=col>&lt;fct&gt;</th></tr>\n",
       "</thead>\n",
       "<tbody>\n",
       "\t<tr><th scope=row>1</th><td>4.3</td><td>3.0</td><td>1.1</td><td>0.1</td><td>setosa</td></tr>\n",
       "\t<tr><th scope=row>2</th><td>4.4</td><td>2.9</td><td>1.4</td><td>0.2</td><td>setosa</td></tr>\n",
       "\t<tr><th scope=row>3</th><td>4.4</td><td>3.0</td><td>1.3</td><td>0.2</td><td>setosa</td></tr>\n",
       "\t<tr><th scope=row>4</th><td>4.4</td><td>3.2</td><td>1.3</td><td>0.2</td><td>setosa</td></tr>\n",
       "\t<tr><th scope=row>5</th><td>4.5</td><td>2.3</td><td>1.3</td><td>0.3</td><td>setosa</td></tr>\n",
       "\t<tr><th scope=row>6</th><td>4.6</td><td>3.1</td><td>1.5</td><td>0.2</td><td>setosa</td></tr>\n",
       "</tbody>\n",
       "</table>\n"
      ],
      "text/latex": [
       "A data.frame: 6 x 5\n",
       "\\begin{tabular}{r|lllll}\n",
       "  & Sepal.Length & Sepal.Width & Petal.Length & Petal.Width & Species\\\\\n",
       "  & <dbl> & <dbl> & <dbl> & <dbl> & <fct>\\\\\n",
       "\\hline\n",
       "\t1 & 4.3 & 3.0 & 1.1 & 0.1 & setosa\\\\\n",
       "\t2 & 4.4 & 2.9 & 1.4 & 0.2 & setosa\\\\\n",
       "\t3 & 4.4 & 3.0 & 1.3 & 0.2 & setosa\\\\\n",
       "\t4 & 4.4 & 3.2 & 1.3 & 0.2 & setosa\\\\\n",
       "\t5 & 4.5 & 2.3 & 1.3 & 0.3 & setosa\\\\\n",
       "\t6 & 4.6 & 3.1 & 1.5 & 0.2 & setosa\\\\\n",
       "\\end{tabular}\n"
      ],
      "text/markdown": [
       "\n",
       "A data.frame: 6 x 5\n",
       "\n",
       "| <!--/--> | Sepal.Length &lt;dbl&gt; | Sepal.Width &lt;dbl&gt; | Petal.Length &lt;dbl&gt; | Petal.Width &lt;dbl&gt; | Species &lt;fct&gt; |\n",
       "|---|---|---|---|---|---|\n",
       "| 1 | 4.3 | 3.0 | 1.1 | 0.1 | setosa |\n",
       "| 2 | 4.4 | 2.9 | 1.4 | 0.2 | setosa |\n",
       "| 3 | 4.4 | 3.0 | 1.3 | 0.2 | setosa |\n",
       "| 4 | 4.4 | 3.2 | 1.3 | 0.2 | setosa |\n",
       "| 5 | 4.5 | 2.3 | 1.3 | 0.3 | setosa |\n",
       "| 6 | 4.6 | 3.1 | 1.5 | 0.2 | setosa |\n",
       "\n"
      ],
      "text/plain": [
       "  Sepal.Length Sepal.Width Petal.Length Petal.Width Species\n",
       "1 4.3          3.0         1.1          0.1         setosa \n",
       "2 4.4          2.9         1.4          0.2         setosa \n",
       "3 4.4          3.0         1.3          0.2         setosa \n",
       "4 4.4          3.2         1.3          0.2         setosa \n",
       "5 4.5          2.3         1.3          0.3         setosa \n",
       "6 4.6          3.1         1.5          0.2         setosa "
      ]
     },
     "metadata": {},
     "output_type": "display_data"
    }
   ],
   "source": [
    "# Sepal.Length 기준으로 오름차순 정렬하기 \n",
    "#head(iris) # iris의 정렬순서는 Species 이다.  정렬의 기준은 무조건 target column 이다. \n",
    "head(arrange(iris,Sepal.Length))"
   ]
  },
  {
   "cell_type": "code",
   "execution_count": 21,
   "metadata": {
    "vscode": {
     "languageId": "r"
    }
   },
   "outputs": [
    {
     "data": {
      "text/html": [
       "<table class=\"dataframe\">\n",
       "<caption>A data.frame: 150 x 2</caption>\n",
       "<thead>\n",
       "\t<tr><th scope=col>Sepal.Length</th><th scope=col>Sepal.Width</th></tr>\n",
       "\t<tr><th scope=col>&lt;dbl&gt;</th><th scope=col>&lt;dbl&gt;</th></tr>\n",
       "</thead>\n",
       "<tbody>\n",
       "\t<tr><td>4.3</td><td>3.0</td></tr>\n",
       "\t<tr><td>4.4</td><td>2.9</td></tr>\n",
       "\t<tr><td>4.4</td><td>3.0</td></tr>\n",
       "\t<tr><td>4.4</td><td>3.2</td></tr>\n",
       "\t<tr><td>4.5</td><td>2.3</td></tr>\n",
       "\t<tr><td>4.6</td><td>3.1</td></tr>\n",
       "\t<tr><td>4.6</td><td>3.4</td></tr>\n",
       "\t<tr><td>4.6</td><td>3.6</td></tr>\n",
       "\t<tr><td>4.6</td><td>3.2</td></tr>\n",
       "\t<tr><td>4.7</td><td>3.2</td></tr>\n",
       "\t<tr><td>4.7</td><td>3.2</td></tr>\n",
       "\t<tr><td>4.8</td><td>3.4</td></tr>\n",
       "\t<tr><td>4.8</td><td>3.0</td></tr>\n",
       "\t<tr><td>4.8</td><td>3.4</td></tr>\n",
       "\t<tr><td>4.8</td><td>3.1</td></tr>\n",
       "\t<tr><td>4.8</td><td>3.0</td></tr>\n",
       "\t<tr><td>4.9</td><td>3.0</td></tr>\n",
       "\t<tr><td>4.9</td><td>3.1</td></tr>\n",
       "\t<tr><td>4.9</td><td>3.1</td></tr>\n",
       "\t<tr><td>4.9</td><td>3.6</td></tr>\n",
       "\t<tr><td>4.9</td><td>2.4</td></tr>\n",
       "\t<tr><td>4.9</td><td>2.5</td></tr>\n",
       "\t<tr><td>5.0</td><td>3.6</td></tr>\n",
       "\t<tr><td>5.0</td><td>3.4</td></tr>\n",
       "\t<tr><td>5.0</td><td>3.0</td></tr>\n",
       "\t<tr><td>5.0</td><td>3.4</td></tr>\n",
       "\t<tr><td>5.0</td><td>3.2</td></tr>\n",
       "\t<tr><td>5.0</td><td>3.5</td></tr>\n",
       "\t<tr><td>5.0</td><td>3.5</td></tr>\n",
       "\t<tr><td>5.0</td><td>3.3</td></tr>\n",
       "\t<tr><td>...</td><td>...</td></tr>\n",
       "\t<tr><td>6.6</td><td>2.9</td></tr>\n",
       "\t<tr><td>6.6</td><td>3.0</td></tr>\n",
       "\t<tr><td>6.7</td><td>3.1</td></tr>\n",
       "\t<tr><td>6.7</td><td>3.0</td></tr>\n",
       "\t<tr><td>6.7</td><td>3.1</td></tr>\n",
       "\t<tr><td>6.7</td><td>2.5</td></tr>\n",
       "\t<tr><td>6.7</td><td>3.3</td></tr>\n",
       "\t<tr><td>6.7</td><td>3.1</td></tr>\n",
       "\t<tr><td>6.7</td><td>3.3</td></tr>\n",
       "\t<tr><td>6.7</td><td>3.0</td></tr>\n",
       "\t<tr><td>6.8</td><td>2.8</td></tr>\n",
       "\t<tr><td>6.8</td><td>3.0</td></tr>\n",
       "\t<tr><td>6.8</td><td>3.2</td></tr>\n",
       "\t<tr><td>6.9</td><td>3.1</td></tr>\n",
       "\t<tr><td>6.9</td><td>3.2</td></tr>\n",
       "\t<tr><td>6.9</td><td>3.1</td></tr>\n",
       "\t<tr><td>6.9</td><td>3.1</td></tr>\n",
       "\t<tr><td>7.0</td><td>3.2</td></tr>\n",
       "\t<tr><td>7.1</td><td>3.0</td></tr>\n",
       "\t<tr><td>7.2</td><td>3.6</td></tr>\n",
       "\t<tr><td>7.2</td><td>3.2</td></tr>\n",
       "\t<tr><td>7.2</td><td>3.0</td></tr>\n",
       "\t<tr><td>7.3</td><td>2.9</td></tr>\n",
       "\t<tr><td>7.4</td><td>2.8</td></tr>\n",
       "\t<tr><td>7.6</td><td>3.0</td></tr>\n",
       "\t<tr><td>7.7</td><td>3.8</td></tr>\n",
       "\t<tr><td>7.7</td><td>2.6</td></tr>\n",
       "\t<tr><td>7.7</td><td>2.8</td></tr>\n",
       "\t<tr><td>7.7</td><td>3.0</td></tr>\n",
       "\t<tr><td>7.9</td><td>3.8</td></tr>\n",
       "</tbody>\n",
       "</table>\n"
      ],
      "text/latex": [
       "A data.frame: 150 x 2\n",
       "\\begin{tabular}{ll}\n",
       " Sepal.Length & Sepal.Width\\\\\n",
       " <dbl> & <dbl>\\\\\n",
       "\\hline\n",
       "\t 4.3 & 3.0\\\\\n",
       "\t 4.4 & 2.9\\\\\n",
       "\t 4.4 & 3.0\\\\\n",
       "\t 4.4 & 3.2\\\\\n",
       "\t 4.5 & 2.3\\\\\n",
       "\t 4.6 & 3.1\\\\\n",
       "\t 4.6 & 3.4\\\\\n",
       "\t 4.6 & 3.6\\\\\n",
       "\t 4.6 & 3.2\\\\\n",
       "\t 4.7 & 3.2\\\\\n",
       "\t 4.7 & 3.2\\\\\n",
       "\t 4.8 & 3.4\\\\\n",
       "\t 4.8 & 3.0\\\\\n",
       "\t 4.8 & 3.4\\\\\n",
       "\t 4.8 & 3.1\\\\\n",
       "\t 4.8 & 3.0\\\\\n",
       "\t 4.9 & 3.0\\\\\n",
       "\t 4.9 & 3.1\\\\\n",
       "\t 4.9 & 3.1\\\\\n",
       "\t 4.9 & 3.6\\\\\n",
       "\t 4.9 & 2.4\\\\\n",
       "\t 4.9 & 2.5\\\\\n",
       "\t 5.0 & 3.6\\\\\n",
       "\t 5.0 & 3.4\\\\\n",
       "\t 5.0 & 3.0\\\\\n",
       "\t 5.0 & 3.4\\\\\n",
       "\t 5.0 & 3.2\\\\\n",
       "\t 5.0 & 3.5\\\\\n",
       "\t 5.0 & 3.5\\\\\n",
       "\t 5.0 & 3.3\\\\\n",
       "\t ... & ...\\\\\n",
       "\t 6.6 & 2.9\\\\\n",
       "\t 6.6 & 3.0\\\\\n",
       "\t 6.7 & 3.1\\\\\n",
       "\t 6.7 & 3.0\\\\\n",
       "\t 6.7 & 3.1\\\\\n",
       "\t 6.7 & 2.5\\\\\n",
       "\t 6.7 & 3.3\\\\\n",
       "\t 6.7 & 3.1\\\\\n",
       "\t 6.7 & 3.3\\\\\n",
       "\t 6.7 & 3.0\\\\\n",
       "\t 6.8 & 2.8\\\\\n",
       "\t 6.8 & 3.0\\\\\n",
       "\t 6.8 & 3.2\\\\\n",
       "\t 6.9 & 3.1\\\\\n",
       "\t 6.9 & 3.2\\\\\n",
       "\t 6.9 & 3.1\\\\\n",
       "\t 6.9 & 3.1\\\\\n",
       "\t 7.0 & 3.2\\\\\n",
       "\t 7.1 & 3.0\\\\\n",
       "\t 7.2 & 3.6\\\\\n",
       "\t 7.2 & 3.2\\\\\n",
       "\t 7.2 & 3.0\\\\\n",
       "\t 7.3 & 2.9\\\\\n",
       "\t 7.4 & 2.8\\\\\n",
       "\t 7.6 & 3.0\\\\\n",
       "\t 7.7 & 3.8\\\\\n",
       "\t 7.7 & 2.6\\\\\n",
       "\t 7.7 & 2.8\\\\\n",
       "\t 7.7 & 3.0\\\\\n",
       "\t 7.9 & 3.8\\\\\n",
       "\\end{tabular}\n"
      ],
      "text/markdown": [
       "\n",
       "A data.frame: 150 x 2\n",
       "\n",
       "| Sepal.Length &lt;dbl&gt; | Sepal.Width &lt;dbl&gt; |\n",
       "|---|---|\n",
       "| 4.3 | 3.0 |\n",
       "| 4.4 | 2.9 |\n",
       "| 4.4 | 3.0 |\n",
       "| 4.4 | 3.2 |\n",
       "| 4.5 | 2.3 |\n",
       "| 4.6 | 3.1 |\n",
       "| 4.6 | 3.4 |\n",
       "| 4.6 | 3.6 |\n",
       "| 4.6 | 3.2 |\n",
       "| 4.7 | 3.2 |\n",
       "| 4.7 | 3.2 |\n",
       "| 4.8 | 3.4 |\n",
       "| 4.8 | 3.0 |\n",
       "| 4.8 | 3.4 |\n",
       "| 4.8 | 3.1 |\n",
       "| 4.8 | 3.0 |\n",
       "| 4.9 | 3.0 |\n",
       "| 4.9 | 3.1 |\n",
       "| 4.9 | 3.1 |\n",
       "| 4.9 | 3.6 |\n",
       "| 4.9 | 2.4 |\n",
       "| 4.9 | 2.5 |\n",
       "| 5.0 | 3.6 |\n",
       "| 5.0 | 3.4 |\n",
       "| 5.0 | 3.0 |\n",
       "| 5.0 | 3.4 |\n",
       "| 5.0 | 3.2 |\n",
       "| 5.0 | 3.5 |\n",
       "| 5.0 | 3.5 |\n",
       "| 5.0 | 3.3 |\n",
       "| ... | ... |\n",
       "| 6.6 | 2.9 |\n",
       "| 6.6 | 3.0 |\n",
       "| 6.7 | 3.1 |\n",
       "| 6.7 | 3.0 |\n",
       "| 6.7 | 3.1 |\n",
       "| 6.7 | 2.5 |\n",
       "| 6.7 | 3.3 |\n",
       "| 6.7 | 3.1 |\n",
       "| 6.7 | 3.3 |\n",
       "| 6.7 | 3.0 |\n",
       "| 6.8 | 2.8 |\n",
       "| 6.8 | 3.0 |\n",
       "| 6.8 | 3.2 |\n",
       "| 6.9 | 3.1 |\n",
       "| 6.9 | 3.2 |\n",
       "| 6.9 | 3.1 |\n",
       "| 6.9 | 3.1 |\n",
       "| 7.0 | 3.2 |\n",
       "| 7.1 | 3.0 |\n",
       "| 7.2 | 3.6 |\n",
       "| 7.2 | 3.2 |\n",
       "| 7.2 | 3.0 |\n",
       "| 7.3 | 2.9 |\n",
       "| 7.4 | 2.8 |\n",
       "| 7.6 | 3.0 |\n",
       "| 7.7 | 3.8 |\n",
       "| 7.7 | 2.6 |\n",
       "| 7.7 | 2.8 |\n",
       "| 7.7 | 3.0 |\n",
       "| 7.9 | 3.8 |\n",
       "\n"
      ],
      "text/plain": [
       "    Sepal.Length Sepal.Width\n",
       "1   4.3          3.0        \n",
       "2   4.4          2.9        \n",
       "3   4.4          3.0        \n",
       "4   4.4          3.2        \n",
       "5   4.5          2.3        \n",
       "6   4.6          3.1        \n",
       "7   4.6          3.4        \n",
       "8   4.6          3.6        \n",
       "9   4.6          3.2        \n",
       "10  4.7          3.2        \n",
       "11  4.7          3.2        \n",
       "12  4.8          3.4        \n",
       "13  4.8          3.0        \n",
       "14  4.8          3.4        \n",
       "15  4.8          3.1        \n",
       "16  4.8          3.0        \n",
       "17  4.9          3.0        \n",
       "18  4.9          3.1        \n",
       "19  4.9          3.1        \n",
       "20  4.9          3.6        \n",
       "21  4.9          2.4        \n",
       "22  4.9          2.5        \n",
       "23  5.0          3.6        \n",
       "24  5.0          3.4        \n",
       "25  5.0          3.0        \n",
       "26  5.0          3.4        \n",
       "27  5.0          3.2        \n",
       "28  5.0          3.5        \n",
       "29  5.0          3.5        \n",
       "30  5.0          3.3        \n",
       "... ...          ...        \n",
       "121 6.6          2.9        \n",
       "122 6.6          3.0        \n",
       "123 6.7          3.1        \n",
       "124 6.7          3.0        \n",
       "125 6.7          3.1        \n",
       "126 6.7          2.5        \n",
       "127 6.7          3.3        \n",
       "128 6.7          3.1        \n",
       "129 6.7          3.3        \n",
       "130 6.7          3.0        \n",
       "131 6.8          2.8        \n",
       "132 6.8          3.0        \n",
       "133 6.8          3.2        \n",
       "134 6.9          3.1        \n",
       "135 6.9          3.2        \n",
       "136 6.9          3.1        \n",
       "137 6.9          3.1        \n",
       "138 7.0          3.2        \n",
       "139 7.1          3.0        \n",
       "140 7.2          3.6        \n",
       "141 7.2          3.2        \n",
       "142 7.2          3.0        \n",
       "143 7.3          2.9        \n",
       "144 7.4          2.8        \n",
       "145 7.6          3.0        \n",
       "146 7.7          3.8        \n",
       "147 7.7          2.6        \n",
       "148 7.7          2.8        \n",
       "149 7.7          3.0        \n",
       "150 7.9          3.8        "
      ]
     },
     "metadata": {},
     "output_type": "display_data"
    }
   ],
   "source": [
    "# Sepal.Length 기준으로 오름차순 정렬후 1열과 2열만 보기\n",
    "arrange(iris[,1:2],Sepal.Length)"
   ]
  },
  {
   "cell_type": "code",
   "execution_count": 22,
   "metadata": {
    "vscode": {
     "languageId": "r"
    }
   },
   "outputs": [
    {
     "data": {
      "text/html": [
       "<table class=\"dataframe\">\n",
       "<caption>A data.frame: 6 x 5</caption>\n",
       "<thead>\n",
       "\t<tr><th></th><th scope=col>Sepal.Length</th><th scope=col>Sepal.Width</th><th scope=col>Petal.Length</th><th scope=col>Petal.Width</th><th scope=col>Species</th></tr>\n",
       "\t<tr><th></th><th scope=col>&lt;dbl&gt;</th><th scope=col>&lt;dbl&gt;</th><th scope=col>&lt;dbl&gt;</th><th scope=col>&lt;dbl&gt;</th><th scope=col>&lt;fct&gt;</th></tr>\n",
       "</thead>\n",
       "<tbody>\n",
       "\t<tr><th scope=row>1</th><td>4.3</td><td>3.0</td><td>1.1</td><td>0.1</td><td>setosa</td></tr>\n",
       "\t<tr><th scope=row>2</th><td>4.4</td><td>3.0</td><td>1.3</td><td>0.2</td><td>setosa</td></tr>\n",
       "\t<tr><th scope=row>3</th><td>4.4</td><td>3.2</td><td>1.3</td><td>0.2</td><td>setosa</td></tr>\n",
       "\t<tr><th scope=row>4</th><td>4.4</td><td>2.9</td><td>1.4</td><td>0.2</td><td>setosa</td></tr>\n",
       "\t<tr><th scope=row>5</th><td>4.5</td><td>2.3</td><td>1.3</td><td>0.3</td><td>setosa</td></tr>\n",
       "\t<tr><th scope=row>6</th><td>4.6</td><td>3.6</td><td>1.0</td><td>0.2</td><td>setosa</td></tr>\n",
       "</tbody>\n",
       "</table>\n"
      ],
      "text/latex": [
       "A data.frame: 6 x 5\n",
       "\\begin{tabular}{r|lllll}\n",
       "  & Sepal.Length & Sepal.Width & Petal.Length & Petal.Width & Species\\\\\n",
       "  & <dbl> & <dbl> & <dbl> & <dbl> & <fct>\\\\\n",
       "\\hline\n",
       "\t1 & 4.3 & 3.0 & 1.1 & 0.1 & setosa\\\\\n",
       "\t2 & 4.4 & 3.0 & 1.3 & 0.2 & setosa\\\\\n",
       "\t3 & 4.4 & 3.2 & 1.3 & 0.2 & setosa\\\\\n",
       "\t4 & 4.4 & 2.9 & 1.4 & 0.2 & setosa\\\\\n",
       "\t5 & 4.5 & 2.3 & 1.3 & 0.3 & setosa\\\\\n",
       "\t6 & 4.6 & 3.6 & 1.0 & 0.2 & setosa\\\\\n",
       "\\end{tabular}\n"
      ],
      "text/markdown": [
       "\n",
       "A data.frame: 6 x 5\n",
       "\n",
       "| <!--/--> | Sepal.Length &lt;dbl&gt; | Sepal.Width &lt;dbl&gt; | Petal.Length &lt;dbl&gt; | Petal.Width &lt;dbl&gt; | Species &lt;fct&gt; |\n",
       "|---|---|---|---|---|---|\n",
       "| 1 | 4.3 | 3.0 | 1.1 | 0.1 | setosa |\n",
       "| 2 | 4.4 | 3.0 | 1.3 | 0.2 | setosa |\n",
       "| 3 | 4.4 | 3.2 | 1.3 | 0.2 | setosa |\n",
       "| 4 | 4.4 | 2.9 | 1.4 | 0.2 | setosa |\n",
       "| 5 | 4.5 | 2.3 | 1.3 | 0.3 | setosa |\n",
       "| 6 | 4.6 | 3.6 | 1.0 | 0.2 | setosa |\n",
       "\n"
      ],
      "text/plain": [
       "  Sepal.Length Sepal.Width Petal.Length Petal.Width Species\n",
       "1 4.3          3.0         1.1          0.1         setosa \n",
       "2 4.4          3.0         1.3          0.2         setosa \n",
       "3 4.4          3.2         1.3          0.2         setosa \n",
       "4 4.4          2.9         1.4          0.2         setosa \n",
       "5 4.5          2.3         1.3          0.3         setosa \n",
       "6 4.6          3.6         1.0          0.2         setosa "
      ]
     },
     "metadata": {},
     "output_type": "display_data"
    }
   ],
   "source": [
    "# Sepal.Length 기준으로 정렬후 동일한 크기를 가진 데이터 발생시 Petal.Length 기준으로 오름차순 정렬하기 \n",
    "\n",
    "head(arrange(iris, Sepal.Length,Petal.Length))"
   ]
  },
  {
   "cell_type": "code",
   "execution_count": 23,
   "metadata": {
    "vscode": {
     "languageId": "r"
    }
   },
   "outputs": [
    {
     "data": {
      "text/html": [
       "<table class=\"dataframe\">\n",
       "<caption>A data.frame: 6 x 5</caption>\n",
       "<thead>\n",
       "\t<tr><th></th><th scope=col>Sepal.Length</th><th scope=col>Sepal.Width</th><th scope=col>Petal.Length</th><th scope=col>Petal.Width</th><th scope=col>Species</th></tr>\n",
       "\t<tr><th></th><th scope=col>&lt;dbl&gt;</th><th scope=col>&lt;dbl&gt;</th><th scope=col>&lt;dbl&gt;</th><th scope=col>&lt;dbl&gt;</th><th scope=col>&lt;fct&gt;</th></tr>\n",
       "</thead>\n",
       "<tbody>\n",
       "\t<tr><th scope=row>1</th><td>7.9</td><td>3.8</td><td>6.4</td><td>2.0</td><td>virginica</td></tr>\n",
       "\t<tr><th scope=row>2</th><td>7.7</td><td>3.8</td><td>6.7</td><td>2.2</td><td>virginica</td></tr>\n",
       "\t<tr><th scope=row>3</th><td>7.7</td><td>2.6</td><td>6.9</td><td>2.3</td><td>virginica</td></tr>\n",
       "\t<tr><th scope=row>4</th><td>7.7</td><td>2.8</td><td>6.7</td><td>2.0</td><td>virginica</td></tr>\n",
       "\t<tr><th scope=row>5</th><td>7.7</td><td>3.0</td><td>6.1</td><td>2.3</td><td>virginica</td></tr>\n",
       "\t<tr><th scope=row>6</th><td>7.6</td><td>3.0</td><td>6.6</td><td>2.1</td><td>virginica</td></tr>\n",
       "</tbody>\n",
       "</table>\n"
      ],
      "text/latex": [
       "A data.frame: 6 x 5\n",
       "\\begin{tabular}{r|lllll}\n",
       "  & Sepal.Length & Sepal.Width & Petal.Length & Petal.Width & Species\\\\\n",
       "  & <dbl> & <dbl> & <dbl> & <dbl> & <fct>\\\\\n",
       "\\hline\n",
       "\t1 & 7.9 & 3.8 & 6.4 & 2.0 & virginica\\\\\n",
       "\t2 & 7.7 & 3.8 & 6.7 & 2.2 & virginica\\\\\n",
       "\t3 & 7.7 & 2.6 & 6.9 & 2.3 & virginica\\\\\n",
       "\t4 & 7.7 & 2.8 & 6.7 & 2.0 & virginica\\\\\n",
       "\t5 & 7.7 & 3.0 & 6.1 & 2.3 & virginica\\\\\n",
       "\t6 & 7.6 & 3.0 & 6.6 & 2.1 & virginica\\\\\n",
       "\\end{tabular}\n"
      ],
      "text/markdown": [
       "\n",
       "A data.frame: 6 x 5\n",
       "\n",
       "| <!--/--> | Sepal.Length &lt;dbl&gt; | Sepal.Width &lt;dbl&gt; | Petal.Length &lt;dbl&gt; | Petal.Width &lt;dbl&gt; | Species &lt;fct&gt; |\n",
       "|---|---|---|---|---|---|\n",
       "| 1 | 7.9 | 3.8 | 6.4 | 2.0 | virginica |\n",
       "| 2 | 7.7 | 3.8 | 6.7 | 2.2 | virginica |\n",
       "| 3 | 7.7 | 2.6 | 6.9 | 2.3 | virginica |\n",
       "| 4 | 7.7 | 2.8 | 6.7 | 2.0 | virginica |\n",
       "| 5 | 7.7 | 3.0 | 6.1 | 2.3 | virginica |\n",
       "| 6 | 7.6 | 3.0 | 6.6 | 2.1 | virginica |\n",
       "\n"
      ],
      "text/plain": [
       "  Sepal.Length Sepal.Width Petal.Length Petal.Width Species  \n",
       "1 7.9          3.8         6.4          2.0         virginica\n",
       "2 7.7          3.8         6.7          2.2         virginica\n",
       "3 7.7          2.6         6.9          2.3         virginica\n",
       "4 7.7          2.8         6.7          2.0         virginica\n",
       "5 7.7          3.0         6.1          2.3         virginica\n",
       "6 7.6          3.0         6.6          2.1         virginica"
      ]
     },
     "metadata": {},
     "output_type": "display_data"
    }
   ],
   "source": [
    "#Sepal.Length 기준으로 내림차순 정렬\n",
    "head(arrange(iris,desc(Sepal.Length)))"
   ]
  },
  {
   "cell_type": "code",
   "execution_count": 24,
   "metadata": {
    "vscode": {
     "languageId": "r"
    }
   },
   "outputs": [
    {
     "data": {
      "text/html": [
       "2"
      ],
      "text/latex": [
       "2"
      ],
      "text/markdown": [
       "2"
      ],
      "text/plain": [
       "[1] 2"
      ]
     },
     "metadata": {},
     "output_type": "display_data"
    }
   ],
   "source": [
    "# Sampling(중복값을 허용하지 않음)\n",
    "a<- c(1,1,1,2)\n",
    "sample(unique(a),1)\n",
    "# 검증 test, 학습 할때의 데이터와 검증할때의 데이터가 달라야 할때 샘플링을 사용한다. 시험결과가 예측력이다. #\n"
   ]
  },
  {
   "cell_type": "code",
   "execution_count": 25,
   "metadata": {
    "vscode": {
     "languageId": "r"
    }
   },
   "outputs": [
    {
     "data": {
      "text/html": [
       "150"
      ],
      "text/latex": [
       "150"
      ],
      "text/markdown": [
       "150"
      ],
      "text/plain": [
       "[1] 150"
      ]
     },
     "metadata": {},
     "output_type": "display_data"
    },
    {
     "data": {
      "text/html": [
       "<style>\n",
       ".list-inline {list-style: none; margin:0; padding: 0}\n",
       ".list-inline>li {display: inline-block}\n",
       ".list-inline>li:not(:last-child)::after {content: \"\\00b7\"; padding: 0 .5ex}\n",
       "</style>\n",
       "<ol class=list-inline><li>64</li><li>146</li><li>65</li><li>101</li><li>24</li><li>8</li><li>48</li><li>7</li><li>18</li><li>16</li><li>58</li><li>39</li><li>94</li><li>138</li><li>137</li><li>149</li><li>82</li><li>128</li><li>148</li><li>34</li><li>46</li><li>103</li><li>115</li><li>123</li><li>68</li><li>12</li><li>110</li><li>140</li><li>66</li><li>55</li><li>145</li><li>106</li><li>117</li><li>120</li><li>119</li><li>54</li><li>43</li><li>139</li><li>14</li><li>26</li><li>6</li><li>72</li><li>32</li><li>122</li><li>114</li><li>95</li><li>116</li><li>99</li><li>41</li><li>81</li><li>87</li><li>133</li><li>19</li><li>79</li><li>15</li><li>104</li><li>74</li><li>33</li><li>129</li><li>4</li><li>88</li><li>84</li><li>75</li><li>78</li><li>53</li><li>97</li><li>131</li><li>9</li><li>102</li><li>62</li><li>126</li><li>111</li><li>21</li><li>3</li><li>141</li><li>63</li><li>69</li><li>121</li><li>130</li><li>29</li><li>93</li><li>107</li><li>76</li><li>83</li><li>59</li><li>47</li><li>49</li><li>60</li><li>44</li><li>125</li><li>89</li><li>51</li><li>143</li><li>144</li><li>96</li><li>77</li><li>56</li><li>90</li><li>50</li><li>113</li><li>38</li><li>91</li><li>108</li><li>37</li><li>71</li></ol>\n"
      ],
      "text/latex": [
       "\\begin{enumerate*}\n",
       "\\item 64\n",
       "\\item 146\n",
       "\\item 65\n",
       "\\item 101\n",
       "\\item 24\n",
       "\\item 8\n",
       "\\item 48\n",
       "\\item 7\n",
       "\\item 18\n",
       "\\item 16\n",
       "\\item 58\n",
       "\\item 39\n",
       "\\item 94\n",
       "\\item 138\n",
       "\\item 137\n",
       "\\item 149\n",
       "\\item 82\n",
       "\\item 128\n",
       "\\item 148\n",
       "\\item 34\n",
       "\\item 46\n",
       "\\item 103\n",
       "\\item 115\n",
       "\\item 123\n",
       "\\item 68\n",
       "\\item 12\n",
       "\\item 110\n",
       "\\item 140\n",
       "\\item 66\n",
       "\\item 55\n",
       "\\item 145\n",
       "\\item 106\n",
       "\\item 117\n",
       "\\item 120\n",
       "\\item 119\n",
       "\\item 54\n",
       "\\item 43\n",
       "\\item 139\n",
       "\\item 14\n",
       "\\item 26\n",
       "\\item 6\n",
       "\\item 72\n",
       "\\item 32\n",
       "\\item 122\n",
       "\\item 114\n",
       "\\item 95\n",
       "\\item 116\n",
       "\\item 99\n",
       "\\item 41\n",
       "\\item 81\n",
       "\\item 87\n",
       "\\item 133\n",
       "\\item 19\n",
       "\\item 79\n",
       "\\item 15\n",
       "\\item 104\n",
       "\\item 74\n",
       "\\item 33\n",
       "\\item 129\n",
       "\\item 4\n",
       "\\item 88\n",
       "\\item 84\n",
       "\\item 75\n",
       "\\item 78\n",
       "\\item 53\n",
       "\\item 97\n",
       "\\item 131\n",
       "\\item 9\n",
       "\\item 102\n",
       "\\item 62\n",
       "\\item 126\n",
       "\\item 111\n",
       "\\item 21\n",
       "\\item 3\n",
       "\\item 141\n",
       "\\item 63\n",
       "\\item 69\n",
       "\\item 121\n",
       "\\item 130\n",
       "\\item 29\n",
       "\\item 93\n",
       "\\item 107\n",
       "\\item 76\n",
       "\\item 83\n",
       "\\item 59\n",
       "\\item 47\n",
       "\\item 49\n",
       "\\item 60\n",
       "\\item 44\n",
       "\\item 125\n",
       "\\item 89\n",
       "\\item 51\n",
       "\\item 143\n",
       "\\item 144\n",
       "\\item 96\n",
       "\\item 77\n",
       "\\item 56\n",
       "\\item 90\n",
       "\\item 50\n",
       "\\item 113\n",
       "\\item 38\n",
       "\\item 91\n",
       "\\item 108\n",
       "\\item 37\n",
       "\\item 71\n",
       "\\end{enumerate*}\n"
      ],
      "text/markdown": [
       "1. 64\n",
       "2. 146\n",
       "3. 65\n",
       "4. 101\n",
       "5. 24\n",
       "6. 8\n",
       "7. 48\n",
       "8. 7\n",
       "9. 18\n",
       "10. 16\n",
       "11. 58\n",
       "12. 39\n",
       "13. 94\n",
       "14. 138\n",
       "15. 137\n",
       "16. 149\n",
       "17. 82\n",
       "18. 128\n",
       "19. 148\n",
       "20. 34\n",
       "21. 46\n",
       "22. 103\n",
       "23. 115\n",
       "24. 123\n",
       "25. 68\n",
       "26. 12\n",
       "27. 110\n",
       "28. 140\n",
       "29. 66\n",
       "30. 55\n",
       "31. 145\n",
       "32. 106\n",
       "33. 117\n",
       "34. 120\n",
       "35. 119\n",
       "36. 54\n",
       "37. 43\n",
       "38. 139\n",
       "39. 14\n",
       "40. 26\n",
       "41. 6\n",
       "42. 72\n",
       "43. 32\n",
       "44. 122\n",
       "45. 114\n",
       "46. 95\n",
       "47. 116\n",
       "48. 99\n",
       "49. 41\n",
       "50. 81\n",
       "51. 87\n",
       "52. 133\n",
       "53. 19\n",
       "54. 79\n",
       "55. 15\n",
       "56. 104\n",
       "57. 74\n",
       "58. 33\n",
       "59. 129\n",
       "60. 4\n",
       "61. 88\n",
       "62. 84\n",
       "63. 75\n",
       "64. 78\n",
       "65. 53\n",
       "66. 97\n",
       "67. 131\n",
       "68. 9\n",
       "69. 102\n",
       "70. 62\n",
       "71. 126\n",
       "72. 111\n",
       "73. 21\n",
       "74. 3\n",
       "75. 141\n",
       "76. 63\n",
       "77. 69\n",
       "78. 121\n",
       "79. 130\n",
       "80. 29\n",
       "81. 93\n",
       "82. 107\n",
       "83. 76\n",
       "84. 83\n",
       "85. 59\n",
       "86. 47\n",
       "87. 49\n",
       "88. 60\n",
       "89. 44\n",
       "90. 125\n",
       "91. 89\n",
       "92. 51\n",
       "93. 143\n",
       "94. 144\n",
       "95. 96\n",
       "96. 77\n",
       "97. 56\n",
       "98. 90\n",
       "99. 50\n",
       "100. 113\n",
       "101. 38\n",
       "102. 91\n",
       "103. 108\n",
       "104. 37\n",
       "105. 71\n",
       "\n",
       "\n"
      ],
      "text/plain": [
       "  [1]  64 146  65 101  24   8  48   7  18  16  58  39  94 138 137 149  82 128\n",
       " [19] 148  34  46 103 115 123  68  12 110 140  66  55 145 106 117 120 119  54\n",
       " [37]  43 139  14  26   6  72  32 122 114  95 116  99  41  81  87 133  19  79\n",
       " [55]  15 104  74  33 129   4  88  84  75  78  53  97 131   9 102  62 126 111\n",
       " [73]  21   3 141  63  69 121 130  29  93 107  76  83  59  47  49  60  44 125\n",
       " [91]  89  51 143 144  96  77  56  90  50 113  38  91 108  37  71"
      ]
     },
     "metadata": {},
     "output_type": "display_data"
    },
    {
     "data": {
      "text/html": [
       "<table class=\"dataframe\">\n",
       "<caption>A data.frame: 6 x 5</caption>\n",
       "<thead>\n",
       "\t<tr><th></th><th scope=col>Sepal.Length</th><th scope=col>Sepal.Width</th><th scope=col>Petal.Length</th><th scope=col>Petal.Width</th><th scope=col>Species</th></tr>\n",
       "\t<tr><th></th><th scope=col>&lt;dbl&gt;</th><th scope=col>&lt;dbl&gt;</th><th scope=col>&lt;dbl&gt;</th><th scope=col>&lt;dbl&gt;</th><th scope=col>&lt;fct&gt;</th></tr>\n",
       "</thead>\n",
       "<tbody>\n",
       "\t<tr><th scope=row>64</th><td>6.1</td><td>2.9</td><td>4.7</td><td>1.4</td><td>versicolor</td></tr>\n",
       "\t<tr><th scope=row>146</th><td>6.7</td><td>3.0</td><td>5.2</td><td>2.3</td><td>virginica </td></tr>\n",
       "\t<tr><th scope=row>65</th><td>5.6</td><td>2.9</td><td>3.6</td><td>1.3</td><td>versicolor</td></tr>\n",
       "\t<tr><th scope=row>101</th><td>6.3</td><td>3.3</td><td>6.0</td><td>2.5</td><td>virginica </td></tr>\n",
       "\t<tr><th scope=row>24</th><td>5.1</td><td>3.3</td><td>1.7</td><td>0.5</td><td>setosa    </td></tr>\n",
       "\t<tr><th scope=row>8</th><td>5.0</td><td>3.4</td><td>1.5</td><td>0.2</td><td>setosa    </td></tr>\n",
       "</tbody>\n",
       "</table>\n"
      ],
      "text/latex": [
       "A data.frame: 6 x 5\n",
       "\\begin{tabular}{r|lllll}\n",
       "  & Sepal.Length & Sepal.Width & Petal.Length & Petal.Width & Species\\\\\n",
       "  & <dbl> & <dbl> & <dbl> & <dbl> & <fct>\\\\\n",
       "\\hline\n",
       "\t64 & 6.1 & 2.9 & 4.7 & 1.4 & versicolor\\\\\n",
       "\t146 & 6.7 & 3.0 & 5.2 & 2.3 & virginica \\\\\n",
       "\t65 & 5.6 & 2.9 & 3.6 & 1.3 & versicolor\\\\\n",
       "\t101 & 6.3 & 3.3 & 6.0 & 2.5 & virginica \\\\\n",
       "\t24 & 5.1 & 3.3 & 1.7 & 0.5 & setosa    \\\\\n",
       "\t8 & 5.0 & 3.4 & 1.5 & 0.2 & setosa    \\\\\n",
       "\\end{tabular}\n"
      ],
      "text/markdown": [
       "\n",
       "A data.frame: 6 x 5\n",
       "\n",
       "| <!--/--> | Sepal.Length &lt;dbl&gt; | Sepal.Width &lt;dbl&gt; | Petal.Length &lt;dbl&gt; | Petal.Width &lt;dbl&gt; | Species &lt;fct&gt; |\n",
       "|---|---|---|---|---|---|\n",
       "| 64 | 6.1 | 2.9 | 4.7 | 1.4 | versicolor |\n",
       "| 146 | 6.7 | 3.0 | 5.2 | 2.3 | virginica  |\n",
       "| 65 | 5.6 | 2.9 | 3.6 | 1.3 | versicolor |\n",
       "| 101 | 6.3 | 3.3 | 6.0 | 2.5 | virginica  |\n",
       "| 24 | 5.1 | 3.3 | 1.7 | 0.5 | setosa     |\n",
       "| 8 | 5.0 | 3.4 | 1.5 | 0.2 | setosa     |\n",
       "\n"
      ],
      "text/plain": [
       "    Sepal.Length Sepal.Width Petal.Length Petal.Width Species   \n",
       "64  6.1          2.9         4.7          1.4         versicolor\n",
       "146 6.7          3.0         5.2          2.3         virginica \n",
       "65  5.6          2.9         3.6          1.3         versicolor\n",
       "101 6.3          3.3         6.0          2.5         virginica \n",
       "24  5.1          3.3         1.7          0.5         setosa    \n",
       "8   5.0          3.4         1.5          0.2         setosa    "
      ]
     },
     "metadata": {},
     "output_type": "display_data"
    }
   ],
   "source": [
    "# 범위 체크\n",
    "nrow(iris) #150\n",
    "samp<-sample(1:nrow(iris), nrow(iris)*0.7) # iris index(rownames) sampling\n",
    "irisTrain <- iris[samp,]\n",
    "samp\n",
    "head(irisTrain)"
   ]
  },
  {
   "cell_type": "code",
   "execution_count": 26,
   "metadata": {
    "vscode": {
     "languageId": "r"
    }
   },
   "outputs": [
    {
     "data": {
      "text/plain": [
       "\n",
       "    setosa versicolor  virginica \n",
       "        30         38         37 "
      ]
     },
     "metadata": {},
     "output_type": "display_data"
    }
   ],
   "source": [
    "# sampling 은 모집단의 특성을 닮아야한다\n",
    "table(irisTrain$Species)  #빈도수가 species 와 동일하지 않음 -> 공부를 많이한 종은 예측확률이 더 좋아진다. \n"
   ]
  },
  {
   "cell_type": "code",
   "execution_count": 27,
   "metadata": {
    "vscode": {
     "languageId": "r"
    }
   },
   "outputs": [
    {
     "data": {
      "text/plain": [
       "\n",
       "    setosa versicolor  virginica \n",
       "        35         35         35 "
      ]
     },
     "metadata": {},
     "output_type": "display_data"
    }
   ],
   "source": [
    "# 특성별 샘플링\n",
    "samp<- c(sample(1:50,35),sample(51:100,35),sample(101:150,35))\n",
    "irisTrain<-iris[samp,]\n",
    "table(irisTrain$Species)"
   ]
  },
  {
   "cell_type": "code",
   "execution_count": 28,
   "metadata": {
    "vscode": {
     "languageId": "r"
    }
   },
   "outputs": [
    {
     "data": {
      "text/html": [
       "105"
      ],
      "text/latex": [
       "105"
      ],
      "text/markdown": [
       "105"
      ],
      "text/plain": [
       "[1] 105"
      ]
     },
     "metadata": {},
     "output_type": "display_data"
    }
   ],
   "source": [
    "nrow(irisTrain) #105"
   ]
  },
  {
   "cell_type": "code",
   "execution_count": 29,
   "metadata": {
    "vscode": {
     "languageId": "r"
    }
   },
   "outputs": [
    {
     "data": {
      "text/html": [
       "45"
      ],
      "text/latex": [
       "45"
      ],
      "text/markdown": [
       "45"
      ],
      "text/plain": [
       "[1] 45"
      ]
     },
     "metadata": {},
     "output_type": "display_data"
    }
   ],
   "source": [
    "irisTest<-iris[-samp,] # R의 묘미 - 하면 빼고 나와준다는것!\n",
    "nrow(irisTest)"
   ]
  },
  {
   "cell_type": "code",
   "execution_count": 30,
   "metadata": {
    "vscode": {
     "languageId": "r"
    }
   },
   "outputs": [
    {
     "data": {
      "text/plain": [
       "  Sepal.Length    Sepal.Width    Petal.Length    Petal.Width          Species  \n",
       " Min.   :4.300   Min.   :2.20   Min.   :1.000   Min.   :0.100   setosa    :35  \n",
       " 1st Qu.:5.100   1st Qu.:2.80   1st Qu.:1.500   1st Qu.:0.300   versicolor:35  \n",
       " Median :5.800   Median :3.00   Median :4.300   Median :1.300   virginica :35  \n",
       " Mean   :5.831   Mean   :3.05   Mean   :3.758   Mean   :1.188                  \n",
       " 3rd Qu.:6.400   3rd Qu.:3.40   3rd Qu.:5.100   3rd Qu.:1.800                  \n",
       " Max.   :7.900   Max.   :4.20   Max.   :6.900   Max.   :2.500                  "
      ]
     },
     "metadata": {},
     "output_type": "display_data"
    },
    {
     "data": {
      "text/plain": [
       "  Sepal.Length    Sepal.Width     Petal.Length    Petal.Width   \n",
       " Min.   :4.400   Min.   :2.000   Min.   :1.200   Min.   :0.100  \n",
       " 1st Qu.:5.100   1st Qu.:2.800   1st Qu.:1.600   1st Qu.:0.400  \n",
       " Median :5.700   Median :3.000   Median :4.400   Median :1.300  \n",
       " Mean   :5.871   Mean   :3.076   Mean   :3.758   Mean   :1.227  \n",
       " 3rd Qu.:6.600   3rd Qu.:3.300   3rd Qu.:5.100   3rd Qu.:1.900  \n",
       " Max.   :7.700   Max.   :4.400   Max.   :6.700   Max.   :2.400  \n",
       "       Species  \n",
       " setosa    :15  \n",
       " versicolor:15  \n",
       " virginica :15  \n",
       "                \n",
       "                \n",
       "                "
      ]
     },
     "metadata": {},
     "output_type": "display_data"
    }
   ],
   "source": [
    "# 데이터 개수는 맞추었는데 내용은 비슷할까?\n",
    "summary(irisTrain); summary(irisTest) # 각 칼럼의 평균이 비슷하면 내용이 비슷하다. "
   ]
  },
  {
   "cell_type": "code",
   "execution_count": 31,
   "metadata": {
    "vscode": {
     "languageId": "r"
    }
   },
   "outputs": [
    {
     "data": {
      "text/plain": [
       "  Sepal.Length    Sepal.Width     Petal.Length    Petal.Width         Species  \n",
       " Min.   :4.300   Min.   :2.200   Min.   :1.100   Min.   :0.10   setosa    :35  \n",
       " 1st Qu.:5.100   1st Qu.:2.800   1st Qu.:1.600   1st Qu.:0.30   versicolor:35  \n",
       " Median :5.800   Median :3.000   Median :4.300   Median :1.30   virginica :35  \n",
       " Mean   :5.847   Mean   :3.042   Mean   :3.749   Mean   :1.19                  \n",
       " 3rd Qu.:6.400   3rd Qu.:3.300   3rd Qu.:5.100   3rd Qu.:1.80                  \n",
       " Max.   :7.900   Max.   :4.400   Max.   :6.900   Max.   :2.50                  "
      ]
     },
     "metadata": {},
     "output_type": "display_data"
    },
    {
     "data": {
      "text/plain": [
       "  Sepal.Length    Sepal.Width     Petal.Length   Petal.Width          Species  \n",
       " Min.   :4.400   Min.   :2.000   Min.   :1.00   Min.   :0.100   setosa    :15  \n",
       " 1st Qu.:5.100   1st Qu.:2.800   1st Qu.:1.60   1st Qu.:0.300   versicolor:15  \n",
       " Median :5.800   Median :3.100   Median :4.70   Median :1.400   virginica :15  \n",
       " Mean   :5.836   Mean   :3.093   Mean   :3.78   Mean   :1.222                  \n",
       " 3rd Qu.:6.500   3rd Qu.:3.400   3rd Qu.:5.10   3rd Qu.:1.900                  \n",
       " Max.   :7.700   Max.   :4.100   Max.   :6.70   Max.   :2.500                  "
      ]
     },
     "metadata": {},
     "output_type": "display_data"
    },
    {
     "data": {
      "text/html": [
       "<table class=\"dataframe\">\n",
       "<caption>A data.frame: 6 x 5</caption>\n",
       "<thead>\n",
       "\t<tr><th></th><th scope=col>Sepal.Length</th><th scope=col>Sepal.Width</th><th scope=col>Petal.Length</th><th scope=col>Petal.Width</th><th scope=col>Species</th></tr>\n",
       "\t<tr><th></th><th scope=col>&lt;dbl&gt;</th><th scope=col>&lt;dbl&gt;</th><th scope=col>&lt;dbl&gt;</th><th scope=col>&lt;dbl&gt;</th><th scope=col>&lt;fct&gt;</th></tr>\n",
       "</thead>\n",
       "<tbody>\n",
       "\t<tr><th scope=row>28</th><td>5.2</td><td>3.5</td><td>1.5</td><td>0.2</td><td>setosa</td></tr>\n",
       "\t<tr><th scope=row>16</th><td>5.7</td><td>4.4</td><td>1.5</td><td>0.4</td><td>setosa</td></tr>\n",
       "\t<tr><th scope=row>22</th><td>5.1</td><td>3.7</td><td>1.5</td><td>0.4</td><td>setosa</td></tr>\n",
       "\t<tr><th scope=row>37</th><td>5.5</td><td>3.5</td><td>1.3</td><td>0.2</td><td>setosa</td></tr>\n",
       "\t<tr><th scope=row>44</th><td>5.0</td><td>3.5</td><td>1.6</td><td>0.6</td><td>setosa</td></tr>\n",
       "\t<tr><th scope=row>9</th><td>4.4</td><td>2.9</td><td>1.4</td><td>0.2</td><td>setosa</td></tr>\n",
       "</tbody>\n",
       "</table>\n"
      ],
      "text/latex": [
       "A data.frame: 6 x 5\n",
       "\\begin{tabular}{r|lllll}\n",
       "  & Sepal.Length & Sepal.Width & Petal.Length & Petal.Width & Species\\\\\n",
       "  & <dbl> & <dbl> & <dbl> & <dbl> & <fct>\\\\\n",
       "\\hline\n",
       "\t28 & 5.2 & 3.5 & 1.5 & 0.2 & setosa\\\\\n",
       "\t16 & 5.7 & 4.4 & 1.5 & 0.4 & setosa\\\\\n",
       "\t22 & 5.1 & 3.7 & 1.5 & 0.4 & setosa\\\\\n",
       "\t37 & 5.5 & 3.5 & 1.3 & 0.2 & setosa\\\\\n",
       "\t44 & 5.0 & 3.5 & 1.6 & 0.6 & setosa\\\\\n",
       "\t9 & 4.4 & 2.9 & 1.4 & 0.2 & setosa\\\\\n",
       "\\end{tabular}\n"
      ],
      "text/markdown": [
       "\n",
       "A data.frame: 6 x 5\n",
       "\n",
       "| <!--/--> | Sepal.Length &lt;dbl&gt; | Sepal.Width &lt;dbl&gt; | Petal.Length &lt;dbl&gt; | Petal.Width &lt;dbl&gt; | Species &lt;fct&gt; |\n",
       "|---|---|---|---|---|---|\n",
       "| 28 | 5.2 | 3.5 | 1.5 | 0.2 | setosa |\n",
       "| 16 | 5.7 | 4.4 | 1.5 | 0.4 | setosa |\n",
       "| 22 | 5.1 | 3.7 | 1.5 | 0.4 | setosa |\n",
       "| 37 | 5.5 | 3.5 | 1.3 | 0.2 | setosa |\n",
       "| 44 | 5.0 | 3.5 | 1.6 | 0.6 | setosa |\n",
       "| 9 | 4.4 | 2.9 | 1.4 | 0.2 | setosa |\n",
       "\n"
      ],
      "text/plain": [
       "   Sepal.Length Sepal.Width Petal.Length Petal.Width Species\n",
       "28 5.2          3.5         1.5          0.2         setosa \n",
       "16 5.7          4.4         1.5          0.4         setosa \n",
       "22 5.1          3.7         1.5          0.4         setosa \n",
       "37 5.5          3.5         1.3          0.2         setosa \n",
       "44 5.0          3.5         1.6          0.6         setosa \n",
       "9  4.4          2.9         1.4          0.2         setosa "
      ]
     },
     "metadata": {},
     "output_type": "display_data"
    }
   ],
   "source": [
    "set.seed(1234)\n",
    "samp <- c(sample(1:50,35),sample(51:100,35),sample(101:150,35))\n",
    "irisTrain <- iris[samp,]\n",
    "irisTest <- iris[-samp,]\n",
    "summary(irisTrain); summary(irisTest)\n",
    "head(irisTrain)\n"
   ]
  },
  {
   "cell_type": "code",
   "execution_count": 32,
   "metadata": {
    "vscode": {
     "languageId": "r"
    }
   },
   "outputs": [
    {
     "name": "stdout",
     "output_type": "stream",
     "text": [
      "'data.frame':\t50 obs. of  5 variables:\n",
      " $ Sepal.Length: num  5.1 4.9 4.7 4.6 5 5.4 4.6 5 4.4 4.9 ...\n",
      " $ Sepal.Width : num  3.5 3 3.2 3.1 3.6 3.9 3.4 3.4 2.9 3.1 ...\n",
      " $ Petal.Length: num  1.4 1.4 1.3 1.5 1.4 1.7 1.4 1.5 1.4 1.5 ...\n",
      " $ Petal.Width : num  0.2 0.2 0.2 0.2 0.2 0.4 0.3 0.2 0.2 0.1 ...\n",
      " $ Species     : Factor w/ 3 levels \"setosa\",\"versicolor\",..: 1 1 1 1 1 1 1 1 1 1 ...\n",
      "'data.frame':\t50 obs. of  5 variables:\n",
      " $ Sepal.Length: num  5.1 4.9 4.7 4.6 5 5.4 4.6 5 4.4 4.9 ...\n",
      " $ Sepal.Width : num  3.5 3 3.2 3.1 3.6 3.9 3.4 3.4 2.9 3.1 ...\n",
      " $ Petal.Length: num  1.4 1.4 1.3 1.5 1.4 1.7 1.4 1.5 1.4 1.5 ...\n",
      " $ Petal.Width : num  0.2 0.2 0.2 0.2 0.2 0.4 0.3 0.2 0.2 0.1 ...\n",
      " $ Species     : Factor w/ 1 level \"setosa\": 1 1 1 1 1 1 1 1 1 1 ...\n"
     ]
    }
   ],
   "source": [
    "# 모집단에서 필요한 데이터만 추출하기 -> subset 으로 추출\n",
    "\n",
    "#iris에서 Species 가 setosa 인것만 추출하여 iris_setosa라는 데이터 프레임 만들기\n",
    "\n",
    "iris_setosa<- subset(iris, Species == 'setosa')\n",
    "str(iris_setosa) # factor 가 정리가 안되어있음  나중에 히스토그램 만들때 빈칸이 보이게 됨\n",
    "# factor 조정 \n",
    "iris_setosa$Species <-factor(iris_setosa$Species); \n",
    "str(iris_setosa)\n"
   ]
  },
  {
   "cell_type": "code",
   "execution_count": 33,
   "metadata": {
    "vscode": {
     "languageId": "r"
    }
   },
   "outputs": [
    {
     "name": "stdout",
     "output_type": "stream",
     "text": [
      "'data.frame':\t50 obs. of  5 variables:\n",
      " $ Sepal.Length: num  7 6.4 6.9 5.5 6.5 5.7 6.3 4.9 6.6 5.2 ...\n",
      " $ Sepal.Width : num  3.2 3.2 3.1 2.3 2.8 2.8 3.3 2.4 2.9 2.7 ...\n",
      " $ Petal.Length: num  4.7 4.5 4.9 4 4.6 4.5 4.7 3.3 4.6 3.9 ...\n",
      " $ Petal.Width : num  1.4 1.5 1.5 1.3 1.5 1.3 1.6 1 1.3 1.4 ...\n",
      " $ Species     : Factor w/ 3 levels \"setosa\",\"versicolor\",..: 2 2 2 2 2 2 2 2 2 2 ...\n"
     ]
    },
    {
     "data": {
      "text/html": [
       "<table class=\"dataframe\">\n",
       "<caption>A data.frame: 6 x 5</caption>\n",
       "<thead>\n",
       "\t<tr><th></th><th scope=col>Sepal.Length</th><th scope=col>Sepal.Width</th><th scope=col>Petal.Length</th><th scope=col>Petal.Width</th><th scope=col>Species</th></tr>\n",
       "\t<tr><th></th><th scope=col>&lt;dbl&gt;</th><th scope=col>&lt;dbl&gt;</th><th scope=col>&lt;dbl&gt;</th><th scope=col>&lt;dbl&gt;</th><th scope=col>&lt;fct&gt;</th></tr>\n",
       "</thead>\n",
       "<tbody>\n",
       "\t<tr><th scope=row>1</th><td>7.0</td><td>3.2</td><td>4.7</td><td>1.4</td><td>versicolor</td></tr>\n",
       "\t<tr><th scope=row>2</th><td>6.4</td><td>3.2</td><td>4.5</td><td>1.5</td><td>versicolor</td></tr>\n",
       "\t<tr><th scope=row>3</th><td>6.9</td><td>3.1</td><td>4.9</td><td>1.5</td><td>versicolor</td></tr>\n",
       "\t<tr><th scope=row>4</th><td>5.5</td><td>2.3</td><td>4.0</td><td>1.3</td><td>versicolor</td></tr>\n",
       "\t<tr><th scope=row>5</th><td>6.5</td><td>2.8</td><td>4.6</td><td>1.5</td><td>versicolor</td></tr>\n",
       "\t<tr><th scope=row>6</th><td>5.7</td><td>2.8</td><td>4.5</td><td>1.3</td><td>versicolor</td></tr>\n",
       "</tbody>\n",
       "</table>\n"
      ],
      "text/latex": [
       "A data.frame: 6 x 5\n",
       "\\begin{tabular}{r|lllll}\n",
       "  & Sepal.Length & Sepal.Width & Petal.Length & Petal.Width & Species\\\\\n",
       "  & <dbl> & <dbl> & <dbl> & <dbl> & <fct>\\\\\n",
       "\\hline\n",
       "\t1 & 7.0 & 3.2 & 4.7 & 1.4 & versicolor\\\\\n",
       "\t2 & 6.4 & 3.2 & 4.5 & 1.5 & versicolor\\\\\n",
       "\t3 & 6.9 & 3.1 & 4.9 & 1.5 & versicolor\\\\\n",
       "\t4 & 5.5 & 2.3 & 4.0 & 1.3 & versicolor\\\\\n",
       "\t5 & 6.5 & 2.8 & 4.6 & 1.5 & versicolor\\\\\n",
       "\t6 & 5.7 & 2.8 & 4.5 & 1.3 & versicolor\\\\\n",
       "\\end{tabular}\n"
      ],
      "text/markdown": [
       "\n",
       "A data.frame: 6 x 5\n",
       "\n",
       "| <!--/--> | Sepal.Length &lt;dbl&gt; | Sepal.Width &lt;dbl&gt; | Petal.Length &lt;dbl&gt; | Petal.Width &lt;dbl&gt; | Species &lt;fct&gt; |\n",
       "|---|---|---|---|---|---|\n",
       "| 1 | 7.0 | 3.2 | 4.7 | 1.4 | versicolor |\n",
       "| 2 | 6.4 | 3.2 | 4.5 | 1.5 | versicolor |\n",
       "| 3 | 6.9 | 3.1 | 4.9 | 1.5 | versicolor |\n",
       "| 4 | 5.5 | 2.3 | 4.0 | 1.3 | versicolor |\n",
       "| 5 | 6.5 | 2.8 | 4.6 | 1.5 | versicolor |\n",
       "| 6 | 5.7 | 2.8 | 4.5 | 1.3 | versicolor |\n",
       "\n"
      ],
      "text/plain": [
       "  Sepal.Length Sepal.Width Petal.Length Petal.Width Species   \n",
       "1 7.0          3.2         4.7          1.4         versicolor\n",
       "2 6.4          3.2         4.5          1.5         versicolor\n",
       "3 6.9          3.1         4.9          1.5         versicolor\n",
       "4 5.5          2.3         4.0          1.3         versicolor\n",
       "5 6.5          2.8         4.6          1.5         versicolor\n",
       "6 5.7          2.8         4.5          1.3         versicolor"
      ]
     },
     "metadata": {},
     "output_type": "display_data"
    },
    {
     "name": "stdout",
     "output_type": "stream",
     "text": [
      "'data.frame':\t50 obs. of  6 variables:\n",
      " $ Sepal.Length: num  7 6.4 6.9 5.5 6.5 5.7 6.3 4.9 6.6 5.2 ...\n",
      " $ Sepal.Width : num  3.2 3.2 3.1 2.3 2.8 2.8 3.3 2.4 2.9 2.7 ...\n",
      " $ Petal.Length: num  4.7 4.5 4.9 4 4.6 4.5 4.7 3.3 4.6 3.9 ...\n",
      " $ Petal.Width : num  1.4 1.5 1.5 1.3 1.5 1.3 1.6 1 1.3 1.4 ...\n",
      " $ Species     : Factor w/ 3 levels \"setosa\",\"versicolor\",..: 2 2 2 2 2 2 2 2 2 2 ...\n",
      " $ Speicies    : Factor w/ 1 level \"versicolor\": 1 1 1 1 1 1 1 1 1 1 ...\n"
     ]
    }
   ],
   "source": [
    "# iris 에서 Species가 versicolor인 것 만 추출하여 iris_versicolor라는 데이터 프레임 만들기\n",
    "iris_versicolor<-subset(iris, Species == \"versicolor\")\n",
    "\n",
    "# iris versicolor structure 구경\n",
    "str(iris_versicolor)\n",
    "\n",
    "# subset 으로 뽑으면 항상 rowname 을 초기화 시켜야한다. \n",
    "rownames(iris_versicolor) <- c(1:nrow(iris_versicolor)) # c() 로 해도 됨.(but 반복시 에러남)\n",
    "head(iris_versicolor)\n",
    "\n",
    "iris_versicolor$Speicies <-factor(iris_versicolor$Species) # type 을 바꿀때는 as.factor 로 리펙터링을 해준다. \n",
    "str(iris_versicolor)\n"
   ]
  },
  {
   "cell_type": "code",
   "execution_count": 34,
   "metadata": {
    "vscode": {
     "languageId": "r"
    }
   },
   "outputs": [
    {
     "data": {
      "text/html": [
       "<table class=\"dataframe\">\n",
       "<caption>A data.frame: 22 x 5</caption>\n",
       "<thead>\n",
       "\t<tr><th scope=col>Sepal.Length</th><th scope=col>Sepal.Width</th><th scope=col>Petal.Length</th><th scope=col>Petal.Width</th><th scope=col>Species</th></tr>\n",
       "\t<tr><th scope=col>&lt;dbl&gt;</th><th scope=col>&lt;dbl&gt;</th><th scope=col>&lt;dbl&gt;</th><th scope=col>&lt;dbl&gt;</th><th scope=col>&lt;fct&gt;</th></tr>\n",
       "</thead>\n",
       "<tbody>\n",
       "\t<tr><td>5.1</td><td>3.5</td><td>1.4</td><td>0.2</td><td>setosa</td></tr>\n",
       "\t<tr><td>5.1</td><td>3.5</td><td>1.4</td><td>0.3</td><td>setosa</td></tr>\n",
       "\t<tr><td>5.1</td><td>3.8</td><td>1.5</td><td>0.3</td><td>setosa</td></tr>\n",
       "\t<tr><td>5.1</td><td>3.7</td><td>1.5</td><td>0.4</td><td>setosa</td></tr>\n",
       "\t<tr><td>5.1</td><td>3.4</td><td>1.5</td><td>0.2</td><td>setosa</td></tr>\n",
       "\t<tr><td>5.1</td><td>3.8</td><td>1.6</td><td>0.2</td><td>setosa</td></tr>\n",
       "\t<tr><td>5.1</td><td>3.3</td><td>1.7</td><td>0.5</td><td>setosa</td></tr>\n",
       "\t<tr><td>5.1</td><td>3.8</td><td>1.9</td><td>0.4</td><td>setosa</td></tr>\n",
       "\t<tr><td>5.2</td><td>3.4</td><td>1.4</td><td>0.2</td><td>setosa</td></tr>\n",
       "\t<tr><td>5.2</td><td>3.5</td><td>1.5</td><td>0.2</td><td>setosa</td></tr>\n",
       "\t<tr><td>5.2</td><td>4.1</td><td>1.5</td><td>0.1</td><td>setosa</td></tr>\n",
       "\t<tr><td>5.3</td><td>3.7</td><td>1.5</td><td>0.2</td><td>setosa</td></tr>\n",
       "\t<tr><td>5.4</td><td>3.9</td><td>1.3</td><td>0.4</td><td>setosa</td></tr>\n",
       "\t<tr><td>5.4</td><td>3.7</td><td>1.5</td><td>0.2</td><td>setosa</td></tr>\n",
       "\t<tr><td>5.4</td><td>3.4</td><td>1.5</td><td>0.4</td><td>setosa</td></tr>\n",
       "\t<tr><td>5.4</td><td>3.9</td><td>1.7</td><td>0.4</td><td>setosa</td></tr>\n",
       "\t<tr><td>5.4</td><td>3.4</td><td>1.7</td><td>0.2</td><td>setosa</td></tr>\n",
       "\t<tr><td>5.5</td><td>3.5</td><td>1.3</td><td>0.2</td><td>setosa</td></tr>\n",
       "\t<tr><td>5.5</td><td>4.2</td><td>1.4</td><td>0.2</td><td>setosa</td></tr>\n",
       "\t<tr><td>5.7</td><td>4.4</td><td>1.5</td><td>0.4</td><td>setosa</td></tr>\n",
       "\t<tr><td>5.7</td><td>3.8</td><td>1.7</td><td>0.3</td><td>setosa</td></tr>\n",
       "\t<tr><td>5.8</td><td>4.0</td><td>1.2</td><td>0.2</td><td>setosa</td></tr>\n",
       "</tbody>\n",
       "</table>\n"
      ],
      "text/latex": [
       "A data.frame: 22 x 5\n",
       "\\begin{tabular}{lllll}\n",
       " Sepal.Length & Sepal.Width & Petal.Length & Petal.Width & Species\\\\\n",
       " <dbl> & <dbl> & <dbl> & <dbl> & <fct>\\\\\n",
       "\\hline\n",
       "\t 5.1 & 3.5 & 1.4 & 0.2 & setosa\\\\\n",
       "\t 5.1 & 3.5 & 1.4 & 0.3 & setosa\\\\\n",
       "\t 5.1 & 3.8 & 1.5 & 0.3 & setosa\\\\\n",
       "\t 5.1 & 3.7 & 1.5 & 0.4 & setosa\\\\\n",
       "\t 5.1 & 3.4 & 1.5 & 0.2 & setosa\\\\\n",
       "\t 5.1 & 3.8 & 1.6 & 0.2 & setosa\\\\\n",
       "\t 5.1 & 3.3 & 1.7 & 0.5 & setosa\\\\\n",
       "\t 5.1 & 3.8 & 1.9 & 0.4 & setosa\\\\\n",
       "\t 5.2 & 3.4 & 1.4 & 0.2 & setosa\\\\\n",
       "\t 5.2 & 3.5 & 1.5 & 0.2 & setosa\\\\\n",
       "\t 5.2 & 4.1 & 1.5 & 0.1 & setosa\\\\\n",
       "\t 5.3 & 3.7 & 1.5 & 0.2 & setosa\\\\\n",
       "\t 5.4 & 3.9 & 1.3 & 0.4 & setosa\\\\\n",
       "\t 5.4 & 3.7 & 1.5 & 0.2 & setosa\\\\\n",
       "\t 5.4 & 3.4 & 1.5 & 0.4 & setosa\\\\\n",
       "\t 5.4 & 3.9 & 1.7 & 0.4 & setosa\\\\\n",
       "\t 5.4 & 3.4 & 1.7 & 0.2 & setosa\\\\\n",
       "\t 5.5 & 3.5 & 1.3 & 0.2 & setosa\\\\\n",
       "\t 5.5 & 4.2 & 1.4 & 0.2 & setosa\\\\\n",
       "\t 5.7 & 4.4 & 1.5 & 0.4 & setosa\\\\\n",
       "\t 5.7 & 3.8 & 1.7 & 0.3 & setosa\\\\\n",
       "\t 5.8 & 4.0 & 1.2 & 0.2 & setosa\\\\\n",
       "\\end{tabular}\n"
      ],
      "text/markdown": [
       "\n",
       "A data.frame: 22 x 5\n",
       "\n",
       "| Sepal.Length &lt;dbl&gt; | Sepal.Width &lt;dbl&gt; | Petal.Length &lt;dbl&gt; | Petal.Width &lt;dbl&gt; | Species &lt;fct&gt; |\n",
       "|---|---|---|---|---|\n",
       "| 5.1 | 3.5 | 1.4 | 0.2 | setosa |\n",
       "| 5.1 | 3.5 | 1.4 | 0.3 | setosa |\n",
       "| 5.1 | 3.8 | 1.5 | 0.3 | setosa |\n",
       "| 5.1 | 3.7 | 1.5 | 0.4 | setosa |\n",
       "| 5.1 | 3.4 | 1.5 | 0.2 | setosa |\n",
       "| 5.1 | 3.8 | 1.6 | 0.2 | setosa |\n",
       "| 5.1 | 3.3 | 1.7 | 0.5 | setosa |\n",
       "| 5.1 | 3.8 | 1.9 | 0.4 | setosa |\n",
       "| 5.2 | 3.4 | 1.4 | 0.2 | setosa |\n",
       "| 5.2 | 3.5 | 1.5 | 0.2 | setosa |\n",
       "| 5.2 | 4.1 | 1.5 | 0.1 | setosa |\n",
       "| 5.3 | 3.7 | 1.5 | 0.2 | setosa |\n",
       "| 5.4 | 3.9 | 1.3 | 0.4 | setosa |\n",
       "| 5.4 | 3.7 | 1.5 | 0.2 | setosa |\n",
       "| 5.4 | 3.4 | 1.5 | 0.4 | setosa |\n",
       "| 5.4 | 3.9 | 1.7 | 0.4 | setosa |\n",
       "| 5.4 | 3.4 | 1.7 | 0.2 | setosa |\n",
       "| 5.5 | 3.5 | 1.3 | 0.2 | setosa |\n",
       "| 5.5 | 4.2 | 1.4 | 0.2 | setosa |\n",
       "| 5.7 | 4.4 | 1.5 | 0.4 | setosa |\n",
       "| 5.7 | 3.8 | 1.7 | 0.3 | setosa |\n",
       "| 5.8 | 4.0 | 1.2 | 0.2 | setosa |\n",
       "\n"
      ],
      "text/plain": [
       "   Sepal.Length Sepal.Width Petal.Length Petal.Width Species\n",
       "1  5.1          3.5         1.4          0.2         setosa \n",
       "2  5.1          3.5         1.4          0.3         setosa \n",
       "3  5.1          3.8         1.5          0.3         setosa \n",
       "4  5.1          3.7         1.5          0.4         setosa \n",
       "5  5.1          3.4         1.5          0.2         setosa \n",
       "6  5.1          3.8         1.6          0.2         setosa \n",
       "7  5.1          3.3         1.7          0.5         setosa \n",
       "8  5.1          3.8         1.9          0.4         setosa \n",
       "9  5.2          3.4         1.4          0.2         setosa \n",
       "10 5.2          3.5         1.5          0.2         setosa \n",
       "11 5.2          4.1         1.5          0.1         setosa \n",
       "12 5.3          3.7         1.5          0.2         setosa \n",
       "13 5.4          3.9         1.3          0.4         setosa \n",
       "14 5.4          3.7         1.5          0.2         setosa \n",
       "15 5.4          3.4         1.5          0.4         setosa \n",
       "16 5.4          3.9         1.7          0.4         setosa \n",
       "17 5.4          3.4         1.7          0.2         setosa \n",
       "18 5.5          3.5         1.3          0.2         setosa \n",
       "19 5.5          4.2         1.4          0.2         setosa \n",
       "20 5.7          4.4         1.5          0.4         setosa \n",
       "21 5.7          3.8         1.7          0.3         setosa \n",
       "22 5.8          4.0         1.2          0.2         setosa "
      ]
     },
     "metadata": {},
     "output_type": "display_data"
    },
    {
     "data": {
      "text/html": [
       "<table class=\"dataframe\">\n",
       "<caption>A data.frame: 6 x 5</caption>\n",
       "<thead>\n",
       "\t<tr><th></th><th scope=col>Sepal.Length</th><th scope=col>Sepal.Width</th><th scope=col>Petal.Length</th><th scope=col>Petal.Width</th><th scope=col>Species</th></tr>\n",
       "\t<tr><th></th><th scope=col>&lt;dbl&gt;</th><th scope=col>&lt;dbl&gt;</th><th scope=col>&lt;dbl&gt;</th><th scope=col>&lt;dbl&gt;</th><th scope=col>&lt;fct&gt;</th></tr>\n",
       "</thead>\n",
       "<tbody>\n",
       "\t<tr><th scope=row>1</th><td>5.1</td><td>3.5</td><td>1.4</td><td>0.2</td><td>setosa</td></tr>\n",
       "\t<tr><th scope=row>2</th><td>5.4</td><td>3.9</td><td>1.7</td><td>0.4</td><td>setosa</td></tr>\n",
       "\t<tr><th scope=row>3</th><td>5.4</td><td>3.7</td><td>1.5</td><td>0.2</td><td>setosa</td></tr>\n",
       "\t<tr><th scope=row>4</th><td>5.8</td><td>4.0</td><td>1.2</td><td>0.2</td><td>setosa</td></tr>\n",
       "\t<tr><th scope=row>5</th><td>5.7</td><td>4.4</td><td>1.5</td><td>0.4</td><td>setosa</td></tr>\n",
       "\t<tr><th scope=row>6</th><td>5.4</td><td>3.9</td><td>1.3</td><td>0.4</td><td>setosa</td></tr>\n",
       "</tbody>\n",
       "</table>\n"
      ],
      "text/latex": [
       "A data.frame: 6 x 5\n",
       "\\begin{tabular}{r|lllll}\n",
       "  & Sepal.Length & Sepal.Width & Petal.Length & Petal.Width & Species\\\\\n",
       "  & <dbl> & <dbl> & <dbl> & <dbl> & <fct>\\\\\n",
       "\\hline\n",
       "\t1 & 5.1 & 3.5 & 1.4 & 0.2 & setosa\\\\\n",
       "\t2 & 5.4 & 3.9 & 1.7 & 0.4 & setosa\\\\\n",
       "\t3 & 5.4 & 3.7 & 1.5 & 0.2 & setosa\\\\\n",
       "\t4 & 5.8 & 4.0 & 1.2 & 0.2 & setosa\\\\\n",
       "\t5 & 5.7 & 4.4 & 1.5 & 0.4 & setosa\\\\\n",
       "\t6 & 5.4 & 3.9 & 1.3 & 0.4 & setosa\\\\\n",
       "\\end{tabular}\n"
      ],
      "text/markdown": [
       "\n",
       "A data.frame: 6 x 5\n",
       "\n",
       "| <!--/--> | Sepal.Length &lt;dbl&gt; | Sepal.Width &lt;dbl&gt; | Petal.Length &lt;dbl&gt; | Petal.Width &lt;dbl&gt; | Species &lt;fct&gt; |\n",
       "|---|---|---|---|---|---|\n",
       "| 1 | 5.1 | 3.5 | 1.4 | 0.2 | setosa |\n",
       "| 2 | 5.4 | 3.9 | 1.7 | 0.4 | setosa |\n",
       "| 3 | 5.4 | 3.7 | 1.5 | 0.2 | setosa |\n",
       "| 4 | 5.8 | 4.0 | 1.2 | 0.2 | setosa |\n",
       "| 5 | 5.7 | 4.4 | 1.5 | 0.4 | setosa |\n",
       "| 6 | 5.4 | 3.9 | 1.3 | 0.4 | setosa |\n",
       "\n"
      ],
      "text/plain": [
       "  Sepal.Length Sepal.Width Petal.Length Petal.Width Species\n",
       "1 5.1          3.5         1.4          0.2         setosa \n",
       "2 5.4          3.9         1.7          0.4         setosa \n",
       "3 5.4          3.7         1.5          0.2         setosa \n",
       "4 5.8          4.0         1.2          0.2         setosa \n",
       "5 5.7          4.4         1.5          0.4         setosa \n",
       "6 5.4          3.9         1.3          0.4         setosa "
      ]
     },
     "metadata": {},
     "output_type": "display_data"
    },
    {
     "name": "stdout",
     "output_type": "stream",
     "text": [
      "'data.frame':\t22 obs. of  5 variables:\n",
      " $ Sepal.Length: num  5.1 5.4 5.4 5.8 5.7 5.4 5.1 5.7 5.1 5.4 ...\n",
      " $ Sepal.Width : num  3.5 3.9 3.7 4 4.4 3.9 3.5 3.8 3.8 3.4 ...\n",
      " $ Petal.Length: num  1.4 1.7 1.5 1.2 1.5 1.3 1.4 1.7 1.5 1.7 ...\n",
      " $ Petal.Width : num  0.2 0.4 0.2 0.2 0.4 0.4 0.3 0.3 0.3 0.2 ...\n",
      " $ Species     : Factor w/ 1 level \"setosa\": 1 1 1 1 1 1 1 1 1 1 ...\n"
     ]
    }
   ],
   "source": [
    "# iris 에서 species가 setosa 이고 Sepal.Lenght 가 5 보다 큰 자료만 추출하기 \n",
    "iris_setosaLt5<- subset(iris, Species == \"setosa\" & Sepal.Length>5)\n",
    "rownames(iris_setosaLt5)<-c(1:nrow(iris_setosaLt5))\n",
    "\n",
    "#Sepal Length , Petal Length 크기순 정렬\n",
    "arrange(iris_setosaLt5, Sepal.Length,Petal.Length)\n",
    "head(iris_setosaLt5); \n",
    "\n",
    "# refactoring\n",
    "iris_setosaLt5$Species <- factor(iris_setosaLt5$Species)\n",
    "str(iris_setosaLt5)\n"
   ]
  },
  {
   "cell_type": "code",
   "execution_count": 35,
   "metadata": {
    "vscode": {
     "languageId": "r"
    }
   },
   "outputs": [
    {
     "data": {
      "text/html": [
       "<table class=\"dataframe\">\n",
       "<caption>A data.frame: 6 x 4</caption>\n",
       "<thead>\n",
       "\t<tr><th></th><th scope=col>Sepal.Length</th><th scope=col>Sepal.Width</th><th scope=col>Petal.Length</th><th scope=col>Petal.Width</th></tr>\n",
       "\t<tr><th></th><th scope=col>&lt;dbl&gt;</th><th scope=col>&lt;dbl&gt;</th><th scope=col>&lt;dbl&gt;</th><th scope=col>&lt;dbl&gt;</th></tr>\n",
       "</thead>\n",
       "<tbody>\n",
       "\t<tr><th scope=row>1</th><td>5.1</td><td>3.5</td><td>1.4</td><td>0.2</td></tr>\n",
       "\t<tr><th scope=row>2</th><td>4.9</td><td>3.0</td><td>1.4</td><td>0.2</td></tr>\n",
       "\t<tr><th scope=row>3</th><td>4.7</td><td>3.2</td><td>1.3</td><td>0.2</td></tr>\n",
       "\t<tr><th scope=row>4</th><td>4.6</td><td>3.1</td><td>1.5</td><td>0.2</td></tr>\n",
       "\t<tr><th scope=row>5</th><td>5.0</td><td>3.6</td><td>1.4</td><td>0.2</td></tr>\n",
       "\t<tr><th scope=row>6</th><td>5.4</td><td>3.9</td><td>1.7</td><td>0.4</td></tr>\n",
       "</tbody>\n",
       "</table>\n"
      ],
      "text/latex": [
       "A data.frame: 6 x 4\n",
       "\\begin{tabular}{r|llll}\n",
       "  & Sepal.Length & Sepal.Width & Petal.Length & Petal.Width\\\\\n",
       "  & <dbl> & <dbl> & <dbl> & <dbl>\\\\\n",
       "\\hline\n",
       "\t1 & 5.1 & 3.5 & 1.4 & 0.2\\\\\n",
       "\t2 & 4.9 & 3.0 & 1.4 & 0.2\\\\\n",
       "\t3 & 4.7 & 3.2 & 1.3 & 0.2\\\\\n",
       "\t4 & 4.6 & 3.1 & 1.5 & 0.2\\\\\n",
       "\t5 & 5.0 & 3.6 & 1.4 & 0.2\\\\\n",
       "\t6 & 5.4 & 3.9 & 1.7 & 0.4\\\\\n",
       "\\end{tabular}\n"
      ],
      "text/markdown": [
       "\n",
       "A data.frame: 6 x 4\n",
       "\n",
       "| <!--/--> | Sepal.Length &lt;dbl&gt; | Sepal.Width &lt;dbl&gt; | Petal.Length &lt;dbl&gt; | Petal.Width &lt;dbl&gt; |\n",
       "|---|---|---|---|---|\n",
       "| 1 | 5.1 | 3.5 | 1.4 | 0.2 |\n",
       "| 2 | 4.9 | 3.0 | 1.4 | 0.2 |\n",
       "| 3 | 4.7 | 3.2 | 1.3 | 0.2 |\n",
       "| 4 | 4.6 | 3.1 | 1.5 | 0.2 |\n",
       "| 5 | 5.0 | 3.6 | 1.4 | 0.2 |\n",
       "| 6 | 5.4 | 3.9 | 1.7 | 0.4 |\n",
       "\n"
      ],
      "text/plain": [
       "  Sepal.Length Sepal.Width Petal.Length Petal.Width\n",
       "1 5.1          3.5         1.4          0.2        \n",
       "2 4.9          3.0         1.4          0.2        \n",
       "3 4.7          3.2         1.3          0.2        \n",
       "4 4.6          3.1         1.5          0.2        \n",
       "5 5.0          3.6         1.4          0.2        \n",
       "6 5.4          3.9         1.7          0.4        "
      ]
     },
     "metadata": {},
     "output_type": "display_data"
    }
   ],
   "source": [
    "# subset으로 컬럼 지우기\n",
    "head(subset(iris, select= -Species))"
   ]
  },
  {
   "cell_type": "markdown",
   "metadata": {},
   "source": [
    "# 그룹연산 함수\n"
   ]
  },
  {
   "cell_type": "code",
   "execution_count": 36,
   "metadata": {
    "vscode": {
     "languageId": "r"
    }
   },
   "outputs": [
    {
     "data": {
      "text/plain": [
       "  Sepal.Length    Sepal.Width     Petal.Length    Petal.Width   \n",
       " Min.   :4.300   Min.   :2.000   Min.   :1.000   Min.   :0.100  \n",
       " 1st Qu.:5.100   1st Qu.:2.800   1st Qu.:1.600   1st Qu.:0.300  \n",
       " Median :5.800   Median :3.000   Median :4.350   Median :1.300  \n",
       " Mean   :5.843   Mean   :3.057   Mean   :3.758   Mean   :1.199  \n",
       " 3rd Qu.:6.400   3rd Qu.:3.300   3rd Qu.:5.100   3rd Qu.:1.800  \n",
       " Max.   :7.900   Max.   :4.400   Max.   :6.900   Max.   :2.500  \n",
       "       Species  \n",
       " setosa    :50  \n",
       " versicolor:50  \n",
       " virginica :50  \n",
       "                \n",
       "                \n",
       "                "
      ]
     },
     "metadata": {},
     "output_type": "display_data"
    },
    {
     "data": {
      "text/html": [
       "3.428"
      ],
      "text/latex": [
       "3.428"
      ],
      "text/markdown": [
       "3.428"
      ],
      "text/plain": [
       "[1] 3.428"
      ]
     },
     "metadata": {},
     "output_type": "display_data"
    },
    {
     "data": {
      "text/html": [
       "2.77"
      ],
      "text/latex": [
       "2.77"
      ],
      "text/markdown": [
       "2.77"
      ],
      "text/plain": [
       "[1] 2.77"
      ]
     },
     "metadata": {},
     "output_type": "display_data"
    },
    {
     "data": {
      "text/html": [
       "2.974"
      ],
      "text/latex": [
       "2.974"
      ],
      "text/markdown": [
       "2.974"
      ],
      "text/plain": [
       "[1] 2.974"
      ]
     },
     "metadata": {},
     "output_type": "display_data"
    },
    {
     "data": {
      "text/html": [
       "<table class=\"dataframe\">\n",
       "<caption>A data.frame: 50 x 5</caption>\n",
       "<thead>\n",
       "\t<tr><th></th><th scope=col>Sepal.Length</th><th scope=col>Sepal.Width</th><th scope=col>Petal.Length</th><th scope=col>Petal.Width</th><th scope=col>Species</th></tr>\n",
       "\t<tr><th></th><th scope=col>&lt;dbl&gt;</th><th scope=col>&lt;dbl&gt;</th><th scope=col>&lt;dbl&gt;</th><th scope=col>&lt;dbl&gt;</th><th scope=col>&lt;fct&gt;</th></tr>\n",
       "</thead>\n",
       "<tbody>\n",
       "\t<tr><th scope=row>1</th><td>5.1</td><td>3.5</td><td>1.4</td><td>0.2</td><td>setosa</td></tr>\n",
       "\t<tr><th scope=row>2</th><td>4.9</td><td>3.0</td><td>1.4</td><td>0.2</td><td>setosa</td></tr>\n",
       "\t<tr><th scope=row>3</th><td>4.7</td><td>3.2</td><td>1.3</td><td>0.2</td><td>setosa</td></tr>\n",
       "\t<tr><th scope=row>4</th><td>4.6</td><td>3.1</td><td>1.5</td><td>0.2</td><td>setosa</td></tr>\n",
       "\t<tr><th scope=row>5</th><td>5.0</td><td>3.6</td><td>1.4</td><td>0.2</td><td>setosa</td></tr>\n",
       "\t<tr><th scope=row>6</th><td>5.4</td><td>3.9</td><td>1.7</td><td>0.4</td><td>setosa</td></tr>\n",
       "\t<tr><th scope=row>7</th><td>4.6</td><td>3.4</td><td>1.4</td><td>0.3</td><td>setosa</td></tr>\n",
       "\t<tr><th scope=row>8</th><td>5.0</td><td>3.4</td><td>1.5</td><td>0.2</td><td>setosa</td></tr>\n",
       "\t<tr><th scope=row>9</th><td>4.4</td><td>2.9</td><td>1.4</td><td>0.2</td><td>setosa</td></tr>\n",
       "\t<tr><th scope=row>10</th><td>4.9</td><td>3.1</td><td>1.5</td><td>0.1</td><td>setosa</td></tr>\n",
       "\t<tr><th scope=row>11</th><td>5.4</td><td>3.7</td><td>1.5</td><td>0.2</td><td>setosa</td></tr>\n",
       "\t<tr><th scope=row>12</th><td>4.8</td><td>3.4</td><td>1.6</td><td>0.2</td><td>setosa</td></tr>\n",
       "\t<tr><th scope=row>13</th><td>4.8</td><td>3.0</td><td>1.4</td><td>0.1</td><td>setosa</td></tr>\n",
       "\t<tr><th scope=row>14</th><td>4.3</td><td>3.0</td><td>1.1</td><td>0.1</td><td>setosa</td></tr>\n",
       "\t<tr><th scope=row>15</th><td>5.8</td><td>4.0</td><td>1.2</td><td>0.2</td><td>setosa</td></tr>\n",
       "\t<tr><th scope=row>16</th><td>5.7</td><td>4.4</td><td>1.5</td><td>0.4</td><td>setosa</td></tr>\n",
       "\t<tr><th scope=row>17</th><td>5.4</td><td>3.9</td><td>1.3</td><td>0.4</td><td>setosa</td></tr>\n",
       "\t<tr><th scope=row>18</th><td>5.1</td><td>3.5</td><td>1.4</td><td>0.3</td><td>setosa</td></tr>\n",
       "\t<tr><th scope=row>19</th><td>5.7</td><td>3.8</td><td>1.7</td><td>0.3</td><td>setosa</td></tr>\n",
       "\t<tr><th scope=row>20</th><td>5.1</td><td>3.8</td><td>1.5</td><td>0.3</td><td>setosa</td></tr>\n",
       "\t<tr><th scope=row>21</th><td>5.4</td><td>3.4</td><td>1.7</td><td>0.2</td><td>setosa</td></tr>\n",
       "\t<tr><th scope=row>22</th><td>5.1</td><td>3.7</td><td>1.5</td><td>0.4</td><td>setosa</td></tr>\n",
       "\t<tr><th scope=row>23</th><td>4.6</td><td>3.6</td><td>1.0</td><td>0.2</td><td>setosa</td></tr>\n",
       "\t<tr><th scope=row>24</th><td>5.1</td><td>3.3</td><td>1.7</td><td>0.5</td><td>setosa</td></tr>\n",
       "\t<tr><th scope=row>25</th><td>4.8</td><td>3.4</td><td>1.9</td><td>0.2</td><td>setosa</td></tr>\n",
       "\t<tr><th scope=row>26</th><td>5.0</td><td>3.0</td><td>1.6</td><td>0.2</td><td>setosa</td></tr>\n",
       "\t<tr><th scope=row>27</th><td>5.0</td><td>3.4</td><td>1.6</td><td>0.4</td><td>setosa</td></tr>\n",
       "\t<tr><th scope=row>28</th><td>5.2</td><td>3.5</td><td>1.5</td><td>0.2</td><td>setosa</td></tr>\n",
       "\t<tr><th scope=row>29</th><td>5.2</td><td>3.4</td><td>1.4</td><td>0.2</td><td>setosa</td></tr>\n",
       "\t<tr><th scope=row>30</th><td>4.7</td><td>3.2</td><td>1.6</td><td>0.2</td><td>setosa</td></tr>\n",
       "\t<tr><th scope=row>31</th><td>4.8</td><td>3.1</td><td>1.6</td><td>0.2</td><td>setosa</td></tr>\n",
       "\t<tr><th scope=row>32</th><td>5.4</td><td>3.4</td><td>1.5</td><td>0.4</td><td>setosa</td></tr>\n",
       "\t<tr><th scope=row>33</th><td>5.2</td><td>4.1</td><td>1.5</td><td>0.1</td><td>setosa</td></tr>\n",
       "\t<tr><th scope=row>34</th><td>5.5</td><td>4.2</td><td>1.4</td><td>0.2</td><td>setosa</td></tr>\n",
       "\t<tr><th scope=row>35</th><td>4.9</td><td>3.1</td><td>1.5</td><td>0.2</td><td>setosa</td></tr>\n",
       "\t<tr><th scope=row>36</th><td>5.0</td><td>3.2</td><td>1.2</td><td>0.2</td><td>setosa</td></tr>\n",
       "\t<tr><th scope=row>37</th><td>5.5</td><td>3.5</td><td>1.3</td><td>0.2</td><td>setosa</td></tr>\n",
       "\t<tr><th scope=row>38</th><td>4.9</td><td>3.6</td><td>1.4</td><td>0.1</td><td>setosa</td></tr>\n",
       "\t<tr><th scope=row>39</th><td>4.4</td><td>3.0</td><td>1.3</td><td>0.2</td><td>setosa</td></tr>\n",
       "\t<tr><th scope=row>40</th><td>5.1</td><td>3.4</td><td>1.5</td><td>0.2</td><td>setosa</td></tr>\n",
       "\t<tr><th scope=row>41</th><td>5.0</td><td>3.5</td><td>1.3</td><td>0.3</td><td>setosa</td></tr>\n",
       "\t<tr><th scope=row>42</th><td>4.5</td><td>2.3</td><td>1.3</td><td>0.3</td><td>setosa</td></tr>\n",
       "\t<tr><th scope=row>43</th><td>4.4</td><td>3.2</td><td>1.3</td><td>0.2</td><td>setosa</td></tr>\n",
       "\t<tr><th scope=row>44</th><td>5.0</td><td>3.5</td><td>1.6</td><td>0.6</td><td>setosa</td></tr>\n",
       "\t<tr><th scope=row>45</th><td>5.1</td><td>3.8</td><td>1.9</td><td>0.4</td><td>setosa</td></tr>\n",
       "\t<tr><th scope=row>46</th><td>4.8</td><td>3.0</td><td>1.4</td><td>0.3</td><td>setosa</td></tr>\n",
       "\t<tr><th scope=row>47</th><td>5.1</td><td>3.8</td><td>1.6</td><td>0.2</td><td>setosa</td></tr>\n",
       "\t<tr><th scope=row>48</th><td>4.6</td><td>3.2</td><td>1.4</td><td>0.2</td><td>setosa</td></tr>\n",
       "\t<tr><th scope=row>49</th><td>5.3</td><td>3.7</td><td>1.5</td><td>0.2</td><td>setosa</td></tr>\n",
       "\t<tr><th scope=row>50</th><td>5.0</td><td>3.3</td><td>1.4</td><td>0.2</td><td>setosa</td></tr>\n",
       "</tbody>\n",
       "</table>\n"
      ],
      "text/latex": [
       "A data.frame: 50 x 5\n",
       "\\begin{tabular}{r|lllll}\n",
       "  & Sepal.Length & Sepal.Width & Petal.Length & Petal.Width & Species\\\\\n",
       "  & <dbl> & <dbl> & <dbl> & <dbl> & <fct>\\\\\n",
       "\\hline\n",
       "\t1 & 5.1 & 3.5 & 1.4 & 0.2 & setosa\\\\\n",
       "\t2 & 4.9 & 3.0 & 1.4 & 0.2 & setosa\\\\\n",
       "\t3 & 4.7 & 3.2 & 1.3 & 0.2 & setosa\\\\\n",
       "\t4 & 4.6 & 3.1 & 1.5 & 0.2 & setosa\\\\\n",
       "\t5 & 5.0 & 3.6 & 1.4 & 0.2 & setosa\\\\\n",
       "\t6 & 5.4 & 3.9 & 1.7 & 0.4 & setosa\\\\\n",
       "\t7 & 4.6 & 3.4 & 1.4 & 0.3 & setosa\\\\\n",
       "\t8 & 5.0 & 3.4 & 1.5 & 0.2 & setosa\\\\\n",
       "\t9 & 4.4 & 2.9 & 1.4 & 0.2 & setosa\\\\\n",
       "\t10 & 4.9 & 3.1 & 1.5 & 0.1 & setosa\\\\\n",
       "\t11 & 5.4 & 3.7 & 1.5 & 0.2 & setosa\\\\\n",
       "\t12 & 4.8 & 3.4 & 1.6 & 0.2 & setosa\\\\\n",
       "\t13 & 4.8 & 3.0 & 1.4 & 0.1 & setosa\\\\\n",
       "\t14 & 4.3 & 3.0 & 1.1 & 0.1 & setosa\\\\\n",
       "\t15 & 5.8 & 4.0 & 1.2 & 0.2 & setosa\\\\\n",
       "\t16 & 5.7 & 4.4 & 1.5 & 0.4 & setosa\\\\\n",
       "\t17 & 5.4 & 3.9 & 1.3 & 0.4 & setosa\\\\\n",
       "\t18 & 5.1 & 3.5 & 1.4 & 0.3 & setosa\\\\\n",
       "\t19 & 5.7 & 3.8 & 1.7 & 0.3 & setosa\\\\\n",
       "\t20 & 5.1 & 3.8 & 1.5 & 0.3 & setosa\\\\\n",
       "\t21 & 5.4 & 3.4 & 1.7 & 0.2 & setosa\\\\\n",
       "\t22 & 5.1 & 3.7 & 1.5 & 0.4 & setosa\\\\\n",
       "\t23 & 4.6 & 3.6 & 1.0 & 0.2 & setosa\\\\\n",
       "\t24 & 5.1 & 3.3 & 1.7 & 0.5 & setosa\\\\\n",
       "\t25 & 4.8 & 3.4 & 1.9 & 0.2 & setosa\\\\\n",
       "\t26 & 5.0 & 3.0 & 1.6 & 0.2 & setosa\\\\\n",
       "\t27 & 5.0 & 3.4 & 1.6 & 0.4 & setosa\\\\\n",
       "\t28 & 5.2 & 3.5 & 1.5 & 0.2 & setosa\\\\\n",
       "\t29 & 5.2 & 3.4 & 1.4 & 0.2 & setosa\\\\\n",
       "\t30 & 4.7 & 3.2 & 1.6 & 0.2 & setosa\\\\\n",
       "\t31 & 4.8 & 3.1 & 1.6 & 0.2 & setosa\\\\\n",
       "\t32 & 5.4 & 3.4 & 1.5 & 0.4 & setosa\\\\\n",
       "\t33 & 5.2 & 4.1 & 1.5 & 0.1 & setosa\\\\\n",
       "\t34 & 5.5 & 4.2 & 1.4 & 0.2 & setosa\\\\\n",
       "\t35 & 4.9 & 3.1 & 1.5 & 0.2 & setosa\\\\\n",
       "\t36 & 5.0 & 3.2 & 1.2 & 0.2 & setosa\\\\\n",
       "\t37 & 5.5 & 3.5 & 1.3 & 0.2 & setosa\\\\\n",
       "\t38 & 4.9 & 3.6 & 1.4 & 0.1 & setosa\\\\\n",
       "\t39 & 4.4 & 3.0 & 1.3 & 0.2 & setosa\\\\\n",
       "\t40 & 5.1 & 3.4 & 1.5 & 0.2 & setosa\\\\\n",
       "\t41 & 5.0 & 3.5 & 1.3 & 0.3 & setosa\\\\\n",
       "\t42 & 4.5 & 2.3 & 1.3 & 0.3 & setosa\\\\\n",
       "\t43 & 4.4 & 3.2 & 1.3 & 0.2 & setosa\\\\\n",
       "\t44 & 5.0 & 3.5 & 1.6 & 0.6 & setosa\\\\\n",
       "\t45 & 5.1 & 3.8 & 1.9 & 0.4 & setosa\\\\\n",
       "\t46 & 4.8 & 3.0 & 1.4 & 0.3 & setosa\\\\\n",
       "\t47 & 5.1 & 3.8 & 1.6 & 0.2 & setosa\\\\\n",
       "\t48 & 4.6 & 3.2 & 1.4 & 0.2 & setosa\\\\\n",
       "\t49 & 5.3 & 3.7 & 1.5 & 0.2 & setosa\\\\\n",
       "\t50 & 5.0 & 3.3 & 1.4 & 0.2 & setosa\\\\\n",
       "\\end{tabular}\n"
      ],
      "text/markdown": [
       "\n",
       "A data.frame: 50 x 5\n",
       "\n",
       "| <!--/--> | Sepal.Length &lt;dbl&gt; | Sepal.Width &lt;dbl&gt; | Petal.Length &lt;dbl&gt; | Petal.Width &lt;dbl&gt; | Species &lt;fct&gt; |\n",
       "|---|---|---|---|---|---|\n",
       "| 1 | 5.1 | 3.5 | 1.4 | 0.2 | setosa |\n",
       "| 2 | 4.9 | 3.0 | 1.4 | 0.2 | setosa |\n",
       "| 3 | 4.7 | 3.2 | 1.3 | 0.2 | setosa |\n",
       "| 4 | 4.6 | 3.1 | 1.5 | 0.2 | setosa |\n",
       "| 5 | 5.0 | 3.6 | 1.4 | 0.2 | setosa |\n",
       "| 6 | 5.4 | 3.9 | 1.7 | 0.4 | setosa |\n",
       "| 7 | 4.6 | 3.4 | 1.4 | 0.3 | setosa |\n",
       "| 8 | 5.0 | 3.4 | 1.5 | 0.2 | setosa |\n",
       "| 9 | 4.4 | 2.9 | 1.4 | 0.2 | setosa |\n",
       "| 10 | 4.9 | 3.1 | 1.5 | 0.1 | setosa |\n",
       "| 11 | 5.4 | 3.7 | 1.5 | 0.2 | setosa |\n",
       "| 12 | 4.8 | 3.4 | 1.6 | 0.2 | setosa |\n",
       "| 13 | 4.8 | 3.0 | 1.4 | 0.1 | setosa |\n",
       "| 14 | 4.3 | 3.0 | 1.1 | 0.1 | setosa |\n",
       "| 15 | 5.8 | 4.0 | 1.2 | 0.2 | setosa |\n",
       "| 16 | 5.7 | 4.4 | 1.5 | 0.4 | setosa |\n",
       "| 17 | 5.4 | 3.9 | 1.3 | 0.4 | setosa |\n",
       "| 18 | 5.1 | 3.5 | 1.4 | 0.3 | setosa |\n",
       "| 19 | 5.7 | 3.8 | 1.7 | 0.3 | setosa |\n",
       "| 20 | 5.1 | 3.8 | 1.5 | 0.3 | setosa |\n",
       "| 21 | 5.4 | 3.4 | 1.7 | 0.2 | setosa |\n",
       "| 22 | 5.1 | 3.7 | 1.5 | 0.4 | setosa |\n",
       "| 23 | 4.6 | 3.6 | 1.0 | 0.2 | setosa |\n",
       "| 24 | 5.1 | 3.3 | 1.7 | 0.5 | setosa |\n",
       "| 25 | 4.8 | 3.4 | 1.9 | 0.2 | setosa |\n",
       "| 26 | 5.0 | 3.0 | 1.6 | 0.2 | setosa |\n",
       "| 27 | 5.0 | 3.4 | 1.6 | 0.4 | setosa |\n",
       "| 28 | 5.2 | 3.5 | 1.5 | 0.2 | setosa |\n",
       "| 29 | 5.2 | 3.4 | 1.4 | 0.2 | setosa |\n",
       "| 30 | 4.7 | 3.2 | 1.6 | 0.2 | setosa |\n",
       "| 31 | 4.8 | 3.1 | 1.6 | 0.2 | setosa |\n",
       "| 32 | 5.4 | 3.4 | 1.5 | 0.4 | setosa |\n",
       "| 33 | 5.2 | 4.1 | 1.5 | 0.1 | setosa |\n",
       "| 34 | 5.5 | 4.2 | 1.4 | 0.2 | setosa |\n",
       "| 35 | 4.9 | 3.1 | 1.5 | 0.2 | setosa |\n",
       "| 36 | 5.0 | 3.2 | 1.2 | 0.2 | setosa |\n",
       "| 37 | 5.5 | 3.5 | 1.3 | 0.2 | setosa |\n",
       "| 38 | 4.9 | 3.6 | 1.4 | 0.1 | setosa |\n",
       "| 39 | 4.4 | 3.0 | 1.3 | 0.2 | setosa |\n",
       "| 40 | 5.1 | 3.4 | 1.5 | 0.2 | setosa |\n",
       "| 41 | 5.0 | 3.5 | 1.3 | 0.3 | setosa |\n",
       "| 42 | 4.5 | 2.3 | 1.3 | 0.3 | setosa |\n",
       "| 43 | 4.4 | 3.2 | 1.3 | 0.2 | setosa |\n",
       "| 44 | 5.0 | 3.5 | 1.6 | 0.6 | setosa |\n",
       "| 45 | 5.1 | 3.8 | 1.9 | 0.4 | setosa |\n",
       "| 46 | 4.8 | 3.0 | 1.4 | 0.3 | setosa |\n",
       "| 47 | 5.1 | 3.8 | 1.6 | 0.2 | setosa |\n",
       "| 48 | 4.6 | 3.2 | 1.4 | 0.2 | setosa |\n",
       "| 49 | 5.3 | 3.7 | 1.5 | 0.2 | setosa |\n",
       "| 50 | 5.0 | 3.3 | 1.4 | 0.2 | setosa |\n",
       "\n"
      ],
      "text/plain": [
       "   Sepal.Length Sepal.Width Petal.Length Petal.Width Species\n",
       "1  5.1          3.5         1.4          0.2         setosa \n",
       "2  4.9          3.0         1.4          0.2         setosa \n",
       "3  4.7          3.2         1.3          0.2         setosa \n",
       "4  4.6          3.1         1.5          0.2         setosa \n",
       "5  5.0          3.6         1.4          0.2         setosa \n",
       "6  5.4          3.9         1.7          0.4         setosa \n",
       "7  4.6          3.4         1.4          0.3         setosa \n",
       "8  5.0          3.4         1.5          0.2         setosa \n",
       "9  4.4          2.9         1.4          0.2         setosa \n",
       "10 4.9          3.1         1.5          0.1         setosa \n",
       "11 5.4          3.7         1.5          0.2         setosa \n",
       "12 4.8          3.4         1.6          0.2         setosa \n",
       "13 4.8          3.0         1.4          0.1         setosa \n",
       "14 4.3          3.0         1.1          0.1         setosa \n",
       "15 5.8          4.0         1.2          0.2         setosa \n",
       "16 5.7          4.4         1.5          0.4         setosa \n",
       "17 5.4          3.9         1.3          0.4         setosa \n",
       "18 5.1          3.5         1.4          0.3         setosa \n",
       "19 5.7          3.8         1.7          0.3         setosa \n",
       "20 5.1          3.8         1.5          0.3         setosa \n",
       "21 5.4          3.4         1.7          0.2         setosa \n",
       "22 5.1          3.7         1.5          0.4         setosa \n",
       "23 4.6          3.6         1.0          0.2         setosa \n",
       "24 5.1          3.3         1.7          0.5         setosa \n",
       "25 4.8          3.4         1.9          0.2         setosa \n",
       "26 5.0          3.0         1.6          0.2         setosa \n",
       "27 5.0          3.4         1.6          0.4         setosa \n",
       "28 5.2          3.5         1.5          0.2         setosa \n",
       "29 5.2          3.4         1.4          0.2         setosa \n",
       "30 4.7          3.2         1.6          0.2         setosa \n",
       "31 4.8          3.1         1.6          0.2         setosa \n",
       "32 5.4          3.4         1.5          0.4         setosa \n",
       "33 5.2          4.1         1.5          0.1         setosa \n",
       "34 5.5          4.2         1.4          0.2         setosa \n",
       "35 4.9          3.1         1.5          0.2         setosa \n",
       "36 5.0          3.2         1.2          0.2         setosa \n",
       "37 5.5          3.5         1.3          0.2         setosa \n",
       "38 4.9          3.6         1.4          0.1         setosa \n",
       "39 4.4          3.0         1.3          0.2         setosa \n",
       "40 5.1          3.4         1.5          0.2         setosa \n",
       "41 5.0          3.5         1.3          0.3         setosa \n",
       "42 4.5          2.3         1.3          0.3         setosa \n",
       "43 4.4          3.2         1.3          0.2         setosa \n",
       "44 5.0          3.5         1.6          0.6         setosa \n",
       "45 5.1          3.8         1.9          0.4         setosa \n",
       "46 4.8          3.0         1.4          0.3         setosa \n",
       "47 5.1          3.8         1.6          0.2         setosa \n",
       "48 4.6          3.2         1.4          0.2         setosa \n",
       "49 5.3          3.7         1.5          0.2         setosa \n",
       "50 5.0          3.3         1.4          0.2         setosa "
      ]
     },
     "metadata": {},
     "output_type": "display_data"
    }
   ],
   "source": [
    "#iris 에서 Species 별로 Sepal.Width의 평균을 구하시오 \n",
    "summary(iris)\n",
    "#head(iris); summary(iris); iris$Species\n",
    "iris_setosa <- subset(iris, Species == \"setosa\"); \n",
    "iris_versicolor <- subset(iris, Species == \"versicolor\");\n",
    "iris_virginica <- subset(iris, Species == \"virginica\"); \n",
    "\n",
    "mean(iris_setosa$Sepal.Width)\n",
    "mean(iris_versicolor$Sepal.Width)\n",
    "mean(iris_virginica$Sepal.Width)\n",
    "\n",
    "iris_setosa\n",
    "\n"
   ]
  },
  {
   "cell_type": "code",
   "execution_count": 37,
   "metadata": {
    "vscode": {
     "languageId": "r"
    }
   },
   "outputs": [
    {
     "data": {
      "text/html": [
       "<table class=\"dataframe\">\n",
       "<caption>A data.frame: 3 x 2</caption>\n",
       "<thead>\n",
       "\t<tr><th scope=col>Species</th><th scope=col>Sepal.Width</th></tr>\n",
       "\t<tr><th scope=col>&lt;fct&gt;</th><th scope=col>&lt;dbl&gt;</th></tr>\n",
       "</thead>\n",
       "<tbody>\n",
       "\t<tr><td>setosa    </td><td>3.428</td></tr>\n",
       "\t<tr><td>versicolor</td><td>2.770</td></tr>\n",
       "\t<tr><td>virginica </td><td>2.974</td></tr>\n",
       "</tbody>\n",
       "</table>\n"
      ],
      "text/latex": [
       "A data.frame: 3 x 2\n",
       "\\begin{tabular}{ll}\n",
       " Species & Sepal.Width\\\\\n",
       " <fct> & <dbl>\\\\\n",
       "\\hline\n",
       "\t setosa     & 3.428\\\\\n",
       "\t versicolor & 2.770\\\\\n",
       "\t virginica  & 2.974\\\\\n",
       "\\end{tabular}\n"
      ],
      "text/markdown": [
       "\n",
       "A data.frame: 3 x 2\n",
       "\n",
       "| Species &lt;fct&gt; | Sepal.Width &lt;dbl&gt; |\n",
       "|---|---|\n",
       "| setosa     | 3.428 |\n",
       "| versicolor | 2.770 |\n",
       "| virginica  | 2.974 |\n",
       "\n"
      ],
      "text/plain": [
       "  Species    Sepal.Width\n",
       "1 setosa     3.428      \n",
       "2 versicolor 2.770      \n",
       "3 virginica  2.974      "
      ]
     },
     "metadata": {},
     "output_type": "display_data"
    }
   ],
   "source": [
    "#  Grouping 종류별로 Sepal width 의 mean을  보고싶을 때 \n",
    "aggregate(Sepal.Width~Species, iris, mean)"
   ]
  },
  {
   "cell_type": "markdown",
   "metadata": {},
   "source": [
    "---\n",
    "# 서울시 자치구별 교통사고 데이터"
   ]
  },
  {
   "cell_type": "code",
   "execution_count": 38,
   "metadata": {
    "vscode": {
     "languageId": "r"
    }
   },
   "outputs": [],
   "source": [
    "seoul<-read.csv(\"../Data/newSeoul2019.csv\")\n",
    "#test의 자료구조 확인하기\n",
    "checkData <- function(data){\n",
    "    cat(\"<<----------data 구조---------->>\\n\");\n",
    "    str(data);\n",
    "    cat(\"<<----------data HEAD---------->>\\n\");\n",
    "    print(head(data));\n",
    "    cat(\"<<----------data TAIL---------->>\\n\");\n",
    "    print(tail(data))\n",
    "    cat(\"<<----------data Summary---------->>\\n\");\n",
    "    # test 의 기본 통계량 보기\n",
    "    cat(summary(data))\n",
    "\n",
    "    cat(\"NA 개수:\", sum(is.na(data)))\n",
    "    \n",
    "}"
   ]
  },
  {
   "cell_type": "code",
   "execution_count": 39,
   "metadata": {
    "vscode": {
     "languageId": "r"
    }
   },
   "outputs": [
    {
     "name": "stdout",
     "output_type": "stream",
     "text": [
      "<<----------data 구조---------->>\n",
      "'data.frame':\t2700 obs. of  6 variables:\n",
      " $ 년도    : int  2011 2011 2011 2011 2011 2011 2011 2011 2011 2011 ...\n",
      " $ 월      : int  1 2 3 4 5 6 7 8 9 10 ...\n",
      " $ 자치구명: chr  \"종로구\" \"종로구\" \"종로구\" \"종로구\" ...\n",
      " $ 발생건수: int  115 99 116 110 122 116 103 122 121 135 ...\n",
      " $ 사망자수: int  2 0 0 1 0 3 1 1 2 2 ...\n",
      " $ 부상자수: int  165 134 162 153 157 163 154 171 166 193 ...\n",
      "<<----------data HEAD---------->>\n",
      "  년도 월 자치구명 발생건수 사망자수 부상자수\n",
      "1 2011  1   종로구      115        2      165\n",
      "2 2011  2   종로구       99        0      134\n",
      "3 2011  3   종로구      116        0      162\n",
      "4 2011  4   종로구      110        1      153\n",
      "5 2011  5   종로구      122        0      157\n",
      "6 2011  6   종로구      116        3      163\n",
      "<<----------data TAIL---------->>\n",
      "     년도 월 자치구명 발생건수 사망자수 부상자수\n",
      "2695 2019  7   강동구      146        2      189\n",
      "2696 2019  8   강동구      127        2      175\n",
      "2697 2019  9   강동구       98        2      137\n",
      "2698 2019 10   강동구      108        1      144\n",
      "2699 2019 11   강동구      146        0      199\n",
      "2700 2019 12   강동구      108        1      131\n",
      "<<----------data Summary---------->>\n",
      "Min.   :2011   1st Qu.:2013   Median :2015   Mean   :2015   3rd Qu.:2017   Max.   :2019   Min.   : 1.00   1st Qu.: 3.75   Median : 6.50   Mean   : 6.50   3rd Qu.: 9.25   Max.   :12.00   Length:2700        Class :character   Mode  :character   NA NA NA Min.   : 45.0   1st Qu.:100.0   Median :122.0   Mean   :133.3   3rd Qu.:149.0   Max.   :383.0   Min.   : 0.000   1st Qu.: 0.000   Median : 1.000   Mean   : 1.207   3rd Qu.: 2.000   Max.   :10.000   Min.   : 55.0   1st Qu.:138.0   Median :168.0   Mean   :187.4   3rd Qu.:208.0   Max.   :552.0  NA 개수: 0"
     ]
    }
   ],
   "source": [
    "checkData(seoul)"
   ]
  },
  {
   "cell_type": "code",
   "execution_count": 40,
   "metadata": {
    "vscode": {
     "languageId": "r"
    }
   },
   "outputs": [
    {
     "name": "stdout",
     "output_type": "stream",
     "text": [
      "col:  년도 na 개수: 0 \n",
      "col:  월 na 개수: 0 \n",
      "col:  자치구명 na 개수: 0 \n",
      "col:  발생건수 na 개수: 0 \n",
      "col:  사망자수 na 개수: 0 \n",
      "col:  부상자수 na 개수: 0 \n"
     ]
    },
    {
     "data": {
      "text/html": [
       "<style>\n",
       ".dl-inline {width: auto; margin:0; padding: 0}\n",
       ".dl-inline>dt, .dl-inline>dd {float: none; width: auto; display: inline-block}\n",
       ".dl-inline>dt::after {content: \":\\0020\"; padding-right: .5ex}\n",
       ".dl-inline>dt:not(:first-of-type) {padding-left: .5ex}\n",
       "</style><dl class=dl-inline><dt>년도</dt><dd>0</dd><dt>월</dt><dd>0</dd><dt>자치구명</dt><dd>0</dd><dt>발생건수</dt><dd>0</dd><dt>사망자수</dt><dd>0</dd><dt>부상자수</dt><dd>0</dd></dl>\n"
      ],
      "text/latex": [
       "\\begin{description*}\n",
       "\\item[년도] 0\n",
       "\\item[월] 0\n",
       "\\item[자치구명] 0\n",
       "\\item[발생건수] 0\n",
       "\\item[사망자수] 0\n",
       "\\item[부상자수] 0\n",
       "\\end{description*}\n"
      ],
      "text/markdown": [
       "년도\n",
       ":   0월\n",
       ":   0자치구명\n",
       ":   0발생건수\n",
       ":   0사망자수\n",
       ":   0부상자수\n",
       ":   0\n",
       "\n"
      ],
      "text/plain": [
       "    년도       월 자치구명 발생건수 사망자수 부상자수 \n",
       "       0        0        0        0        0        0 "
      ]
     },
     "metadata": {},
     "output_type": "display_data"
    }
   ],
   "source": [
    "# 컬럼 별 na 확인\n",
    "\n",
    "for(i in 1:ncol(seoul)){\n",
    "    cat(\"col: \",colnames(seoul[i]), \"na 개수:\",(sum(is.na(seoul[,i]))),\"\\n\")\n",
    "}\n",
    "\n",
    "colSums(is.na(seoul)) ## 컬럼별 합계 계산 함수. "
   ]
  },
  {
   "cell_type": "code",
   "execution_count": 41,
   "metadata": {
    "vscode": {
     "languageId": "r"
    }
   },
   "outputs": [
    {
     "data": {
      "text/plain": [
       "\n",
       "2011 2012 2013 2014 2015 2016 2017 2018 2019 \n",
       " 300  300  300  300  300  300  300  300  300 "
      ]
     },
     "metadata": {},
     "output_type": "display_data"
    },
    {
     "data": {
      "text/plain": [
       "\n",
       "  1   2   3   4   5   6   7   8   9  10  11  12 \n",
       "225 225 225 225 225 225 225 225 225 225 225 225 "
      ]
     },
     "metadata": {},
     "output_type": "display_data"
    },
    {
     "data": {
      "text/html": [
       "25"
      ],
      "text/latex": [
       "25"
      ],
      "text/markdown": [
       "25"
      ],
      "text/plain": [
       "[1] 25"
      ]
     },
     "metadata": {},
     "output_type": "display_data"
    },
    {
     "data": {
      "text/html": [
       "25"
      ],
      "text/latex": [
       "25"
      ],
      "text/markdown": [
       "25"
      ],
      "text/plain": [
       "[1] 25"
      ]
     },
     "metadata": {},
     "output_type": "display_data"
    }
   ],
   "source": [
    "## 마지막으로 이상체크는 데이터가 골고루 있는지를 체크해주어야한다. \n",
    "\n",
    "#년도\n",
    "table(seoul$년도)\n",
    "#월\n",
    "table(seoul$월)\n",
    "# 자치구명 (Na 가아닌것)\n",
    "sum(ifelse(is.na(names(table(seoul$자치구명))),0,1))\n",
    "# 자치구 수\n",
    "length(unique(seoul$`자치구명`))\n"
   ]
  },
  {
   "cell_type": "code",
   "execution_count": 42,
   "metadata": {
    "vscode": {
     "languageId": "r"
    }
   },
   "outputs": [
    {
     "data": {
      "text/html": [
       "<table class=\"dataframe\">\n",
       "<caption>A data.frame: 6 x 6</caption>\n",
       "<thead>\n",
       "\t<tr><th></th><th scope=col>년도</th><th scope=col>월</th><th scope=col>자치구명</th><th scope=col>발생건수</th><th scope=col>사망자수</th><th scope=col>부상자수</th></tr>\n",
       "\t<tr><th></th><th scope=col>&lt;int&gt;</th><th scope=col>&lt;int&gt;</th><th scope=col>&lt;chr&gt;</th><th scope=col>&lt;int&gt;</th><th scope=col>&lt;int&gt;</th><th scope=col>&lt;int&gt;</th></tr>\n",
       "</thead>\n",
       "<tbody>\n",
       "\t<tr><th scope=row>1</th><td>2011</td><td>1</td><td>종로구</td><td>115</td><td>2</td><td>165</td></tr>\n",
       "\t<tr><th scope=row>2</th><td>2011</td><td>2</td><td>종로구</td><td> 99</td><td>0</td><td>134</td></tr>\n",
       "\t<tr><th scope=row>3</th><td>2011</td><td>3</td><td>종로구</td><td>116</td><td>0</td><td>162</td></tr>\n",
       "\t<tr><th scope=row>4</th><td>2011</td><td>4</td><td>종로구</td><td>110</td><td>1</td><td>153</td></tr>\n",
       "\t<tr><th scope=row>5</th><td>2011</td><td>5</td><td>종로구</td><td>122</td><td>0</td><td>157</td></tr>\n",
       "\t<tr><th scope=row>6</th><td>2011</td><td>6</td><td>종로구</td><td>116</td><td>3</td><td>163</td></tr>\n",
       "</tbody>\n",
       "</table>\n"
      ],
      "text/latex": [
       "A data.frame: 6 x 6\n",
       "\\begin{tabular}{r|llllll}\n",
       "  & 년도 & 월 & 자치구명 & 발생건수 & 사망자수 & 부상자수\\\\\n",
       "  & <int> & <int> & <chr> & <int> & <int> & <int>\\\\\n",
       "\\hline\n",
       "\t1 & 2011 & 1 & 종로구 & 115 & 2 & 165\\\\\n",
       "\t2 & 2011 & 2 & 종로구 &  99 & 0 & 134\\\\\n",
       "\t3 & 2011 & 3 & 종로구 & 116 & 0 & 162\\\\\n",
       "\t4 & 2011 & 4 & 종로구 & 110 & 1 & 153\\\\\n",
       "\t5 & 2011 & 5 & 종로구 & 122 & 0 & 157\\\\\n",
       "\t6 & 2011 & 6 & 종로구 & 116 & 3 & 163\\\\\n",
       "\\end{tabular}\n"
      ],
      "text/markdown": [
       "\n",
       "A data.frame: 6 x 6\n",
       "\n",
       "| <!--/--> | 년도 &lt;int&gt; | 월 &lt;int&gt; | 자치구명 &lt;chr&gt; | 발생건수 &lt;int&gt; | 사망자수 &lt;int&gt; | 부상자수 &lt;int&gt; |\n",
       "|---|---|---|---|---|---|---|\n",
       "| 1 | 2011 | 1 | 종로구 | 115 | 2 | 165 |\n",
       "| 2 | 2011 | 2 | 종로구 |  99 | 0 | 134 |\n",
       "| 3 | 2011 | 3 | 종로구 | 116 | 0 | 162 |\n",
       "| 4 | 2011 | 4 | 종로구 | 110 | 1 | 153 |\n",
       "| 5 | 2011 | 5 | 종로구 | 122 | 0 | 157 |\n",
       "| 6 | 2011 | 6 | 종로구 | 116 | 3 | 163 |\n",
       "\n"
      ],
      "text/plain": [
       "  년도 월 자치구명 발생건수 사망자수 부상자수\n",
       "1 2011 1  종로구   115      2        165     \n",
       "2 2011 2  종로구    99      0        134     \n",
       "3 2011 3  종로구   116      0        162     \n",
       "4 2011 4  종로구   110      1        153     \n",
       "5 2011 5  종로구   122      0        157     \n",
       "6 2011 6  종로구   116      3        163     "
      ]
     },
     "metadata": {},
     "output_type": "display_data"
    },
    {
     "data": {
      "text/html": [
       "<table class=\"dataframe\">\n",
       "<caption>A data.frame: 25 x 2</caption>\n",
       "<thead>\n",
       "\t<tr><th scope=col>자치구명</th><th scope=col>발생건수</th></tr>\n",
       "\t<tr><th scope=col>&lt;chr&gt;</th><th scope=col>&lt;dbl&gt;</th></tr>\n",
       "</thead>\n",
       "<tbody>\n",
       "\t<tr><td>강남구  </td><td>306.36111</td></tr>\n",
       "\t<tr><td>송파구  </td><td>224.75926</td></tr>\n",
       "\t<tr><td>영등포구</td><td>194.64815</td></tr>\n",
       "\t<tr><td>서초구  </td><td>186.48148</td></tr>\n",
       "\t<tr><td>동대문구</td><td>153.64815</td></tr>\n",
       "\t<tr><td>강서구  </td><td>145.47222</td></tr>\n",
       "\t<tr><td>마포구  </td><td>141.51852</td></tr>\n",
       "\t<tr><td>중랑구  </td><td>138.46296</td></tr>\n",
       "\t<tr><td>성북구  </td><td>130.85185</td></tr>\n",
       "\t<tr><td>노원구  </td><td>129.21296</td></tr>\n",
       "\t<tr><td>관악구  </td><td>128.38889</td></tr>\n",
       "\t<tr><td>구로구  </td><td>126.09259</td></tr>\n",
       "\t<tr><td>양천구  </td><td>120.68519</td></tr>\n",
       "\t<tr><td>강동구  </td><td>118.53704</td></tr>\n",
       "\t<tr><td>동작구  </td><td>112.64815</td></tr>\n",
       "\t<tr><td>용산구  </td><td>110.29630</td></tr>\n",
       "\t<tr><td>중구    </td><td>110.11111</td></tr>\n",
       "\t<tr><td>종로구  </td><td>106.97222</td></tr>\n",
       "\t<tr><td>은평구  </td><td>104.32407</td></tr>\n",
       "\t<tr><td>광진구  </td><td>103.07407</td></tr>\n",
       "\t<tr><td>강북구  </td><td>101.78704</td></tr>\n",
       "\t<tr><td>성동구  </td><td> 93.19444</td></tr>\n",
       "\t<tr><td>서대문구</td><td> 89.71296</td></tr>\n",
       "\t<tr><td>금천구  </td><td> 78.69444</td></tr>\n",
       "\t<tr><td>도봉구  </td><td> 76.40741</td></tr>\n",
       "</tbody>\n",
       "</table>\n"
      ],
      "text/latex": [
       "A data.frame: 25 x 2\n",
       "\\begin{tabular}{ll}\n",
       " 자치구명 & 발생건수\\\\\n",
       " <chr> & <dbl>\\\\\n",
       "\\hline\n",
       "\t 강남구   & 306.36111\\\\\n",
       "\t 송파구   & 224.75926\\\\\n",
       "\t 영등포구 & 194.64815\\\\\n",
       "\t 서초구   & 186.48148\\\\\n",
       "\t 동대문구 & 153.64815\\\\\n",
       "\t 강서구   & 145.47222\\\\\n",
       "\t 마포구   & 141.51852\\\\\n",
       "\t 중랑구   & 138.46296\\\\\n",
       "\t 성북구   & 130.85185\\\\\n",
       "\t 노원구   & 129.21296\\\\\n",
       "\t 관악구   & 128.38889\\\\\n",
       "\t 구로구   & 126.09259\\\\\n",
       "\t 양천구   & 120.68519\\\\\n",
       "\t 강동구   & 118.53704\\\\\n",
       "\t 동작구   & 112.64815\\\\\n",
       "\t 용산구   & 110.29630\\\\\n",
       "\t 중구     & 110.11111\\\\\n",
       "\t 종로구   & 106.97222\\\\\n",
       "\t 은평구   & 104.32407\\\\\n",
       "\t 광진구   & 103.07407\\\\\n",
       "\t 강북구   & 101.78704\\\\\n",
       "\t 성동구   &  93.19444\\\\\n",
       "\t 서대문구 &  89.71296\\\\\n",
       "\t 금천구   &  78.69444\\\\\n",
       "\t 도봉구   &  76.40741\\\\\n",
       "\\end{tabular}\n"
      ],
      "text/markdown": [
       "\n",
       "A data.frame: 25 x 2\n",
       "\n",
       "| 자치구명 &lt;chr&gt; | 발생건수 &lt;dbl&gt; |\n",
       "|---|---|\n",
       "| 강남구   | 306.36111 |\n",
       "| 송파구   | 224.75926 |\n",
       "| 영등포구 | 194.64815 |\n",
       "| 서초구   | 186.48148 |\n",
       "| 동대문구 | 153.64815 |\n",
       "| 강서구   | 145.47222 |\n",
       "| 마포구   | 141.51852 |\n",
       "| 중랑구   | 138.46296 |\n",
       "| 성북구   | 130.85185 |\n",
       "| 노원구   | 129.21296 |\n",
       "| 관악구   | 128.38889 |\n",
       "| 구로구   | 126.09259 |\n",
       "| 양천구   | 120.68519 |\n",
       "| 강동구   | 118.53704 |\n",
       "| 동작구   | 112.64815 |\n",
       "| 용산구   | 110.29630 |\n",
       "| 중구     | 110.11111 |\n",
       "| 종로구   | 106.97222 |\n",
       "| 은평구   | 104.32407 |\n",
       "| 광진구   | 103.07407 |\n",
       "| 강북구   | 101.78704 |\n",
       "| 성동구   |  93.19444 |\n",
       "| 서대문구 |  89.71296 |\n",
       "| 금천구   |  78.69444 |\n",
       "| 도봉구   |  76.40741 |\n",
       "\n"
      ],
      "text/plain": [
       "   자치구명 발생건수 \n",
       "1  강남구   306.36111\n",
       "2  송파구   224.75926\n",
       "3  영등포구 194.64815\n",
       "4  서초구   186.48148\n",
       "5  동대문구 153.64815\n",
       "6  강서구   145.47222\n",
       "7  마포구   141.51852\n",
       "8  중랑구   138.46296\n",
       "9  성북구   130.85185\n",
       "10 노원구   129.21296\n",
       "11 관악구   128.38889\n",
       "12 구로구   126.09259\n",
       "13 양천구   120.68519\n",
       "14 강동구   118.53704\n",
       "15 동작구   112.64815\n",
       "16 용산구   110.29630\n",
       "17 중구     110.11111\n",
       "18 종로구   106.97222\n",
       "19 은평구   104.32407\n",
       "20 광진구   103.07407\n",
       "21 강북구   101.78704\n",
       "22 성동구    93.19444\n",
       "23 서대문구  89.71296\n",
       "24 금천구    78.69444\n",
       "25 도봉구    76.40741"
      ]
     },
     "metadata": {},
     "output_type": "display_data"
    }
   ],
   "source": [
    "#자치구별 발생건수의 평균\n",
    "head(seoul)\n",
    "regionAcc.mean<-arrange(aggregate(발생건수~`자치구명`,seoul,mean), desc(발생건수)) # 종속변수 ~ 독립변수,data, 함수 \n",
    "regionAcc.mean"
   ]
  },
  {
   "cell_type": "code",
   "execution_count": 43,
   "metadata": {
    "vscode": {
     "languageId": "r"
    }
   },
   "outputs": [
    {
     "data": {
      "text/html": [
       "<table class=\"dataframe\">\n",
       "<caption>A data.frame: 25 x 2</caption>\n",
       "<thead>\n",
       "\t<tr><th scope=col>자치구명</th><th scope=col>변동계수</th></tr>\n",
       "\t<tr><th scope=col>&lt;chr&gt;</th><th scope=col>&lt;dbl&gt;</th></tr>\n",
       "</thead>\n",
       "<tbody>\n",
       "\t<tr><td>강남구  </td><td>0.1074865</td></tr>\n",
       "\t<tr><td>영등포구</td><td>0.1214682</td></tr>\n",
       "\t<tr><td>서초구  </td><td>0.1228647</td></tr>\n",
       "\t<tr><td>송파구  </td><td>0.1341341</td></tr>\n",
       "\t<tr><td>관악구  </td><td>0.1410758</td></tr>\n",
       "\t<tr><td>구로구  </td><td>0.1411848</td></tr>\n",
       "\t<tr><td>노원구  </td><td>0.1419551</td></tr>\n",
       "\t<tr><td>중랑구  </td><td>0.1420351</td></tr>\n",
       "\t<tr><td>강동구  </td><td>0.1436891</td></tr>\n",
       "\t<tr><td>양천구  </td><td>0.1442599</td></tr>\n",
       "\t<tr><td>강북구  </td><td>0.1454786</td></tr>\n",
       "\t<tr><td>성북구  </td><td>0.1474899</td></tr>\n",
       "\t<tr><td>동대문구</td><td>0.1478347</td></tr>\n",
       "\t<tr><td>광진구  </td><td>0.1479360</td></tr>\n",
       "\t<tr><td>중구    </td><td>0.1490268</td></tr>\n",
       "\t<tr><td>용산구  </td><td>0.1501245</td></tr>\n",
       "\t<tr><td>종로구  </td><td>0.1504552</td></tr>\n",
       "\t<tr><td>동작구  </td><td>0.1506680</td></tr>\n",
       "\t<tr><td>은평구  </td><td>0.1507795</td></tr>\n",
       "\t<tr><td>성동구  </td><td>0.1513899</td></tr>\n",
       "\t<tr><td>금천구  </td><td>0.1528448</td></tr>\n",
       "\t<tr><td>마포구  </td><td>0.1544379</td></tr>\n",
       "\t<tr><td>강서구  </td><td>0.1555356</td></tr>\n",
       "\t<tr><td>서대문구</td><td>0.1557886</td></tr>\n",
       "\t<tr><td>도봉구  </td><td>0.1564099</td></tr>\n",
       "</tbody>\n",
       "</table>\n"
      ],
      "text/latex": [
       "A data.frame: 25 x 2\n",
       "\\begin{tabular}{ll}\n",
       " 자치구명 & 변동계수\\\\\n",
       " <chr> & <dbl>\\\\\n",
       "\\hline\n",
       "\t 강남구   & 0.1074865\\\\\n",
       "\t 영등포구 & 0.1214682\\\\\n",
       "\t 서초구   & 0.1228647\\\\\n",
       "\t 송파구   & 0.1341341\\\\\n",
       "\t 관악구   & 0.1410758\\\\\n",
       "\t 구로구   & 0.1411848\\\\\n",
       "\t 노원구   & 0.1419551\\\\\n",
       "\t 중랑구   & 0.1420351\\\\\n",
       "\t 강동구   & 0.1436891\\\\\n",
       "\t 양천구   & 0.1442599\\\\\n",
       "\t 강북구   & 0.1454786\\\\\n",
       "\t 성북구   & 0.1474899\\\\\n",
       "\t 동대문구 & 0.1478347\\\\\n",
       "\t 광진구   & 0.1479360\\\\\n",
       "\t 중구     & 0.1490268\\\\\n",
       "\t 용산구   & 0.1501245\\\\\n",
       "\t 종로구   & 0.1504552\\\\\n",
       "\t 동작구   & 0.1506680\\\\\n",
       "\t 은평구   & 0.1507795\\\\\n",
       "\t 성동구   & 0.1513899\\\\\n",
       "\t 금천구   & 0.1528448\\\\\n",
       "\t 마포구   & 0.1544379\\\\\n",
       "\t 강서구   & 0.1555356\\\\\n",
       "\t 서대문구 & 0.1557886\\\\\n",
       "\t 도봉구   & 0.1564099\\\\\n",
       "\\end{tabular}\n"
      ],
      "text/markdown": [
       "\n",
       "A data.frame: 25 x 2\n",
       "\n",
       "| 자치구명 &lt;chr&gt; | 변동계수 &lt;dbl&gt; |\n",
       "|---|---|\n",
       "| 강남구   | 0.1074865 |\n",
       "| 영등포구 | 0.1214682 |\n",
       "| 서초구   | 0.1228647 |\n",
       "| 송파구   | 0.1341341 |\n",
       "| 관악구   | 0.1410758 |\n",
       "| 구로구   | 0.1411848 |\n",
       "| 노원구   | 0.1419551 |\n",
       "| 중랑구   | 0.1420351 |\n",
       "| 강동구   | 0.1436891 |\n",
       "| 양천구   | 0.1442599 |\n",
       "| 강북구   | 0.1454786 |\n",
       "| 성북구   | 0.1474899 |\n",
       "| 동대문구 | 0.1478347 |\n",
       "| 광진구   | 0.1479360 |\n",
       "| 중구     | 0.1490268 |\n",
       "| 용산구   | 0.1501245 |\n",
       "| 종로구   | 0.1504552 |\n",
       "| 동작구   | 0.1506680 |\n",
       "| 은평구   | 0.1507795 |\n",
       "| 성동구   | 0.1513899 |\n",
       "| 금천구   | 0.1528448 |\n",
       "| 마포구   | 0.1544379 |\n",
       "| 강서구   | 0.1555356 |\n",
       "| 서대문구 | 0.1557886 |\n",
       "| 도봉구   | 0.1564099 |\n",
       "\n"
      ],
      "text/plain": [
       "   자치구명 변동계수 \n",
       "1  강남구   0.1074865\n",
       "2  영등포구 0.1214682\n",
       "3  서초구   0.1228647\n",
       "4  송파구   0.1341341\n",
       "5  관악구   0.1410758\n",
       "6  구로구   0.1411848\n",
       "7  노원구   0.1419551\n",
       "8  중랑구   0.1420351\n",
       "9  강동구   0.1436891\n",
       "10 양천구   0.1442599\n",
       "11 강북구   0.1454786\n",
       "12 성북구   0.1474899\n",
       "13 동대문구 0.1478347\n",
       "14 광진구   0.1479360\n",
       "15 중구     0.1490268\n",
       "16 용산구   0.1501245\n",
       "17 종로구   0.1504552\n",
       "18 동작구   0.1506680\n",
       "19 은평구   0.1507795\n",
       "20 성동구   0.1513899\n",
       "21 금천구   0.1528448\n",
       "22 마포구   0.1544379\n",
       "23 강서구   0.1555356\n",
       "24 서대문구 0.1557886\n",
       "25 도봉구   0.1564099"
      ]
     },
     "metadata": {},
     "output_type": "display_data"
    }
   ],
   "source": [
    "# 자치구별 표준편차\n",
    "regionAcc.sd<-arrange(aggregate(발생건수~자치구명, seoul,sd),desc(발생건수))\n",
    "#regionAcc.sd\n",
    "\n",
    "# 변동계수, 계수값이 있어야한다. \n",
    "# 변동계수 = 표준편차 /평균 : 변동계수가 작으면 일정하다. \n",
    "# 변동계수가 크면 왔다갔다 변동폭이 크다. => 사건이 한꺼번에 몰린다는 소리\n",
    "# 매장 메뉴 세개 항목에 대해서  자주발생하는지 드문드문 발생하는지 알수있다. \n",
    "# 자주팔리는 메뉴 알수있다. \n",
    "# 강동구는 고속도로가 연결되어 있어서 변동계수가 크다. \n",
    "regionAcc.cv <-regionAcc.sd$발생건수 / regionAcc.mean$발생건수\n",
    "#regionAcc.cv\n",
    "regionAcc <-data.frame(자치구명= regionAcc.mean$자치구명, 변동계수 =regionAcc.cv)\n",
    "arrange(regionAcc, 변동계수)\n"
   ]
  },
  {
   "cell_type": "code",
   "execution_count": 44,
   "metadata": {
    "vscode": {
     "languageId": "r"
    }
   },
   "outputs": [
    {
     "data": {
      "text/html": [
       "<table class=\"dataframe\">\n",
       "<caption>A data.frame: 25 x 2</caption>\n",
       "<thead>\n",
       "\t<tr><th scope=col>자치구명</th><th scope=col>변동계수</th></tr>\n",
       "\t<tr><th scope=col>&lt;chr&gt;</th><th scope=col>&lt;dbl&gt;</th></tr>\n",
       "</thead>\n",
       "<tbody>\n",
       "\t<tr><td>강남구  </td><td>0.11</td></tr>\n",
       "\t<tr><td>송파구  </td><td>0.13</td></tr>\n",
       "\t<tr><td>영등포구</td><td>0.13</td></tr>\n",
       "\t<tr><td>서초구  </td><td>0.14</td></tr>\n",
       "\t<tr><td>성북구  </td><td>0.15</td></tr>\n",
       "\t<tr><td>관악구  </td><td>0.15</td></tr>\n",
       "\t<tr><td>마포구  </td><td>0.16</td></tr>\n",
       "\t<tr><td>구로구  </td><td>0.16</td></tr>\n",
       "\t<tr><td>양천구  </td><td>0.16</td></tr>\n",
       "\t<tr><td>강동구  </td><td>0.16</td></tr>\n",
       "\t<tr><td>동작구  </td><td>0.16</td></tr>\n",
       "\t<tr><td>용산구  </td><td>0.16</td></tr>\n",
       "\t<tr><td>은평구  </td><td>0.16</td></tr>\n",
       "\t<tr><td>서대문구</td><td>0.16</td></tr>\n",
       "\t<tr><td>금천구  </td><td>0.16</td></tr>\n",
       "\t<tr><td>강서구  </td><td>0.17</td></tr>\n",
       "\t<tr><td>동대문구</td><td>0.17</td></tr>\n",
       "\t<tr><td>중랑구  </td><td>0.17</td></tr>\n",
       "\t<tr><td>노원구  </td><td>0.17</td></tr>\n",
       "\t<tr><td>중구    </td><td>0.17</td></tr>\n",
       "\t<tr><td>종로구  </td><td>0.17</td></tr>\n",
       "\t<tr><td>광진구  </td><td>0.17</td></tr>\n",
       "\t<tr><td>강북구  </td><td>0.17</td></tr>\n",
       "\t<tr><td>성동구  </td><td>0.18</td></tr>\n",
       "\t<tr><td>도봉구  </td><td>0.18</td></tr>\n",
       "</tbody>\n",
       "</table>\n"
      ],
      "text/latex": [
       "A data.frame: 25 x 2\n",
       "\\begin{tabular}{ll}\n",
       " 자치구명 & 변동계수\\\\\n",
       " <chr> & <dbl>\\\\\n",
       "\\hline\n",
       "\t 강남구   & 0.11\\\\\n",
       "\t 송파구   & 0.13\\\\\n",
       "\t 영등포구 & 0.13\\\\\n",
       "\t 서초구   & 0.14\\\\\n",
       "\t 성북구   & 0.15\\\\\n",
       "\t 관악구   & 0.15\\\\\n",
       "\t 마포구   & 0.16\\\\\n",
       "\t 구로구   & 0.16\\\\\n",
       "\t 양천구   & 0.16\\\\\n",
       "\t 강동구   & 0.16\\\\\n",
       "\t 동작구   & 0.16\\\\\n",
       "\t 용산구   & 0.16\\\\\n",
       "\t 은평구   & 0.16\\\\\n",
       "\t 서대문구 & 0.16\\\\\n",
       "\t 금천구   & 0.16\\\\\n",
       "\t 강서구   & 0.17\\\\\n",
       "\t 동대문구 & 0.17\\\\\n",
       "\t 중랑구   & 0.17\\\\\n",
       "\t 노원구   & 0.17\\\\\n",
       "\t 중구     & 0.17\\\\\n",
       "\t 종로구   & 0.17\\\\\n",
       "\t 광진구   & 0.17\\\\\n",
       "\t 강북구   & 0.17\\\\\n",
       "\t 성동구   & 0.18\\\\\n",
       "\t 도봉구   & 0.18\\\\\n",
       "\\end{tabular}\n"
      ],
      "text/markdown": [
       "\n",
       "A data.frame: 25 x 2\n",
       "\n",
       "| 자치구명 &lt;chr&gt; | 변동계수 &lt;dbl&gt; |\n",
       "|---|---|\n",
       "| 강남구   | 0.11 |\n",
       "| 송파구   | 0.13 |\n",
       "| 영등포구 | 0.13 |\n",
       "| 서초구   | 0.14 |\n",
       "| 성북구   | 0.15 |\n",
       "| 관악구   | 0.15 |\n",
       "| 마포구   | 0.16 |\n",
       "| 구로구   | 0.16 |\n",
       "| 양천구   | 0.16 |\n",
       "| 강동구   | 0.16 |\n",
       "| 동작구   | 0.16 |\n",
       "| 용산구   | 0.16 |\n",
       "| 은평구   | 0.16 |\n",
       "| 서대문구 | 0.16 |\n",
       "| 금천구   | 0.16 |\n",
       "| 강서구   | 0.17 |\n",
       "| 동대문구 | 0.17 |\n",
       "| 중랑구   | 0.17 |\n",
       "| 노원구   | 0.17 |\n",
       "| 중구     | 0.17 |\n",
       "| 종로구   | 0.17 |\n",
       "| 광진구   | 0.17 |\n",
       "| 강북구   | 0.17 |\n",
       "| 성동구   | 0.18 |\n",
       "| 도봉구   | 0.18 |\n",
       "\n"
      ],
      "text/plain": [
       "   자치구명 변동계수\n",
       "1  강남구   0.11    \n",
       "2  송파구   0.13    \n",
       "3  영등포구 0.13    \n",
       "4  서초구   0.14    \n",
       "5  성북구   0.15    \n",
       "6  관악구   0.15    \n",
       "7  마포구   0.16    \n",
       "8  구로구   0.16    \n",
       "9  양천구   0.16    \n",
       "10 강동구   0.16    \n",
       "11 동작구   0.16    \n",
       "12 용산구   0.16    \n",
       "13 은평구   0.16    \n",
       "14 서대문구 0.16    \n",
       "15 금천구   0.16    \n",
       "16 강서구   0.17    \n",
       "17 동대문구 0.17    \n",
       "18 중랑구   0.17    \n",
       "19 노원구   0.17    \n",
       "20 중구     0.17    \n",
       "21 종로구   0.17    \n",
       "22 광진구   0.17    \n",
       "23 강북구   0.17    \n",
       "24 성동구   0.18    \n",
       "25 도봉구   0.18    "
      ]
     },
     "metadata": {},
     "output_type": "display_data"
    }
   ],
   "source": [
    "# 서울시 교통사고 부상자수에 대한 변동계수 구하기\n",
    "\n",
    "#평균\n",
    "regionInjure.mean <- arrange(aggregate(부상자수~자치구명, seoul, mean), desc(부상자수)); #regionInjure.mean\n",
    "# 표준편차\n",
    "regionInjure.sd <- arrange(aggregate(부상자수~자치구명, seoul, sd), desc(부상자수)); #regionInjure.sd\n",
    "# 변동계수\n",
    "regionInjure.cv <-round(regionInjure.sd[,2]/regionInjure.mean[,2] , 2) \n",
    "#DataFrame\n",
    "regionInjure <- data.frame( 자치구명 =regionInjure.mean$자치구명,\n",
    "                            변동계수 = regionInjure.cv); \n",
    "arrange(regionInjure, 변동계수)"
   ]
  },
  {
   "cell_type": "code",
   "execution_count": 45,
   "metadata": {
    "vscode": {
     "languageId": "r"
    }
   },
   "outputs": [
    {
     "data": {
      "text/html": [
       "0.980893241106038"
      ],
      "text/latex": [
       "0.980893241106038"
      ],
      "text/markdown": [
       "0.980893241106038"
      ],
      "text/plain": [
       "[1] 0.9808932"
      ]
     },
     "metadata": {},
     "output_type": "display_data"
    }
   ],
   "source": [
    "\n",
    "# 교통사고 발생건수와 부상자수의 관계 : 상관관계 \n",
    "cor(seoul$`발생건수`, seoul$`부상자수`)\n",
    "# 0~0.3 : 상관없음. \n",
    "# 0.3 ~ 0.5 : 약한관계\n",
    "# 0.5~0.7 : 관계\n",
    "# 0.7~  : 강한관계 "
   ]
  },
  {
   "cell_type": "code",
   "execution_count": 46,
   "metadata": {
    "vscode": {
     "languageId": "r"
    }
   },
   "outputs": [
    {
     "data": {
      "text/html": [
       "0.23871477683486"
      ],
      "text/latex": [
       "0.23871477683486"
      ],
      "text/markdown": [
       "0.23871477683486"
      ],
      "text/plain": [
       "[1] 0.2387148"
      ]
     },
     "metadata": {},
     "output_type": "display_data"
    },
    {
     "data": {
      "text/html": [
       "-0.03593206978083"
      ],
      "text/latex": [
       "-0.03593206978083"
      ],
      "text/markdown": [
       "-0.03593206978083"
      ],
      "text/plain": [
       "[1] -0.03593207"
      ]
     },
     "metadata": {},
     "output_type": "display_data"
    },
    {
     "data": {
      "text/html": [
       "0.237301918677237"
      ],
      "text/latex": [
       "0.237301918677237"
      ],
      "text/markdown": [
       "0.237301918677237"
      ],
      "text/plain": [
       "[1] 0.2373019"
      ]
     },
     "metadata": {},
     "output_type": "display_data"
    }
   ],
   "source": [
    "# 교통사고 발생건수와 사망자수 관계\n",
    "cor(seoul$`발생건수`,seoul$`사망자수`) # 상관이 없으면 선진국!\n",
    "cor(seoul$`발생건수`,seoul$`년도`) # 년도는 숫자크기가 있어서 보면 안된다!! - 상관관계는 역상관이다 x 형\n",
    "\n",
    "cor(seoul$부상자수, seoul$`사망자수`)\n",
    "\n",
    "\n",
    "# 관련이 없으면 회귀식은 불가능하다. "
   ]
  },
  {
   "cell_type": "code",
   "execution_count": 142,
   "metadata": {
    "vscode": {
     "languageId": "r"
    }
   },
   "outputs": [
    {
     "data": {
      "text/plain": [
       "\n",
       "Call:\n",
       "lm(formula = Y ~ X)\n",
       "\n",
       "Residuals:\n",
       "    Min      1Q  Median      3Q     Max \n",
       "-43.154  -9.797  -1.421   7.611  87.718 \n",
       "\n",
       "Coefficients:\n",
       "             Estimate Std. Error t value             Pr(>|t|)    \n",
       "(Intercept) -5.895918   0.794301  -7.423    0.000000000000153 ***\n",
       "X            1.450495   0.005539 261.890 < 0.0000000000000002 ***\n",
       "---\n",
       "Signif. codes:  0 ‘***’ 0.001 ‘**’ 0.01 ‘*’ 0.05 ‘.’ 0.1 ‘ ’ 1\n",
       "\n",
       "Residual standard error: 15.23 on 2698 degrees of freedom\n",
       "Multiple R-squared:  0.9622,\tAdjusted R-squared:  0.9621 \n",
       "F-statistic: 6.859e+04 on 1 and 2698 DF,  p-value: < 0.00000000000000022\n"
      ]
     },
     "metadata": {},
     "output_type": "display_data"
    },
    {
     "data": {
      "image/png": "[encoded data removed]",
      "text/plain": [
       "Plot with title “Regression Line :  부상자수  ~ 발생건수”"
      ]
     },
     "metadata": {
      "image/png": {
       "height": 600,
       "width": 600
      }
     },
     "output_type": "display_data"
    }
   ],
   "source": [
    "# 발생건수와 부상자수의 산포도 그리기\n",
    "corPlot<- function(X,Y,xylab){\n",
    "    Sys.setlocale(category = \"LC_ALL\", locale = \"ko_KR.UTF-8\") # 한글 설정\n",
    "    par(family =\"AppleGothic\",bg='white')\n",
    "    options(warn =-1,\n",
    "        repr.plot.width = 10,\n",
    "        repr.plot.height = 10\n",
    "        )\n",
    "    # X,Y 는 vector 임\n",
    "    plot(Y~X, \n",
    "        main =paste(\"Regression Line : \", xylab[2],\"~\",xylab[1]),\n",
    "        xlab = xylab[1],\n",
    "        ylab = xylab[2]\n",
    "    )\n",
    "    regline <- lm(Y~X);regline # fitting liner\n",
    "    abline(regline,col =\"red\",lwd =3)\n",
    "    \n",
    "    # 상관관계 \n",
    "    if( round(cor(X,Y),2) > 0.7){\n",
    "            relation <- \"강한 관계\"\n",
    "        }else if(round(cor(X,Y),2)>0.5){\n",
    "            relation <- \"일반 관계\"\n",
    "        }else if (round(cor(X,Y),2)>0.3){\n",
    "            relation <- \"약한 관계\"\n",
    "        }else{\n",
    "            relation <- \"관계 없음\"\n",
    "        }\n",
    "    \n",
    "    text(   max(X)%/%3, max(Y)%/%7*6,\n",
    "            paste(\n",
    "            \"상관계수:\",round(cor(X,Y),2), \"(\",relation  , \")\",\"\\n\",\n",
    "            \"Y = \",round(coefficients(regline)[2],2),\" * X\",\n",
    "            \"  + \",round(coefficients(regline)[1],2)\n",
    "            )\n",
    "            , sep =\"\" ,col = \"red\", cex =1.2)\n",
    "    summary(regline)\n",
    "    \n",
    "}\n",
    "corPlot(seoul$`발생건수`,seoul$`부상자수`, c(\"발생건수\",\"부상자수 \"))"
   ]
  },
  {
   "cell_type": "code",
   "execution_count": null,
   "metadata": {
    "vscode": {
     "languageId": "r"
    }
   },
   "outputs": [],
   "source": [
    "\n"
   ]
  },
  {
   "cell_type": "code",
   "execution_count": 143,
   "metadata": {
    "vscode": {
     "languageId": "r"
    }
   },
   "outputs": [
    {
     "data": {
      "text/plain": [
       "\n",
       "Call:\n",
       "lm(formula = Y ~ X)\n",
       "\n",
       "Residuals:\n",
       "    Min      1Q  Median      3Q     Max \n",
       "-2.4987 -0.9931 -0.1362  0.7896  8.7578 \n",
       "\n",
       "Coefficients:\n",
       "             Estimate Std. Error t value            Pr(>|t|)    \n",
       "(Intercept) 0.5000152  0.0595446   8.397 <0.0000000000000002 ***\n",
       "X           0.0053015  0.0004152  12.769 <0.0000000000000002 ***\n",
       "---\n",
       "Signif. codes:  0 ‘***’ 0.001 ‘**’ 0.01 ‘*’ 0.05 ‘.’ 0.1 ‘ ’ 1\n",
       "\n",
       "Residual standard error: 1.142 on 2698 degrees of freedom\n",
       "Multiple R-squared:  0.05698,\tAdjusted R-squared:  0.05664 \n",
       "F-statistic:   163 on 1 and 2698 DF,  p-value: < 0.00000000000000022\n"
      ]
     },
     "metadata": {},
     "output_type": "display_data"
    },
    {
     "data": {
      "image/png": "[encoded data removed]",
      "text/plain": [
       "Plot with title “Regression Line :  사망자수 ~ 발생건수”"
      ]
     },
     "metadata": {
      "image/png": {
       "height": 600,
       "width": 600
      }
     },
     "output_type": "display_data"
    }
   ],
   "source": [
    "par(family =\"AppleGothic\",bg='white')\n",
    "# 발생건수와 부상자수의 산포도 그리기\n",
    "corPlot(seoul$`발생건수`,seoul$`사망자수`,c(\"발생건수\",\"사망자수\"))"
   ]
  },
  {
   "cell_type": "code",
   "execution_count": 49,
   "metadata": {
    "vscode": {
     "languageId": "r"
    }
   },
   "outputs": [
    {
     "data": {
      "text/html": [
       "<table class=\"dataframe\">\n",
       "<caption>A data.frame: 25 x 2</caption>\n",
       "<thead>\n",
       "\t<tr><th scope=col>자치구명</th><th scope=col>사망자수</th></tr>\n",
       "\t<tr><th scope=col>&lt;chr&gt;</th><th scope=col>&lt;dbl&gt;</th></tr>\n",
       "</thead>\n",
       "<tbody>\n",
       "\t<tr><td>영등포구</td><td>2.0370370</td></tr>\n",
       "\t<tr><td>강남구  </td><td>1.7962963</td></tr>\n",
       "\t<tr><td>송파구  </td><td>1.7407407</td></tr>\n",
       "\t<tr><td>강서구  </td><td>1.5462963</td></tr>\n",
       "\t<tr><td>서초구  </td><td>1.5092593</td></tr>\n",
       "\t<tr><td>동대문구</td><td>1.4814815</td></tr>\n",
       "\t<tr><td>마포구  </td><td>1.3611111</td></tr>\n",
       "\t<tr><td>구로구  </td><td>1.2962963</td></tr>\n",
       "\t<tr><td>강동구  </td><td>1.2870370</td></tr>\n",
       "\t<tr><td>관악구  </td><td>1.2870370</td></tr>\n",
       "\t<tr><td>성북구  </td><td>1.2037037</td></tr>\n",
       "\t<tr><td>은평구  </td><td>1.1388889</td></tr>\n",
       "\t<tr><td>노원구  </td><td>1.0925926</td></tr>\n",
       "\t<tr><td>광진구  </td><td>1.0833333</td></tr>\n",
       "\t<tr><td>양천구  </td><td>1.0740741</td></tr>\n",
       "\t<tr><td>동작구  </td><td>1.0277778</td></tr>\n",
       "\t<tr><td>서대문구</td><td>1.0277778</td></tr>\n",
       "\t<tr><td>용산구  </td><td>0.9907407</td></tr>\n",
       "\t<tr><td>성동구  </td><td>0.9814815</td></tr>\n",
       "\t<tr><td>금천구  </td><td>0.9259259</td></tr>\n",
       "\t<tr><td>강북구  </td><td>0.9074074</td></tr>\n",
       "\t<tr><td>중랑구  </td><td>0.8888889</td></tr>\n",
       "\t<tr><td>종로구  </td><td>0.8518519</td></tr>\n",
       "\t<tr><td>도봉구  </td><td>0.8425926</td></tr>\n",
       "\t<tr><td>중구    </td><td>0.7870370</td></tr>\n",
       "</tbody>\n",
       "</table>\n"
      ],
      "text/latex": [
       "A data.frame: 25 x 2\n",
       "\\begin{tabular}{ll}\n",
       " 자치구명 & 사망자수\\\\\n",
       " <chr> & <dbl>\\\\\n",
       "\\hline\n",
       "\t 영등포구 & 2.0370370\\\\\n",
       "\t 강남구   & 1.7962963\\\\\n",
       "\t 송파구   & 1.7407407\\\\\n",
       "\t 강서구   & 1.5462963\\\\\n",
       "\t 서초구   & 1.5092593\\\\\n",
       "\t 동대문구 & 1.4814815\\\\\n",
       "\t 마포구   & 1.3611111\\\\\n",
       "\t 구로구   & 1.2962963\\\\\n",
       "\t 강동구   & 1.2870370\\\\\n",
       "\t 관악구   & 1.2870370\\\\\n",
       "\t 성북구   & 1.2037037\\\\\n",
       "\t 은평구   & 1.1388889\\\\\n",
       "\t 노원구   & 1.0925926\\\\\n",
       "\t 광진구   & 1.0833333\\\\\n",
       "\t 양천구   & 1.0740741\\\\\n",
       "\t 동작구   & 1.0277778\\\\\n",
       "\t 서대문구 & 1.0277778\\\\\n",
       "\t 용산구   & 0.9907407\\\\\n",
       "\t 성동구   & 0.9814815\\\\\n",
       "\t 금천구   & 0.9259259\\\\\n",
       "\t 강북구   & 0.9074074\\\\\n",
       "\t 중랑구   & 0.8888889\\\\\n",
       "\t 종로구   & 0.8518519\\\\\n",
       "\t 도봉구   & 0.8425926\\\\\n",
       "\t 중구     & 0.7870370\\\\\n",
       "\\end{tabular}\n"
      ],
      "text/markdown": [
       "\n",
       "A data.frame: 25 x 2\n",
       "\n",
       "| 자치구명 &lt;chr&gt; | 사망자수 &lt;dbl&gt; |\n",
       "|---|---|\n",
       "| 영등포구 | 2.0370370 |\n",
       "| 강남구   | 1.7962963 |\n",
       "| 송파구   | 1.7407407 |\n",
       "| 강서구   | 1.5462963 |\n",
       "| 서초구   | 1.5092593 |\n",
       "| 동대문구 | 1.4814815 |\n",
       "| 마포구   | 1.3611111 |\n",
       "| 구로구   | 1.2962963 |\n",
       "| 강동구   | 1.2870370 |\n",
       "| 관악구   | 1.2870370 |\n",
       "| 성북구   | 1.2037037 |\n",
       "| 은평구   | 1.1388889 |\n",
       "| 노원구   | 1.0925926 |\n",
       "| 광진구   | 1.0833333 |\n",
       "| 양천구   | 1.0740741 |\n",
       "| 동작구   | 1.0277778 |\n",
       "| 서대문구 | 1.0277778 |\n",
       "| 용산구   | 0.9907407 |\n",
       "| 성동구   | 0.9814815 |\n",
       "| 금천구   | 0.9259259 |\n",
       "| 강북구   | 0.9074074 |\n",
       "| 중랑구   | 0.8888889 |\n",
       "| 종로구   | 0.8518519 |\n",
       "| 도봉구   | 0.8425926 |\n",
       "| 중구     | 0.7870370 |\n",
       "\n"
      ],
      "text/plain": [
       "   자치구명 사망자수 \n",
       "1  영등포구 2.0370370\n",
       "2  강남구   1.7962963\n",
       "3  송파구   1.7407407\n",
       "4  강서구   1.5462963\n",
       "5  서초구   1.5092593\n",
       "6  동대문구 1.4814815\n",
       "7  마포구   1.3611111\n",
       "8  구로구   1.2962963\n",
       "9  강동구   1.2870370\n",
       "10 관악구   1.2870370\n",
       "11 성북구   1.2037037\n",
       "12 은평구   1.1388889\n",
       "13 노원구   1.0925926\n",
       "14 광진구   1.0833333\n",
       "15 양천구   1.0740741\n",
       "16 동작구   1.0277778\n",
       "17 서대문구 1.0277778\n",
       "18 용산구   0.9907407\n",
       "19 성동구   0.9814815\n",
       "20 금천구   0.9259259\n",
       "21 강북구   0.9074074\n",
       "22 중랑구   0.8888889\n",
       "23 종로구   0.8518519\n",
       "24 도봉구   0.8425926\n",
       "25 중구     0.7870370"
      ]
     },
     "metadata": {},
     "output_type": "display_data"
    },
    {
     "data": {
      "text/html": [
       "<table class=\"dataframe\">\n",
       "<caption>A data.frame: 25 x 2</caption>\n",
       "<thead>\n",
       "\t<tr><th scope=col>자치구명</th><th scope=col>변동계수</th></tr>\n",
       "\t<tr><th scope=col>&lt;chr&gt;</th><th scope=col>&lt;dbl&gt;</th></tr>\n",
       "</thead>\n",
       "<tbody>\n",
       "\t<tr><td>영등포구</td><td>0.71</td></tr>\n",
       "\t<tr><td>강남구  </td><td>0.79</td></tr>\n",
       "\t<tr><td>송파구  </td><td>0.81</td></tr>\n",
       "\t<tr><td>동대문구</td><td>0.87</td></tr>\n",
       "\t<tr><td>서초구  </td><td>0.88</td></tr>\n",
       "\t<tr><td>강서구  </td><td>0.90</td></tr>\n",
       "\t<tr><td>마포구  </td><td>0.92</td></tr>\n",
       "\t<tr><td>강동구  </td><td>0.92</td></tr>\n",
       "\t<tr><td>관악구  </td><td>0.92</td></tr>\n",
       "\t<tr><td>성북구  </td><td>0.93</td></tr>\n",
       "\t<tr><td>구로구  </td><td>0.96</td></tr>\n",
       "\t<tr><td>서대문구</td><td>0.96</td></tr>\n",
       "\t<tr><td>은평구  </td><td>0.97</td></tr>\n",
       "\t<tr><td>양천구  </td><td>0.97</td></tr>\n",
       "\t<tr><td>노원구  </td><td>1.00</td></tr>\n",
       "\t<tr><td>광진구  </td><td>1.00</td></tr>\n",
       "\t<tr><td>동작구  </td><td>1.00</td></tr>\n",
       "\t<tr><td>용산구  </td><td>1.00</td></tr>\n",
       "\t<tr><td>성동구  </td><td>1.00</td></tr>\n",
       "\t<tr><td>중구    </td><td>1.01</td></tr>\n",
       "\t<tr><td>금천구  </td><td>1.05</td></tr>\n",
       "\t<tr><td>강북구  </td><td>1.05</td></tr>\n",
       "\t<tr><td>도봉구  </td><td>1.06</td></tr>\n",
       "\t<tr><td>중랑구  </td><td>1.07</td></tr>\n",
       "\t<tr><td>종로구  </td><td>1.08</td></tr>\n",
       "</tbody>\n",
       "</table>\n"
      ],
      "text/latex": [
       "A data.frame: 25 x 2\n",
       "\\begin{tabular}{ll}\n",
       " 자치구명 & 변동계수\\\\\n",
       " <chr> & <dbl>\\\\\n",
       "\\hline\n",
       "\t 영등포구 & 0.71\\\\\n",
       "\t 강남구   & 0.79\\\\\n",
       "\t 송파구   & 0.81\\\\\n",
       "\t 동대문구 & 0.87\\\\\n",
       "\t 서초구   & 0.88\\\\\n",
       "\t 강서구   & 0.90\\\\\n",
       "\t 마포구   & 0.92\\\\\n",
       "\t 강동구   & 0.92\\\\\n",
       "\t 관악구   & 0.92\\\\\n",
       "\t 성북구   & 0.93\\\\\n",
       "\t 구로구   & 0.96\\\\\n",
       "\t 서대문구 & 0.96\\\\\n",
       "\t 은평구   & 0.97\\\\\n",
       "\t 양천구   & 0.97\\\\\n",
       "\t 노원구   & 1.00\\\\\n",
       "\t 광진구   & 1.00\\\\\n",
       "\t 동작구   & 1.00\\\\\n",
       "\t 용산구   & 1.00\\\\\n",
       "\t 성동구   & 1.00\\\\\n",
       "\t 중구     & 1.01\\\\\n",
       "\t 금천구   & 1.05\\\\\n",
       "\t 강북구   & 1.05\\\\\n",
       "\t 도봉구   & 1.06\\\\\n",
       "\t 중랑구   & 1.07\\\\\n",
       "\t 종로구   & 1.08\\\\\n",
       "\\end{tabular}\n"
      ],
      "text/markdown": [
       "\n",
       "A data.frame: 25 x 2\n",
       "\n",
       "| 자치구명 &lt;chr&gt; | 변동계수 &lt;dbl&gt; |\n",
       "|---|---|\n",
       "| 영등포구 | 0.71 |\n",
       "| 강남구   | 0.79 |\n",
       "| 송파구   | 0.81 |\n",
       "| 동대문구 | 0.87 |\n",
       "| 서초구   | 0.88 |\n",
       "| 강서구   | 0.90 |\n",
       "| 마포구   | 0.92 |\n",
       "| 강동구   | 0.92 |\n",
       "| 관악구   | 0.92 |\n",
       "| 성북구   | 0.93 |\n",
       "| 구로구   | 0.96 |\n",
       "| 서대문구 | 0.96 |\n",
       "| 은평구   | 0.97 |\n",
       "| 양천구   | 0.97 |\n",
       "| 노원구   | 1.00 |\n",
       "| 광진구   | 1.00 |\n",
       "| 동작구   | 1.00 |\n",
       "| 용산구   | 1.00 |\n",
       "| 성동구   | 1.00 |\n",
       "| 중구     | 1.01 |\n",
       "| 금천구   | 1.05 |\n",
       "| 강북구   | 1.05 |\n",
       "| 도봉구   | 1.06 |\n",
       "| 중랑구   | 1.07 |\n",
       "| 종로구   | 1.08 |\n",
       "\n"
      ],
      "text/plain": [
       "   자치구명 변동계수\n",
       "1  영등포구 0.71    \n",
       "2  강남구   0.79    \n",
       "3  송파구   0.81    \n",
       "4  동대문구 0.87    \n",
       "5  서초구   0.88    \n",
       "6  강서구   0.90    \n",
       "7  마포구   0.92    \n",
       "8  강동구   0.92    \n",
       "9  관악구   0.92    \n",
       "10 성북구   0.93    \n",
       "11 구로구   0.96    \n",
       "12 서대문구 0.96    \n",
       "13 은평구   0.97    \n",
       "14 양천구   0.97    \n",
       "15 노원구   1.00    \n",
       "16 광진구   1.00    \n",
       "17 동작구   1.00    \n",
       "18 용산구   1.00    \n",
       "19 성동구   1.00    \n",
       "20 중구     1.01    \n",
       "21 금천구   1.05    \n",
       "22 강북구   1.05    \n",
       "23 도봉구   1.06    \n",
       "24 중랑구   1.07    \n",
       "25 종로구   1.08    "
      ]
     },
     "metadata": {},
     "output_type": "display_data"
    }
   ],
   "source": [
    "# 서울시 교통사고 사망자수에 대한 변동계수 구하기 \n",
    "\n",
    "#평균\n",
    "regionDeath.mean <- arrange(aggregate(사망자수~자치구명, seoul, mean), desc(사망자수)); regionDeath.mean\n",
    "# 표준편차\n",
    "regionDeath.sd <- arrange(aggregate(사망자수~자치구명, seoul, sd), desc(사망자수)); #regionInjure.sd\n",
    "# 변동계수\n",
    "regionDeath.cv <-round(regionDeath.sd[,2]/regionDeath.mean[,2] , 2) \n",
    "#DataFrame\n",
    "regionDeath <- data.frame( 자치구명 =regionDeath.mean$자치구명,\n",
    "                            변동계수 = regionDeath.cv); \n",
    "arrange(regionDeath, 변동계수)"
   ]
  }
 ],
 "metadata": {
  "kernelspec": {
   "display_name": "R",
   "language": "R",
   "name": "r"
  },
  "language_info": {
   "codemirror_mode": "r",
   "file_extension": ".r",
   "mimetype": "text/x-r-source",
   "name": "R",
   "pygments_lexer": "r",
   "version": "4.3.3"
  }
 },
 "nbformat": 4,
 "nbformat_minor": 2
}

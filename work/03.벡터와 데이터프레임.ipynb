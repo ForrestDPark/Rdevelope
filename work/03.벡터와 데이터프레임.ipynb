{
 "cells": [
  {
   "cell_type": "code",
   "execution_count": null,
   "metadata": {
    "vscode": {
     "languageId": "r"
    }
   },
   "outputs": [],
   "source": [
    "# head(iris)\n",
    "# tail(iris)\n",
    "# str(iris)\n",
    "# iris[1:10,] # 특수한 행을 보고싶을 때 .\n",
    "unique(iris$Species) # Species 종류를 다 파악할수 있음. \n",
    "samp <- sample(1:150,10)\n",
    "iris[samp,]\n",
    "# 원본 데이터를  통계에서는 모집단이라고한다. 모집단이 너무많을 떄 몇 퍼센트만 가지고 분석할때 샘플링이라고 한다. 샘플링한 데이터가 모집단의 특징을 그대로 담고있어야 샘플링한것이다. 샘플링은 뽑기가 아니다. \n",
    "# target 이 있고 나머지가 feature 이다. 아이리스는 3종류가 있는데 다 50개씩 있다.  10,10,10 개되어야 샘플링이 잘된것이다. 타겟을 맞추기위한 feature 가 무엇이냐를 파악해야한다. \n",
    "\n"
   ]
  },
  {
   "cell_type": "code",
   "execution_count": null,
   "metadata": {
    "vscode": {
     "languageId": "r"
    }
   },
   "outputs": [],
   "source": [
    "iris[seq(10,150,10),]"
   ]
  },
  {
   "cell_type": "code",
   "execution_count": null,
   "metadata": {
    "vscode": {
     "languageId": "r"
    }
   },
   "outputs": [],
   "source": [
    "# DataFrame 의 Column 수\n",
    "length(iris) # data frame 은 vector  집합이기 때문에 column 수가 나온다. \n",
    "ncol(iris)\n",
    "# DataFrame의 Row 수\n",
    "nrow(iris)\n",
    "# iris의 Sepal.Length 의 최대값고 ㅏ최소값의 차이가 평균보다 큰지?\n",
    " sLength <- iris$Sepal.Length; sLength\n",
    " abs(min(sLength)- max(sLength)) ;mean(sLength) # 작음. \n",
    "\n",
    "\n"
   ]
  },
  {
   "cell_type": "code",
   "execution_count": null,
   "metadata": {
    "vscode": {
     "languageId": "r"
    }
   },
   "outputs": [],
   "source": [
    "# iris 에서 1~10 까지의 데이터중 SepalLength 와 Sepal.Width 만 출력하기\n",
    "iris[1:10,1:2]\n",
    "# sepal length 와 petal length 만 보게 출력\n",
    "iris[1:10,c(1,3)]\n",
    "iris[1:10, c(\"Sepal.Length\",\"Sepal.Width\")] # column 이름으로 벡터화 시켜서 쓸수 있다. \n",
    "colnames(iris) # column name 뽑기 로 복붙 해서 찾아라.. <-로 바꿀수도 있다. \n",
    "rownames(iris)"
   ]
  },
  {
   "cell_type": "code",
   "execution_count": null,
   "metadata": {
    "vscode": {
     "languageId": "r"
    }
   },
   "outputs": [],
   "source": [
    "Sys.setlocale(category = \"LC_ALL\", locale = \"ko_KR.UTF-8\")\n",
    "# iris 의 Sepal.Length 를 iSL 이라는 벡터를 생성하고 이중 1,2 번 데이터를 삭제하고 완료하기\n",
    "iSL <- iris$Sepal.Length;\n",
    "cat(\">> Before isL length :  \",length(iSL));\n",
    "cat(\">> 첫번째, 두번째 원소 : \",iSL[c(1,2)], '\\n');\n",
    "cat(\">> 삭제 후 iSL->\",iSL[-c(1,2)], '\\n' );\n",
    "isL<- iSL[-c(1,2)];\n",
    "cat(\">> After isL length :  \",length(isL));\n",
    "\n"
   ]
  },
  {
   "cell_type": "code",
   "execution_count": null,
   "metadata": {
    "vscode": {
     "languageId": "r"
    }
   },
   "outputs": [],
   "source": [
    "# 기본 통계량  head,tail,str, summary 순으로 보고 시작. \n",
    "summary(iris)\n",
    "summary(iris$Sepal.Length)"
   ]
  },
  {
   "cell_type": "code",
   "execution_count": null,
   "metadata": {
    "vscode": {
     "languageId": "r"
    }
   },
   "outputs": [],
   "source": [
    "# 중앙값과 평균\n",
    "num1 <- c(1,1,1,1,5)\n",
    "mean(num1)\n",
    "median(num1) # 중앙값과 평균값의 차이가 데이터 크기(간격)에 맞먹을 때 5 는 이상치(outlier) 이다. 결측치 (missing value) \n",
    "## 대략의 데이터크기는 정규분포 형식이라면 한눈에 보인다. ! 1234 는 정규분포가 아니다. "
   ]
  },
  {
   "cell_type": "code",
   "execution_count": null,
   "metadata": {
    "vscode": {
     "languageId": "r"
    }
   },
   "outputs": [],
   "source": [
    "# factor type 인 Species 에서 문자와 숫자로 각각 출력\n",
    "as.numeric(iris$Species)\n",
    "as.character(iris$Species)"
   ]
  },
  {
   "cell_type": "code",
   "execution_count": null,
   "metadata": {
    "vscode": {
     "languageId": "r"
    }
   },
   "outputs": [],
   "source": [
    "# 벡터 계산 \n",
    "x <- c(3,6,9,12,15)\n",
    "x+c(1) # vector 의 reculsive 기능 \n",
    "x+c(1,2,3,4)\n"
   ]
  },
  {
   "cell_type": "code",
   "execution_count": null,
   "metadata": {
    "vscode": {
     "languageId": "r"
    }
   },
   "outputs": [],
   "source": [
    "## 벡터 합치기\n",
    "x <-  c(3,5,6,12,15)\n",
    "y <- c(1,2,3,4,5)\n",
    "z <- append(x,y)\n",
    "z1 <- c(x,y)\n",
    "z1; z"
   ]
  },
  {
   "cell_type": "code",
   "execution_count": null,
   "metadata": {
    "vscode": {
     "languageId": "r"
    }
   },
   "outputs": [],
   "source": [
    "# iris의 Sepal.Length 의 중복되지 않은 갯수의 percent 구하기\n",
    "iSL <- iris$Sepal.Length\n",
    "uniq_isL <- unique(iSL)\n",
    "cat( \"전체 데이터 수 : \", length(iSL),'\\n')\n",
    "cat( \"중복되지 않는 데이터 수: \", length(uniq_isL),'\\n')\n",
    "rate = length(uniq_isL)/length(iSL)\n",
    "percent =100*rate\n",
    "cat(\"중복되지 않은 갯수의 Percent:\", percent,'\\n')\n",
    "cat(\"중복된 갯수의 percent : \", 100-percent)\n",
    "## 중복된 개수를 찾아야함. \n",
    "x <- c(1,1,1,1,2,2,2,3,4)\n",
    "# 중복된 개수는? \n",
    "uniq_x <- unique(x); \n",
    "length(x)- length(uniq_x);\n"
   ]
  },
  {
   "cell_type": "markdown",
   "metadata": {},
   "source": [
    "# 문자열 관련 함수"
   ]
  },
  {
   "cell_type": "code",
   "execution_count": null,
   "metadata": {
    "vscode": {
     "languageId": "r"
    }
   },
   "outputs": [],
   "source": [
    "x<- c('a','b','c','d','e')\n",
    "paste(x[2],x[1])\n",
    "iS<- iris$Species\n",
    "iris$Species[c(1,51,101)]\n",
    "result<-paste(iS[1],\":\",iS[51],\":\",iS[101])\n",
    "result\n"
   ]
  },
  {
   "cell_type": "code",
   "execution_count": null,
   "metadata": {
    "vscode": {
     "languageId": "r"
    }
   },
   "outputs": [],
   "source": [
    "# 출력\n",
    "print(\"a\")\n",
    "cat(\"a\",\"b\",\"c\")"
   ]
  },
  {
   "cell_type": "code",
   "execution_count": null,
   "metadata": {
    "vscode": {
     "languageId": "r"
    }
   },
   "outputs": [],
   "source": [
    "cat( \"국어\\t\", \"영어\\t\",  \"수학\\t\", \"\\n\" )\n",
    "cat( 90,\"\\t\", 80,\"\\t\",  70,\"\\t\", \"\\n\"  )\n",
    "cat( 90,\"\\t\", 80,\"\\t\",  70,\"\\t\" )\n"
   ]
  },
  {
   "cell_type": "code",
   "execution_count": null,
   "metadata": {
    "vscode": {
     "languageId": "r"
    }
   },
   "outputs": [],
   "source": [
    "paste(\"010\", \"1111\",\"2222\",sep=\"-\") # seperator 의 기본값은 한칸 띄기다. "
   ]
  },
  {
   "cell_type": "code",
   "execution_count": null,
   "metadata": {
    "vscode": {
     "languageId": "r"
    }
   },
   "outputs": [],
   "source": [
    "# 문자열 추출하기 \n",
    "str01 <- \"abcdefghijklmnop\"\n",
    "substring(str01,2,5)\n",
    "str02 <- \"가나다라마바사\"\n",
    "substring(str02,2,5)"
   ]
  },
  {
   "cell_type": "markdown",
   "metadata": {},
   "source": [
    "# 행렬(matrix)\n",
    "- 2차원 자료를 저장하는 자료형 \n",
    "- 데이터 형태가 모두 일치 되어야 구성\n"
   ]
  },
  {
   "cell_type": "code",
   "execution_count": null,
   "metadata": {
    "vscode": {
     "languageId": "r"
    }
   },
   "outputs": [],
   "source": [
    "# 벡터를 이용하여 행렬 만들기\n",
    "vec1 <- c(1,2,3)\n",
    "vec2 <- c(4,5,6)\n",
    "vec3 <- c(7,8,9)\n",
    "# rbind : row bind\n",
    "mat1 <- rbind(vec1,vec2,vec3)\n",
    "\n",
    "# cbind : column bind\n",
    "mat2 <- cbind(vec1,vec2,vec3)\n",
    "mat2\n"
   ]
  },
  {
   "cell_type": "code",
   "execution_count": null,
   "metadata": {
    "vscode": {
     "languageId": "r"
    }
   },
   "outputs": [],
   "source": [
    "# iris 의 1~5번 데이터만 추출하기\n",
    "irisHead <- iris[1:5,]\n",
    "# 추출한 데이터의 row 에 1,1,1,1, setosa 추가하기 \n",
    "#irisHead\n",
    "irisHead <- rbind(irisHead,c(1,1,1,1,'setosa'))\n",
    "#irisHead\n",
    "colnames(irisHead)\n",
    "irisHead<-cbind(irisHead,abc=rep(2, each=nrow(irisHead)))\n",
    "names(irisHead[length(irisHead)])\n",
    "irisHead$Sepal.Length <- as.numeric(irisHead$Sepal.Length);\n",
    "irisHead$Sepal.Width <- as.numeric(irisHead$Sepal.Width);\n",
    "irisHead$Petal.Length <- as.numeric(irisHead$Petal.Length);\n",
    "irisHead$Petal.Width <- as.numeric(irisHead$Petal.Width);irisHead\n",
    "\n"
   ]
  },
  {
   "cell_type": "code",
   "execution_count": null,
   "metadata": {
    "vscode": {
     "languageId": "r"
    }
   },
   "outputs": [],
   "source": [
    "irisHead <- head(iris,5)\n",
    "irisHead\n",
    "Length <- irisHead$Sepal.Length +irisHead$Petal.Length; Length\n",
    "irisHead <-cbind(irisHead,Length); irisHead"
   ]
  },
  {
   "cell_type": "code",
   "execution_count": null,
   "metadata": {
    "vscode": {
     "languageId": "r"
    }
   },
   "outputs": [],
   "source": [
    "irisHead <- head(iris,5) # $ 는 생성자이다. \n",
    "irisHead$Length <- irisHead$Sepal.Length +irisHead$Petal.Length;\n",
    "irisHead"
   ]
  },
  {
   "cell_type": "code",
   "execution_count": null,
   "metadata": {
    "vscode": {
     "languageId": "r"
    }
   },
   "outputs": [],
   "source": [
    "sl <- iris$Sepal.Length\n",
    "sw <- iris$Sepal.Width # 벡터는 지가 알아서 반복한다. 이것이 리스트와의 차이이다. \n",
    "irisM <- cbind(sl,sw)\n",
    "head(irisM) # cbind 로 만드는것은 matrix 이다 . DataFrame 이 아님\n",
    "irisD <- as.data.frame(irisM); irisD"
   ]
  },
  {
   "cell_type": "code",
   "execution_count": null,
   "metadata": {
    "vscode": {
     "languageId": "r"
    }
   },
   "outputs": [],
   "source": [
    "str(irisD)\n",
    "str(irisM)"
   ]
  },
  {
   "cell_type": "code",
   "execution_count": null,
   "metadata": {
    "vscode": {
     "languageId": "r"
    }
   },
   "outputs": [],
   "source": [
    "mat1\n",
    "colnames(mat1) <- c(\"A\",\"B\",\"C\")\n",
    "mat1\n",
    "mat1D <- as.data.frame(mat1)\n",
    "mat1D\n",
    "class(mat1D)\n"
   ]
  },
  {
   "cell_type": "code",
   "execution_count": null,
   "metadata": {
    "vscode": {
     "languageId": "r"
    }
   },
   "outputs": [],
   "source": [
    "mat2\n",
    "rownames(mat2) <- 1:3\n",
    "mat2D <-as.data.frame(mat2)\n",
    "class(mat2D)"
   ]
  },
  {
   "cell_type": "code",
   "execution_count": null,
   "metadata": {
    "vscode": {
     "languageId": "r"
    }
   },
   "outputs": [],
   "source": [
    "mat1D\n",
    "mat2D\n",
    "# mat1D와 ㅡㅁ를 하나의 DataSet으로 만들기\n",
    "# column 이름이 다르면 Rbind 가 안됨 에러발생. -> colnames로 이름을 맞춘다. \n",
    "colnames(mat2D)<- colnames(mat1D)\n",
    "rbind(mat1D,mat2D)\n"
   ]
  },
  {
   "cell_type": "markdown",
   "metadata": {},
   "source": [
    "# 데이터프레임\n",
    "- 다양한 자료형으로 구성된 2차원 형태의 데이터 구조\n"
   ]
  },
  {
   "cell_type": "code",
   "execution_count": null,
   "metadata": {
    "vscode": {
     "languageId": "r"
    }
   },
   "outputs": [],
   "source": [
    "# 벡터로 데이터 프레임 만들기 ai 가 공부한 타입으로 물어봐야 알수있다. \n",
    "no <- 1:4\n",
    "name <- c(\"Apple\", \"Banana\", \"Peach\",\"Berry\")\n",
    "price <- c(500,400,300,200)\n",
    "qty <- c(5,2,7,9)\n",
    "fruit <- data.frame(번호 =no,상품명=name,가격=price,재고량=qty)\n",
    "fruit\n",
    "str(fruit)\n"
   ]
  },
  {
   "cell_type": "code",
   "execution_count": null,
   "metadata": {
    "vscode": {
     "languageId": "r"
    }
   },
   "outputs": [],
   "source": [
    "# fruit 에서 상품명과 재고량만 보기\n",
    "fruit[c(\"상품명\",\"재고량\")]"
   ]
  },
  {
   "cell_type": "code",
   "execution_count": null,
   "metadata": {
    "vscode": {
     "languageId": "r"
    }
   },
   "outputs": [],
   "source": [
    "# fruit 에서 번호를 제외한 모든 내용 보기\n",
    "fruit[,2:length(fruit)]"
   ]
  },
  {
   "cell_type": "code",
   "execution_count": null,
   "metadata": {
    "vscode": {
     "languageId": "r"
    }
   },
   "outputs": [],
   "source": [
    "# fruit에서 2,4번 행을 제외한 상품명, 금액, 재고량 만 출력하기 \n",
    "\n",
    "fruit[-c(2,4),-1]"
   ]
  },
  {
   "cell_type": "code",
   "execution_count": null,
   "metadata": {
    "vscode": {
     "languageId": "r"
    }
   },
   "outputs": [],
   "source": [
    "fruit<-fruit[-5]\n",
    "\n",
    "fruit$재고금액 <- fruit$가격*fruit$재고량; fruit"
   ]
  },
  {
   "cell_type": "code",
   "execution_count": null,
   "metadata": {
    "vscode": {
     "languageId": "r"
    }
   },
   "outputs": [],
   "source": [
    "fruit$원산지 <- c(\"한국\",\"태국\",\"한국\",\"중국\"); fruit"
   ]
  },
  {
   "cell_type": "markdown",
   "metadata": {
    "vscode": {
     "languageId": "r"
    }
   },
   "source": [
    "# 외부 File 불러오기\n"
   ]
  },
  {
   "cell_type": "code",
   "execution_count": null,
   "metadata": {
    "vscode": {
     "languageId": "r"
    }
   },
   "outputs": [],
   "source": [
    "#Sys.setlocale(category = \"LC_ALL\", locale = \"ko_KR.UTF-8\")\n",
    "temp<-read.table(\"../Data/emp.txt\",\n",
    "                        header = T,\n",
    "                        stringsAsFactors = F, \n",
    "                        fileEncoding = \"utf-8\")\n",
    "temp\n",
    "str(temp)"
   ]
  },
  {
   "cell_type": "code",
   "execution_count": null,
   "metadata": {
    "vscode": {
     "languageId": "r"
    }
   },
   "outputs": [],
   "source": [
    "csvEmp<- read.csv(\"../Data/emp2.csv\",\n",
    "                    header = F\n",
    "                )\n",
    "csvEmp\n",
    "# 칼럼명을 사번, 이름, 급여로 변경하기\n",
    "colnames(csvEmp)<-c(\"사번\", \"이름\",\"급여\")\n",
    "csvEmp"
   ]
  },
  {
   "cell_type": "code",
   "execution_count": null,
   "metadata": {
    "vscode": {
     "languageId": "r"
    }
   },
   "outputs": [],
   "source": [
    "# 칼럼이 몇개?\n",
    "ncol(csvEmp)\n",
    "# Row  가 몇개\n",
    "nrow(csvEmp)"
   ]
  },
  {
   "cell_type": "code",
   "execution_count": null,
   "metadata": {
    "vscode": {
     "languageId": "r"
    }
   },
   "outputs": [],
   "source": [
    "df <- data.frame(x= 1:5,\n",
    "                 y= seq(2,10,2),\n",
    "                 z= c('a','b','c','d','e'))\n",
    "df"
   ]
  },
  {
   "cell_type": "code",
   "execution_count": null,
   "metadata": {
    "vscode": {
     "languageId": "r"
    }
   },
   "outputs": [],
   "source": [
    "# x,y, 컬럼의 합계 구하기\n",
    "sum(df$x); sum(df$y)"
   ]
  },
  {
   "cell_type": "markdown",
   "metadata": {},
   "source": [
    "### 함수를 부르는 함수\n"
   ]
  },
  {
   "cell_type": "code",
   "execution_count": null,
   "metadata": {
    "vscode": {
     "languageId": "r"
    }
   },
   "outputs": [],
   "source": [
    "# 열방향\n",
    "apply(df[,1:2],2,sum)\n",
    "apply(df[,1:2],2,mean)\n",
    "apply(df[,1:2],2,sd)\n"
   ]
  },
  {
   "cell_type": "code",
   "execution_count": null,
   "metadata": {
    "vscode": {
     "languageId": "r"
    }
   },
   "outputs": [],
   "source": [
    "# 행방향\n",
    "apply(df[,1:2],1, sum)\n"
   ]
  },
  {
   "cell_type": "code",
   "execution_count": null,
   "metadata": {
    "vscode": {
     "languageId": "r"
    }
   },
   "outputs": [],
   "source": [
    "df$Hap <- apply(df[,1:2],1,sum); df\n"
   ]
  },
  {
   "cell_type": "code",
   "execution_count": null,
   "metadata": {
    "vscode": {
     "languageId": "r"
    }
   },
   "outputs": [],
   "source": [
    "#부분집합\n",
    "sub<-subset(df,x >= 3 & y>=8) # 조건검색 select\n",
    "nrow(subset(df,x>=3& y>=8))\n",
    "sub\n",
    "# x 이 3이상이고 Y이 8 이상인 데이터중 x와 y 의 합계는?\n",
    "sub$Hap\n",
    "#apply(sub[,1:2],1,sum+mean)\n",
    "help(apply)\n"
   ]
  },
  {
   "cell_type": "markdown",
   "metadata": {},
   "source": [
    "## 두개 이상의 데이터프레임 병합하기"
   ]
  },
  {
   "cell_type": "code",
   "execution_count": null,
   "metadata": {
    "vscode": {
     "languageId": "r"
    }
   },
   "outputs": [],
   "source": [
    "# case 1: Key값이 되는 칼럼이 동일하고 data의 갯수도 동일한 경우 \n",
    "height <- data.frame(id= 1:3,\n",
    "                    height = c(160,170,180))\n",
    "height\n",
    "weight <- data.frame(ad= c(2,1,3),\n",
    "                    weight =c(70,60,80)\n",
    "                    )\n",
    "weight                    \n",
    "merge(height,weight)   ## 뒤죽박죽도 알아서 맞춰서 병합해줌.                  "
   ]
  },
  {
   "cell_type": "code",
   "execution_count": null,
   "metadata": {
    "vscode": {
     "languageId": "r"
    }
   },
   "outputs": [],
   "source": [
    "# case 1: Key값이 되는 칼럼이 동일하고 data의 갯수 동일하지  경우 \n",
    "height <- data.frame(id= 1:3,\n",
    "                    height = c(160,170,180))\n",
    "height\n",
    "weight <- data.frame(ad= c(2,1,3),\n",
    "                    weight =c(70,60)\n",
    "                    )\n",
    "weight                    \n",
    "merge(height,weight)   ## 뒤죽박죽도 알아서 맞춰서 병합해줌.      "
   ]
  },
  {
   "cell_type": "code",
   "execution_count": null,
   "metadata": {
    "vscode": {
     "languageId": "r"
    }
   },
   "outputs": [],
   "source": []
  },
  {
   "cell_type": "code",
   "execution_count": null,
   "metadata": {
    "vscode": {
     "languageId": "r"
    }
   },
   "outputs": [],
   "source": [
    "#key 를 정의하기 : data가 적은쪽의 기준으로 merge gksek. \n",
    "merge(x =height,y =weight, by.x = \"id\", by.y =\"ad\", all.x = T)"
   ]
  },
  {
   "cell_type": "markdown",
   "metadata": {},
   "source": [
    "### 행렬함수로 행렬(matri) 만들기\n"
   ]
  },
  {
   "cell_type": "code",
   "execution_count": null,
   "metadata": {
    "vscode": {
     "languageId": "r"
    }
   },
   "outputs": [],
   "source": [
    "#matrix(1:10)\n",
    "matrix(1:10, nrow= 2)\n",
    "t(matrix(1:9, nrow=3, ncol=3))"
   ]
  },
  {
   "cell_type": "markdown",
   "metadata": {},
   "source": [
    "## List\n",
    "- 성격이 다른 자료구조로 생성이 가능하다. \n",
    "- key 와 value값으로 구성된다. => dictionary\n",
    "- dataframe 한줄 이라고 생각\n",
    "- 앱에서 ai 한테 물어보는방식이 list 가 편하다."
   ]
  },
  {
   "cell_type": "code",
   "execution_count": null,
   "metadata": {
    "vscode": {
     "languageId": "r"
    }
   },
   "outputs": [],
   "source": [
    "member <- list(name= \"홍길동\",address<-\"서울\", tel<- \"010-7722-1592\", pay =300)\n",
    "member\n",
    "member$name\n",
    "member$birth <-\"1988-10-27\"\n",
    "member"
   ]
  },
  {
   "cell_type": "markdown",
   "metadata": {},
   "source": [
    "---\n",
    "# 문자열 처리\n",
    "수집한 데이터의 필요한 문자열을 자르고, 교체하고, 추출하는 작업 \n",
    "## stringr package 사용\n",
    "- str_length() : 문자열 길이\n",
    "- str_c() : 문자열 연결\n",
    "- str_sub() : 범위에 해당하는 문자열을 생성\n",
    "- str_split() : 구분자를 기준으로 문자열을 분리하여 부분 생성\n",
    "- str_replace() : 기존 문자열을 특정 문자열로 변환\n",
    "- str_extract() : 문자열에서 특정 문자열 패턴의 첫번째 문자열 추출( 1개만 가져옴)\n",
    "- str_extract_all() : \n",
    "- str_locate() : 문자열에서 특정 문자열 패턴의 첫번째 위치 추출\n",
    "- str_locate_all() : \n"
   ]
  },
  {
   "cell_type": "code",
   "execution_count": null,
   "metadata": {
    "vscode": {
     "languageId": "r"
    }
   },
   "outputs": [],
   "source": [
    "# 패키지 불러오기 패키지 불러오기는 노트당 한번! 설치는 pc 당 한번\n",
    "#install.packages(\"stringr\")\n",
    "library(stringr)\n"
   ]
  },
  {
   "cell_type": "code",
   "execution_count": null,
   "metadata": {
    "vscode": {
     "languageId": "r"
    }
   },
   "outputs": [],
   "source": [
    "string <- \"hongkildong105youbee1002kwanwoo25장비2005\""
   ]
  },
  {
   "cell_type": "code",
   "execution_count": null,
   "metadata": {
    "vscode": {
     "languageId": "r"
    }
   },
   "outputs": [],
   "source": [
    "# a ~z 까지의 영문자가 연속으로 3개 발견된 문자열 추출\n",
    "str_extract_all(string, \"[a-z]{3}\") #list 임. \n",
    "# a ~z 까지의 영문자가 연속으로 3개~5개 발견된 문자열 추출\n",
    "str_extract_all(string, \"[a-z]{3,5}\") #list 임. \n"
   ]
  },
  {
   "cell_type": "code",
   "execution_count": null,
   "metadata": {
    "vscode": {
     "languageId": "r"
    }
   },
   "outputs": [],
   "source": [
    "# 영문만 추출하기\n",
    "aaa<- str_extract_all(string, \"[a-z]{1,}\")\n",
    "aaa\n",
    "unlist(aaa)[1]\n",
    "string\n",
    "bbb<-str_extract_all(string, \"[0-9]{1,}\")\n",
    "typeof(as.numeric(unlist(bbb)))\n"
   ]
  },
  {
   "cell_type": "code",
   "execution_count": null,
   "metadata": {
    "vscode": {
     "languageId": "r"
    }
   },
   "outputs": [],
   "source": [
    "# 한글만 추출하기\n",
    "as.character(unlist(str_extract_all(string, \"[가-힣]{1,}\")))"
   ]
  },
  {
   "cell_type": "code",
   "execution_count": null,
   "metadata": {
    "vscode": {
     "languageId": "r"
    }
   },
   "outputs": [],
   "source": [
    "#영문자를 제외한 문자 출력하기 \n",
    "str_extract_all(string, \"[^a-z]{1,}\")\n"
   ]
  },
  {
   "cell_type": "code",
   "execution_count": null,
   "metadata": {
    "vscode": {
     "languageId": "r"
    }
   },
   "outputs": [],
   "source": [
    "# 문자열 길이 구하기 \n",
    "str_length(string)"
   ]
  },
  {
   "cell_type": "code",
   "execution_count": null,
   "metadata": {
    "vscode": {
     "languageId": "r"
    }
   },
   "outputs": [],
   "source": [
    "# 문자열 위치 구하기 특정 문자 앞에 있는 데이터만 가지고 작업하고싶을때 등등,.,\n",
    "str_locate(string,\"장비\")"
   ]
  },
  {
   "cell_type": "code",
   "execution_count": null,
   "metadata": {
    "vscode": {
     "languageId": "r"
    }
   },
   "outputs": [],
   "source": [
    "# 부분 문자열 추출\n",
    "str_sub(string,1,str_locate(string,\"장비\")[1]-1)"
   ]
  },
  {
   "cell_type": "code",
   "execution_count": null,
   "metadata": {
    "vscode": {
     "languageId": "r"
    }
   },
   "outputs": [],
   "source": [
    "str_to_upper(string)"
   ]
  },
  {
   "cell_type": "code",
   "execution_count": null,
   "metadata": {
    "vscode": {
     "languageId": "r"
    }
   },
   "outputs": [],
   "source": [
    "#문자열 교체하기\n",
    "string <- str_replace(string,\"hongkildong105\",\"홍길동35,\")\n",
    "string <- str_replace(string,\"youbee1002\", \"유비45,\")\n",
    "string <- str_replace(string,\"kwanwoo25\", \"관우25,\")\n",
    "string <- str_replace(string, \"2005\",\"20\")\n",
    "string"
   ]
  },
  {
   "cell_type": "code",
   "execution_count": null,
   "metadata": {
    "vscode": {
     "languageId": "r"
    }
   },
   "outputs": [],
   "source": [
    "# 문자열 분리하기\n",
    "unlist(str_split(string ,\",\"))"
   ]
  },
  {
   "cell_type": "code",
   "execution_count": null,
   "metadata": {
    "vscode": {
     "languageId": "r"
    }
   },
   "outputs": [],
   "source": [
    "# 천단위 쉬표가 들어간 문자열을 숫자로 변경하기\n",
    "price <- \"123,456,879\"\n",
    "as.numeric(unlist(str_replace_all(price,\",\",\"\")))\n",
    "as.numeric(str_remove_all(price,\",\"))\n"
   ]
  },
  {
   "cell_type": "code",
   "execution_count": null,
   "metadata": {
    "vscode": {
     "languageId": "r"
    }
   },
   "outputs": [],
   "source": [
    "#NA 를 변경하기\n",
    "temp <- c(1,2,NA,4)\n",
    "temp\n",
    "str_replace_na(temp)\n",
    "as.numeric(str_replace_all(str_replace_na(temp), 'NA','99'))"
   ]
  },
  {
   "cell_type": "code",
   "execution_count": null,
   "metadata": {
    "vscode": {
     "languageId": "r"
    }
   },
   "outputs": [],
   "source": [
    "# NA 를 제거하기 \n",
    "temp <- c(1,2,NA, 4)\n",
    "temp\n",
    "na.omit(temp)"
   ]
  },
  {
   "cell_type": "code",
   "execution_count": null,
   "metadata": {
    "vscode": {
     "languageId": "r"
    }
   },
   "outputs": [],
   "source": []
  }
 ],
 "metadata": {
  "kernelspec": {
   "display_name": "R",
   "language": "R",
   "name": "r"
  },
  "language_info": {
   "codemirror_mode": "r",
   "file_extension": ".r",
   "mimetype": "text/x-r-source",
   "name": "R",
   "pygments_lexer": "r",
   "version": "4.3.3"
  }
 },
 "nbformat": 4,
 "nbformat_minor": 2
}

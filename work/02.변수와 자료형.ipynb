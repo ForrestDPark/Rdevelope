{
 "cells": [
  {
   "cell_type": "markdown",
   "metadata": {},
   "source": [
    "# 변수와 자료형\n",
    "\n",
    "### 변수\n",
    "분석에 필요한 자료를 일시적으로 저장하거나 처리결과를 담을 수 있는 기억장소를 지정해 주는 역할 <br>\n",
    "변수 이름은 값을 지정하는 메모리 영역의 이름으로 할당. \n",
    "(1) 변수 이름의 작성 규칙\n",
    "- 첫자는 영문으로 시작.\n",
    "- 첫자를 제외하고 숫자, under bar, dot 를 사용할 수 있음.\n",
    "- 대문자와 소문자를 구분\n",
    "- 변수 이름은 의미를 파악 할 수 있는 이름으로 지정하는 것이 좋다. \n",
    "- 두 단어를 포함한 변수 이름을 지정할 경우 camel이나 snake 기법을 사용해야 가독성이 좋아진다. "
   ]
  },
  {
   "cell_type": "code",
   "execution_count": null,
   "metadata": {
    "vscode": {
     "languageId": "r"
    }
   },
   "outputs": [],
   "source": [
    "var1 <- 2\n",
    "var1 <-1.1\n",
    "var1 <- \"Apple\""
   ]
  },
  {
   "cell_type": "code",
   "execution_count": null,
   "metadata": {
    "vscode": {
     "languageId": "r"
    }
   },
   "outputs": [],
   "source": [
    "var1"
   ]
  },
  {
   "cell_type": "code",
   "execution_count": null,
   "metadata": {
    "vscode": {
     "languageId": "r"
    }
   },
   "outputs": [],
   "source": [
    "# 벡터와 함수 사용하기 R에서 말하는 벡터는 자바에서 말하는 list 라고한다. \n",
    "head(iris)"
   ]
  },
  {
   "cell_type": "code",
   "execution_count": null,
   "metadata": {
    "vscode": {
     "languageId": "r"
    }
   },
   "outputs": [],
   "source": [
    "#dataframe 은 벡터들의 집합이다. []\n",
    "iris$Sepal.Length"
   ]
  },
  {
   "cell_type": "code",
   "execution_count": null,
   "metadata": {
    "vscode": {
     "languageId": "r"
    }
   },
   "outputs": [],
   "source": [
    "sum(iris$Sepal.Length)\n"
   ]
  },
  {
   "cell_type": "code",
   "execution_count": null,
   "metadata": {
    "vscode": {
     "languageId": "r"
    }
   },
   "outputs": [],
   "source": [
    "sum(iris$Sepal.Length[1:50]) # Setosa\n",
    "sum(iris$Sepal.Length[51:100]) # Versicolor\n",
    "sum(iris$Sepal.Length[101:150]) # Virginica"
   ]
  },
  {
   "cell_type": "code",
   "execution_count": null,
   "metadata": {
    "vscode": {
     "languageId": "r"
    }
   },
   "outputs": [],
   "source": [
    "1:100\n",
    "sum(1:100)"
   ]
  },
  {
   "cell_type": "code",
   "execution_count": null,
   "metadata": {
    "vscode": {
     "languageId": "r"
    }
   },
   "outputs": [],
   "source": [
    "1:100[1]\n",
    "(1:100)[1]"
   ]
  },
  {
   "cell_type": "code",
   "execution_count": null,
   "metadata": {
    "vscode": {
     "languageId": "r"
    }
   },
   "outputs": [],
   "source": [
    "num1 <- 10 # scalar 변수 지만 r에는 스칼라가 없다. \n",
    "num1\n",
    "num1[1]\n",
    "num1[2] # NA nat available\n"
   ]
  },
  {
   "cell_type": "code",
   "execution_count": null,
   "metadata": {
    "vscode": {
     "languageId": "r"
    }
   },
   "outputs": [],
   "source": [
    "# 벡터 변수의 사용  벡터만 알면 알 90 프로 끝난것이다. 리스트야. 인덱스가 잇는 데이터 집단이라고 생각하면 되\n",
    "num2 <- c(10,20,30) # verctor 는 무조건 1차원 데이터이다. c 는combine 함수. \n",
    "num3 <- 1:3 # : 도 vector 만드는 함수이다. combine 도 벡터만드는 함수이다. \n",
    "sum(num2, num3)\n",
    "num2[1]"
   ]
  },
  {
   "cell_type": "code",
   "execution_count": null,
   "metadata": {
    "vscode": {
     "languageId": "r"
    }
   },
   "outputs": [],
   "source": [
    "# NA(결측치) 데이터가 있어야하는데 없는 부분, 측정이 빠진 부분.  NA 가 하나라도 있으면 sum 이 안됨. \n",
    "# 이상치. 점수가 120 점이거나 -20 점이 있을때 \n",
    "# 분석가드릉ㄴ 결측치를 대체할때 무엇으로 대체하느냐가 문제이다. 평균으로 대체하는것은 하수다. 평균은 계산치이기때문이다. \n",
    "# 그냥 지워버리면 데이터 개수가 줄어든다. 신뢰도 하락. \n",
    "# 데이터를 차트별로 다 찍어보면서 NA 를 유추하면서 근사값을  얻어야한다. \n",
    "sum(10,20,30,NA)\n",
    "sum(10,20,30,na.rm = T)"
   ]
  },
  {
   "cell_type": "code",
   "execution_count": null,
   "metadata": {
    "vscode": {
     "languageId": "r"
    }
   },
   "outputs": [],
   "source": [
    "# 논리연산자 : & |\n"
   ]
  },
  {
   "cell_type": "markdown",
   "metadata": {},
   "source": [
    "### 자료형 확인\n"
   ]
  },
  {
   "cell_type": "markdown",
   "metadata": {},
   "source": []
  },
  {
   "cell_type": "code",
   "execution_count": null,
   "metadata": {
    "vscode": {
     "languageId": "r"
    }
   },
   "outputs": [],
   "source": [
    "is.numeric(iris$Sepal.Length) #수치형?\n",
    "is.integer(iris$Sepal.Length) #정수형?\n",
    "is.double(iris$Sepal.Length) #실수형?\n",
    "is.logical(iris$Sepal.Length) #논리형? -> bool\n",
    "is.data.frame(iris) # 데이터 프레임?\n",
    "is.factor(iris$Species) # 문자와 숫자를 같이 쓸수있는 알만의 데이터 타입\n",
    "is.na(iris) # data 마다 다 있음.  R에서의 True 는 1 false 는 0 이다 sum 0 이면 na 가 없다는 뜻. \n",
    "sum(is.na(iris))"
   ]
  },
  {
   "cell_type": "code",
   "execution_count": null,
   "metadata": {
    "vscode": {
     "languageId": "r"
    }
   },
   "outputs": [],
   "source": [
    "class(iris$Sepal.Length)\n",
    "class(iris)\n",
    "class(iris$Species)"
   ]
  },
  {
   "cell_type": "code",
   "execution_count": null,
   "metadata": {
    "vscode": {
     "languageId": "r"
    }
   },
   "outputs": [],
   "source": [
    "var1 <- 1\n",
    "class(var1)\n",
    "var1 <- 1.2\n",
    "class(var1)\n",
    "var1 <-\"apple\"\n",
    "class(var1)"
   ]
  },
  {
   "cell_type": "markdown",
   "metadata": {},
   "source": [
    "### 자료구조 확인하기\n"
   ]
  },
  {
   "cell_type": "code",
   "execution_count": null,
   "metadata": {
    "vscode": {
     "languageId": "r"
    }
   },
   "outputs": [],
   "source": [
    "# head 보고 tail 본다음 하는것. 컬럼들이 어떻게 생겼는지 무슨 타입인지 확인하고 structure 를 봐야한다. 다하고 가설만들고 차트만들고 증명해가는 과정이다. \n",
    "\n",
    "str(iris)"
   ]
  },
  {
   "cell_type": "code",
   "execution_count": null,
   "metadata": {
    "vscode": {
     "languageId": "r"
    }
   },
   "outputs": [],
   "source": [
    "# 자료형 확인\n",
    "num1 <-\"12345\"\n",
    "is.numeric(num1)"
   ]
  },
  {
   "cell_type": "code",
   "execution_count": null,
   "metadata": {
    "vscode": {
     "languageId": "r"
    }
   },
   "outputs": [],
   "source": [
    "num1 <- c(1,2,3,\"4\")\n",
    "is.numeric(num1)\n",
    "num1 # 1억 오천개 중에 하나만 string 이어도 다 문자형으로 바뀐다. \n",
    "class(num1)"
   ]
  },
  {
   "cell_type": "markdown",
   "metadata": {},
   "source": [
    "### 자료형 변환\n",
    "- as.numeric(x) : x 를 수치형으로 변환\n",
    "- as.integer(x)  \n",
    "- as.logical(x)\n",
    "- as.double(x)\n",
    "- as.data.frame(x)\n",
    "- as.factor(x)\n",
    "- as.Date(x)  날자는 기본이 string으로 되어있음. 시계열 분석에서 많이 필요함. 내가 string 을 date type 으로 바꾸어서 사용하는것이다. "
   ]
  },
  {
   "cell_type": "code",
   "execution_count": null,
   "metadata": {
    "vscode": {
     "languageId": "r"
    }
   },
   "outputs": [],
   "source": [
    "num1 <- c(1,2,3,\"4\")\n",
    "class(num1)\n",
    "num2 <- as.numeric(num1)\n",
    "\n",
    "class(num2)\n",
    "sum(num2)"
   ]
  },
  {
   "cell_type": "markdown",
   "metadata": {},
   "source": [
    "### 요인형(범주형) 변환 factor\n",
    "요인 (factor)는 동일한 값의 목록을 범주로 갖는 벡터 자료\n",
    "요인형 변수는 문자와 숫자를 동시에 가지고 있어서 계산에도 사용이 됨. \n",
    "범주는 변수가 가질 수 있는 범위()\n"
   ]
  },
  {
   "cell_type": "code",
   "execution_count": null,
   "metadata": {
    "vscode": {
     "languageId": "r"
    }
   },
   "outputs": [],
   "source": [
    "gender <- c(\"man\",\"woman\",\"woman\",\"man\",\"man\")\n",
    "gender \n",
    "class(gender)\n"
   ]
  },
  {
   "cell_type": "code",
   "execution_count": null,
   "metadata": {
    "vscode": {
     "languageId": "r"
    }
   },
   "outputs": [],
   "source": [
    "# 빈도수 확인하기\n",
    "table(gender)"
   ]
  },
  {
   "cell_type": "code",
   "execution_count": null,
   "metadata": {
    "vscode": {
     "languageId": "r"
    }
   },
   "outputs": [],
   "source": [
    "# 문자열 데이터를 Factor 로 변환\n",
    "Ngender <- as.factor(gender)\n",
    "Ngender"
   ]
  },
  {
   "cell_type": "code",
   "execution_count": null,
   "metadata": {
    "vscode": {
     "languageId": "r"
    }
   },
   "outputs": [],
   "source": [
    "table(Ngender)"
   ]
  },
  {
   "cell_type": "code",
   "execution_count": null,
   "metadata": {
    "vscode": {
     "languageId": "r"
    }
   },
   "outputs": [],
   "source": [
    "plot(Ngender)"
   ]
  },
  {
   "cell_type": "code",
   "execution_count": null,
   "metadata": {
    "vscode": {
     "languageId": "r"
    }
   },
   "outputs": [],
   "source": [
    "str(Ngender)"
   ]
  },
  {
   "cell_type": "markdown",
   "metadata": {},
   "source": [
    "### 날짜형 변환"
   ]
  },
  {
   "cell_type": "code",
   "execution_count": null,
   "metadata": {
    "vscode": {
     "languageId": "r"
    }
   },
   "outputs": [],
   "source": [
    "date1<- \"17/02/28\"\n",
    "\n",
    "date1"
   ]
  },
  {
   "cell_type": "code",
   "execution_count": null,
   "metadata": {
    "vscode": {
     "languageId": "r"
    }
   },
   "outputs": [],
   "source": [
    "# 문자데이터를 날짜 데이터로 변환\n",
    "as.Date(\"17/02/28\",\"%y/%m/%d\")\n",
    "as.Date(\"17-02-28\",\"%y-%m-%d\")"
   ]
  },
  {
   "cell_type": "code",
   "execution_count": null,
   "metadata": {
    "vscode": {
     "languageId": "r"
    }
   },
   "outputs": [],
   "source": [
    "as.Date(\"2028/12/31\", \"%Y/%m/%d\") #대문자 Y 는 네자리 소문자는 두자리\n"
   ]
  },
  {
   "cell_type": "code",
   "execution_count": null,
   "metadata": {
    "vscode": {
     "languageId": "r"
    }
   },
   "outputs": [],
   "source": [
    "as.Date(\"2028/12/31\")"
   ]
  },
  {
   "cell_type": "code",
   "execution_count": null,
   "metadata": {
    "vscode": {
     "languageId": "r"
    }
   },
   "outputs": [],
   "source": [
    "datas <- c(\"02/28/17\", \"02/29/17\", \"03/01/17\")\n",
    "as.Date(datas, \"%m/%d/%y\")"
   ]
  },
  {
   "cell_type": "code",
   "execution_count": null,
   "metadata": {
    "vscode": {
     "languageId": "r"
    }
   },
   "outputs": [],
   "source": [
    "#날짜 계산\n",
    "myDates <- as.Date(c(\"2023-11-20\", \"2024-03-04\"))\n",
    "myDates[2]-myDates[1]\n",
    "# 요일 출력\n",
    "weekdays(myDates)"
   ]
  },
  {
   "cell_type": "code",
   "execution_count": null,
   "metadata": {
    "vscode": {
     "languageId": "r"
    }
   },
   "outputs": [],
   "source": [
    "Sys.setlocale(category= \"LC_ALL\", locale =\"ko_KR.UTF-8\")"
   ]
  },
  {
   "cell_type": "code",
   "execution_count": null,
   "metadata": {
    "vscode": {
     "languageId": "r"
    }
   },
   "outputs": [],
   "source": [
    "weekdays(myDates)"
   ]
  },
  {
   "cell_type": "code",
   "execution_count": null,
   "metadata": {
    "vscode": {
     "languageId": "r"
    }
   },
   "outputs": [],
   "source": [
    "#현재일자 기준으로 날짜 계산하기\n",
    "# 현재일자\n",
    "Sys.Date()\n",
    "class(Sys.Date())\n",
    "Sys.Date() - as.Date(\"1988-10-27\")"
   ]
  },
  {
   "cell_type": "markdown",
   "metadata": {},
   "source": [
    "----\n",
    "# Vector 자료 구조\n",
    "벡터는 R에서 가장 기본이 되는 자료구조 이다. \n",
    "- 1차원 선형 자료 구조 형태\n",
    "- 구성 : 변수[첨자] 형태로 구성, 첨자(index)는 1부터 시작한다. \n",
    "- 동일한 자료형의 데이터만 저장할 수 있다. \n",
    "- 벡터 생성 함수 :c(), :, 순서를 준다. -> seq(), rep() <- repeat 범위를 줘서 반복\n",
    "- 벡터 처리 함수 :sum(), mean(), sd(), union()"
   ]
  },
  {
   "cell_type": "code",
   "execution_count": null,
   "metadata": {
    "vscode": {
     "languageId": "r"
    }
   },
   "outputs": [],
   "source": [
    "# iris의 Sepal.Length 칼럼의 내용을 1차원 벡터로 만들기 \n",
    "irisSepalLength <-iris$Sepal.Length\n",
    "irisSepalLength"
   ]
  },
  {
   "cell_type": "code",
   "execution_count": null,
   "metadata": {
    "vscode": {
     "languageId": "r"
    }
   },
   "outputs": [],
   "source": [
    "# Vector 인지 확인하기\n",
    "is.vector(irisSepalLength)\n"
   ]
  },
  {
   "cell_type": "code",
   "execution_count": null,
   "metadata": {
    "vscode": {
     "languageId": "r"
    }
   },
   "outputs": [],
   "source": [
    "# irisSepalLength합계 구하기\n",
    "sum(irisSepalLength)\n",
    "# irisSepalLength 평균 구하기\n",
    "mean(irisSepalLength)\n",
    " # irisSepalLength 최대값 구하기\n",
    " max(irisSepalLength)\n",
    " # irisSepalLength최소값 구하기\n",
    " min(irisSepalLength)"
   ]
  },
  {
   "cell_type": "code",
   "execution_count": null,
   "metadata": {
    "vscode": {
     "languageId": "r"
    }
   },
   "outputs": [],
   "source": [
    "# irisSepalLength 범위 구하기\n",
    "range(irisSepalLength)\n",
    "# irisSepalLength 표준 편차 구하기\n",
    "sd(irisSepalLength)"
   ]
  },
  {
   "cell_type": "code",
   "execution_count": null,
   "metadata": {
    "vscode": {
     "languageId": "r"
    }
   },
   "outputs": [],
   "source": [
    "# 필요한 데이터만 보기\n",
    "# irisSepalLength의 1번 데이터만 보기\n",
    "irisSepalLength[1]\n",
    "# irisSepalLength 의 1번, 10번, 11번 데이터만 보기\n",
    "irisSepalLength[c(1,10,11)] # 대괄호 에 컴마가 들어가면 차원이 늘어나는것이다. 벡터를 집어넣어야한다. \n",
    "# irisSepalLength의 1,10,11 번 데이터의 합계구하기\n",
    "sum(irisSepalLength[c(1,10,11)])\n",
    "# irisSepalLength의 1~10번지의 합계구하기\n",
    "sum(irisSepalLength[1:10])\n",
    "#irisSepalLength 1~20번지 , 30 번지, 40 번지 합계 구하기\n",
    "sum(irisSepalLength[c(1:20,30,40)])\n",
    "\n",
    "\n",
    "\n"
   ]
  },
  {
   "cell_type": "code",
   "execution_count": null,
   "metadata": {
    "vscode": {
     "languageId": "r"
    }
   },
   "outputs": [],
   "source": [
    "# 벡터형 자료의 일부를 변경 ( NA 변경할때 주로 쓰임)\n",
    "x <- c(10,20,30,40,50)\n",
    "x\n",
    "y <- replace(x, c(2,4), c(200,400))\n",
    "y"
   ]
  },
  {
   "cell_type": "code",
   "execution_count": null,
   "metadata": {
    "vscode": {
     "languageId": "r"
    }
   },
   "outputs": [],
   "source": [
    "# 초기갑, 최종값, 증가값으로 구성되는 벡터 생성 함수\n",
    "seq(1,10,0.5)"
   ]
  },
  {
   "cell_type": "code",
   "execution_count": null,
   "metadata": {
    "vscode": {
     "languageId": "r"
    }
   },
   "outputs": [],
   "source": [
    "# 1~10 까지의 홀수, 1~10, 50,60 의 합계 구하기\n",
    "sum(c(seq(1,10,2),1:10,50,60))"
   ]
  },
  {
   "cell_type": "code",
   "execution_count": null,
   "metadata": {
    "vscode": {
     "languageId": "r"
    }
   },
   "outputs": [],
   "source": [
    "# 반복\n",
    "rep(1:3,3)\n",
    "c(rep(\"red\",3),\"blue\")\n",
    "rep(1:3,each=3) # 각각 세번 "
   ]
  },
  {
   "cell_type": "code",
   "execution_count": null,
   "metadata": {
    "vscode": {
     "languageId": "r"
    }
   },
   "outputs": [],
   "source": [
    "#1~ 20 까지의 숫자중 짝수만 2번 반복하여 합계 구하기\n",
    "sum(c(rep(seq(0,20,2),each=2),seq(1,20,2)))"
   ]
  },
  {
   "cell_type": "markdown",
   "metadata": {},
   "source": [
    "# 벡터 자료처리"
   ]
  },
  {
   "cell_type": "code",
   "execution_count": null,
   "metadata": {
    "vscode": {
     "languageId": "r"
    }
   },
   "outputs": [],
   "source": [
    "#합집합\n",
    "x <-c(1,2)\n",
    "y <- c(2,3)\n",
    "\n",
    "union(x,y) # 합집합\n",
    "intersect(x,y) # 교집합\n",
    "setdiff(x,y) # 차집합"
   ]
  },
  {
   "cell_type": "code",
   "execution_count": null,
   "metadata": {
    "vscode": {
     "languageId": "r"
    }
   },
   "outputs": [],
   "source": [
    "# 벡터 자료 정렬\n",
    "sample(1:45,6) # 중복없는 뽑기.\n",
    "sample(1:10,10 )# 숫자 믹스\n",
    "sort(sample(1:10,10)) # 기본 정렬 오름차순 asc \n",
    "sort(sample(1:10,10),decreasing = T)"
   ]
  },
  {
   "cell_type": "code",
   "execution_count": null,
   "metadata": {
    "vscode": {
     "languageId": "r"
    }
   },
   "outputs": [],
   "source": [
    "#벡터의 집합 연산\n",
    "x <- sort(sample(1:99,9)); x\n",
    "y <- sort(sample(3:60,7));y"
   ]
  },
  {
   "cell_type": "code",
   "execution_count": null,
   "metadata": {
    "vscode": {
     "languageId": "r"
    }
   },
   "outputs": [],
   "source": [
    "# 같은 집합 인가?\n",
    "setequal(x,y)"
   ]
  },
  {
   "cell_type": "code",
   "execution_count": null,
   "metadata": {
    "vscode": {
     "languageId": "r"
    }
   },
   "outputs": [],
   "source": [
    "# 12 는 x 에 포함되었는가?\n",
    "is.element(12,x)"
   ]
  },
  {
   "cell_type": "code",
   "execution_count": null,
   "metadata": {
    "vscode": {
     "languageId": "r"
    }
   },
   "outputs": [],
   "source": [
    "# 벡터의 길이\n",
    "length(x)\n"
   ]
  },
  {
   "cell_type": "code",
   "execution_count": null,
   "metadata": {
    "vscode": {
     "languageId": "r"
    }
   },
   "outputs": [],
   "source": [
    "# iris의 Sepal.Length와 Petal.Length의 교집합의 개수?\n",
    "ISL <- iris$Sepal.Length;\n",
    "IPL <- iris$Petal.Length;\n",
    "intersectNumOfISLandIPL <-intersect(ISL,IPL) # ISL, IPL 교집합 \n",
    "length(intersectNumOfISLandIPL)\n"
   ]
  },
  {
   "cell_type": "code",
   "execution_count": null,
   "metadata": {
    "vscode": {
     "languageId": "r"
    }
   },
   "outputs": [],
   "source": [
    "# 벡터에 이름 설정하기\n",
    "age <- c(30,35,50)\n",
    "age\n",
    "names(age) <- c(\"유비\",\"관우\",\"장비\")\n",
    "age"
   ]
  },
  {
   "cell_type": "markdown",
   "metadata": {},
   "source": [
    "### 문자열 벡터"
   ]
  },
  {
   "cell_type": "code",
   "execution_count": null,
   "metadata": {
    "vscode": {
     "languageId": "r"
    }
   },
   "outputs": [],
   "source": [
    "x <- rep(c('a','b','c'),4)\n",
    "x"
   ]
  },
  {
   "cell_type": "code",
   "execution_count": null,
   "metadata": {
    "vscode": {
     "languageId": "r"
    }
   },
   "outputs": [],
   "source": [
    "# 중복값을 제외하고 보기\n",
    "unique(x)"
   ]
  },
  {
   "cell_type": "code",
   "execution_count": null,
   "metadata": {
    "vscode": {
     "languageId": "r"
    }
   },
   "outputs": [],
   "source": [
    "# iris의 품종이 몇 종류인지 확인하기\n",
    "unique(iris$Species)"
   ]
  },
  {
   "cell_type": "code",
   "execution_count": null,
   "metadata": {
    "vscode": {
     "languageId": "r"
    }
   },
   "outputs": [],
   "source": [
    "name <- c(\"Apple\" , \"Computer\" , \"Samsung\", \"Communication\")\n",
    "# name 에서 Co를 가지고 있는 단어의 번지수 \n",
    "grep(\"Co\",name)\n",
    "# name 에서 Co를 가지고 있는 단어는?\n",
    "name[grep(\"Co\",name)]\n",
    "# name 에서 om 을 가지고 있는 단어는?\n",
    "name[grep(\"om\",name)]"
   ]
  },
  {
   "cell_type": "code",
   "execution_count": null,
   "metadata": {
    "vscode": {
     "languageId": "r"
    }
   },
   "outputs": [],
   "source": [
    "a<- 1:500\n",
    "# 10번 ~전체 데이터중 끝에서 5개는 빼고 사용...\n",
    "a[10:length(a)-5]"
   ]
  },
  {
   "cell_type": "code",
   "execution_count": null,
   "metadata": {
    "vscode": {
     "languageId": "r"
    }
   },
   "outputs": [],
   "source": [
    "a <- 10: 50\n",
    "a\n",
    "# 1 번지 값 지우기\n",
    "a[-1] ## python 이랑 다름. 하지만 화살표로 어사인하기 전까지는 확인된게 아니다. \n",
    "a ## 화살표가 없으면 preview 역할을 한다. \n",
    "a<-a[-1]\n",
    "a\n"
   ]
  },
  {
   "cell_type": "code",
   "execution_count": null,
   "metadata": {
    "vscode": {
     "languageId": "r"
    }
   },
   "outputs": [],
   "source": [
    "a <- 10 : 50\n",
    "a\n",
    "\n",
    "# a에서 2번과 4번을 삭제 \n",
    "a[-c(2,4)]\n",
    "# 2번, 5~10 번 삭제\n",
    "c(2,5:10)\n",
    "a[c(2,5:10)]\n",
    "a[-c(2,5:10)]"
   ]
  },
  {
   "cell_type": "code",
   "execution_count": null,
   "metadata": {
    "vscode": {
     "languageId": "r"
    }
   },
   "outputs": [],
   "source": [
    "a <- 10:50\n",
    "# a의 홀수번지 Data의 합계 구하기\n",
    "a\n",
    "length(a)\n",
    "seq(1,length(a),2)\n",
    "a[seq(1,length(a),2)]\n",
    "sum(a[seq(1,length(a),2)])"
   ]
  },
  {
   "cell_type": "code",
   "execution_count": null,
   "metadata": {
    "vscode": {
     "languageId": "r"
    }
   },
   "outputs": [],
   "source": [
    "seq(1,5,2)\n",
    "1:10\n",
    "seq(1,9,2)\n",
    "rep(1:3,2)\n",
    "c(seq(1,5,2),1:10,seq(1,9,2),rep(1:3,2))"
   ]
  },
  {
   "cell_type": "code",
   "execution_count": null,
   "metadata": {
    "vscode": {
     "languageId": "r"
    }
   },
   "outputs": [],
   "source": [
    "head(iris)\n",
    "iris[1:6,1:2]"
   ]
  },
  {
   "cell_type": "code",
   "execution_count": null,
   "metadata": {
    "vscode": {
     "languageId": "r"
    }
   },
   "outputs": [],
   "source": [
    "irisHead <- iris[1:5,]\n",
    "irisHead"
   ]
  },
  {
   "cell_type": "code",
   "execution_count": null,
   "metadata": {
    "vscode": {
     "languageId": "r"
    }
   },
   "outputs": [],
   "source": [
    "t(irisHead)"
   ]
  },
  {
   "cell_type": "code",
   "execution_count": null,
   "metadata": {
    "vscode": {
     "languageId": "r"
    }
   },
   "outputs": [],
   "source": [
    "iris.num1 <- iris$Sepal.Length\n",
    "iris.num1\n",
    "print(iris.num1)\n",
    "# iris.num1 에서 10 ,20, 30, ..., 150 번지만 출력하기\n",
    "seq(10,150,10)\n",
    "print(iris.num1[seq(10,150,10)])\n"
   ]
  },
  {
   "cell_type": "code",
   "execution_count": null,
   "metadata": {
    "vscode": {
     "languageId": "r"
    }
   },
   "outputs": [],
   "source": [
    "a<-seq(10,150,10)\n",
    "iris[a,]"
   ]
  },
  {
   "cell_type": "code",
   "execution_count": null,
   "metadata": {
    "vscode": {
     "languageId": "r"
    }
   },
   "outputs": [],
   "source": []
  }
 ],
 "metadata": {
  "kernelspec": {
   "display_name": "R",
   "language": "R",
   "name": "r"
  },
  "language_info": {
   "codemirror_mode": "r",
   "file_extension": ".r",
   "mimetype": "text/x-r-source",
   "name": "R",
   "pygments_lexer": "r",
   "version": "4.3.3"
  }
 },
 "nbformat": 4,
 "nbformat_minor": 2
}

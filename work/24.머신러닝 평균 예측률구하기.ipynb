{
 "cells": [
  {
   "cell_type": "markdown",
   "metadata": {},
   "source": [
    "# iris data를 랜덤포레스트로 예측률 구하기\n"
   ]
  },
  {
   "cell_type": "markdown",
   "metadata": {},
   "source": [
    "rfFun(5)"
   ]
  },
  {
   "cell_type": "code",
   "execution_count": 6,
   "metadata": {
    "vscode": {
     "languageId": "r"
    }
   },
   "outputs": [
    {
     "data": {
      "text/html": [
       "'ko_KR.UTF-8/ko_KR.UTF-8/ko_KR.UTF-8/C/ko_KR.UTF-8/C'"
      ],
      "text/latex": [
       "'ko\\_KR.UTF-8/ko\\_KR.UTF-8/ko\\_KR.UTF-8/C/ko\\_KR.UTF-8/C'"
      ],
      "text/markdown": [
       "'ko_KR.UTF-8/ko_KR.UTF-8/ko_KR.UTF-8/C/ko_KR.UTF-8/C'"
      ],
      "text/plain": [
       "[1] \"ko_KR.UTF-8/ko_KR.UTF-8/ko_KR.UTF-8/C/ko_KR.UTF-8/C\""
      ]
     },
     "metadata": {},
     "output_type": "display_data"
    },
    {
     "name": "stderr",
     "output_type": "stream",
     "text": [
      "randomForest 4.7-1.1\n",
      "\n",
      "Type rfNews() to see new features/changes/bug fixes.\n",
      "\n"
     ]
    }
   ],
   "source": [
    "Sys.setlocale(category = \"LC_ALL\", locale = \"ko_KR.UTF-8\")\n",
    "library(randomForest)\n",
    "\n"
   ]
  },
  {
   "cell_type": "code",
   "execution_count": 100,
   "metadata": {
    "vscode": {
     "languageId": "r"
    }
   },
   "outputs": [
    {
     "name": "stdout",
     "output_type": "stream",
     "text": [
      "예측률 \n",
      "0.9111111  0.9555556  0.9777778  0.9777778  0.9555556  0.9777778  0.9777778  0.9333333  0.9333333  0.9777778  0.9111111  0.9777778  0.9333333  1  0.9777778  1  0.9333333  0.9777778  1  0.9777778  0.9777778  0.9555556  0.9555556  0.9555556  0.9333333  0.9555556  0.9333333  0.9111111  0.8888889  0.9555556  0.9333333  0.9555556  0.9555556  0.9777778  0.9555556  0.9555556  0.9333333  0.9333333  0.9777778  0.9555556  0.9333333  0.9777778  0.9777778  0.9555556  0.9555556  0.9333333  1  0.9777778  0.9777778  0.9777778  0.9333333  0.9777778  0.9555556  0.9777778  0.9555556  0.9333333  0.9555556  1  0.9333333  0.9333333  0.9555556  0.9555556  0.9777778  0.9333333  0.9555556  0.9111111  0.9777778  0.9555556  0.9555556  0.9111111  0.8666667  0.9333333  0.9111111  0.9111111  0.8888889  0.9111111  0.9111111  0.8666667  0.9333333  0.9555556  1  0.9777778  0.9777778  0.9777778  0.9333333  0.9333333  0.9777778  1  0.9777778  0.9333333  0.9333333  0.9555556  0.9555556  0.9555556  0.9333333  0.9333333  0.9555556  0.9777778  0.9777778  0.9777778  \n",
      "\u001b[36m 평균 예측률 : 0.9526667\u001b[0m"
     ]
    }
   ],
   "source": [
    "# 랜덤포레스트 예측 : 발생건수가 100일 경우의 부상자수 ?\n",
    "rfFun <- function(n,data){\n",
    "    library(caret)\n",
    "    library(randomForest)\n",
    "    target <- data[,ncol(data)] # target 은 dataframe 맨 오른쪽에 있다고 가정함. \n",
    "    acc <-c()\n",
    "    cat(\"예측률 \\n\")\n",
    "    for(i in 1:n){\n",
    "        samp <- createDataPartition(target, p =0.7, list =F)\n",
    "        # 학습용, 검증용 분류\n",
    "        data.tr <- iris[samp,]\n",
    "        data.test <- iris[-samp,]\n",
    "        # 문제 및 정답 만들기 \n",
    "        x <- subset(data.test, select = -ncol(data) )\n",
    "        y <- data.test[,ncol(data)]\n",
    "        # 모델 생성\n",
    "        target_name<-colnames(data)[ncol(data)] #data.tr[ncol(data.tr)]\n",
    "        rf <- randomForest(data.tr$Species ~ ., data =data.tr, ntree =100)\n",
    "        # 예측\n",
    "        pred<-predict(rf,x )\n",
    "        acc<-append(acc,mean(pred==y))\n",
    "        cat(mean(pred==y),\" \")\n",
    "    }\n",
    "    cat(\"\\n\\033[36m 평균 예측률 : \",mean(acc) ,\"\\033[0m\",sep = \"\")\n",
    "    #return(mean(acc))\n",
    "}\n",
    "rfFun(100,iris)\n",
    "\n",
    "\n",
    "\n"
   ]
  }
 ],
 "metadata": {
  "kernelspec": {
   "display_name": "R",
   "language": "R",
   "name": "r"
  },
  "language_info": {
   "codemirror_mode": "r",
   "file_extension": ".r",
   "mimetype": "text/x-r-source",
   "name": "R",
   "pygments_lexer": "r",
   "version": "4.3.3"
  }
 },
 "nbformat": 4,
 "nbformat_minor": 2
}

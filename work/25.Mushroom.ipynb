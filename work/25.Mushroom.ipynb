{
 "cells": [
  {
   "cell_type": "markdown",
   "metadata": {},
   "source": [
    "\n",
    "#\n",
    "\n",
    "\n",
    "\n"
   ]
  },
  {
   "cell_type": "code",
   "execution_count": 1,
   "metadata": {
    "vscode": {
     "languageId": "r"
    }
   },
   "outputs": [
    {
     "data": {
      "text/html": [
       "'ko_KR.UTF-8/ko_KR.UTF-8/ko_KR.UTF-8/C/ko_KR.UTF-8/C'"
      ],
      "text/latex": [
       "'ko\\_KR.UTF-8/ko\\_KR.UTF-8/ko\\_KR.UTF-8/C/ko\\_KR.UTF-8/C'"
      ],
      "text/markdown": [
       "'ko_KR.UTF-8/ko_KR.UTF-8/ko_KR.UTF-8/C/ko_KR.UTF-8/C'"
      ],
      "text/plain": [
       "[1] \"ko_KR.UTF-8/ko_KR.UTF-8/ko_KR.UTF-8/C/ko_KR.UTF-8/C\""
      ]
     },
     "metadata": {},
     "output_type": "display_data"
    },
    {
     "name": "stderr",
     "output_type": "stream",
     "text": [
      "\n",
      "다음의 패키지를 부착합니다: ‘dplyr’\n",
      "\n",
      "\n",
      "The following objects are masked from ‘package:stats’:\n",
      "\n",
      "    filter, lag\n",
      "\n",
      "\n",
      "The following objects are masked from ‘package:base’:\n",
      "\n",
      "    intersect, setdiff, setequal, union\n",
      "\n",
      "\n",
      "── \u001b[1mAttaching core tidyverse packages\u001b[22m ──────────────────────── tidyverse 2.0.0 ──\n",
      "\u001b[32m✔\u001b[39m \u001b[34mforcats  \u001b[39m 1.0.0     \u001b[32m✔\u001b[39m \u001b[34mreadr    \u001b[39m 2.1.5\n",
      "\u001b[32m✔\u001b[39m \u001b[34mggplot2  \u001b[39m 3.5.0     \u001b[32m✔\u001b[39m \u001b[34mtibble   \u001b[39m 3.2.1\n",
      "\u001b[32m✔\u001b[39m \u001b[34mlubridate\u001b[39m 1.9.3     \u001b[32m✔\u001b[39m \u001b[34mtidyr    \u001b[39m 1.3.1\n",
      "\u001b[32m✔\u001b[39m \u001b[34mpurrr    \u001b[39m 1.0.2     \n",
      "── \u001b[1mConflicts\u001b[22m ────────────────────────────────────────── tidyverse_conflicts() ──\n",
      "\u001b[31m✖\u001b[39m \u001b[34mdplyr\u001b[39m::\u001b[32mfilter()\u001b[39m masks \u001b[34mstats\u001b[39m::filter()\n",
      "\u001b[31m✖\u001b[39m \u001b[34mdplyr\u001b[39m::\u001b[32mlag()\u001b[39m    masks \u001b[34mstats\u001b[39m::lag()\n",
      "\u001b[36mℹ\u001b[39m Use the conflicted package (\u001b[3m\u001b[34m<http://conflicted.r-lib.org/>\u001b[39m\u001b[23m) to force all conflicts to become errors\n",
      "\n",
      "다음의 패키지를 부착합니다: ‘kableExtra’\n",
      "\n",
      "\n",
      "The following object is masked from ‘package:dplyr’:\n",
      "\n",
      "    group_rows\n",
      "\n",
      "\n"
     ]
    }
   ],
   "source": [
    "## Settings\n",
    "options(warn = -1) ## 경고 지우기\n",
    "options(repr.plot.width=8, repr.plot.height=6) # 플랏 크기 조절\n",
    "Sys.setlocale(category = \"LC_ALL\", locale = \"ko_KR.UTF-8\") # 한글 설정\n",
    "\n",
    "## Libraries\n",
    "library(stringr) # stringr 불러오기\n",
    "library(dplyr) # dplyr 불러오기\n",
    "library(plotrix) # 3D pie\n",
    "library(RColorBrewer) # color package\n",
    "library(tidyverse)\n",
    "library(hrbrthemes)\n",
    "library(kableExtra)\n",
    "#library(extrafont)"
   ]
  },
  {
   "cell_type": "code",
   "execution_count": null,
   "metadata": {
    "vscode": {
     "languageId": "r"
    }
   },
   "outputs": [],
   "source": []
  },
  {
   "cell_type": "code",
   "execution_count": 17,
   "metadata": {
    "vscode": {
     "languageId": "r"
    }
   },
   "outputs": [
    {
     "data": {
      "text/html": [
       "<table class=\"dataframe\">\n",
       "<caption>A data.frame: 6 x 23</caption>\n",
       "<thead>\n",
       "\t<tr><th></th><th scope=col>V1</th><th scope=col>V2</th><th scope=col>V3</th><th scope=col>V4</th><th scope=col>V5</th><th scope=col>V6</th><th scope=col>V7</th><th scope=col>V8</th><th scope=col>V9</th><th scope=col>V10</th><th scope=col>...</th><th scope=col>V14</th><th scope=col>V15</th><th scope=col>V16</th><th scope=col>V17</th><th scope=col>V18</th><th scope=col>V19</th><th scope=col>V20</th><th scope=col>V21</th><th scope=col>V22</th><th scope=col>V23</th></tr>\n",
       "\t<tr><th></th><th scope=col>&lt;fct&gt;</th><th scope=col>&lt;fct&gt;</th><th scope=col>&lt;fct&gt;</th><th scope=col>&lt;fct&gt;</th><th scope=col>&lt;fct&gt;</th><th scope=col>&lt;fct&gt;</th><th scope=col>&lt;fct&gt;</th><th scope=col>&lt;fct&gt;</th><th scope=col>&lt;fct&gt;</th><th scope=col>&lt;fct&gt;</th><th scope=col>...</th><th scope=col>&lt;fct&gt;</th><th scope=col>&lt;fct&gt;</th><th scope=col>&lt;fct&gt;</th><th scope=col>&lt;fct&gt;</th><th scope=col>&lt;fct&gt;</th><th scope=col>&lt;fct&gt;</th><th scope=col>&lt;fct&gt;</th><th scope=col>&lt;fct&gt;</th><th scope=col>&lt;fct&gt;</th><th scope=col>&lt;fct&gt;</th></tr>\n",
       "</thead>\n",
       "<tbody>\n",
       "\t<tr><th scope=row>1</th><td>p</td><td>x</td><td>s</td><td>n</td><td>t</td><td>p</td><td>f</td><td>c</td><td>n</td><td>k</td><td>...</td><td>s</td><td>w</td><td>w</td><td>p</td><td>w</td><td>o</td><td>p</td><td>k</td><td>s</td><td>u</td></tr>\n",
       "\t<tr><th scope=row>2</th><td>e</td><td>x</td><td>s</td><td>y</td><td>t</td><td>a</td><td>f</td><td>c</td><td>b</td><td>k</td><td>...</td><td>s</td><td>w</td><td>w</td><td>p</td><td>w</td><td>o</td><td>p</td><td>n</td><td>n</td><td>g</td></tr>\n",
       "\t<tr><th scope=row>3</th><td>e</td><td>b</td><td>s</td><td>w</td><td>t</td><td>l</td><td>f</td><td>c</td><td>b</td><td>n</td><td>...</td><td>s</td><td>w</td><td>w</td><td>p</td><td>w</td><td>o</td><td>p</td><td>n</td><td>n</td><td>m</td></tr>\n",
       "\t<tr><th scope=row>4</th><td>p</td><td>x</td><td>y</td><td>w</td><td>t</td><td>p</td><td>f</td><td>c</td><td>n</td><td>n</td><td>...</td><td>s</td><td>w</td><td>w</td><td>p</td><td>w</td><td>o</td><td>p</td><td>k</td><td>s</td><td>u</td></tr>\n",
       "\t<tr><th scope=row>5</th><td>e</td><td>x</td><td>s</td><td>g</td><td>f</td><td>n</td><td>f</td><td>w</td><td>b</td><td>k</td><td>...</td><td>s</td><td>w</td><td>w</td><td>p</td><td>w</td><td>o</td><td>e</td><td>n</td><td>a</td><td>g</td></tr>\n",
       "\t<tr><th scope=row>6</th><td>e</td><td>x</td><td>y</td><td>y</td><td>t</td><td>a</td><td>f</td><td>c</td><td>b</td><td>n</td><td>...</td><td>s</td><td>w</td><td>w</td><td>p</td><td>w</td><td>o</td><td>p</td><td>k</td><td>n</td><td>g</td></tr>\n",
       "</tbody>\n",
       "</table>\n"
      ],
      "text/latex": [
       "A data.frame: 6 x 23\n",
       "\\begin{tabular}{r|lllllllllllllllllllll}\n",
       "  & V1 & V2 & V3 & V4 & V5 & V6 & V7 & V8 & V9 & V10 & ... & V14 & V15 & V16 & V17 & V18 & V19 & V20 & V21 & V22 & V23\\\\\n",
       "  & <fct> & <fct> & <fct> & <fct> & <fct> & <fct> & <fct> & <fct> & <fct> & <fct> & ... & <fct> & <fct> & <fct> & <fct> & <fct> & <fct> & <fct> & <fct> & <fct> & <fct>\\\\\n",
       "\\hline\n",
       "\t1 & p & x & s & n & t & p & f & c & n & k & ... & s & w & w & p & w & o & p & k & s & u\\\\\n",
       "\t2 & e & x & s & y & t & a & f & c & b & k & ... & s & w & w & p & w & o & p & n & n & g\\\\\n",
       "\t3 & e & b & s & w & t & l & f & c & b & n & ... & s & w & w & p & w & o & p & n & n & m\\\\\n",
       "\t4 & p & x & y & w & t & p & f & c & n & n & ... & s & w & w & p & w & o & p & k & s & u\\\\\n",
       "\t5 & e & x & s & g & f & n & f & w & b & k & ... & s & w & w & p & w & o & e & n & a & g\\\\\n",
       "\t6 & e & x & y & y & t & a & f & c & b & n & ... & s & w & w & p & w & o & p & k & n & g\\\\\n",
       "\\end{tabular}\n"
      ],
      "text/markdown": [
       "\n",
       "A data.frame: 6 x 23\n",
       "\n",
       "| <!--/--> | V1 &lt;fct&gt; | V2 &lt;fct&gt; | V3 &lt;fct&gt; | V4 &lt;fct&gt; | V5 &lt;fct&gt; | V6 &lt;fct&gt; | V7 &lt;fct&gt; | V8 &lt;fct&gt; | V9 &lt;fct&gt; | V10 &lt;fct&gt; | ... ... | V14 &lt;fct&gt; | V15 &lt;fct&gt; | V16 &lt;fct&gt; | V17 &lt;fct&gt; | V18 &lt;fct&gt; | V19 &lt;fct&gt; | V20 &lt;fct&gt; | V21 &lt;fct&gt; | V22 &lt;fct&gt; | V23 &lt;fct&gt; |\n",
       "|---|---|---|---|---|---|---|---|---|---|---|---|---|---|---|---|---|---|---|---|---|---|\n",
       "| 1 | p | x | s | n | t | p | f | c | n | k | ... | s | w | w | p | w | o | p | k | s | u |\n",
       "| 2 | e | x | s | y | t | a | f | c | b | k | ... | s | w | w | p | w | o | p | n | n | g |\n",
       "| 3 | e | b | s | w | t | l | f | c | b | n | ... | s | w | w | p | w | o | p | n | n | m |\n",
       "| 4 | p | x | y | w | t | p | f | c | n | n | ... | s | w | w | p | w | o | p | k | s | u |\n",
       "| 5 | e | x | s | g | f | n | f | w | b | k | ... | s | w | w | p | w | o | e | n | a | g |\n",
       "| 6 | e | x | y | y | t | a | f | c | b | n | ... | s | w | w | p | w | o | p | k | n | g |\n",
       "\n"
      ],
      "text/plain": [
       "  V1 V2 V3 V4 V5 V6 V7 V8 V9 V10 ... V14 V15 V16 V17 V18 V19 V20 V21 V22 V23\n",
       "1 p  x  s  n  t  p  f  c  n  k   ... s   w   w   p   w   o   p   k   s   u  \n",
       "2 e  x  s  y  t  a  f  c  b  k   ... s   w   w   p   w   o   p   n   n   g  \n",
       "3 e  b  s  w  t  l  f  c  b  n   ... s   w   w   p   w   o   p   n   n   m  \n",
       "4 p  x  y  w  t  p  f  c  n  n   ... s   w   w   p   w   o   p   k   s   u  \n",
       "5 e  x  s  g  f  n  f  w  b  k   ... s   w   w   p   w   o   e   n   a   g  \n",
       "6 e  x  y  y  t  a  f  c  b  n   ... s   w   w   p   w   o   p   k   n   g  "
      ]
     },
     "metadata": {},
     "output_type": "display_data"
    }
   ],
   "source": [
    "mr <-read.csv(\"../Data/mushroom.csv\" , header =F, stringsAsFactors = T)\n",
    "head(mr)"
   ]
  },
  {
   "cell_type": "markdown",
   "metadata": {},
   "source": [
    "# Muchroom \n",
    "- 8124 종류의 버섯의 특징과 독의 유무를 정리해논 데이터셋\n",
    "- 버섯 모양의 특징을 기반으로 독의 유무를 판단\n",
    "- 한줄 (row) 이 버섯 한종류 \n",
    "  - 1번째 컬럼은 독의 유무 : 독(p) , 식용 (e)\n",
    "  - 2 번째 컬럼은 버섯의 머리 모양 : b (bell 형태 ) , c( 원뿔), x (볼록) , f(평평),  k(혹), (s)오목 \n",
    "  - 4 번째 컬럼은 버섯의 머리 색 : n(갈색), b(황갈색), c(연한갈색), g(회색)\n"
   ]
  },
  {
   "cell_type": "code",
   "execution_count": 18,
   "metadata": {
    "vscode": {
     "languageId": "r"
    }
   },
   "outputs": [
    {
     "data": {
      "text/html": [
       "<table class=\"dataframe\">\n",
       "<caption>A data.frame: 6 x 23</caption>\n",
       "<thead>\n",
       "\t<tr><th></th><th scope=col>V1</th><th scope=col>V2</th><th scope=col>V3</th><th scope=col>V4</th><th scope=col>V5</th><th scope=col>V6</th><th scope=col>V7</th><th scope=col>V8</th><th scope=col>V9</th><th scope=col>V10</th><th scope=col>...</th><th scope=col>V14</th><th scope=col>V15</th><th scope=col>V16</th><th scope=col>V17</th><th scope=col>V18</th><th scope=col>V19</th><th scope=col>V20</th><th scope=col>V21</th><th scope=col>V22</th><th scope=col>V23</th></tr>\n",
       "\t<tr><th></th><th scope=col>&lt;fct&gt;</th><th scope=col>&lt;fct&gt;</th><th scope=col>&lt;fct&gt;</th><th scope=col>&lt;fct&gt;</th><th scope=col>&lt;fct&gt;</th><th scope=col>&lt;fct&gt;</th><th scope=col>&lt;fct&gt;</th><th scope=col>&lt;fct&gt;</th><th scope=col>&lt;fct&gt;</th><th scope=col>&lt;fct&gt;</th><th scope=col>...</th><th scope=col>&lt;fct&gt;</th><th scope=col>&lt;fct&gt;</th><th scope=col>&lt;fct&gt;</th><th scope=col>&lt;fct&gt;</th><th scope=col>&lt;fct&gt;</th><th scope=col>&lt;fct&gt;</th><th scope=col>&lt;fct&gt;</th><th scope=col>&lt;fct&gt;</th><th scope=col>&lt;fct&gt;</th><th scope=col>&lt;fct&gt;</th></tr>\n",
       "</thead>\n",
       "<tbody>\n",
       "\t<tr><th scope=row>8119</th><td>p</td><td>k</td><td>y</td><td>n</td><td>f</td><td>f</td><td>f</td><td>c</td><td>n</td><td>b</td><td>...</td><td>s</td><td>p</td><td>w</td><td>p</td><td>w</td><td>o</td><td>e</td><td>w</td><td>v</td><td>d</td></tr>\n",
       "\t<tr><th scope=row>8120</th><td>e</td><td>k</td><td>s</td><td>n</td><td>f</td><td>n</td><td>a</td><td>c</td><td>b</td><td>y</td><td>...</td><td>s</td><td>o</td><td>o</td><td>p</td><td>o</td><td>o</td><td>p</td><td>b</td><td>c</td><td>l</td></tr>\n",
       "\t<tr><th scope=row>8121</th><td>e</td><td>x</td><td>s</td><td>n</td><td>f</td><td>n</td><td>a</td><td>c</td><td>b</td><td>y</td><td>...</td><td>s</td><td>o</td><td>o</td><td>p</td><td>n</td><td>o</td><td>p</td><td>b</td><td>v</td><td>l</td></tr>\n",
       "\t<tr><th scope=row>8122</th><td>e</td><td>f</td><td>s</td><td>n</td><td>f</td><td>n</td><td>a</td><td>c</td><td>b</td><td>n</td><td>...</td><td>s</td><td>o</td><td>o</td><td>p</td><td>o</td><td>o</td><td>p</td><td>b</td><td>c</td><td>l</td></tr>\n",
       "\t<tr><th scope=row>8123</th><td>p</td><td>k</td><td>y</td><td>n</td><td>f</td><td>y</td><td>f</td><td>c</td><td>n</td><td>b</td><td>...</td><td>k</td><td>w</td><td>w</td><td>p</td><td>w</td><td>o</td><td>e</td><td>w</td><td>v</td><td>l</td></tr>\n",
       "\t<tr><th scope=row>8124</th><td>e</td><td>x</td><td>s</td><td>n</td><td>f</td><td>n</td><td>a</td><td>c</td><td>b</td><td>y</td><td>...</td><td>s</td><td>o</td><td>o</td><td>p</td><td>o</td><td>o</td><td>p</td><td>o</td><td>c</td><td>l</td></tr>\n",
       "</tbody>\n",
       "</table>\n"
      ],
      "text/latex": [
       "A data.frame: 6 x 23\n",
       "\\begin{tabular}{r|lllllllllllllllllllll}\n",
       "  & V1 & V2 & V3 & V4 & V5 & V6 & V7 & V8 & V9 & V10 & ... & V14 & V15 & V16 & V17 & V18 & V19 & V20 & V21 & V22 & V23\\\\\n",
       "  & <fct> & <fct> & <fct> & <fct> & <fct> & <fct> & <fct> & <fct> & <fct> & <fct> & ... & <fct> & <fct> & <fct> & <fct> & <fct> & <fct> & <fct> & <fct> & <fct> & <fct>\\\\\n",
       "\\hline\n",
       "\t8119 & p & k & y & n & f & f & f & c & n & b & ... & s & p & w & p & w & o & e & w & v & d\\\\\n",
       "\t8120 & e & k & s & n & f & n & a & c & b & y & ... & s & o & o & p & o & o & p & b & c & l\\\\\n",
       "\t8121 & e & x & s & n & f & n & a & c & b & y & ... & s & o & o & p & n & o & p & b & v & l\\\\\n",
       "\t8122 & e & f & s & n & f & n & a & c & b & n & ... & s & o & o & p & o & o & p & b & c & l\\\\\n",
       "\t8123 & p & k & y & n & f & y & f & c & n & b & ... & k & w & w & p & w & o & e & w & v & l\\\\\n",
       "\t8124 & e & x & s & n & f & n & a & c & b & y & ... & s & o & o & p & o & o & p & o & c & l\\\\\n",
       "\\end{tabular}\n"
      ],
      "text/markdown": [
       "\n",
       "A data.frame: 6 x 23\n",
       "\n",
       "| <!--/--> | V1 &lt;fct&gt; | V2 &lt;fct&gt; | V3 &lt;fct&gt; | V4 &lt;fct&gt; | V5 &lt;fct&gt; | V6 &lt;fct&gt; | V7 &lt;fct&gt; | V8 &lt;fct&gt; | V9 &lt;fct&gt; | V10 &lt;fct&gt; | ... ... | V14 &lt;fct&gt; | V15 &lt;fct&gt; | V16 &lt;fct&gt; | V17 &lt;fct&gt; | V18 &lt;fct&gt; | V19 &lt;fct&gt; | V20 &lt;fct&gt; | V21 &lt;fct&gt; | V22 &lt;fct&gt; | V23 &lt;fct&gt; |\n",
       "|---|---|---|---|---|---|---|---|---|---|---|---|---|---|---|---|---|---|---|---|---|---|\n",
       "| 8119 | p | k | y | n | f | f | f | c | n | b | ... | s | p | w | p | w | o | e | w | v | d |\n",
       "| 8120 | e | k | s | n | f | n | a | c | b | y | ... | s | o | o | p | o | o | p | b | c | l |\n",
       "| 8121 | e | x | s | n | f | n | a | c | b | y | ... | s | o | o | p | n | o | p | b | v | l |\n",
       "| 8122 | e | f | s | n | f | n | a | c | b | n | ... | s | o | o | p | o | o | p | b | c | l |\n",
       "| 8123 | p | k | y | n | f | y | f | c | n | b | ... | k | w | w | p | w | o | e | w | v | l |\n",
       "| 8124 | e | x | s | n | f | n | a | c | b | y | ... | s | o | o | p | o | o | p | o | c | l |\n",
       "\n"
      ],
      "text/plain": [
       "     V1 V2 V3 V4 V5 V6 V7 V8 V9 V10 ... V14 V15 V16 V17 V18 V19 V20 V21 V22 V23\n",
       "8119 p  k  y  n  f  f  f  c  n  b   ... s   p   w   p   w   o   e   w   v   d  \n",
       "8120 e  k  s  n  f  n  a  c  b  y   ... s   o   o   p   o   o   p   b   c   l  \n",
       "8121 e  x  s  n  f  n  a  c  b  y   ... s   o   o   p   n   o   p   b   v   l  \n",
       "8122 e  f  s  n  f  n  a  c  b  n   ... s   o   o   p   o   o   p   b   c   l  \n",
       "8123 p  k  y  n  f  y  f  c  n  b   ... k   w   w   p   w   o   e   w   v   l  \n",
       "8124 e  x  s  n  f  n  a  c  b  y   ... s   o   o   p   o   o   p   o   c   l  "
      ]
     },
     "metadata": {},
     "output_type": "display_data"
    }
   ],
   "source": [
    "# 랜덤포레스트를 이용한 버섯 분류 예측\n",
    "tail(mr)\n"
   ]
  },
  {
   "cell_type": "code",
   "execution_count": 19,
   "metadata": {
    "vscode": {
     "languageId": "r"
    }
   },
   "outputs": [
    {
     "name": "stdout",
     "output_type": "stream",
     "text": [
      "'data.frame':\t8124 obs. of  23 variables:\n",
      " $ V1 : Factor w/ 2 levels \"e\",\"p\": 2 1 1 2 1 1 1 1 2 1 ...\n",
      " $ V2 : Factor w/ 6 levels \"b\",\"c\",\"f\",\"k\",..: 6 6 1 6 6 6 1 1 6 1 ...\n",
      " $ V3 : Factor w/ 4 levels \"f\",\"g\",\"s\",\"y\": 3 3 3 4 3 4 3 4 4 3 ...\n",
      " $ V4 : Factor w/ 10 levels \"b\",\"c\",\"e\",\"g\",..: 5 10 9 9 4 10 9 9 9 10 ...\n",
      " $ V5 : Factor w/ 2 levels \"f\",\"t\": 2 2 2 2 1 2 2 2 2 2 ...\n",
      " $ V6 : Factor w/ 9 levels \"a\",\"c\",\"f\",\"l\",..: 7 1 4 7 6 1 1 4 7 1 ...\n",
      " $ V7 : Factor w/ 2 levels \"a\",\"f\": 2 2 2 2 2 2 2 2 2 2 ...\n",
      " $ V8 : Factor w/ 2 levels \"c\",\"w\": 1 1 1 1 2 1 1 1 1 1 ...\n",
      " $ V9 : Factor w/ 2 levels \"b\",\"n\": 2 1 1 2 1 1 1 1 2 1 ...\n",
      " $ V10: Factor w/ 12 levels \"b\",\"e\",\"g\",\"h\",..: 5 5 6 6 5 6 3 6 8 3 ...\n",
      " $ V11: Factor w/ 2 levels \"e\",\"t\": 1 1 1 1 2 1 1 1 1 1 ...\n",
      " $ V12: Factor w/ 5 levels \"?\",\"b\",\"c\",\"e\",..: 4 3 3 4 4 3 3 3 4 3 ...\n",
      " $ V13: Factor w/ 4 levels \"f\",\"k\",\"s\",\"y\": 3 3 3 3 3 3 3 3 3 3 ...\n",
      " $ V14: Factor w/ 4 levels \"f\",\"k\",\"s\",\"y\": 3 3 3 3 3 3 3 3 3 3 ...\n",
      " $ V15: Factor w/ 9 levels \"b\",\"c\",\"e\",\"g\",..: 8 8 8 8 8 8 8 8 8 8 ...\n",
      " $ V16: Factor w/ 9 levels \"b\",\"c\",\"e\",\"g\",..: 8 8 8 8 8 8 8 8 8 8 ...\n",
      " $ V17: Factor w/ 1 level \"p\": 1 1 1 1 1 1 1 1 1 1 ...\n",
      " $ V18: Factor w/ 4 levels \"n\",\"o\",\"w\",\"y\": 3 3 3 3 3 3 3 3 3 3 ...\n",
      " $ V19: Factor w/ 3 levels \"n\",\"o\",\"t\": 2 2 2 2 2 2 2 2 2 2 ...\n",
      " $ V20: Factor w/ 5 levels \"e\",\"f\",\"l\",\"n\",..: 5 5 5 5 1 5 5 5 5 5 ...\n",
      " $ V21: Factor w/ 9 levels \"b\",\"h\",\"k\",\"n\",..: 3 4 4 3 4 3 3 4 3 3 ...\n",
      " $ V22: Factor w/ 6 levels \"a\",\"c\",\"n\",\"s\",..: 4 3 3 4 1 3 3 4 5 4 ...\n",
      " $ V23: Factor w/ 7 levels \"d\",\"g\",\"l\",\"m\",..: 6 2 4 6 2 2 4 4 2 4 ...\n"
     ]
    }
   ],
   "source": [
    "str(mr)"
   ]
  },
  {
   "cell_type": "code",
   "execution_count": 20,
   "metadata": {
    "vscode": {
     "languageId": "r"
    }
   },
   "outputs": [
    {
     "name": "stdout",
     "output_type": "stream",
     "text": [
      "'data.frame':\t8124 obs. of  23 variables:\n",
      " $ V1 : Factor w/ 2 levels \"e\",\"p\": 2 1 1 2 1 1 1 1 2 1 ...\n",
      " $ V2 : Factor w/ 6 levels \"b\",\"c\",\"f\",\"k\",..: 6 6 1 6 6 6 1 1 6 1 ...\n",
      " $ V3 : Factor w/ 4 levels \"f\",\"g\",\"s\",\"y\": 3 3 3 4 3 4 3 4 4 3 ...\n",
      " $ V4 : Factor w/ 10 levels \"b\",\"c\",\"e\",\"g\",..: 5 10 9 9 4 10 9 9 9 10 ...\n",
      " $ V5 : Factor w/ 2 levels \"f\",\"t\": 2 2 2 2 1 2 2 2 2 2 ...\n",
      " $ V6 : Factor w/ 9 levels \"a\",\"c\",\"f\",\"l\",..: 7 1 4 7 6 1 1 4 7 1 ...\n",
      " $ V7 : Factor w/ 2 levels \"a\",\"f\": 2 2 2 2 2 2 2 2 2 2 ...\n",
      " $ V8 : Factor w/ 2 levels \"c\",\"w\": 1 1 1 1 2 1 1 1 1 1 ...\n",
      " $ V9 : Factor w/ 2 levels \"b\",\"n\": 2 1 1 2 1 1 1 1 2 1 ...\n",
      " $ V10: Factor w/ 12 levels \"b\",\"e\",\"g\",\"h\",..: 5 5 6 6 5 6 3 6 8 3 ...\n",
      " $ V11: Factor w/ 2 levels \"e\",\"t\": 1 1 1 1 2 1 1 1 1 1 ...\n",
      " $ V12: Factor w/ 5 levels \"?\",\"b\",\"c\",\"e\",..: 4 3 3 4 4 3 3 3 4 3 ...\n",
      " $ V13: Factor w/ 4 levels \"f\",\"k\",\"s\",\"y\": 3 3 3 3 3 3 3 3 3 3 ...\n",
      " $ V14: Factor w/ 4 levels \"f\",\"k\",\"s\",\"y\": 3 3 3 3 3 3 3 3 3 3 ...\n",
      " $ V15: Factor w/ 9 levels \"b\",\"c\",\"e\",\"g\",..: 8 8 8 8 8 8 8 8 8 8 ...\n",
      " $ V16: Factor w/ 9 levels \"b\",\"c\",\"e\",\"g\",..: 8 8 8 8 8 8 8 8 8 8 ...\n",
      " $ V17: Factor w/ 1 level \"p\": 1 1 1 1 1 1 1 1 1 1 ...\n",
      " $ V18: Factor w/ 4 levels \"n\",\"o\",\"w\",\"y\": 3 3 3 3 3 3 3 3 3 3 ...\n",
      " $ V19: Factor w/ 3 levels \"n\",\"o\",\"t\": 2 2 2 2 2 2 2 2 2 2 ...\n",
      " $ V20: Factor w/ 5 levels \"e\",\"f\",\"l\",\"n\",..: 5 5 5 5 1 5 5 5 5 5 ...\n",
      " $ V21: Factor w/ 9 levels \"b\",\"h\",\"k\",\"n\",..: 3 4 4 3 4 3 3 4 3 3 ...\n",
      " $ V22: Factor w/ 6 levels \"a\",\"c\",\"n\",\"s\",..: 4 3 3 4 1 3 3 4 5 4 ...\n",
      " $ V23: Factor w/ 7 levels \"d\",\"g\",\"l\",\"m\",..: 6 2 4 6 2 2 4 4 2 4 ...\n"
     ]
    }
   ],
   "source": [
    "# target Data를 factor 로 변환\n",
    "mr$V1 <- as.factor(mr$V1)\n",
    "str(mr)"
   ]
  },
  {
   "cell_type": "code",
   "execution_count": 22,
   "metadata": {
    "vscode": {
     "languageId": "r"
    }
   },
   "outputs": [
    {
     "data": {
      "text/html": [
       "<table class=\"dataframe\">\n",
       "<caption>A data.frame: 6 x 23</caption>\n",
       "<thead>\n",
       "\t<tr><th></th><th scope=col>V1</th><th scope=col>V2</th><th scope=col>V3</th><th scope=col>V4</th><th scope=col>V5</th><th scope=col>V6</th><th scope=col>V7</th><th scope=col>V8</th><th scope=col>V9</th><th scope=col>V10</th><th scope=col>...</th><th scope=col>V14</th><th scope=col>V15</th><th scope=col>V16</th><th scope=col>V17</th><th scope=col>V18</th><th scope=col>V19</th><th scope=col>V20</th><th scope=col>V21</th><th scope=col>V22</th><th scope=col>V23</th></tr>\n",
       "\t<tr><th></th><th scope=col>&lt;fct&gt;</th><th scope=col>&lt;dbl&gt;</th><th scope=col>&lt;dbl&gt;</th><th scope=col>&lt;dbl&gt;</th><th scope=col>&lt;dbl&gt;</th><th scope=col>&lt;dbl&gt;</th><th scope=col>&lt;dbl&gt;</th><th scope=col>&lt;dbl&gt;</th><th scope=col>&lt;dbl&gt;</th><th scope=col>&lt;dbl&gt;</th><th scope=col>...</th><th scope=col>&lt;dbl&gt;</th><th scope=col>&lt;dbl&gt;</th><th scope=col>&lt;dbl&gt;</th><th scope=col>&lt;dbl&gt;</th><th scope=col>&lt;dbl&gt;</th><th scope=col>&lt;dbl&gt;</th><th scope=col>&lt;dbl&gt;</th><th scope=col>&lt;dbl&gt;</th><th scope=col>&lt;dbl&gt;</th><th scope=col>&lt;dbl&gt;</th></tr>\n",
       "</thead>\n",
       "<tbody>\n",
       "\t<tr><th scope=row>1</th><td>p</td><td>6</td><td>3</td><td> 5</td><td>2</td><td>7</td><td>2</td><td>1</td><td>2</td><td>5</td><td>...</td><td>3</td><td>8</td><td>8</td><td>1</td><td>3</td><td>2</td><td>5</td><td>3</td><td>4</td><td>6</td></tr>\n",
       "\t<tr><th scope=row>2</th><td>e</td><td>6</td><td>3</td><td>10</td><td>2</td><td>1</td><td>2</td><td>1</td><td>1</td><td>5</td><td>...</td><td>3</td><td>8</td><td>8</td><td>1</td><td>3</td><td>2</td><td>5</td><td>4</td><td>3</td><td>2</td></tr>\n",
       "\t<tr><th scope=row>3</th><td>e</td><td>1</td><td>3</td><td> 9</td><td>2</td><td>4</td><td>2</td><td>1</td><td>1</td><td>6</td><td>...</td><td>3</td><td>8</td><td>8</td><td>1</td><td>3</td><td>2</td><td>5</td><td>4</td><td>3</td><td>4</td></tr>\n",
       "\t<tr><th scope=row>4</th><td>p</td><td>6</td><td>4</td><td> 9</td><td>2</td><td>7</td><td>2</td><td>1</td><td>2</td><td>6</td><td>...</td><td>3</td><td>8</td><td>8</td><td>1</td><td>3</td><td>2</td><td>5</td><td>3</td><td>4</td><td>6</td></tr>\n",
       "\t<tr><th scope=row>5</th><td>e</td><td>6</td><td>3</td><td> 4</td><td>1</td><td>6</td><td>2</td><td>2</td><td>1</td><td>5</td><td>...</td><td>3</td><td>8</td><td>8</td><td>1</td><td>3</td><td>2</td><td>1</td><td>4</td><td>1</td><td>2</td></tr>\n",
       "\t<tr><th scope=row>6</th><td>e</td><td>6</td><td>4</td><td>10</td><td>2</td><td>1</td><td>2</td><td>1</td><td>1</td><td>6</td><td>...</td><td>3</td><td>8</td><td>8</td><td>1</td><td>3</td><td>2</td><td>5</td><td>3</td><td>3</td><td>2</td></tr>\n",
       "</tbody>\n",
       "</table>\n"
      ],
      "text/latex": [
       "A data.frame: 6 x 23\n",
       "\\begin{tabular}{r|lllllllllllllllllllll}\n",
       "  & V1 & V2 & V3 & V4 & V5 & V6 & V7 & V8 & V9 & V10 & ... & V14 & V15 & V16 & V17 & V18 & V19 & V20 & V21 & V22 & V23\\\\\n",
       "  & <fct> & <dbl> & <dbl> & <dbl> & <dbl> & <dbl> & <dbl> & <dbl> & <dbl> & <dbl> & ... & <dbl> & <dbl> & <dbl> & <dbl> & <dbl> & <dbl> & <dbl> & <dbl> & <dbl> & <dbl>\\\\\n",
       "\\hline\n",
       "\t1 & p & 6 & 3 &  5 & 2 & 7 & 2 & 1 & 2 & 5 & ... & 3 & 8 & 8 & 1 & 3 & 2 & 5 & 3 & 4 & 6\\\\\n",
       "\t2 & e & 6 & 3 & 10 & 2 & 1 & 2 & 1 & 1 & 5 & ... & 3 & 8 & 8 & 1 & 3 & 2 & 5 & 4 & 3 & 2\\\\\n",
       "\t3 & e & 1 & 3 &  9 & 2 & 4 & 2 & 1 & 1 & 6 & ... & 3 & 8 & 8 & 1 & 3 & 2 & 5 & 4 & 3 & 4\\\\\n",
       "\t4 & p & 6 & 4 &  9 & 2 & 7 & 2 & 1 & 2 & 6 & ... & 3 & 8 & 8 & 1 & 3 & 2 & 5 & 3 & 4 & 6\\\\\n",
       "\t5 & e & 6 & 3 &  4 & 1 & 6 & 2 & 2 & 1 & 5 & ... & 3 & 8 & 8 & 1 & 3 & 2 & 1 & 4 & 1 & 2\\\\\n",
       "\t6 & e & 6 & 4 & 10 & 2 & 1 & 2 & 1 & 1 & 6 & ... & 3 & 8 & 8 & 1 & 3 & 2 & 5 & 3 & 3 & 2\\\\\n",
       "\\end{tabular}\n"
      ],
      "text/markdown": [
       "\n",
       "A data.frame: 6 x 23\n",
       "\n",
       "| <!--/--> | V1 &lt;fct&gt; | V2 &lt;dbl&gt; | V3 &lt;dbl&gt; | V4 &lt;dbl&gt; | V5 &lt;dbl&gt; | V6 &lt;dbl&gt; | V7 &lt;dbl&gt; | V8 &lt;dbl&gt; | V9 &lt;dbl&gt; | V10 &lt;dbl&gt; | ... ... | V14 &lt;dbl&gt; | V15 &lt;dbl&gt; | V16 &lt;dbl&gt; | V17 &lt;dbl&gt; | V18 &lt;dbl&gt; | V19 &lt;dbl&gt; | V20 &lt;dbl&gt; | V21 &lt;dbl&gt; | V22 &lt;dbl&gt; | V23 &lt;dbl&gt; |\n",
       "|---|---|---|---|---|---|---|---|---|---|---|---|---|---|---|---|---|---|---|---|---|---|\n",
       "| 1 | p | 6 | 3 |  5 | 2 | 7 | 2 | 1 | 2 | 5 | ... | 3 | 8 | 8 | 1 | 3 | 2 | 5 | 3 | 4 | 6 |\n",
       "| 2 | e | 6 | 3 | 10 | 2 | 1 | 2 | 1 | 1 | 5 | ... | 3 | 8 | 8 | 1 | 3 | 2 | 5 | 4 | 3 | 2 |\n",
       "| 3 | e | 1 | 3 |  9 | 2 | 4 | 2 | 1 | 1 | 6 | ... | 3 | 8 | 8 | 1 | 3 | 2 | 5 | 4 | 3 | 4 |\n",
       "| 4 | p | 6 | 4 |  9 | 2 | 7 | 2 | 1 | 2 | 6 | ... | 3 | 8 | 8 | 1 | 3 | 2 | 5 | 3 | 4 | 6 |\n",
       "| 5 | e | 6 | 3 |  4 | 1 | 6 | 2 | 2 | 1 | 5 | ... | 3 | 8 | 8 | 1 | 3 | 2 | 1 | 4 | 1 | 2 |\n",
       "| 6 | e | 6 | 4 | 10 | 2 | 1 | 2 | 1 | 1 | 6 | ... | 3 | 8 | 8 | 1 | 3 | 2 | 5 | 3 | 3 | 2 |\n",
       "\n"
      ],
      "text/plain": [
       "  V1 V2 V3 V4 V5 V6 V7 V8 V9 V10 ... V14 V15 V16 V17 V18 V19 V20 V21 V22 V23\n",
       "1 p  6  3   5 2  7  2  1  2  5   ... 3   8   8   1   3   2   5   3   4   6  \n",
       "2 e  6  3  10 2  1  2  1  1  5   ... 3   8   8   1   3   2   5   4   3   2  \n",
       "3 e  1  3   9 2  4  2  1  1  6   ... 3   8   8   1   3   2   5   4   3   4  \n",
       "4 p  6  4   9 2  7  2  1  2  6   ... 3   8   8   1   3   2   5   3   4   6  \n",
       "5 e  6  3   4 1  6  2  2  1  5   ... 3   8   8   1   3   2   1   4   1   2  \n",
       "6 e  6  4  10 2  1  2  1  1  6   ... 3   8   8   1   3   2   5   3   3   2  "
      ]
     },
     "metadata": {},
     "output_type": "display_data"
    }
   ],
   "source": [
    "#feature 를 숫자화\n",
    "#mr$V2 <-as.numeric(mr$V2)\n",
    "for ( i in 2:23){\n",
    "    mr[,i] = as.numeric(mr[,i]) # v1 은 타겟 \n",
    "}\n",
    "head(mr)\n",
    "#샘플링 하려고 정렬을 하는것이다. \n"
   ]
  },
  {
   "cell_type": "code",
   "execution_count": 24,
   "metadata": {
    "vscode": {
     "languageId": "r"
    }
   },
   "outputs": [
    {
     "data": {
      "text/html": [
       "<table class=\"dataframe\">\n",
       "<caption>A data.frame: 6 x 23</caption>\n",
       "<thead>\n",
       "\t<tr><th></th><th scope=col>V1</th><th scope=col>V2</th><th scope=col>V3</th><th scope=col>V4</th><th scope=col>V5</th><th scope=col>V6</th><th scope=col>V7</th><th scope=col>V8</th><th scope=col>V9</th><th scope=col>V10</th><th scope=col>...</th><th scope=col>V14</th><th scope=col>V15</th><th scope=col>V16</th><th scope=col>V17</th><th scope=col>V18</th><th scope=col>V19</th><th scope=col>V20</th><th scope=col>V21</th><th scope=col>V22</th><th scope=col>V23</th></tr>\n",
       "\t<tr><th></th><th scope=col>&lt;fct&gt;</th><th scope=col>&lt;dbl&gt;</th><th scope=col>&lt;dbl&gt;</th><th scope=col>&lt;dbl&gt;</th><th scope=col>&lt;dbl&gt;</th><th scope=col>&lt;dbl&gt;</th><th scope=col>&lt;dbl&gt;</th><th scope=col>&lt;dbl&gt;</th><th scope=col>&lt;dbl&gt;</th><th scope=col>&lt;dbl&gt;</th><th scope=col>...</th><th scope=col>&lt;dbl&gt;</th><th scope=col>&lt;dbl&gt;</th><th scope=col>&lt;dbl&gt;</th><th scope=col>&lt;dbl&gt;</th><th scope=col>&lt;dbl&gt;</th><th scope=col>&lt;dbl&gt;</th><th scope=col>&lt;dbl&gt;</th><th scope=col>&lt;dbl&gt;</th><th scope=col>&lt;dbl&gt;</th><th scope=col>&lt;dbl&gt;</th></tr>\n",
       "</thead>\n",
       "<tbody>\n",
       "\t<tr><th scope=row>1</th><td>e</td><td>6</td><td>3</td><td>10</td><td>2</td><td>1</td><td>2</td><td>1</td><td>1</td><td>5</td><td>...</td><td>3</td><td>8</td><td>8</td><td>1</td><td>3</td><td>2</td><td>5</td><td>4</td><td>3</td><td>2</td></tr>\n",
       "\t<tr><th scope=row>2</th><td>e</td><td>1</td><td>3</td><td> 9</td><td>2</td><td>4</td><td>2</td><td>1</td><td>1</td><td>6</td><td>...</td><td>3</td><td>8</td><td>8</td><td>1</td><td>3</td><td>2</td><td>5</td><td>4</td><td>3</td><td>4</td></tr>\n",
       "\t<tr><th scope=row>3</th><td>e</td><td>6</td><td>3</td><td> 4</td><td>1</td><td>6</td><td>2</td><td>2</td><td>1</td><td>5</td><td>...</td><td>3</td><td>8</td><td>8</td><td>1</td><td>3</td><td>2</td><td>1</td><td>4</td><td>1</td><td>2</td></tr>\n",
       "\t<tr><th scope=row>4</th><td>e</td><td>6</td><td>4</td><td>10</td><td>2</td><td>1</td><td>2</td><td>1</td><td>1</td><td>6</td><td>...</td><td>3</td><td>8</td><td>8</td><td>1</td><td>3</td><td>2</td><td>5</td><td>3</td><td>3</td><td>2</td></tr>\n",
       "\t<tr><th scope=row>5</th><td>e</td><td>1</td><td>3</td><td> 9</td><td>2</td><td>1</td><td>2</td><td>1</td><td>1</td><td>3</td><td>...</td><td>3</td><td>8</td><td>8</td><td>1</td><td>3</td><td>2</td><td>5</td><td>3</td><td>3</td><td>4</td></tr>\n",
       "\t<tr><th scope=row>6</th><td>e</td><td>1</td><td>4</td><td> 9</td><td>2</td><td>4</td><td>2</td><td>1</td><td>1</td><td>6</td><td>...</td><td>3</td><td>8</td><td>8</td><td>1</td><td>3</td><td>2</td><td>5</td><td>4</td><td>4</td><td>4</td></tr>\n",
       "</tbody>\n",
       "</table>\n"
      ],
      "text/latex": [
       "A data.frame: 6 x 23\n",
       "\\begin{tabular}{r|lllllllllllllllllllll}\n",
       "  & V1 & V2 & V3 & V4 & V5 & V6 & V7 & V8 & V9 & V10 & ... & V14 & V15 & V16 & V17 & V18 & V19 & V20 & V21 & V22 & V23\\\\\n",
       "  & <fct> & <dbl> & <dbl> & <dbl> & <dbl> & <dbl> & <dbl> & <dbl> & <dbl> & <dbl> & ... & <dbl> & <dbl> & <dbl> & <dbl> & <dbl> & <dbl> & <dbl> & <dbl> & <dbl> & <dbl>\\\\\n",
       "\\hline\n",
       "\t1 & e & 6 & 3 & 10 & 2 & 1 & 2 & 1 & 1 & 5 & ... & 3 & 8 & 8 & 1 & 3 & 2 & 5 & 4 & 3 & 2\\\\\n",
       "\t2 & e & 1 & 3 &  9 & 2 & 4 & 2 & 1 & 1 & 6 & ... & 3 & 8 & 8 & 1 & 3 & 2 & 5 & 4 & 3 & 4\\\\\n",
       "\t3 & e & 6 & 3 &  4 & 1 & 6 & 2 & 2 & 1 & 5 & ... & 3 & 8 & 8 & 1 & 3 & 2 & 1 & 4 & 1 & 2\\\\\n",
       "\t4 & e & 6 & 4 & 10 & 2 & 1 & 2 & 1 & 1 & 6 & ... & 3 & 8 & 8 & 1 & 3 & 2 & 5 & 3 & 3 & 2\\\\\n",
       "\t5 & e & 1 & 3 &  9 & 2 & 1 & 2 & 1 & 1 & 3 & ... & 3 & 8 & 8 & 1 & 3 & 2 & 5 & 3 & 3 & 4\\\\\n",
       "\t6 & e & 1 & 4 &  9 & 2 & 4 & 2 & 1 & 1 & 6 & ... & 3 & 8 & 8 & 1 & 3 & 2 & 5 & 4 & 4 & 4\\\\\n",
       "\\end{tabular}\n"
      ],
      "text/markdown": [
       "\n",
       "A data.frame: 6 x 23\n",
       "\n",
       "| <!--/--> | V1 &lt;fct&gt; | V2 &lt;dbl&gt; | V3 &lt;dbl&gt; | V4 &lt;dbl&gt; | V5 &lt;dbl&gt; | V6 &lt;dbl&gt; | V7 &lt;dbl&gt; | V8 &lt;dbl&gt; | V9 &lt;dbl&gt; | V10 &lt;dbl&gt; | ... ... | V14 &lt;dbl&gt; | V15 &lt;dbl&gt; | V16 &lt;dbl&gt; | V17 &lt;dbl&gt; | V18 &lt;dbl&gt; | V19 &lt;dbl&gt; | V20 &lt;dbl&gt; | V21 &lt;dbl&gt; | V22 &lt;dbl&gt; | V23 &lt;dbl&gt; |\n",
       "|---|---|---|---|---|---|---|---|---|---|---|---|---|---|---|---|---|---|---|---|---|---|\n",
       "| 1 | e | 6 | 3 | 10 | 2 | 1 | 2 | 1 | 1 | 5 | ... | 3 | 8 | 8 | 1 | 3 | 2 | 5 | 4 | 3 | 2 |\n",
       "| 2 | e | 1 | 3 |  9 | 2 | 4 | 2 | 1 | 1 | 6 | ... | 3 | 8 | 8 | 1 | 3 | 2 | 5 | 4 | 3 | 4 |\n",
       "| 3 | e | 6 | 3 |  4 | 1 | 6 | 2 | 2 | 1 | 5 | ... | 3 | 8 | 8 | 1 | 3 | 2 | 1 | 4 | 1 | 2 |\n",
       "| 4 | e | 6 | 4 | 10 | 2 | 1 | 2 | 1 | 1 | 6 | ... | 3 | 8 | 8 | 1 | 3 | 2 | 5 | 3 | 3 | 2 |\n",
       "| 5 | e | 1 | 3 |  9 | 2 | 1 | 2 | 1 | 1 | 3 | ... | 3 | 8 | 8 | 1 | 3 | 2 | 5 | 3 | 3 | 4 |\n",
       "| 6 | e | 1 | 4 |  9 | 2 | 4 | 2 | 1 | 1 | 6 | ... | 3 | 8 | 8 | 1 | 3 | 2 | 5 | 4 | 4 | 4 |\n",
       "\n"
      ],
      "text/plain": [
       "  V1 V2 V3 V4 V5 V6 V7 V8 V9 V10 ... V14 V15 V16 V17 V18 V19 V20 V21 V22 V23\n",
       "1 e  6  3  10 2  1  2  1  1  5   ... 3   8   8   1   3   2   5   4   3   2  \n",
       "2 e  1  3   9 2  4  2  1  1  6   ... 3   8   8   1   3   2   5   4   3   4  \n",
       "3 e  6  3   4 1  6  2  2  1  5   ... 3   8   8   1   3   2   1   4   1   2  \n",
       "4 e  6  4  10 2  1  2  1  1  6   ... 3   8   8   1   3   2   5   3   3   2  \n",
       "5 e  1  3   9 2  1  2  1  1  3   ... 3   8   8   1   3   2   5   3   3   4  \n",
       "6 e  1  4   9 2  4  2  1  1  6   ... 3   8   8   1   3   2   5   4   4   4  "
      ]
     },
     "metadata": {},
     "output_type": "display_data"
    },
    {
     "data": {
      "text/html": [
       "<table class=\"dataframe\">\n",
       "<caption>A data.frame: 6 x 23</caption>\n",
       "<thead>\n",
       "\t<tr><th></th><th scope=col>V1</th><th scope=col>V2</th><th scope=col>V3</th><th scope=col>V4</th><th scope=col>V5</th><th scope=col>V6</th><th scope=col>V7</th><th scope=col>V8</th><th scope=col>V9</th><th scope=col>V10</th><th scope=col>...</th><th scope=col>V14</th><th scope=col>V15</th><th scope=col>V16</th><th scope=col>V17</th><th scope=col>V18</th><th scope=col>V19</th><th scope=col>V20</th><th scope=col>V21</th><th scope=col>V22</th><th scope=col>V23</th></tr>\n",
       "\t<tr><th></th><th scope=col>&lt;fct&gt;</th><th scope=col>&lt;dbl&gt;</th><th scope=col>&lt;dbl&gt;</th><th scope=col>&lt;dbl&gt;</th><th scope=col>&lt;dbl&gt;</th><th scope=col>&lt;dbl&gt;</th><th scope=col>&lt;dbl&gt;</th><th scope=col>&lt;dbl&gt;</th><th scope=col>&lt;dbl&gt;</th><th scope=col>&lt;dbl&gt;</th><th scope=col>...</th><th scope=col>&lt;dbl&gt;</th><th scope=col>&lt;dbl&gt;</th><th scope=col>&lt;dbl&gt;</th><th scope=col>&lt;dbl&gt;</th><th scope=col>&lt;dbl&gt;</th><th scope=col>&lt;dbl&gt;</th><th scope=col>&lt;dbl&gt;</th><th scope=col>&lt;dbl&gt;</th><th scope=col>&lt;dbl&gt;</th><th scope=col>&lt;dbl&gt;</th></tr>\n",
       "</thead>\n",
       "<tbody>\n",
       "\t<tr><th scope=row>8119</th><td>p</td><td>4</td><td>4</td><td>3</td><td>1</td><td>9</td><td>2</td><td>1</td><td>2</td><td> 1</td><td>...</td><td>2</td><td>7</td><td>7</td><td>1</td><td>3</td><td>2</td><td>1</td><td>8</td><td>5</td><td>1</td></tr>\n",
       "\t<tr><th scope=row>8120</th><td>p</td><td>3</td><td>4</td><td>2</td><td>1</td><td>5</td><td>1</td><td>1</td><td>1</td><td>12</td><td>...</td><td>4</td><td>2</td><td>2</td><td>1</td><td>3</td><td>1</td><td>4</td><td>8</td><td>2</td><td>1</td></tr>\n",
       "\t<tr><th scope=row>8121</th><td>p</td><td>4</td><td>4</td><td>5</td><td>1</td><td>8</td><td>2</td><td>1</td><td>2</td><td> 1</td><td>...</td><td>2</td><td>7</td><td>8</td><td>1</td><td>3</td><td>2</td><td>1</td><td>8</td><td>5</td><td>3</td></tr>\n",
       "\t<tr><th scope=row>8122</th><td>p</td><td>4</td><td>3</td><td>3</td><td>1</td><td>9</td><td>2</td><td>1</td><td>2</td><td> 1</td><td>...</td><td>3</td><td>7</td><td>8</td><td>1</td><td>3</td><td>2</td><td>1</td><td>8</td><td>5</td><td>1</td></tr>\n",
       "\t<tr><th scope=row>8123</th><td>p</td><td>4</td><td>4</td><td>5</td><td>1</td><td>3</td><td>2</td><td>1</td><td>2</td><td> 1</td><td>...</td><td>3</td><td>7</td><td>8</td><td>1</td><td>3</td><td>2</td><td>1</td><td>8</td><td>5</td><td>1</td></tr>\n",
       "\t<tr><th scope=row>8124</th><td>p</td><td>4</td><td>4</td><td>5</td><td>1</td><td>9</td><td>2</td><td>1</td><td>2</td><td> 1</td><td>...</td><td>2</td><td>8</td><td>8</td><td>1</td><td>3</td><td>2</td><td>1</td><td>8</td><td>5</td><td>3</td></tr>\n",
       "</tbody>\n",
       "</table>\n"
      ],
      "text/latex": [
       "A data.frame: 6 x 23\n",
       "\\begin{tabular}{r|lllllllllllllllllllll}\n",
       "  & V1 & V2 & V3 & V4 & V5 & V6 & V7 & V8 & V9 & V10 & ... & V14 & V15 & V16 & V17 & V18 & V19 & V20 & V21 & V22 & V23\\\\\n",
       "  & <fct> & <dbl> & <dbl> & <dbl> & <dbl> & <dbl> & <dbl> & <dbl> & <dbl> & <dbl> & ... & <dbl> & <dbl> & <dbl> & <dbl> & <dbl> & <dbl> & <dbl> & <dbl> & <dbl> & <dbl>\\\\\n",
       "\\hline\n",
       "\t8119 & p & 4 & 4 & 3 & 1 & 9 & 2 & 1 & 2 &  1 & ... & 2 & 7 & 7 & 1 & 3 & 2 & 1 & 8 & 5 & 1\\\\\n",
       "\t8120 & p & 3 & 4 & 2 & 1 & 5 & 1 & 1 & 1 & 12 & ... & 4 & 2 & 2 & 1 & 3 & 1 & 4 & 8 & 2 & 1\\\\\n",
       "\t8121 & p & 4 & 4 & 5 & 1 & 8 & 2 & 1 & 2 &  1 & ... & 2 & 7 & 8 & 1 & 3 & 2 & 1 & 8 & 5 & 3\\\\\n",
       "\t8122 & p & 4 & 3 & 3 & 1 & 9 & 2 & 1 & 2 &  1 & ... & 3 & 7 & 8 & 1 & 3 & 2 & 1 & 8 & 5 & 1\\\\\n",
       "\t8123 & p & 4 & 4 & 5 & 1 & 3 & 2 & 1 & 2 &  1 & ... & 3 & 7 & 8 & 1 & 3 & 2 & 1 & 8 & 5 & 1\\\\\n",
       "\t8124 & p & 4 & 4 & 5 & 1 & 9 & 2 & 1 & 2 &  1 & ... & 2 & 8 & 8 & 1 & 3 & 2 & 1 & 8 & 5 & 3\\\\\n",
       "\\end{tabular}\n"
      ],
      "text/markdown": [
       "\n",
       "A data.frame: 6 x 23\n",
       "\n",
       "| <!--/--> | V1 &lt;fct&gt; | V2 &lt;dbl&gt; | V3 &lt;dbl&gt; | V4 &lt;dbl&gt; | V5 &lt;dbl&gt; | V6 &lt;dbl&gt; | V7 &lt;dbl&gt; | V8 &lt;dbl&gt; | V9 &lt;dbl&gt; | V10 &lt;dbl&gt; | ... ... | V14 &lt;dbl&gt; | V15 &lt;dbl&gt; | V16 &lt;dbl&gt; | V17 &lt;dbl&gt; | V18 &lt;dbl&gt; | V19 &lt;dbl&gt; | V20 &lt;dbl&gt; | V21 &lt;dbl&gt; | V22 &lt;dbl&gt; | V23 &lt;dbl&gt; |\n",
       "|---|---|---|---|---|---|---|---|---|---|---|---|---|---|---|---|---|---|---|---|---|---|\n",
       "| 8119 | p | 4 | 4 | 3 | 1 | 9 | 2 | 1 | 2 |  1 | ... | 2 | 7 | 7 | 1 | 3 | 2 | 1 | 8 | 5 | 1 |\n",
       "| 8120 | p | 3 | 4 | 2 | 1 | 5 | 1 | 1 | 1 | 12 | ... | 4 | 2 | 2 | 1 | 3 | 1 | 4 | 8 | 2 | 1 |\n",
       "| 8121 | p | 4 | 4 | 5 | 1 | 8 | 2 | 1 | 2 |  1 | ... | 2 | 7 | 8 | 1 | 3 | 2 | 1 | 8 | 5 | 3 |\n",
       "| 8122 | p | 4 | 3 | 3 | 1 | 9 | 2 | 1 | 2 |  1 | ... | 3 | 7 | 8 | 1 | 3 | 2 | 1 | 8 | 5 | 1 |\n",
       "| 8123 | p | 4 | 4 | 5 | 1 | 3 | 2 | 1 | 2 |  1 | ... | 3 | 7 | 8 | 1 | 3 | 2 | 1 | 8 | 5 | 1 |\n",
       "| 8124 | p | 4 | 4 | 5 | 1 | 9 | 2 | 1 | 2 |  1 | ... | 2 | 8 | 8 | 1 | 3 | 2 | 1 | 8 | 5 | 3 |\n",
       "\n"
      ],
      "text/plain": [
       "     V1 V2 V3 V4 V5 V6 V7 V8 V9 V10 ... V14 V15 V16 V17 V18 V19 V20 V21 V22 V23\n",
       "8119 p  4  4  3  1  9  2  1  2   1  ... 2   7   7   1   3   2   1   8   5   1  \n",
       "8120 p  3  4  2  1  5  1  1  1  12  ... 4   2   2   1   3   1   4   8   2   1  \n",
       "8121 p  4  4  5  1  8  2  1  2   1  ... 2   7   8   1   3   2   1   8   5   3  \n",
       "8122 p  4  3  3  1  9  2  1  2   1  ... 3   7   8   1   3   2   1   8   5   1  \n",
       "8123 p  4  4  5  1  3  2  1  2   1  ... 3   7   8   1   3   2   1   8   5   1  \n",
       "8124 p  4  4  5  1  9  2  1  2   1  ... 2   8   8   1   3   2   1   8   5   3  "
      ]
     },
     "metadata": {},
     "output_type": "display_data"
    }
   ],
   "source": [
    "#V1 기준으로 p 와 e를 정렬\n",
    "mr<- arrange( mr, V1)\n",
    "head(mr)\n",
    "tail(mr)"
   ]
  },
  {
   "cell_type": "code",
   "execution_count": 25,
   "metadata": {
    "vscode": {
     "languageId": "r"
    }
   },
   "outputs": [
    {
     "name": "stdout",
     "output_type": "stream",
     "text": [
      "\n",
      "다운로드된 바이너리 패키지들은 다음의 위치에 있습니다\n",
      "\t/var/folders/j9/cyqwg1g57ts8dmlvdn5rdyhw0000gn/T//RtmpsDwVDU/downloaded_packages\n"
     ]
    }
   ],
   "source": [
    "# 독버섯인지 아닌지 예측 하려함. -> 타겟의 분포가 비슷한지 확인해야함. max 가 6:4 임 7:3 이면 예측하면 안됨\n",
    "\n",
    "# 정리한 e 와 p 의 갯수 확인\n",
    "install.packages(\"descr\")"
   ]
  },
  {
   "cell_type": "code",
   "execution_count": 26,
   "metadata": {
    "vscode": {
     "languageId": "r"
    }
   },
   "outputs": [],
   "source": [
    "library(descr)"
   ]
  },
  {
   "cell_type": "code",
   "execution_count": 30,
   "metadata": {
    "vscode": {
     "languageId": "r"
    }
   },
   "outputs": [
    {
     "data": {
      "text/html": [
       "<table class=\"dataframe\">\n",
       "<caption>A freqtable: 3 x 2 of type dbl</caption>\n",
       "<thead>\n",
       "\t<tr><th></th><th scope=col>Frequency</th><th scope=col>Percent</th></tr>\n",
       "</thead>\n",
       "<tbody>\n",
       "\t<tr><th scope=row>e</th><td>4208</td><td> 51.79714</td></tr>\n",
       "\t<tr><th scope=row>p</th><td>3916</td><td> 48.20286</td></tr>\n",
       "\t<tr><th scope=row>Total</th><td>8124</td><td>100.00000</td></tr>\n",
       "</tbody>\n",
       "</table>\n"
      ],
      "text/latex": [
       "A freqtable: 3 x 2 of type dbl\n",
       "\\begin{tabular}{r|ll}\n",
       "  & Frequency & Percent\\\\\n",
       "\\hline\n",
       "\te & 4208 &  51.79714\\\\\n",
       "\tp & 3916 &  48.20286\\\\\n",
       "\tTotal & 8124 & 100.00000\\\\\n",
       "\\end{tabular}\n"
      ],
      "text/markdown": [
       "\n",
       "A freqtable: 3 x 2 of type dbl\n",
       "\n",
       "| <!--/--> | Frequency | Percent |\n",
       "|---|---|---|\n",
       "| e | 4208 |  51.79714 |\n",
       "| p | 3916 |  48.20286 |\n",
       "| Total | 8124 | 100.00000 |\n",
       "\n"
      ],
      "text/plain": [
       "      Frequency Percent  \n",
       "e     4208       51.79714\n",
       "p     3916       48.20286\n",
       "Total 8124      100.00000"
      ]
     },
     "metadata": {},
     "output_type": "display_data"
    },
    {
     "data": {
      "image/png": "[encoded data removed]",
      "text/plain": [
       "plot without title"
      ]
     },
     "metadata": {
      "image/png": {
       "height": 360,
       "width": 480
      }
     },
     "output_type": "display_data"
    }
   ],
   "source": [
    "par(bg ='white')\n",
    "freq(mr$V1)"
   ]
  },
  {
   "cell_type": "code",
   "execution_count": 34,
   "metadata": {
    "vscode": {
     "languageId": "r"
    }
   },
   "outputs": [
    {
     "data": {
      "text/html": [
       "4208"
      ],
      "text/latex": [
       "4208"
      ],
      "text/markdown": [
       "4208"
      ],
      "text/plain": [
       "[1] 4208"
      ]
     },
     "metadata": {},
     "output_type": "display_data"
    },
    {
     "data": {
      "text/html": [
       "3916"
      ],
      "text/latex": [
       "3916"
      ],
      "text/markdown": [
       "3916"
      ],
      "text/plain": [
       "[1] 3916"
      ]
     },
     "metadata": {},
     "output_type": "display_data"
    },
    {
     "data": {
      "text/html": [
       "1.07456588355465"
      ],
      "text/latex": [
       "1.07456588355465"
      ],
      "text/markdown": [
       "1.07456588355465"
      ],
      "text/plain": [
       "[1] 1.074566"
      ]
     },
     "metadata": {},
     "output_type": "display_data"
    }
   ],
   "source": [
    "# 식용버섯의 갯수\n",
    "e<-nrow(subset(mr,V1 ==\"e\"));e\n",
    "# 독버섯의 갯수 \n",
    "p<-nrow(subset(mr,V1 ==\"p\"));p\n",
    "# 비율 \n",
    "e/p"
   ]
  },
  {
   "cell_type": "code",
   "execution_count": 63,
   "metadata": {
    "vscode": {
     "languageId": "r"
    }
   },
   "outputs": [],
   "source": [
    "# Sampling\n",
    "library(caret)\n",
    "set.seed(1234)\n",
    "samp <- createDataPartition(mr$V1, p=0.7 , list =F)\n",
    "\n",
    "\n",
    "\n",
    "\n",
    "\n",
    "\n"
   ]
  },
  {
   "cell_type": "code",
   "execution_count": 41,
   "metadata": {
    "vscode": {
     "languageId": "r"
    }
   },
   "outputs": [],
   "source": [
    "data.train <- mr[samp,]\n",
    "data.test <- mr[-samp,]"
   ]
  },
  {
   "cell_type": "code",
   "execution_count": 85,
   "metadata": {
    "vscode": {
     "languageId": "r"
    }
   },
   "outputs": [
    {
     "name": "stdout",
     "output_type": "stream",
     "text": [
      "예측률 \n",
      "0.9995895  0.999179  0.9979475  0.9987685  0.9885057  1  0.998358  0.9917898  0.9954844  0.9856322  \n",
      "\u001b[36m Random Forrest 평균 예측률 : 0.9955255\u001b[0m"
     ]
    }
   ],
   "source": [
    "# 랜덤포레스트 예측 함수\n",
    "rfFun <- function(data,target_col,rf_n,iter_n){\n",
    "    library(caret)\n",
    "    library(randomForest)\n",
    "    target <- data[,target_col] # target 칼럼\n",
    "    acc <-c()\n",
    "    cat(\"예측률 \\n\")\n",
    "    for(i in 1:iter_n){\n",
    "        samp <- createDataPartition(data[,target_col], p =0.7, list =F)\n",
    "        # 학습용, 검증용 분류\n",
    "        data.tr     <- data[samp,]\n",
    "        data.test   <- data[-samp,]\n",
    "        # 문제 및 정답 만들기 \n",
    "        x <- subset(data.test, select = -target_col)\n",
    "        y <- data.test[,target_col]\n",
    "        # 모델 생성\n",
    "        target_name<-colnames(data)[target_col] \n",
    "        rf <- randomForest(data.tr$V1 ~ ., data =data.tr, ntree =rf_n)\n",
    "        # 예측\n",
    "        pred<-predict(rf,x )\n",
    "        acc<-append(acc,mean(pred==y))\n",
    "        cat(mean(pred==y),\" \")\n",
    "    }\n",
    "    cat(\"\\n\\033[36m Random Forrest 평균 예측률 : \",mean(acc) ,\"\\033[0m\",sep = \"\")\n",
    "    #return(mean(acc))\n",
    "}\n",
    "rfFun(mr,1,2,10)\n",
    "\n",
    "\n",
    "\n"
   ]
  },
  {
   "cell_type": "code",
   "execution_count": 86,
   "metadata": {
    "vscode": {
     "languageId": "r"
    }
   },
   "outputs": [],
   "source": [
    "# Random Forest 로 예측력 확인하기\n",
    "# 인공신경망을 이용한 예측력 확인하기\n",
    "# SVM 이용한 예측력확인하기\n",
    "# 로지스틱 회귀분석을 이용한 예측 력확인하기 "
   ]
  },
  {
   "cell_type": "code",
   "execution_count": 134,
   "metadata": {
    "vscode": {
     "languageId": "r"
    }
   },
   "outputs": [
    {
     "name": "stdout",
     "output_type": "stream",
     "text": [
      "예측률 \n",
      "0.9844007  0.9987685  0.9971264  0.9971264  0.9987685  \n",
      "\u001b[36m Random Forrest 평균 예1측률 : 0.9952381\u001b[0m\n",
      "\u001b[36m Neural Network 평균 예측률 : 0\u001b[0m예측률 \n",
      "0.9958949  0.9967159  0.9979475  0.9917898  0.999179  \n",
      "\u001b[36m Random Forrest 평균 예1측률 : 0.9963054\u001b[0m\n",
      "\u001b[36m Neural Network 평균 예측률 : 0\u001b[0m"
     ]
    }
   ],
   "source": [
    "# 인공신경망 예측 함수\n",
    "nnFun <- function(data,target_col,rf_n,iter_n){\n",
    "    library(caret)\n",
    "    library(randomForest)\n",
    "    library(nnet)\n",
    "    target <- data[,target_col] # target 칼럼\n",
    "    acc_rf <-c()\n",
    "    acc_nn <-c()\n",
    "    cat(\"예측률 \\n\")\n",
    "\n",
    "    for(i in 1:iter_n){\n",
    "        samp <- createDataPartition(data[,target_col], p =0.7, list =F)\n",
    "        # 학습용, 검증용 분류\n",
    "        data.tr     <- data[samp,]\n",
    "        data.test   <- data[-samp,]\n",
    "        # 문제 및 정답 만들기 \n",
    "        x <- subset(data.test, select = -target_col)\n",
    "        y <- data.test[,target_col]\n",
    "        # 모델 생성\n",
    "        target_name<-colnames(data)[target_col] \n",
    "        Training_target<-data.frame(V1=data.tr[,target_col])\n",
    "        model.nnet <- nnet(Training_target$V1 ~ ., data =data.tr, size = 3, trace =F) \n",
    "\n",
    "        rf <- randomForest(Training_target$V1 ~ ., data =data.tr, ntree =rf_n)\n",
    "        # 예측\n",
    "        pred_rf <-predict(rf,x )\n",
    "        pred_nn <-predict(model.nnet,x )\n",
    "        acc_rf<-append(acc_rf,mean(pred_rf == y))\n",
    "        acc_nn<-append(acc_nn,mean(pred_nn == y))\n",
    "        cat(mean(pred_rf ==y),\" \")\n",
    "    }\n",
    "    cat(\"\\n\\033[36m Random Forrest 평균 예1측률 : \",mean(acc_rf) ,\"\\033[0m\",sep = \"\")\n",
    "    cat(\"\\n\\033[36m Neural Network 평균 예측률 : \",mean(acc_nn) ,\"\\033[0m\",sep = \"\")\n",
    "    #return(mean(acc))\n",
    "}\n",
    "\n",
    "# data,target_col,rf_n,iter_n\n",
    "nnFun(mr,1,2,5)\n",
    "nnFun(mr4,1,2,5)\n",
    "\n",
    "\n",
    "\n"
   ]
  },
  {
   "cell_type": "markdown",
   "metadata": {},
   "source": [
    "---\n",
    "# One Hot Encoding\n",
    "- Feature Engineering의 한분야 ( 컬럼 재생산)\n",
    "- 칼럼이 틀리면 예측값이 달라진다. "
   ]
  },
  {
   "cell_type": "code",
   "execution_count": 105,
   "metadata": {
    "vscode": {
     "languageId": "r"
    }
   },
   "outputs": [
    {
     "name": "stdout",
     "output_type": "stream",
     "text": [
      "Column Name:  \n",
      "\n",
      "   1    2    3    4    5    6 \n",
      " 452    4 3152  828   32 3656 \n",
      "Column Name:  \n",
      "\n",
      "   1    2    3    4 \n",
      "2320    4 2556 3244 \n",
      "Column Name:  \n",
      "\n",
      "   1    2    3    4    5    6    7    8    9   10 \n",
      " 168   44 1500 1840 2284  144   16   16 1040 1072 \n",
      "Column Name:  \n",
      "\n",
      "   1    2 \n",
      "4748 3376 \n",
      "Column Name:  \n",
      "\n",
      "   1    2    3    4    5    6    7    8    9 \n",
      " 400  192 2160  400   36 3528  256  576  576 \n",
      "Column Name:  \n",
      "\n",
      "   1    2 \n",
      " 210 7914 \n",
      "Column Name:  \n",
      "\n",
      "   1    2 \n",
      "6812 1312 \n",
      "Column Name:  \n",
      "\n",
      "   1    2 \n",
      "5612 2512 \n",
      "Column Name:  \n",
      "\n",
      "   1    2    3    4    5    6    7    8    9   10   11   12 \n",
      "1728   96  752  732  408 1048   64 1492   24  492 1202   86 \n",
      "Column Name:  \n",
      "\n",
      "   1    2 \n",
      "3516 4608 \n",
      "Column Name:  \n",
      "\n",
      "   1    2    3    4    5 \n",
      "2480 3776  556 1120  192 \n",
      "Column Name:  \n",
      "\n",
      "   1    2    3    4 \n",
      " 552 2372 5176   24 \n",
      "Column Name:  \n",
      "\n",
      "   1    2    3    4 \n",
      " 600 2304 4936  284 \n",
      "Column Name:  \n",
      "\n",
      "   1    2    3    4    5    6    7    8    9 \n",
      " 432   36   96  576  448  192 1872 4464    8 \n",
      "Column Name:  \n",
      "\n",
      "   1    2    3    4    5    6    7    8    9 \n",
      " 432   36   96  576  512  192 1872 4384   24 \n",
      "Column Name:  \n",
      "\n",
      "   1 \n",
      "8124 \n",
      "Column Name:  \n",
      "\n",
      "   1    2    3    4 \n",
      "  96   96 7924    8 \n",
      "Column Name:  \n",
      "\n",
      "   1    2    3 \n",
      "  36 7488  600 \n",
      "Column Name:  \n",
      "\n",
      "   1    2    3    4    5 \n",
      "2776   48 1296   36 3968 \n",
      "Column Name:  \n",
      "\n",
      "   1    2    3    4    5    6    7    8    9 \n",
      "  48 1632 1872 1968   48   72   48 2388   48 \n",
      "Column Name:  \n",
      "\n",
      "   1    2    3    4    5    6 \n",
      " 384  340  400 1248 4040 1712 \n",
      "Column Name:  \n",
      "\n",
      "   1    2    3    4    5    6    7 \n",
      "3148 2148  832  292 1144  368  192 \n"
     ]
    }
   ],
   "source": [
    "# 각 컬럼별 Data 확인\n",
    "# str(mr)\n",
    "for ( i in 2:23){\n",
    "    cat(\"Column Name: \", colnames(mr[,i]),\"\\n\")\n",
    "    print(table(mr[,i]))\n",
    "}"
   ]
  },
  {
   "cell_type": "code",
   "execution_count": 107,
   "metadata": {
    "vscode": {
     "languageId": "r"
    }
   },
   "outputs": [
    {
     "data": {
      "text/html": [
       "<style>\n",
       ".list-inline {list-style: none; margin:0; padding: 0}\n",
       ".list-inline>li {display: inline-block}\n",
       ".list-inline>li:not(:last-child)::after {content: \"\\00b7\"; padding: 0 .5ex}\n",
       "</style>\n",
       "<ol class=list-inline><li>6</li><li>4</li><li>10</li><li>2</li><li>9</li><li>2</li><li>2</li><li>2</li><li>12</li><li>2</li><li>5</li><li>4</li><li>4</li><li>9</li><li>9</li><li>1</li><li>4</li><li>3</li><li>5</li><li>9</li><li>6</li><li>7</li></ol>\n"
      ],
      "text/latex": [
       "\\begin{enumerate*}\n",
       "\\item 6\n",
       "\\item 4\n",
       "\\item 10\n",
       "\\item 2\n",
       "\\item 9\n",
       "\\item 2\n",
       "\\item 2\n",
       "\\item 2\n",
       "\\item 12\n",
       "\\item 2\n",
       "\\item 5\n",
       "\\item 4\n",
       "\\item 4\n",
       "\\item 9\n",
       "\\item 9\n",
       "\\item 1\n",
       "\\item 4\n",
       "\\item 3\n",
       "\\item 5\n",
       "\\item 9\n",
       "\\item 6\n",
       "\\item 7\n",
       "\\end{enumerate*}\n"
      ],
      "text/markdown": [
       "1. 6\n",
       "2. 4\n",
       "3. 10\n",
       "4. 2\n",
       "5. 9\n",
       "6. 2\n",
       "7. 2\n",
       "8. 2\n",
       "9. 12\n",
       "10. 2\n",
       "11. 5\n",
       "12. 4\n",
       "13. 4\n",
       "14. 9\n",
       "15. 9\n",
       "16. 1\n",
       "17. 4\n",
       "18. 3\n",
       "19. 5\n",
       "20. 9\n",
       "21. 6\n",
       "22. 7\n",
       "\n",
       "\n"
      ],
      "text/plain": [
       " [1]  6  4 10  2  9  2  2  2 12  2  5  4  4  9  9  1  4  3  5  9  6  7"
      ]
     },
     "metadata": {},
     "output_type": "display_data"
    },
    {
     "data": {
      "text/html": [
       "117"
      ],
      "text/latex": [
       "117"
      ],
      "text/markdown": [
       "117"
      ],
      "text/plain": [
       "[1] 117"
      ]
     },
     "metadata": {},
     "output_type": "display_data"
    }
   ],
   "source": [
    "# 작업 후의 컬럼 갯수 파악\n",
    "num <- c()\n",
    "for( i in 2:23){\n",
    "    # 칼럼당 값 유형 종류의 개수\n",
    "    num = append(num , length(unique(mr[,i])))\n",
    "    \n",
    "}\n",
    "num \n",
    "sum(num) # 117 개의 칼럼을 만들어야 원핫 인코딩이다. "
   ]
  },
  {
   "cell_type": "code",
   "execution_count": 108,
   "metadata": {
    "vscode": {
     "languageId": "r"
    }
   },
   "outputs": [
    {
     "data": {
      "text/html": [
       "<table class=\"dataframe\">\n",
       "<caption>A data.frame: 6 x 1</caption>\n",
       "<thead>\n",
       "\t<tr><th></th><th scope=col>V1</th></tr>\n",
       "\t<tr><th></th><th scope=col>&lt;fct&gt;</th></tr>\n",
       "</thead>\n",
       "<tbody>\n",
       "\t<tr><th scope=row>1</th><td>e</td></tr>\n",
       "\t<tr><th scope=row>2</th><td>e</td></tr>\n",
       "\t<tr><th scope=row>3</th><td>e</td></tr>\n",
       "\t<tr><th scope=row>4</th><td>e</td></tr>\n",
       "\t<tr><th scope=row>5</th><td>e</td></tr>\n",
       "\t<tr><th scope=row>6</th><td>e</td></tr>\n",
       "</tbody>\n",
       "</table>\n"
      ],
      "text/latex": [
       "A data.frame: 6 x 1\n",
       "\\begin{tabular}{r|l}\n",
       "  & V1\\\\\n",
       "  & <fct>\\\\\n",
       "\\hline\n",
       "\t1 & e\\\\\n",
       "\t2 & e\\\\\n",
       "\t3 & e\\\\\n",
       "\t4 & e\\\\\n",
       "\t5 & e\\\\\n",
       "\t6 & e\\\\\n",
       "\\end{tabular}\n"
      ],
      "text/markdown": [
       "\n",
       "A data.frame: 6 x 1\n",
       "\n",
       "| <!--/--> | V1 &lt;fct&gt; |\n",
       "|---|---|\n",
       "| 1 | e |\n",
       "| 2 | e |\n",
       "| 3 | e |\n",
       "| 4 | e |\n",
       "| 5 | e |\n",
       "| 6 | e |\n",
       "\n"
      ],
      "text/plain": [
       "  V1\n",
       "1 e \n",
       "2 e \n",
       "3 e \n",
       "4 e \n",
       "5 e \n",
       "6 e "
      ]
     },
     "metadata": {},
     "output_type": "display_data"
    }
   ],
   "source": [
    "mr2 <-data.frame(V1 =mr$V1)\n",
    "head(mr2)"
   ]
  },
  {
   "cell_type": "code",
   "execution_count": 111,
   "metadata": {
    "vscode": {
     "languageId": "r"
    }
   },
   "outputs": [
    {
     "data": {
      "text/html": [
       "<style>\n",
       ".list-inline {list-style: none; margin:0; padding: 0}\n",
       ".list-inline>li {display: inline-block}\n",
       ".list-inline>li:not(:last-child)::after {content: \"\\00b7\"; padding: 0 .5ex}\n",
       "</style>\n",
       "<ol class=list-inline><li>1</li><li>2</li><li>3</li><li>4</li><li>5</li><li>6</li></ol>\n"
      ],
      "text/latex": [
       "\\begin{enumerate*}\n",
       "\\item 1\n",
       "\\item 2\n",
       "\\item 3\n",
       "\\item 4\n",
       "\\item 5\n",
       "\\item 6\n",
       "\\end{enumerate*}\n"
      ],
      "text/markdown": [
       "1. 1\n",
       "2. 2\n",
       "3. 3\n",
       "4. 4\n",
       "5. 5\n",
       "6. 6\n",
       "\n",
       "\n"
      ],
      "text/plain": [
       "[1] 1 2 3 4 5 6"
      ]
     },
     "metadata": {},
     "output_type": "display_data"
    }
   ],
   "source": [
    "sort(unique(mr$V2))"
   ]
  },
  {
   "cell_type": "code",
   "execution_count": 121,
   "metadata": {
    "vscode": {
     "languageId": "r"
    }
   },
   "outputs": [
    {
     "data": {
      "text/html": [
       "118"
      ],
      "text/latex": [
       "118"
      ],
      "text/markdown": [
       "118"
      ],
      "text/plain": [
       "[1] 118"
      ]
     },
     "metadata": {},
     "output_type": "display_data"
    },
    {
     "data": {
      "text/html": [
       "<table class=\"dataframe\">\n",
       "<caption>A data.frame: 6 x 118</caption>\n",
       "<thead>\n",
       "\t<tr><th></th><th scope=col>V1</th><th scope=col>V2</th><th scope=col>V3</th><th scope=col>V4</th><th scope=col>V5</th><th scope=col>V6</th><th scope=col>V7</th><th scope=col>V8</th><th scope=col>V9</th><th scope=col>V10</th><th scope=col>...</th><th scope=col>V109</th><th scope=col>V110</th><th scope=col>V111</th><th scope=col>V112</th><th scope=col>V113</th><th scope=col>V114</th><th scope=col>V115</th><th scope=col>V116</th><th scope=col>V117</th><th scope=col>V118</th></tr>\n",
       "\t<tr><th></th><th scope=col>&lt;fct&gt;</th><th scope=col>&lt;lgl&gt;</th><th scope=col>&lt;lgl&gt;</th><th scope=col>&lt;lgl&gt;</th><th scope=col>&lt;lgl&gt;</th><th scope=col>&lt;lgl&gt;</th><th scope=col>&lt;lgl&gt;</th><th scope=col>&lt;lgl&gt;</th><th scope=col>&lt;lgl&gt;</th><th scope=col>&lt;lgl&gt;</th><th scope=col>...</th><th scope=col>&lt;lgl&gt;</th><th scope=col>&lt;lgl&gt;</th><th scope=col>&lt;lgl&gt;</th><th scope=col>&lt;lgl&gt;</th><th scope=col>&lt;lgl&gt;</th><th scope=col>&lt;lgl&gt;</th><th scope=col>&lt;lgl&gt;</th><th scope=col>&lt;lgl&gt;</th><th scope=col>&lt;lgl&gt;</th><th scope=col>&lt;lgl&gt;</th></tr>\n",
       "</thead>\n",
       "<tbody>\n",
       "\t<tr><th scope=row>1</th><td>e</td><td>FALSE</td><td>FALSE</td><td>FALSE</td><td>FALSE</td><td>FALSE</td><td> TRUE</td><td>FALSE</td><td>FALSE</td><td> TRUE</td><td>...</td><td>FALSE</td><td>FALSE</td><td>FALSE</td><td>FALSE</td><td> TRUE</td><td>FALSE</td><td>FALSE</td><td>FALSE</td><td>FALSE</td><td>FALSE</td></tr>\n",
       "\t<tr><th scope=row>2</th><td>e</td><td> TRUE</td><td>FALSE</td><td>FALSE</td><td>FALSE</td><td>FALSE</td><td>FALSE</td><td>FALSE</td><td>FALSE</td><td> TRUE</td><td>...</td><td>FALSE</td><td>FALSE</td><td>FALSE</td><td>FALSE</td><td>FALSE</td><td>FALSE</td><td> TRUE</td><td>FALSE</td><td>FALSE</td><td>FALSE</td></tr>\n",
       "\t<tr><th scope=row>3</th><td>e</td><td>FALSE</td><td>FALSE</td><td>FALSE</td><td>FALSE</td><td>FALSE</td><td> TRUE</td><td>FALSE</td><td>FALSE</td><td> TRUE</td><td>...</td><td>FALSE</td><td>FALSE</td><td>FALSE</td><td>FALSE</td><td> TRUE</td><td>FALSE</td><td>FALSE</td><td>FALSE</td><td>FALSE</td><td>FALSE</td></tr>\n",
       "\t<tr><th scope=row>4</th><td>e</td><td>FALSE</td><td>FALSE</td><td>FALSE</td><td>FALSE</td><td>FALSE</td><td> TRUE</td><td>FALSE</td><td>FALSE</td><td>FALSE</td><td>...</td><td>FALSE</td><td>FALSE</td><td>FALSE</td><td>FALSE</td><td> TRUE</td><td>FALSE</td><td>FALSE</td><td>FALSE</td><td>FALSE</td><td>FALSE</td></tr>\n",
       "\t<tr><th scope=row>5</th><td>e</td><td> TRUE</td><td>FALSE</td><td>FALSE</td><td>FALSE</td><td>FALSE</td><td>FALSE</td><td>FALSE</td><td>FALSE</td><td> TRUE</td><td>...</td><td>FALSE</td><td>FALSE</td><td>FALSE</td><td>FALSE</td><td>FALSE</td><td>FALSE</td><td> TRUE</td><td>FALSE</td><td>FALSE</td><td>FALSE</td></tr>\n",
       "\t<tr><th scope=row>6</th><td>e</td><td> TRUE</td><td>FALSE</td><td>FALSE</td><td>FALSE</td><td>FALSE</td><td>FALSE</td><td>FALSE</td><td>FALSE</td><td>FALSE</td><td>...</td><td> TRUE</td><td>FALSE</td><td>FALSE</td><td>FALSE</td><td>FALSE</td><td>FALSE</td><td> TRUE</td><td>FALSE</td><td>FALSE</td><td>FALSE</td></tr>\n",
       "</tbody>\n",
       "</table>\n"
      ],
      "text/latex": [
       "A data.frame: 6 x 118\n",
       "\\begin{tabular}{r|lllllllllllllllllllll}\n",
       "  & V1 & V2 & V3 & V4 & V5 & V6 & V7 & V8 & V9 & V10 & ... & V109 & V110 & V111 & V112 & V113 & V114 & V115 & V116 & V117 & V118\\\\\n",
       "  & <fct> & <lgl> & <lgl> & <lgl> & <lgl> & <lgl> & <lgl> & <lgl> & <lgl> & <lgl> & ... & <lgl> & <lgl> & <lgl> & <lgl> & <lgl> & <lgl> & <lgl> & <lgl> & <lgl> & <lgl>\\\\\n",
       "\\hline\n",
       "\t1 & e & FALSE & FALSE & FALSE & FALSE & FALSE &  TRUE & FALSE & FALSE &  TRUE & ... & FALSE & FALSE & FALSE & FALSE &  TRUE & FALSE & FALSE & FALSE & FALSE & FALSE\\\\\n",
       "\t2 & e &  TRUE & FALSE & FALSE & FALSE & FALSE & FALSE & FALSE & FALSE &  TRUE & ... & FALSE & FALSE & FALSE & FALSE & FALSE & FALSE &  TRUE & FALSE & FALSE & FALSE\\\\\n",
       "\t3 & e & FALSE & FALSE & FALSE & FALSE & FALSE &  TRUE & FALSE & FALSE &  TRUE & ... & FALSE & FALSE & FALSE & FALSE &  TRUE & FALSE & FALSE & FALSE & FALSE & FALSE\\\\\n",
       "\t4 & e & FALSE & FALSE & FALSE & FALSE & FALSE &  TRUE & FALSE & FALSE & FALSE & ... & FALSE & FALSE & FALSE & FALSE &  TRUE & FALSE & FALSE & FALSE & FALSE & FALSE\\\\\n",
       "\t5 & e &  TRUE & FALSE & FALSE & FALSE & FALSE & FALSE & FALSE & FALSE &  TRUE & ... & FALSE & FALSE & FALSE & FALSE & FALSE & FALSE &  TRUE & FALSE & FALSE & FALSE\\\\\n",
       "\t6 & e &  TRUE & FALSE & FALSE & FALSE & FALSE & FALSE & FALSE & FALSE & FALSE & ... &  TRUE & FALSE & FALSE & FALSE & FALSE & FALSE &  TRUE & FALSE & FALSE & FALSE\\\\\n",
       "\\end{tabular}\n"
      ],
      "text/markdown": [
       "\n",
       "A data.frame: 6 x 118\n",
       "\n",
       "| <!--/--> | V1 &lt;fct&gt; | V2 &lt;lgl&gt; | V3 &lt;lgl&gt; | V4 &lt;lgl&gt; | V5 &lt;lgl&gt; | V6 &lt;lgl&gt; | V7 &lt;lgl&gt; | V8 &lt;lgl&gt; | V9 &lt;lgl&gt; | V10 &lt;lgl&gt; | ... ... | V109 &lt;lgl&gt; | V110 &lt;lgl&gt; | V111 &lt;lgl&gt; | V112 &lt;lgl&gt; | V113 &lt;lgl&gt; | V114 &lt;lgl&gt; | V115 &lt;lgl&gt; | V116 &lt;lgl&gt; | V117 &lt;lgl&gt; | V118 &lt;lgl&gt; |\n",
       "|---|---|---|---|---|---|---|---|---|---|---|---|---|---|---|---|---|---|---|---|---|---|\n",
       "| 1 | e | FALSE | FALSE | FALSE | FALSE | FALSE |  TRUE | FALSE | FALSE |  TRUE | ... | FALSE | FALSE | FALSE | FALSE |  TRUE | FALSE | FALSE | FALSE | FALSE | FALSE |\n",
       "| 2 | e |  TRUE | FALSE | FALSE | FALSE | FALSE | FALSE | FALSE | FALSE |  TRUE | ... | FALSE | FALSE | FALSE | FALSE | FALSE | FALSE |  TRUE | FALSE | FALSE | FALSE |\n",
       "| 3 | e | FALSE | FALSE | FALSE | FALSE | FALSE |  TRUE | FALSE | FALSE |  TRUE | ... | FALSE | FALSE | FALSE | FALSE |  TRUE | FALSE | FALSE | FALSE | FALSE | FALSE |\n",
       "| 4 | e | FALSE | FALSE | FALSE | FALSE | FALSE |  TRUE | FALSE | FALSE | FALSE | ... | FALSE | FALSE | FALSE | FALSE |  TRUE | FALSE | FALSE | FALSE | FALSE | FALSE |\n",
       "| 5 | e |  TRUE | FALSE | FALSE | FALSE | FALSE | FALSE | FALSE | FALSE |  TRUE | ... | FALSE | FALSE | FALSE | FALSE | FALSE | FALSE |  TRUE | FALSE | FALSE | FALSE |\n",
       "| 6 | e |  TRUE | FALSE | FALSE | FALSE | FALSE | FALSE | FALSE | FALSE | FALSE | ... |  TRUE | FALSE | FALSE | FALSE | FALSE | FALSE |  TRUE | FALSE | FALSE | FALSE |\n",
       "\n"
      ],
      "text/plain": [
       "  V1 V2    V3    V4    V5    V6    V7    V8    V9    V10   ... V109  V110 \n",
       "1 e  FALSE FALSE FALSE FALSE FALSE  TRUE FALSE FALSE  TRUE ... FALSE FALSE\n",
       "2 e   TRUE FALSE FALSE FALSE FALSE FALSE FALSE FALSE  TRUE ... FALSE FALSE\n",
       "3 e  FALSE FALSE FALSE FALSE FALSE  TRUE FALSE FALSE  TRUE ... FALSE FALSE\n",
       "4 e  FALSE FALSE FALSE FALSE FALSE  TRUE FALSE FALSE FALSE ... FALSE FALSE\n",
       "5 e   TRUE FALSE FALSE FALSE FALSE FALSE FALSE FALSE  TRUE ... FALSE FALSE\n",
       "6 e   TRUE FALSE FALSE FALSE FALSE FALSE FALSE FALSE FALSE ...  TRUE FALSE\n",
       "  V111  V112  V113  V114  V115  V116  V117  V118 \n",
       "1 FALSE FALSE  TRUE FALSE FALSE FALSE FALSE FALSE\n",
       "2 FALSE FALSE FALSE FALSE  TRUE FALSE FALSE FALSE\n",
       "3 FALSE FALSE  TRUE FALSE FALSE FALSE FALSE FALSE\n",
       "4 FALSE FALSE  TRUE FALSE FALSE FALSE FALSE FALSE\n",
       "5 FALSE FALSE FALSE FALSE  TRUE FALSE FALSE FALSE\n",
       "6 FALSE FALSE FALSE FALSE  TRUE FALSE FALSE FALSE"
      ]
     },
     "metadata": {},
     "output_type": "display_data"
    }
   ],
   "source": [
    "mr2 <-data.frame(V1 =mr$V1)\n",
    "for( i in 2:23){\n",
    "    for(j in sort(unique(mr[,i]))){\n",
    "        mr2 = cbind(mr2, mr[,i]==j)\n",
    "    }\n",
    "}\n",
    "ncol(mr2)\n",
    "colnames(mr2)<- paste(\"V\",1:118,sep = \"\")\n",
    "head(mr2)"
   ]
  },
  {
   "cell_type": "markdown",
   "metadata": {},
   "source": [
    "Column 이름과 One Hot 을 한번에 하기 "
   ]
  },
  {
   "cell_type": "code",
   "execution_count": 122,
   "metadata": {
    "vscode": {
     "languageId": "r"
    }
   },
   "outputs": [],
   "source": []
  },
  {
   "cell_type": "code",
   "execution_count": 127,
   "metadata": {
    "vscode": {
     "languageId": "r"
    }
   },
   "outputs": [
    {
     "data": {
      "text/html": [
       "<table class=\"dataframe\">\n",
       "<caption>A data.frame: 6 x 118</caption>\n",
       "<thead>\n",
       "\t<tr><th></th><th scope=col>V1</th><th scope=col>V2_1</th><th scope=col>V2_2</th><th scope=col>V2_3</th><th scope=col>V2_4</th><th scope=col>V2_5</th><th scope=col>V2_6</th><th scope=col>V3_1</th><th scope=col>V3_2</th><th scope=col>V3_3</th><th scope=col>...</th><th scope=col>V22_4</th><th scope=col>V22_5</th><th scope=col>V22_6</th><th scope=col>V23_1</th><th scope=col>V23_2</th><th scope=col>V23_3</th><th scope=col>V23_4</th><th scope=col>V23_5</th><th scope=col>V23_6</th><th scope=col>V23_7</th></tr>\n",
       "\t<tr><th></th><th scope=col>&lt;fct&gt;</th><th scope=col>&lt;lgl&gt;</th><th scope=col>&lt;lgl&gt;</th><th scope=col>&lt;lgl&gt;</th><th scope=col>&lt;lgl&gt;</th><th scope=col>&lt;lgl&gt;</th><th scope=col>&lt;lgl&gt;</th><th scope=col>&lt;lgl&gt;</th><th scope=col>&lt;lgl&gt;</th><th scope=col>&lt;lgl&gt;</th><th scope=col>...</th><th scope=col>&lt;lgl&gt;</th><th scope=col>&lt;lgl&gt;</th><th scope=col>&lt;lgl&gt;</th><th scope=col>&lt;lgl&gt;</th><th scope=col>&lt;lgl&gt;</th><th scope=col>&lt;lgl&gt;</th><th scope=col>&lt;lgl&gt;</th><th scope=col>&lt;lgl&gt;</th><th scope=col>&lt;lgl&gt;</th><th scope=col>&lt;lgl&gt;</th></tr>\n",
       "</thead>\n",
       "<tbody>\n",
       "\t<tr><th scope=row>1</th><td>e</td><td>FALSE</td><td>FALSE</td><td>FALSE</td><td>FALSE</td><td>FALSE</td><td> TRUE</td><td>FALSE</td><td>FALSE</td><td> TRUE</td><td>...</td><td>FALSE</td><td>FALSE</td><td>FALSE</td><td>FALSE</td><td> TRUE</td><td>FALSE</td><td>FALSE</td><td>FALSE</td><td>FALSE</td><td>FALSE</td></tr>\n",
       "\t<tr><th scope=row>2</th><td>e</td><td> TRUE</td><td>FALSE</td><td>FALSE</td><td>FALSE</td><td>FALSE</td><td>FALSE</td><td>FALSE</td><td>FALSE</td><td> TRUE</td><td>...</td><td>FALSE</td><td>FALSE</td><td>FALSE</td><td>FALSE</td><td>FALSE</td><td>FALSE</td><td> TRUE</td><td>FALSE</td><td>FALSE</td><td>FALSE</td></tr>\n",
       "\t<tr><th scope=row>3</th><td>e</td><td>FALSE</td><td>FALSE</td><td>FALSE</td><td>FALSE</td><td>FALSE</td><td> TRUE</td><td>FALSE</td><td>FALSE</td><td> TRUE</td><td>...</td><td>FALSE</td><td>FALSE</td><td>FALSE</td><td>FALSE</td><td> TRUE</td><td>FALSE</td><td>FALSE</td><td>FALSE</td><td>FALSE</td><td>FALSE</td></tr>\n",
       "\t<tr><th scope=row>4</th><td>e</td><td>FALSE</td><td>FALSE</td><td>FALSE</td><td>FALSE</td><td>FALSE</td><td> TRUE</td><td>FALSE</td><td>FALSE</td><td>FALSE</td><td>...</td><td>FALSE</td><td>FALSE</td><td>FALSE</td><td>FALSE</td><td> TRUE</td><td>FALSE</td><td>FALSE</td><td>FALSE</td><td>FALSE</td><td>FALSE</td></tr>\n",
       "\t<tr><th scope=row>5</th><td>e</td><td> TRUE</td><td>FALSE</td><td>FALSE</td><td>FALSE</td><td>FALSE</td><td>FALSE</td><td>FALSE</td><td>FALSE</td><td> TRUE</td><td>...</td><td>FALSE</td><td>FALSE</td><td>FALSE</td><td>FALSE</td><td>FALSE</td><td>FALSE</td><td> TRUE</td><td>FALSE</td><td>FALSE</td><td>FALSE</td></tr>\n",
       "\t<tr><th scope=row>6</th><td>e</td><td> TRUE</td><td>FALSE</td><td>FALSE</td><td>FALSE</td><td>FALSE</td><td>FALSE</td><td>FALSE</td><td>FALSE</td><td>FALSE</td><td>...</td><td> TRUE</td><td>FALSE</td><td>FALSE</td><td>FALSE</td><td>FALSE</td><td>FALSE</td><td> TRUE</td><td>FALSE</td><td>FALSE</td><td>FALSE</td></tr>\n",
       "</tbody>\n",
       "</table>\n"
      ],
      "text/latex": [
       "A data.frame: 6 x 118\n",
       "\\begin{tabular}{r|lllllllllllllllllllll}\n",
       "  & V1 & V2\\_1 & V2\\_2 & V2\\_3 & V2\\_4 & V2\\_5 & V2\\_6 & V3\\_1 & V3\\_2 & V3\\_3 & ... & V22\\_4 & V22\\_5 & V22\\_6 & V23\\_1 & V23\\_2 & V23\\_3 & V23\\_4 & V23\\_5 & V23\\_6 & V23\\_7\\\\\n",
       "  & <fct> & <lgl> & <lgl> & <lgl> & <lgl> & <lgl> & <lgl> & <lgl> & <lgl> & <lgl> & ... & <lgl> & <lgl> & <lgl> & <lgl> & <lgl> & <lgl> & <lgl> & <lgl> & <lgl> & <lgl>\\\\\n",
       "\\hline\n",
       "\t1 & e & FALSE & FALSE & FALSE & FALSE & FALSE &  TRUE & FALSE & FALSE &  TRUE & ... & FALSE & FALSE & FALSE & FALSE &  TRUE & FALSE & FALSE & FALSE & FALSE & FALSE\\\\\n",
       "\t2 & e &  TRUE & FALSE & FALSE & FALSE & FALSE & FALSE & FALSE & FALSE &  TRUE & ... & FALSE & FALSE & FALSE & FALSE & FALSE & FALSE &  TRUE & FALSE & FALSE & FALSE\\\\\n",
       "\t3 & e & FALSE & FALSE & FALSE & FALSE & FALSE &  TRUE & FALSE & FALSE &  TRUE & ... & FALSE & FALSE & FALSE & FALSE &  TRUE & FALSE & FALSE & FALSE & FALSE & FALSE\\\\\n",
       "\t4 & e & FALSE & FALSE & FALSE & FALSE & FALSE &  TRUE & FALSE & FALSE & FALSE & ... & FALSE & FALSE & FALSE & FALSE &  TRUE & FALSE & FALSE & FALSE & FALSE & FALSE\\\\\n",
       "\t5 & e &  TRUE & FALSE & FALSE & FALSE & FALSE & FALSE & FALSE & FALSE &  TRUE & ... & FALSE & FALSE & FALSE & FALSE & FALSE & FALSE &  TRUE & FALSE & FALSE & FALSE\\\\\n",
       "\t6 & e &  TRUE & FALSE & FALSE & FALSE & FALSE & FALSE & FALSE & FALSE & FALSE & ... &  TRUE & FALSE & FALSE & FALSE & FALSE & FALSE &  TRUE & FALSE & FALSE & FALSE\\\\\n",
       "\\end{tabular}\n"
      ],
      "text/markdown": [
       "\n",
       "A data.frame: 6 x 118\n",
       "\n",
       "| <!--/--> | V1 &lt;fct&gt; | V2_1 &lt;lgl&gt; | V2_2 &lt;lgl&gt; | V2_3 &lt;lgl&gt; | V2_4 &lt;lgl&gt; | V2_5 &lt;lgl&gt; | V2_6 &lt;lgl&gt; | V3_1 &lt;lgl&gt; | V3_2 &lt;lgl&gt; | V3_3 &lt;lgl&gt; | ... ... | V22_4 &lt;lgl&gt; | V22_5 &lt;lgl&gt; | V22_6 &lt;lgl&gt; | V23_1 &lt;lgl&gt; | V23_2 &lt;lgl&gt; | V23_3 &lt;lgl&gt; | V23_4 &lt;lgl&gt; | V23_5 &lt;lgl&gt; | V23_6 &lt;lgl&gt; | V23_7 &lt;lgl&gt; |\n",
       "|---|---|---|---|---|---|---|---|---|---|---|---|---|---|---|---|---|---|---|---|---|---|\n",
       "| 1 | e | FALSE | FALSE | FALSE | FALSE | FALSE |  TRUE | FALSE | FALSE |  TRUE | ... | FALSE | FALSE | FALSE | FALSE |  TRUE | FALSE | FALSE | FALSE | FALSE | FALSE |\n",
       "| 2 | e |  TRUE | FALSE | FALSE | FALSE | FALSE | FALSE | FALSE | FALSE |  TRUE | ... | FALSE | FALSE | FALSE | FALSE | FALSE | FALSE |  TRUE | FALSE | FALSE | FALSE |\n",
       "| 3 | e | FALSE | FALSE | FALSE | FALSE | FALSE |  TRUE | FALSE | FALSE |  TRUE | ... | FALSE | FALSE | FALSE | FALSE |  TRUE | FALSE | FALSE | FALSE | FALSE | FALSE |\n",
       "| 4 | e | FALSE | FALSE | FALSE | FALSE | FALSE |  TRUE | FALSE | FALSE | FALSE | ... | FALSE | FALSE | FALSE | FALSE |  TRUE | FALSE | FALSE | FALSE | FALSE | FALSE |\n",
       "| 5 | e |  TRUE | FALSE | FALSE | FALSE | FALSE | FALSE | FALSE | FALSE |  TRUE | ... | FALSE | FALSE | FALSE | FALSE | FALSE | FALSE |  TRUE | FALSE | FALSE | FALSE |\n",
       "| 6 | e |  TRUE | FALSE | FALSE | FALSE | FALSE | FALSE | FALSE | FALSE | FALSE | ... |  TRUE | FALSE | FALSE | FALSE | FALSE | FALSE |  TRUE | FALSE | FALSE | FALSE |\n",
       "\n"
      ],
      "text/plain": [
       "  V1 V2_1  V2_2  V2_3  V2_4  V2_5  V2_6  V3_1  V3_2  V3_3  ... V22_4 V22_5\n",
       "1 e  FALSE FALSE FALSE FALSE FALSE  TRUE FALSE FALSE  TRUE ... FALSE FALSE\n",
       "2 e   TRUE FALSE FALSE FALSE FALSE FALSE FALSE FALSE  TRUE ... FALSE FALSE\n",
       "3 e  FALSE FALSE FALSE FALSE FALSE  TRUE FALSE FALSE  TRUE ... FALSE FALSE\n",
       "4 e  FALSE FALSE FALSE FALSE FALSE  TRUE FALSE FALSE FALSE ... FALSE FALSE\n",
       "5 e   TRUE FALSE FALSE FALSE FALSE FALSE FALSE FALSE  TRUE ... FALSE FALSE\n",
       "6 e   TRUE FALSE FALSE FALSE FALSE FALSE FALSE FALSE FALSE ...  TRUE FALSE\n",
       "  V22_6 V23_1 V23_2 V23_3 V23_4 V23_5 V23_6 V23_7\n",
       "1 FALSE FALSE  TRUE FALSE FALSE FALSE FALSE FALSE\n",
       "2 FALSE FALSE FALSE FALSE  TRUE FALSE FALSE FALSE\n",
       "3 FALSE FALSE  TRUE FALSE FALSE FALSE FALSE FALSE\n",
       "4 FALSE FALSE  TRUE FALSE FALSE FALSE FALSE FALSE\n",
       "5 FALSE FALSE FALSE FALSE  TRUE FALSE FALSE FALSE\n",
       "6 FALSE FALSE FALSE FALSE  TRUE FALSE FALSE FALSE"
      ]
     },
     "metadata": {},
     "output_type": "display_data"
    }
   ],
   "source": [
    "mr4 <- data.frame(V1=mr$V1)\n",
    "\n",
    "count =2 # 2번째 컬럼부터 작업 시작후 원본 칼럼번호에 새로운 컬럼이름을 저장하기 위해 사용\n",
    "for( i in 2:23){\n",
    "    for( j in sort(unique(mr[,i]))){\n",
    "        mr4 = cbind(mr4,mr[,i]==j)\n",
    "        colnames(mr4)[count]<- paste(\"V\", i, \"_\",j, sep = \"\")\n",
    "        count = count +1\n",
    "    }\n",
    "}\n",
    "head(mr4)"
   ]
  },
  {
   "cell_type": "code",
   "execution_count": null,
   "metadata": {
    "vscode": {
     "languageId": "r"
    }
   },
   "outputs": [],
   "source": []
  },
  {
   "cell_type": "code",
   "execution_count": null,
   "metadata": {
    "vscode": {
     "languageId": "r"
    }
   },
   "outputs": [],
   "source": []
  }
 ],
 "metadata": {
  "kernelspec": {
   "display_name": "R",
   "language": "R",
   "name": "r"
  },
  "language_info": {
   "codemirror_mode": "r",
   "file_extension": ".r",
   "mimetype": "text/x-r-source",
   "name": "R",
   "pygments_lexer": "r",
   "version": "4.3.3"
  }
 },
 "nbformat": 4,
 "nbformat_minor": 2
}
